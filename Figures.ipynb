{
 "cells": [
  {
   "cell_type": "markdown",
   "metadata": {},
   "source": [
    "## Chapter 1"
   ]
  },
  {
   "cell_type": "markdown",
   "metadata": {},
   "source": [
    "#### Limit order book"
   ]
  },
  {
   "cell_type": "markdown",
   "metadata": {},
   "source": [
    "Real"
   ]
  },
  {
   "cell_type": "code",
   "execution_count": 100,
   "metadata": {},
   "outputs": [],
   "source": [
    "import pandas as pd\n",
    "df = pd.read_csv(\"data/2019_05_19BTX_O.csv\",low_memory = False) # Load .csv\n",
    "df.columns = [\"index\",\"time\",\"bid\",\"bidSize\",\"ask\",\"askSize\"]"
   ]
  },
  {
   "cell_type": "code",
   "execution_count": 101,
   "metadata": {},
   "outputs": [],
   "source": [
    "df_trades = pd.read_csv(\"data/2019_05_19BTX_TF.csv\",low_memory = False) # Load .csv"
   ]
  },
  {
   "cell_type": "code",
   "execution_count": 131,
   "metadata": {},
   "outputs": [
    {
     "name": "stdout",
     "output_type": "stream",
     "text": [
      "    index                       time     bid  bidSize     ask   askSize\n",
      "44     44  0 days 00:00:06.997000000  7257.0   1888.0  7257.5   12164.0\n",
      "45     45  0 days 00:00:07.074000000  7257.0   1888.0  7257.5   11164.0\n",
      "46     46  0 days 00:00:07.097000000  7257.0   1888.0  7258.0  555805.0\n",
      "47     47  0 days 00:00:07.136000000  7257.0   1888.0  7257.5   90053.0\n"
     ]
    },
    {
     "data": {
      "text/html": [
       "<div>\n",
       "<style scoped>\n",
       "    .dataframe tbody tr th:only-of-type {\n",
       "        vertical-align: middle;\n",
       "    }\n",
       "\n",
       "    .dataframe tbody tr th {\n",
       "        vertical-align: top;\n",
       "    }\n",
       "\n",
       "    .dataframe thead th {\n",
       "        text-align: right;\n",
       "    }\n",
       "</style>\n",
       "<table border=\"1\" class=\"dataframe\">\n",
       "  <thead>\n",
       "    <tr style=\"text-align: right;\">\n",
       "      <th></th>\n",
       "      <th>Unnamed: 0</th>\n",
       "      <th>time</th>\n",
       "      <th>side</th>\n",
       "      <th>size</th>\n",
       "      <th>price</th>\n",
       "    </tr>\n",
       "  </thead>\n",
       "  <tbody>\n",
       "    <tr>\n",
       "      <th>16</th>\n",
       "      <td>16</td>\n",
       "      <td>0 days 00:00:07.074000000</td>\n",
       "      <td>b'Buy'</td>\n",
       "      <td>1000.0</td>\n",
       "      <td>7257.5</td>\n",
       "    </tr>\n",
       "    <tr>\n",
       "      <th>17</th>\n",
       "      <td>17</td>\n",
       "      <td>0 days 00:00:07.097000000</td>\n",
       "      <td>b'Buy'</td>\n",
       "      <td>304.0</td>\n",
       "      <td>7258.0</td>\n",
       "    </tr>\n",
       "    <tr>\n",
       "      <th>18</th>\n",
       "      <td>18</td>\n",
       "      <td>0 days 00:00:07.097000000</td>\n",
       "      <td>b'Buy'</td>\n",
       "      <td>304.0</td>\n",
       "      <td>7258.0</td>\n",
       "    </tr>\n",
       "    <tr>\n",
       "      <th>19</th>\n",
       "      <td>19</td>\n",
       "      <td>0 days 00:00:07.097000000</td>\n",
       "      <td>b'Buy'</td>\n",
       "      <td>304.0</td>\n",
       "      <td>7258.0</td>\n",
       "    </tr>\n",
       "  </tbody>\n",
       "</table>\n",
       "</div>"
      ],
      "text/plain": [
       "    Unnamed: 0                       time    side    size   price\n",
       "16          16  0 days 00:00:07.074000000  b'Buy'  1000.0  7257.5\n",
       "17          17  0 days 00:00:07.097000000  b'Buy'   304.0  7258.0\n",
       "18          18  0 days 00:00:07.097000000  b'Buy'   304.0  7258.0\n",
       "19          19  0 days 00:00:07.097000000  b'Buy'   304.0  7258.0"
      ]
     },
     "execution_count": 131,
     "metadata": {},
     "output_type": "execute_result"
    }
   ],
   "source": [
    "#print(df[df[\"ask\"]>df[\"ask\"].shift(1)])\n",
    "print(df[44:48])\n",
    "df_trades[16:20]\n",
    "#df_trades[df_trades[\"size\"] > 100000]\n",
    "\n"
   ]
  },
  {
   "cell_type": "markdown",
   "metadata": {},
   "source": [
    "Artificial"
   ]
  },
  {
   "cell_type": "code",
   "execution_count": 21,
   "metadata": {},
   "outputs": [
    {
     "data": {
      "text/plain": [
       "<matplotlib.lines.Line2D at 0x1191d8048>"
      ]
     },
     "execution_count": 21,
     "metadata": {},
     "output_type": "execute_result"
    },
    {
     "data": {
      "image/png": "[encoded data removed]",
      "text/plain": [
       "<Figure size 432x288 with 1 Axes>"
      ]
     },
     "metadata": {
      "needs_background": "light"
     },
     "output_type": "display_data"
    }
   ],
   "source": [
    "x_vals = np.linspace(530,535,10)\n",
    "y_vals = [18,12,5,6,0,0,2,3,8,7]\n",
    "plt.bar(x_vals,y_vals,width = 0.25,alpha = 0.5)\n",
    "plt.axvline(x=532.5,c=\"black\",ls=\"--\")"
   ]
  },
  {
   "cell_type": "markdown",
   "metadata": {},
   "source": [
    "Example showing Assumption 1 using BTX data"
   ]
  },
  {
   "cell_type": "code",
   "execution_count": 99,
   "metadata": {},
   "outputs": [
    {
     "data": {
      "image/png": "[encoded data removed]",
      "text/plain": [
       "<Figure size 432x288 with 1 Axes>"
      ]
     },
     "metadata": {
      "needs_background": "light"
     },
     "output_type": "display_data"
    }
   ],
   "source": [
    "from matplotlib import pyplot as plt\n",
    "import numpy as np\n",
    "total = [608083,508855]\n",
    "mo = 62684\n",
    "colors = [\"powderblue\",\"cornflowerblue\",\"black\"] #cadetblue\n",
    "width = 0.5\n",
    "x_vals = [\"02:40:19\",\"Market Orders\",\"Cancelled LOs\",\"02:40:20\"]\n",
    "full_pos = [total[0],total[0],total[0]-mo,total[1]]\n",
    "agent_pos1 = [total[0]-50000,total[0]-50000,total[0]-50000-mo,total[1]-30000]\n",
    "agent_size1 = [30000,30000,30000,30000]\n",
    "agent_size2 = [70000,70000,70000-62684+30000,70000-62684+30000]\n",
    "agent_pos2 = [30000,30000,0,0]\n",
    "cancelled_orders = [0,62684,total[0]-62684-total[1],0]\n",
    "cancelled_offset = [0,0,total[1],0]\n",
    "\n",
    "p1 = plt.bar(x_vals, full_pos, width,color=colors[0],label=\"Other Limit Orders\")\n",
    "p2 = plt.bar(x_vals, agent_size1, width,\n",
    "             bottom=agent_pos1,color=colors[1],label=\"Agent Limit Orders\")\n",
    "p3 = plt.bar(x_vals, agent_size2, width,\n",
    "             bottom=agent_pos2,color=colors[1])\n",
    "p4 = plt.bar(x_vals, market_orders, width,bottom=cancelled_offset,\n",
    "             color=None,alpha=1,edgecolor=\"black\",hatch =\"//\",fill = False)\n",
    "p5 = plt.bar(x_vals, market_orders, width,\n",
    "             color=colors[2],bottom=cancelled_offset,alpha=0.1)\n",
    "outerbar = plt.bar(x_vals, full_pos, width,fill=False,edgecolor=\"black\")\n",
    "plt.legend()\n",
    "#plt.ylim((0,800000))\n",
    "plt.savefig(\"cancelledLOFig\")\n",
    "plt.show()\n",
    "\n",
    "\n",
    "#plt.axvline(x=532.5,c=\"black\",ls=\"--\")"
   ]
  },
  {
   "cell_type": "markdown",
   "metadata": {},
   "source": [
    "## Chapter 2"
   ]
  },
  {
   "cell_type": "code",
   "execution_count": 2,
   "metadata": {},
   "outputs": [],
   "source": [
    "import numpy as np\n",
    "from matplotlib import pyplot as plt\n",
    "N = 41\n",
    "V_max = 0.2\n",
    "z = np.array(range(N)) * (2 * V_max) / (N - 1) - V_max"
   ]
  },
  {
   "cell_type": "code",
   "execution_count": 58,
   "metadata": {},
   "outputs": [],
   "source": [
    "def gauss(x,mu=0,sigma2=1):\n",
    "    return np.exp(-(x - mu)**2 / (2 * sigma2))/np.sqrt(2 * np.pi * sigma2)"
   ]
  },
  {
   "cell_type": "markdown",
   "metadata": {},
   "source": [
    "Illustrates the mapping of the support to be state dependent"
   ]
  },
  {
   "cell_type": "code",
   "execution_count": 59,
   "metadata": {},
   "outputs": [
    {
     "data": {
      "image/png": "[encoded data removed]",
      "text/plain": [
       "<Figure size 432x288 with 1 Axes>"
      ]
     },
     "metadata": {
      "needs_background": "light"
     },
     "output_type": "display_data"
    },
    {
     "data": {
      "image/png": "[encoded data removed]",
      "text/plain": [
       "<Figure size 432x288 with 1 Axes>"
      ]
     },
     "metadata": {
      "needs_background": "light"
     },
     "output_type": "display_data"
    }
   ],
   "source": [
    "x_vals = np.linspace(0,11,31)\n",
    "y_vals = gauss(x_vals,mu = 9, sigma2 = 0.1)\n",
    "y_vals1 = gauss(x_vals,mu = 5, sigma2 = 0.2)\n",
    "plt.bar(x_vals,y_vals,width = 0.2,alpha = 0.5)\n",
    "plt.bar(x_vals1,y_vals1,width = 0.2,alpha = 0.5)\n",
    "#print(values)\n",
    "#plt.hist(values,width = 0.2)\n",
    "x_lims = (0,11)\n",
    "plt.xlim(x_lims) # Temporary\n",
    "plt.show()\n",
    "\n",
    "x_vals = np.linspace(-1.5,1.5,31)\n",
    "y_vals = gauss(x_vals,mu = 0, sigma2 = 0.1)\n",
    "y_vals1 = gauss(x_vals,mu = -0.2, sigma2 = 0.2)\n",
    "plt.bar(x_vals,y_vals,width = 0.05,alpha = 0.5)\n",
    "plt.bar(x_vals,y_vals1,width = 0.05,alpha = 0.5)\n",
    "#print(values)\n",
    "#plt.hist(values,width = 0.2)\n",
    "x_lims = (-2,2)\n",
    "plt.xlim(x_lims) # Temporary\n",
    "plt.show()"
   ]
  },
  {
   "cell_type": "code",
   "execution_count": 9,
   "metadata": {},
   "outputs": [
    {
     "data": {
      "image/png": "[encoded data removed]",
      "text/plain": [
       "<Figure size 432x288 with 1 Axes>"
      ]
     },
     "metadata": {
      "needs_background": "light"
     },
     "output_type": "display_data"
    }
   ],
   "source": [
    "plt.bar(z,array,alpha = 0.8,width = 0.005,label = f\"act {2}\")\n",
    "#plt.bar(bar_agent.z,bar_agent.probs(state)[bar_act][0],alpha = 0.8,width = 0.05,label = f\"act {bar_act}\")\n",
    "plt.show()"
   ]
  },
  {
   "cell_type": "code",
   "execution_count": null,
   "metadata": {},
   "outputs": [],
   "source": []
  }
 ],
 "metadata": {
  "kernelspec": {
   "display_name": "Python 3",
   "language": "python",
   "name": "python3"
  },
  "language_info": {
   "codemirror_mode": {
    "name": "ipython",
    "version": 3
   },
   "file_extension": ".py",
   "mimetype": "text/x-python",
   "name": "python",
   "nbconvert_exporter": "python",
   "pygments_lexer": "ipython3",
   "version": "3.7.3"
  }
 },
 "nbformat": 4,
 "nbformat_minor": 2
}
