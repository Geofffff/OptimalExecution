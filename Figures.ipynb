{
 "cells": [
  {
   "cell_type": "markdown",
   "metadata": {},
   "source": [
    "## Chapter 1"
   ]
  },
  {
   "cell_type": "code",
   "execution_count": null,
   "metadata": {},
   "outputs": [],
   "source": []
  },
  {
   "cell_type": "markdown",
   "metadata": {},
   "source": [
    "## Chapter 2"
   ]
  },
  {
   "cell_type": "code",
   "execution_count": 1,
   "metadata": {},
   "outputs": [],
   "source": [
    "import numpy as np\n",
    "from matplotlib import pyplot as plt\n",
    "N = 41\n",
    "V_max = 0.2\n",
    "z = np.array(range(N)) * (2 * V_max) / (N - 1) - V_max"
   ]
  },
  {
   "cell_type": "code",
   "execution_count": 58,
   "metadata": {},
   "outputs": [],
   "source": [
    "def gauss(x,mu=0,sigma2=1):\n",
    "    return np.exp(-(x - mu)**2 / (2 * sigma2))/np.sqrt(2 * np.pi * sigma2)"
   ]
  },
  {
   "cell_type": "markdown",
   "metadata": {},
   "source": [
    "Illustrates the mapping of the support to be state dependent"
   ]
  },
  {
   "cell_type": "code",
   "execution_count": 59,
   "metadata": {},
   "outputs": [
    {
     "data": {
      "image/png": "[encoded data removed]",
      "text/plain": [
       "<Figure size 432x288 with 1 Axes>"
      ]
     },
     "metadata": {
      "needs_background": "light"
     },
     "output_type": "display_data"
    },
    {
     "data": {
      "image/png": "[encoded data removed]",
      "text/plain": [
       "<Figure size 432x288 with 1 Axes>"
      ]
     },
     "metadata": {
      "needs_background": "light"
     },
     "output_type": "display_data"
    }
   ],
   "source": [
    "x_vals = np.linspace(0,11,31)\n",
    "y_vals = gauss(x_vals,mu = 9, sigma2 = 0.1)\n",
    "y_vals1 = gauss(x_vals,mu = 5, sigma2 = 0.2)\n",
    "plt.bar(x_vals,y_vals,width = 0.2,alpha = 0.5)\n",
    "plt.bar(x_vals1,y_vals1,width = 0.2,alpha = 0.5)\n",
    "#print(values)\n",
    "#plt.hist(values,width = 0.2)\n",
    "x_lims = (0,11)\n",
    "plt.xlim(x_lims) # Temporary\n",
    "plt.show()\n",
    "\n",
    "x_vals = np.linspace(-1.5,1.5,31)\n",
    "y_vals = gauss(x_vals,mu = 0, sigma2 = 0.1)\n",
    "y_vals1 = gauss(x_vals,mu = -0.2, sigma2 = 0.2)\n",
    "plt.bar(x_vals,y_vals,width = 0.05,alpha = 0.5)\n",
    "plt.bar(x_vals,y_vals1,width = 0.05,alpha = 0.5)\n",
    "#print(values)\n",
    "#plt.hist(values,width = 0.2)\n",
    "x_lims = (-2,2)\n",
    "plt.xlim(x_lims) # Temporary\n",
    "plt.show()"
   ]
  },
  {
   "cell_type": "code",
   "execution_count": 9,
   "metadata": {},
   "outputs": [
    {
     "data": {
      "image/png": "[encoded data removed]",
      "text/plain": [
       "<Figure size 432x288 with 1 Axes>"
      ]
     },
     "metadata": {
      "needs_background": "light"
     },
     "output_type": "display_data"
    }
   ],
   "source": [
    "plt.bar(z,array,alpha = 0.8,width = 0.005,label = f\"act {2}\")\n",
    "#plt.bar(bar_agent.z,bar_agent.probs(state)[bar_act][0],alpha = 0.8,width = 0.05,label = f\"act {bar_act}\")\n",
    "plt.show()"
   ]
  },
  {
   "cell_type": "code",
   "execution_count": null,
   "metadata": {},
   "outputs": [],
   "source": []
  }
 ],
 "metadata": {
  "kernelspec": {
   "display_name": "Python 3",
   "language": "python",
   "name": "python3"
  },
  "language_info": {
   "codemirror_mode": {
    "name": "ipython",
    "version": 3
   },
   "file_extension": ".py",
   "mimetype": "text/x-python",
   "name": "python",
   "nbconvert_exporter": "python",
   "pygments_lexer": "ipython3",
   "version": "3.7.3"
  }
 },
 "nbformat": 4,
 "nbformat_minor": 2
}
