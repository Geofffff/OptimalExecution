{
 "cells": [
  {
   "cell_type": "code",
   "execution_count": 3,
   "metadata": {},
   "outputs": [],
   "source": [
    "output_dir = 'model_output/cartpole/'"
   ]
  },
  {
   "cell_type": "code",
   "execution_count": 4,
   "metadata": {},
   "outputs": [],
   "source": [
    "if not os.path.exists(output_dir):\n",
    "    os.makedirs(output_dir)"
   ]
  },
  {
   "cell_type": "markdown",
   "metadata": {
    "collapsed": true
   },
   "source": [
    "## Trading"
   ]
  },
  {
   "cell_type": "markdown",
   "metadata": {},
   "source": [
    "### External Packages"
   ]
  },
  {
   "cell_type": "code",
   "execution_count": 1,
   "metadata": {},
   "outputs": [],
   "source": [
    "import os # for creating directories\n",
    "import matplotlib\n",
    "matplotlib.use('TkAgg')\n",
    "import numpy as np"
   ]
  },
  {
   "cell_type": "markdown",
   "metadata": {},
   "source": [
    "### Custom library imports"
   ]
  },
  {
   "cell_type": "code",
   "execution_count": 297,
   "metadata": {},
   "outputs": [],
   "source": [
    "from library.market_modelsM import market\n",
    "#from library.local_environments import agent_environmentM\n",
    "from library.market_modelsM import bs_stock\n",
    "import library.agents\n",
    "import library.simulations\n",
    "#import library.WIPAgents\n",
    "import library.WIPAgentsv2\n",
    "import library.WIPAgentsv3"
   ]
  },
  {
   "cell_type": "markdown",
   "metadata": {},
   "source": [
    "- *market_models* include stock price models and market impact models.\n",
    "- *local_environments* includes agent environments (recording the agents position, cash and market impact, these are built to model AIGym environments\n",
    "- *agents* include market agents, different deepQlearning agents and theoretical baseline agents\n",
    "- *simulator* simplifies the training and evaluation of multiple agents"
   ]
  },
  {
   "cell_type": "markdown",
   "metadata": {},
   "source": [
    "Start with an agent (Fred) who only knows the position and the time. Take the trade options as %s of the total position. For now we assume that he can trade between 1% and 10% at a time (Restrictive - could we make this more flexible?) A uniform partition also doesn't necessarily seem appropriate. Look at continuous generalisations."
   ]
  },
  {
   "cell_type": "markdown",
   "metadata": {},
   "source": [
    "### Code using new Simulator class"
   ]
  },
  {
   "cell_type": "markdown",
   "metadata": {},
   "source": [
    "Reload any updated modules"
   ]
  },
  {
   "cell_type": "code",
   "execution_count": 467,
   "metadata": {},
   "outputs": [
    {
     "data": {
      "text/plain": [
       "<module 'library.WIPAgentsv3' from '/Users/tobyweston/Documents/Imperial/Thesis/ThesisCode/library/WIPAgentsv3.py'>"
      ]
     },
     "execution_count": 467,
     "metadata": {},
     "output_type": "execute_result"
    }
   ],
   "source": [
    "from imp import reload\n",
    "reload(library.agents)\n",
    "reload(library.simulations)\n",
    "#reload(library.WIPAgents)\n",
    "reload(library.WIPAgentsv2)\n",
    "reload(library.WIPAgentsv3)"
   ]
  },
  {
   "cell_type": "markdown",
   "metadata": {},
   "source": [
    "Initialisation and parameters"
   ]
  },
  {
   "cell_type": "markdown",
   "metadata": {},
   "source": [
    "To speed up model identification and differentiation:\n",
    "- Fred: Deep Q Network Model (standard params) \n",
    "- George: Deep Q Network Model (alternative params)\n",
    "- Greg: Deep Q Network Model with Target network\n",
    "- Alice: Double Deep Q Network Model\n",
    "- Rob: Random strategy\n",
    "- Tim: TWAP\n",
    "- David: Distributional RL state action value\n",
    "- Daisy: Distributional RL state value\n",
    "- Paul: Version of Daisy with larger network and 2 epochs of training (how can we use the data more efficiently?)\n",
    "\n",
    "Future:\n",
    "- Harry: Prioritised sweep\n"
   ]
  },
  {
   "cell_type": "markdown",
   "metadata": {},
   "source": [
    "### Set up the agents and Simulator"
   ]
  },
  {
   "cell_type": "code",
   "execution_count": 493,
   "metadata": {},
   "outputs": [],
   "source": [
    "\n",
    "params = {\n",
    "    \"terminal\" : 1,\n",
    "    \"num_trades\" : 10,\n",
    "    \"position\" : 10,\n",
    "    \"batch_size\" : 32,\n",
    "    \"action_values\" : [0.05,0.075,0.1,0.15,0.2] # [0.001,0.005,0.01,0.015,0.02,0.03,0.05,0.075,0.1,0.15,0.2,0.25,0.3,0.35]\n",
    "}\n",
    "# Optimal action 0.1\n",
    "state_size = 2\n",
    "action_size = len(params[\"action_values\"])\n",
    "\n",
    "#fred = library.agents.DQNAgent(state_size, action_size,\"Fred\") # initialise agent\n",
    "#greg = library.agents.DQNAgent(state_size, action_size,\"Greg15\",C=15) # Second agent\n",
    "#greta = library.agents.DQNAgent(state_size, action_size,\"Greta4\",C=4,alternative_target = True) # Second agent\n",
    "\n",
    "#alice = library.agents.DDQNAgent(state_size, action_size,\"Alice\")\n",
    "#alice2 = library.agents.DDQNAgent(state_size, action_size,\"Alice2\")\n",
    "\n",
    "tim = library.agents.TWAPAgent(2,\"Tim\")\n",
    "#rob = library.agents.randomAgent(4,\"Rob\",action_size = action_size)\n",
    "\n",
    "#amanda = library.agents.DDQNAgent(state_size, action_size,\"Amanda30\",C=30) # Second agent\n",
    "#agnes = library.agents.DDQNAgent(state_size, action_size,\"Agnes10\",C=10,alternative_target = True) # Second agent\n",
    "\n",
    "daisy8a = library.WIPAgentsv2.distAgent(action_size,\"Daisy8 Alt\",C=8,alternative_target = True)\n",
    "#daisy8a2 = library.WIPAgentsv2.distAgent(\"Daisy8 Alt 2\",C=8,alternative_target = True)\n",
    "amanda10a = library.agents.DDQNAgent(state_size, action_size,\"Amanda10 Alt\",C=10)\n",
    "#amanda20 = library.agents.DDQNAgent(state_size, action_size,\"Amanda20\",C=20) \n",
    "#greta = library.agents.DQNAgent(state_size, action_size,\"Greta4\",C=4,alternative_target = True)\n",
    "#paul8a = library.WIPAgentsv3.distAgentL(\"Paul\",C=8,alternative_target = True)\n",
    "daisy100N51 = library.WIPAgentsv2.distAgent(action_size,\"Daisy100 N51\",N=51,C=100,alternative_target = False)\n",
    "daisy15aN21 = library.WIPAgentsv2.distAgent(action_size,\"Daisy15 Alt N21\",N=21,C=15,alternative_target = True)\n",
    "daisy200N31 = library.WIPAgentsv2.distAgent(action_size,\"Daisy200 N31\",N=31,C=200,alternative_target = False,UCB = False)\n",
    "daisy80aN31UCB = library.WIPAgentsv2.distAgent(action_size,\"Daisy80 N31 UCB50\",N=31,C=80,alternative_target = True,UCB = True,UCBc = 40)\n",
    "daisy15N11 = library.WIPAgentsv2.distAgent(action_size,\"Daisy15 N11\",N=11,C=15,alternative_target = False,UCB = False)\n",
    "\n",
    "#daisy25aN31_geo10k = library.WIPAgentsv2.distAgent(action_size,\"Daisy25 Alt N31\",N=31,C=25,alternative_target = True)\n",
    "daisy25aN31_9995 = library.WIPAgentsv2.distAgent(action_size,\"Daisy25 Alt N31\",N=31,C=25,alternative_target = True)\n",
    "#daisy25aN31_9999 = library.WIPAgentsv2.distAgent(action_size,\"Daisy25 Alt N31\",N=31,C=25,alternative_target = True)\n",
    "#daisy25aN31_99995 = library.WIPAgentsv2.distAgent(action_size,\"Daisy25 Alt N31\",N=31,C=25,alternative_target = True)\n",
    "\n",
    "agents = [\n",
    "    daisy80aN31UCB,\n",
    "    daisy200N31,\n",
    "    tim\n",
    "]\n",
    "\n",
    "daisy80aN31UCB.tree_n = 3\n",
    "daisy200N31.tree_n = 3\n",
    "daisy25aN31_geo10k.geometric_decay = False\n",
    "daisy15N21.learning_rate = 0.001\n",
    "daisy15N11.learning_rate = 0.001\n",
    "daisy15N21.epsilon_min = 0.01\n",
    "daisy15N11.epsilon_min = 0.01\n",
    "#daisy8a2.epsilon_min = 0.1\n",
    "#paul8a.epsilon_min = 0.04\n",
    "amanda10a.epsilon_min = 0.01\n",
    "#alice.learning_rate = 0.01\n",
    "\n",
    "simple_stock = bs_stock(1,0,0.0005) # No drift, 0.0005 vol\n",
    "simple_market = market(simple_stock,num_strats = len(agents))\n",
    "\n",
    "epsilon_decays = [0.9995,0.9995,0.9999,0.99995,1]\n",
    "\n",
    "my_simulator = library.simulations.simulator(simple_market,agents,params)\n",
    "my_simulator.plot_title = \"Test 18\"\n"
   ]
  },
  {
   "cell_type": "markdown",
   "metadata": {},
   "source": [
    "### Train agents"
   ]
  },
  {
   "cell_type": "code",
   "execution_count": 316,
   "metadata": {},
   "outputs": [],
   "source": [
    "#my_simulator.pretrain(n_iterations = 1000)"
   ]
  },
  {
   "cell_type": "code",
   "execution_count": null,
   "metadata": {
    "scrolled": false
   },
   "outputs": [],
   "source": [
    "#epsilon_decays = [0.9992,0.999,1,1]\n",
    "my_simulator.train(epsilon_decay = epsilon_decays, n_episodes = 8000)"
   ]
  },
  {
   "cell_type": "code",
   "execution_count": 485,
   "metadata": {},
   "outputs": [
    {
     "ename": "AssertionError",
     "evalue": "",
     "output_type": "error",
     "traceback": [
      "\u001b[0;31m---------------------------------------------------------------------------\u001b[0m",
      "\u001b[0;31mAssertionError\u001b[0m                            Traceback (most recent call last)",
      "\u001b[0;32m<ipython-input-485-122c9a9aa21f>\u001b[0m in \u001b[0;36m<module>\u001b[0;34m\u001b[0m\n\u001b[0;32m----> 1\u001b[0;31m \u001b[0mmy_simulator\u001b[0m\u001b[0;34m.\u001b[0m\u001b[0mtrain\u001b[0m\u001b[0;34m(\u001b[0m\u001b[0mepsilon_decay\u001b[0m \u001b[0;34m=\u001b[0m \u001b[0mepsilon_decays\u001b[0m\u001b[0;34m,\u001b[0m \u001b[0mn_episodes\u001b[0m \u001b[0;34m=\u001b[0m \u001b[0;36m10000\u001b[0m\u001b[0;34m)\u001b[0m\u001b[0;34m\u001b[0m\u001b[0;34m\u001b[0m\u001b[0m\n\u001b[0m",
      "\u001b[0;32m~/Documents/Imperial/Thesis/ThesisCode/library/simulations.py\u001b[0m in \u001b[0;36mtrain\u001b[0;34m(self, n_episodes, epsilon, epsilon_decay, show_details, evaluate)\u001b[0m\n\u001b[1;32m    152\u001b[0m                                 \u001b[0;32mfor\u001b[0m \u001b[0mi\u001b[0m\u001b[0;34m,\u001b[0m \u001b[0magent\u001b[0m \u001b[0;32min\u001b[0m \u001b[0menumerate\u001b[0m\u001b[0;34m(\u001b[0m\u001b[0mself\u001b[0m\u001b[0;34m.\u001b[0m\u001b[0magents\u001b[0m\u001b[0;34m)\u001b[0m\u001b[0;34m:\u001b[0m\u001b[0;34m\u001b[0m\u001b[0;34m\u001b[0m\u001b[0m\n\u001b[1;32m    153\u001b[0m                                         \u001b[0;32mif\u001b[0m \u001b[0mlen\u001b[0m\u001b[0;34m(\u001b[0m\u001b[0magent\u001b[0m\u001b[0;34m.\u001b[0m\u001b[0mmemory\u001b[0m\u001b[0;34m)\u001b[0m \u001b[0;34m>\u001b[0m \u001b[0mself\u001b[0m\u001b[0;34m.\u001b[0m\u001b[0mbatch_size\u001b[0m \u001b[0;32mand\u001b[0m \u001b[0;32mnot\u001b[0m \u001b[0mevaluate\u001b[0m\u001b[0;34m:\u001b[0m\u001b[0;34m\u001b[0m\u001b[0;34m\u001b[0m\u001b[0m\n\u001b[0;32m--> 154\u001b[0;31m                                                 \u001b[0magent\u001b[0m\u001b[0;34m.\u001b[0m\u001b[0mreplay\u001b[0m\u001b[0;34m(\u001b[0m\u001b[0mself\u001b[0m\u001b[0;34m.\u001b[0m\u001b[0mbatch_size\u001b[0m\u001b[0;34m)\u001b[0m \u001b[0;31m# train the agent by replaying the experiences of the episode\u001b[0m\u001b[0;34m\u001b[0m\u001b[0;34m\u001b[0m\u001b[0m\n\u001b[0m\u001b[1;32m    155\u001b[0m                                                 \u001b[0magent\u001b[0m\u001b[0;34m.\u001b[0m\u001b[0mstep\u001b[0m\u001b[0;34m(\u001b[0m\u001b[0;34m)\u001b[0m \u001b[0;31m# Update target network if required\u001b[0m\u001b[0;34m\u001b[0m\u001b[0;34m\u001b[0m\u001b[0m\n\u001b[1;32m    156\u001b[0m \u001b[0;34m\u001b[0m\u001b[0m\n",
      "\u001b[0;32m~/Documents/Imperial/Thesis/ThesisCode/library/WIPAgentsv2.py\u001b[0m in \u001b[0;36mreplay\u001b[0;34m(self, batch_size)\u001b[0m\n\u001b[1;32m    192\u001b[0m \u001b[0;34m\u001b[0m\u001b[0m\n\u001b[1;32m    193\u001b[0m                 \u001b[0;32mfor\u001b[0m \u001b[0mmem_index\u001b[0m\u001b[0;34m,\u001b[0m \u001b[0;34m(\u001b[0m\u001b[0mstate\u001b[0m\u001b[0;34m,\u001b[0m \u001b[0maction\u001b[0m\u001b[0;34m,\u001b[0m \u001b[0mreward\u001b[0m\u001b[0;34m,\u001b[0m \u001b[0mnext_state\u001b[0m\u001b[0;34m,\u001b[0m \u001b[0mdone\u001b[0m\u001b[0;34m)\u001b[0m \u001b[0;32min\u001b[0m \u001b[0mminibatch\u001b[0m\u001b[0;34m:\u001b[0m\u001b[0;34m\u001b[0m\u001b[0;34m\u001b[0m\u001b[0m\n\u001b[0;32m--> 194\u001b[0;31m                         \u001b[0mself\u001b[0m\u001b[0;34m.\u001b[0m\u001b[0mfit\u001b[0m\u001b[0;34m(\u001b[0m\u001b[0mstate\u001b[0m\u001b[0;34m,\u001b[0m \u001b[0maction\u001b[0m\u001b[0;34m,\u001b[0m \u001b[0mreward\u001b[0m\u001b[0;34m,\u001b[0m \u001b[0mnext_state\u001b[0m\u001b[0;34m,\u001b[0m \u001b[0mdone\u001b[0m\u001b[0;34m,\u001b[0m\u001b[0mmem_index\u001b[0m\u001b[0;34m)\u001b[0m\u001b[0;34m\u001b[0m\u001b[0;34m\u001b[0m\u001b[0m\n\u001b[0m\u001b[1;32m    195\u001b[0m \u001b[0;34m\u001b[0m\u001b[0m\n\u001b[1;32m    196\u001b[0m                 \u001b[0;32mif\u001b[0m \u001b[0mself\u001b[0m\u001b[0;34m.\u001b[0m\u001b[0mepsilon\u001b[0m \u001b[0;34m>\u001b[0m \u001b[0mself\u001b[0m\u001b[0;34m.\u001b[0m\u001b[0mepsilon_min\u001b[0m\u001b[0;34m:\u001b[0m\u001b[0;34m\u001b[0m\u001b[0;34m\u001b[0m\u001b[0m\n",
      "\u001b[0;32m~/Documents/Imperial/Thesis/ThesisCode/library/WIPAgentsv2.py\u001b[0m in \u001b[0;36mfit\u001b[0;34m(self, state, action_index, reward, next_state, done, mem_index)\u001b[0m\n\u001b[1;32m    233\u001b[0m                 \u001b[0;31m#if DEBUG:\u001b[0m\u001b[0;34m\u001b[0m\u001b[0;34m\u001b[0m\u001b[0;34m\u001b[0m\u001b[0m\n\u001b[1;32m    234\u001b[0m                 \u001b[0;31m#print(\"fitting state:\", state,\",action:\",action_index,\",reward:\",reward, \" delta target_f \",target_f[action_index][0]-debug_target_f,\"done:\",done)\u001b[0m\u001b[0;34m\u001b[0m\u001b[0;34m\u001b[0m\u001b[0;34m\u001b[0m\u001b[0m\n\u001b[0;32m--> 235\u001b[0;31m                 \u001b[0mself\u001b[0m\u001b[0;34m.\u001b[0m\u001b[0mmodel\u001b[0m\u001b[0;34m.\u001b[0m\u001b[0mfit\u001b[0m\u001b[0;34m(\u001b[0m\u001b[0mstate\u001b[0m\u001b[0;34m,\u001b[0m \u001b[0mtarget_f\u001b[0m\u001b[0;34m,\u001b[0m\u001b[0mepochs\u001b[0m\u001b[0;34m=\u001b[0m\u001b[0;36m1\u001b[0m\u001b[0;34m,\u001b[0m \u001b[0mverbose\u001b[0m\u001b[0;34m=\u001b[0m\u001b[0;36m0\u001b[0m\u001b[0;34m)\u001b[0m\u001b[0;34m\u001b[0m\u001b[0;34m\u001b[0m\u001b[0m\n\u001b[0m\u001b[1;32m    236\u001b[0m \u001b[0;34m\u001b[0m\u001b[0m\n\u001b[1;32m    237\u001b[0m         \u001b[0;31m# Temporary Experiment\u001b[0m\u001b[0;34m\u001b[0m\u001b[0;34m\u001b[0m\u001b[0;34m\u001b[0m\u001b[0m\n",
      "\u001b[0;32m~/Applications/anaconda3/lib/python3.7/site-packages/keras/engine/training.py\u001b[0m in \u001b[0;36mfit\u001b[0;34m(self, x, y, batch_size, epochs, verbose, callbacks, validation_split, validation_data, shuffle, class_weight, sample_weight, initial_epoch, steps_per_epoch, validation_steps, validation_freq, max_queue_size, workers, use_multiprocessing, **kwargs)\u001b[0m\n\u001b[1;32m   1237\u001b[0m                                         \u001b[0msteps_per_epoch\u001b[0m\u001b[0;34m=\u001b[0m\u001b[0msteps_per_epoch\u001b[0m\u001b[0;34m,\u001b[0m\u001b[0;34m\u001b[0m\u001b[0;34m\u001b[0m\u001b[0m\n\u001b[1;32m   1238\u001b[0m                                         \u001b[0mvalidation_steps\u001b[0m\u001b[0;34m=\u001b[0m\u001b[0mvalidation_steps\u001b[0m\u001b[0;34m,\u001b[0m\u001b[0;34m\u001b[0m\u001b[0;34m\u001b[0m\u001b[0m\n\u001b[0;32m-> 1239\u001b[0;31m                                         validation_freq=validation_freq)\n\u001b[0m\u001b[1;32m   1240\u001b[0m \u001b[0;34m\u001b[0m\u001b[0m\n\u001b[1;32m   1241\u001b[0m     def evaluate(self,\n",
      "\u001b[0;32m~/Applications/anaconda3/lib/python3.7/site-packages/keras/engine/training_arrays.py\u001b[0m in \u001b[0;36mfit_loop\u001b[0;34m(model, fit_function, fit_inputs, out_labels, batch_size, epochs, verbose, callbacks, val_function, val_inputs, shuffle, initial_epoch, steps_per_epoch, validation_steps, validation_freq)\u001b[0m\n\u001b[1;32m    173\u001b[0m                 \u001b[0mindex_array\u001b[0m \u001b[0;34m=\u001b[0m \u001b[0mbatch_shuffle\u001b[0m\u001b[0;34m(\u001b[0m\u001b[0mindex_array\u001b[0m\u001b[0;34m,\u001b[0m \u001b[0mbatch_size\u001b[0m\u001b[0;34m)\u001b[0m\u001b[0;34m\u001b[0m\u001b[0;34m\u001b[0m\u001b[0m\n\u001b[1;32m    174\u001b[0m             \u001b[0;32melif\u001b[0m \u001b[0mshuffle\u001b[0m\u001b[0;34m:\u001b[0m\u001b[0;34m\u001b[0m\u001b[0;34m\u001b[0m\u001b[0m\n\u001b[0;32m--> 175\u001b[0;31m                 \u001b[0mnp\u001b[0m\u001b[0;34m.\u001b[0m\u001b[0mrandom\u001b[0m\u001b[0;34m.\u001b[0m\u001b[0mshuffle\u001b[0m\u001b[0;34m(\u001b[0m\u001b[0mindex_array\u001b[0m\u001b[0;34m)\u001b[0m\u001b[0;34m\u001b[0m\u001b[0;34m\u001b[0m\u001b[0m\n\u001b[0m\u001b[1;32m    176\u001b[0m \u001b[0;34m\u001b[0m\u001b[0m\n\u001b[1;32m    177\u001b[0m             \u001b[0mbatches\u001b[0m \u001b[0;34m=\u001b[0m \u001b[0mmake_batches\u001b[0m\u001b[0;34m(\u001b[0m\u001b[0mnum_train_samples\u001b[0m\u001b[0;34m,\u001b[0m \u001b[0mbatch_size\u001b[0m\u001b[0;34m)\u001b[0m\u001b[0;34m\u001b[0m\u001b[0;34m\u001b[0m\u001b[0m\n",
      "\u001b[0;32mmtrand.pyx\u001b[0m in \u001b[0;36mmtrand.RandomState.shuffle\u001b[0;34m()\u001b[0m\n",
      "\u001b[0;32m~/Applications/anaconda3/lib/python3.7/site-packages/numpy/core/_internal.py\u001b[0m in \u001b[0;36m__init__\u001b[0;34m(self, array, ptr)\u001b[0m\n\u001b[1;32m    294\u001b[0m             \u001b[0;31m# get a void pointer to the buffer, which keeps the array alive\u001b[0m\u001b[0;34m\u001b[0m\u001b[0;34m\u001b[0m\u001b[0;34m\u001b[0m\u001b[0m\n\u001b[1;32m    295\u001b[0m             \u001b[0mself\u001b[0m\u001b[0;34m.\u001b[0m\u001b[0m_data\u001b[0m \u001b[0;34m=\u001b[0m \u001b[0m_get_void_ptr\u001b[0m\u001b[0;34m(\u001b[0m\u001b[0marray\u001b[0m\u001b[0;34m)\u001b[0m\u001b[0;34m\u001b[0m\u001b[0;34m\u001b[0m\u001b[0m\n\u001b[0;32m--> 296\u001b[0;31m             \u001b[0;32massert\u001b[0m \u001b[0mself\u001b[0m\u001b[0;34m.\u001b[0m\u001b[0m_data\u001b[0m\u001b[0;34m.\u001b[0m\u001b[0mvalue\u001b[0m \u001b[0;34m==\u001b[0m \u001b[0mptr\u001b[0m\u001b[0;34m\u001b[0m\u001b[0;34m\u001b[0m\u001b[0m\n\u001b[0m\u001b[1;32m    297\u001b[0m         \u001b[0;32melse\u001b[0m\u001b[0;34m:\u001b[0m\u001b[0;34m\u001b[0m\u001b[0;34m\u001b[0m\u001b[0m\n\u001b[1;32m    298\u001b[0m             \u001b[0;31m# fake a pointer-like object that holds onto the reference\u001b[0m\u001b[0;34m\u001b[0m\u001b[0;34m\u001b[0m\u001b[0;34m\u001b[0m\u001b[0m\n",
      "\u001b[0;31mAssertionError\u001b[0m: "
     ]
    }
   ],
   "source": [
    "my_simulator.train(epsilon_decay = epsilon_decays, n_episodes = 10000)"
   ]
  },
  {
   "cell_type": "markdown",
   "metadata": {},
   "source": [
    "### Additional Training"
   ]
  },
  {
   "cell_type": "code",
   "execution_count": 453,
   "metadata": {
    "scrolled": true
   },
   "outputs": [],
   "source": [
    "epsilons = [0.05,0.05,0.22,0.22,1]\n",
    "#epsilon_decays = [0.999,0.999,1,1]\n",
    "my_simulator.train(epsilon = epsilons, epsilon_decay = epsilon_decays, n_episodes = 10000)"
   ]
  },
  {
   "cell_type": "markdown",
   "metadata": {},
   "source": [
    "Add twap stat to final plot"
   ]
  },
  {
   "cell_type": "code",
   "execution_count": 97,
   "metadata": {},
   "outputs": [
    {
     "data": {
      "text/plain": [
       "[<matplotlib.lines.Line2D at 0x14515c5c0>]"
      ]
     },
     "execution_count": 97,
     "metadata": {},
     "output_type": "execute_result"
    }
   ],
   "source": [
    "from matplotlib import pyplot as plt\n",
    "plt.ylim([9,10])\n",
    "twap_stat = 9.849\n",
    "plt.plot([0, 175], [twap_stat, twap_stat], 'k--')"
   ]
  },
  {
   "cell_type": "code",
   "execution_count": 387,
   "metadata": {
    "scrolled": true
   },
   "outputs": [
    {
     "name": "stdout",
     "output_type": "stream",
     "text": [
      "0.05389431695657363\n"
     ]
    }
   ],
   "source": [
    "print(daisy25aN31_9995.epsilon)"
   ]
  },
  {
   "cell_type": "markdown",
   "metadata": {},
   "source": [
    "Evaluate a sample episode post training"
   ]
  },
  {
   "cell_type": "code",
   "execution_count": 489,
   "metadata": {},
   "outputs": [
    {
     "name": "stdout",
     "output_type": "stream",
     "text": [
      "Agent 0 predict [[1.17387019 0.87794835 0.0400197  0.44212539 0.74014252]]\n",
      "State[0]:  [[ 1. -1.]] Actions[0]:  4 Rewards[0]:  0.1923515678048961 Next_states[0]:  [[ 0.6 -0.8]] Done[0]:  False\n",
      "Agent 0 next predict [[1.06582772 0.85265559 0.04159657 0.47277652 0.74482985]]\n",
      "Agent 0 predict [[1.06582772 0.85265559 0.04159657 0.47277652 0.74482985]]\n",
      "State[0]:  [[ 0.6 -0.8]] Actions[0]:  4 Rewards[0]:  0.1921670449102618 Next_states[0]:  [[ 0.2 -0.6]] Done[0]:  False\n",
      "Agent 0 next predict [[0.82956574 0.78944056 0.11052763 0.5051078  0.70282527]]\n",
      "Agent 0 predict [[0.82956574 0.78944056 0.11052763 0.5051078  0.70282527]]\n",
      "State[0]:  [[ 0.2 -0.6]] Actions[0]:  4 Rewards[0]:  0.19198962460993135 Next_states[0]:  [[-0.2 -0.4]] Done[0]:  False\n",
      "Agent 0 next predict [[0.79053009 0.77181712 0.04972018 0.5096218  0.52792728]]\n",
      "Agent 0 predict [[0.79053009 0.77181712 0.04972018 0.5096218  0.52792728]]\n",
      "State[0]:  [[-0.2 -0.4]] Actions[0]:  4 Rewards[0]:  0.1917290685718776 Next_states[0]:  [[-0.6 -0.2]] Done[0]:  False\n",
      "Agent 0 next predict [[0.80055237 0.68613393 0.04065066 0.48864962 0.88776223]]\n",
      "Agent 0 predict [[0.80055237 0.68613393 0.04065066 0.48864962 0.88776223]]\n",
      "State[0]:  [[-0.6 -0.2]] Actions[0]:  4 Rewards[0]:  0.19155330017006472 Next_states[0]:  [[-1.  0.]] Done[0]:  True\n",
      "Agent 0 next predict [[0.78727522 0.68277315 0.04090562 0.46687701 1.03096865]]\n",
      "Agent 0 predict [[0.78727522 0.68277315 0.04090562 0.46687701 1.03096865]]\n",
      "State[0]:  [[-1.  0.]] Actions[0]:  -1 Rewards[0]:  0.0 Next_states[0]:  [[-1.   0.2]] Done[0]:  True\n",
      "Agent 0 next predict [[0.75864718 0.68310273 0.04043368 0.50042373 1.09236777]]\n",
      "Agent 0 predict [[0.75864718 0.68310273 0.04043368 0.50042373 1.09236777]]\n",
      "State[0]:  [[-1.   0.2]] Actions[0]:  -1 Rewards[0]:  0.0 Next_states[0]:  [[-1.   0.4]] Done[0]:  True\n",
      "Agent 0 next predict [[0.73642047 0.68405193 0.0401723  0.51070719 1.11807208]]\n",
      "Agent 0 predict [[0.73642047 0.68405193 0.0401723  0.51070719 1.11807208]]\n",
      "State[0]:  [[-1.   0.4]] Actions[0]:  -1 Rewards[0]:  0.0 Next_states[0]:  [[-1.   0.6]] Done[0]:  True\n",
      "Agent 0 next predict [[0.72786746 0.68373823 0.0400384  0.51091879 1.11836553]]\n",
      "Agent 0 predict [[0.72786746 0.68373823 0.0400384  0.51091879 1.11836553]]\n",
      "State[0]:  [[-1.   0.6]] Actions[0]:  -1 Rewards[0]:  0.0 Next_states[0]:  [[-1.   0.8]] Done[0]:  True\n",
      "Agent 0 next predict [[0.7250221  0.69228707 0.04001348 0.48525722 1.02870085]]\n",
      "Agent 0 predict [[0.7250221  0.69228707 0.04001348 0.48525722 1.02870085]]\n",
      "State[0]:  [[-1.   0.8]] Actions[0]:  -1 Rewards[0]:  0.0 Next_states[0]:  [[-1.  1.]] Done[0]:  True\n",
      "Agent 0 next predict [[0.7244602  0.7258887  0.04000489 0.44671742 1.00277296]]\n"
     ]
    }
   ],
   "source": [
    "#daisy25aN31_9995.epsilon = 0.5\n",
    "actions = [-1] * 3\n",
    "my_simulator.episode(actions,verbose = True)\n",
    "#david.predict[]\n"
   ]
  },
  {
   "cell_type": "markdown",
   "metadata": {},
   "source": [
    "### Plot Action value distributions for Distributional Agents"
   ]
  },
  {
   "cell_type": "code",
   "execution_count": 491,
   "metadata": {},
   "outputs": [
    {
     "name": "stdout",
     "output_type": "stream",
     "text": [
      "[[ 1 -1]] [[1.17387019 0.87794835 0.0400197  0.44212539 0.74014252]]\n",
      "[[0 0]] [[0.8016482  0.73800739 0.04093375 0.51297936 0.93446693]]\n",
      "pred probs [[1.5842254e-10 4.8874023e-11 6.6218668e-08 1.3349351e-04 3.7635527e-08\n",
      "  8.0863934e-13 9.5884457e-07 2.8225877e-10 5.0762311e-12 2.8698530e-11\n",
      "  2.7362937e-10 2.8828033e-09 1.7500264e-13 9.3632513e-14 1.7767627e-08\n",
      "  8.8372074e-11 2.2298914e-11 5.3037637e-09 5.6797780e-02 2.6259554e-06\n",
      "  9.2735577e-01 1.4265190e-10 6.9020487e-08 8.4433384e-07 9.5214201e-12\n",
      "  4.5527324e-13 3.5053446e-10 3.5387466e-09 3.3116936e-13 1.1398963e-09\n",
      "  1.5708392e-02]]\n"
     ]
    },
    {
     "data": {
      "text/plain": [
       "<matplotlib.legend.Legend at 0x17e0f2e80>"
      ]
     },
     "execution_count": 491,
     "metadata": {},
     "output_type": "execute_result"
    }
   ],
   "source": [
    "from matplotlib import pyplot as plt\n",
    "bar_agent = daisy80aN31UCB #daisy15N11   daisy100N51\n",
    "#plt.plot(my_simulator.eval_rewards_mean[:,1],label = \"act \" + str(1))\n",
    "#print(my_simulator.eval_rewards_mean)\n",
    "#print(my_simulator.env.reset())\n",
    "#episode_actions = np.zeros((7,3))\n",
    "#print(my_simulator.env.step([1,5,6,6]))\n",
    "#state = my_simulator.env.reset()[0]\n",
    "#print(my_simulator.env.cash)\n",
    "state = [1,-1] \n",
    "state = np.reshape(state, [1, 2])\n",
    "state1 = [0,0] \n",
    "state1 = np.reshape(state1, [1, 2])\n",
    "predictions = bar_agent.predict(state)\n",
    "#episode_actions[:,0] = predictions\n",
    "#print(predictions)\n",
    "bar_act = 4\n",
    "plt.bar(bar_agent.z,bar_agent.probs(state1)[bar_act][0],alpha = 0.4,width = 0.05,label = f\"act {bar_act}\")\n",
    "#print(bar_agent.probs(state))\n",
    "#print(david30.predict(state))\n",
    "print(state,bar_agent.predict(state))\n",
    "print(state1,bar_agent.predict(state1))\n",
    "#state = np.reshape(np.append(state,1), [1, 3])\n",
    "#print(state)\n",
    "#print(daisy.model.get_weights())\n",
    "#print(\"state probs\", daisy.probs(state))\n",
    "print(\"pred probs\", bar_agent.model.predict(state1)[0])#-bar_agent.model.predict(state)[0])\n",
    "plt.legend()"
   ]
  },
  {
   "cell_type": "markdown",
   "metadata": {},
   "source": [
    "### Plot Action value estimates for the first action over time\n",
    "If using a TWAP agent then add the average to denote the optimal action value for action 5"
   ]
  },
  {
   "cell_type": "code",
   "execution_count": 157,
   "metadata": {
    "scrolled": true
   },
   "outputs": [
    {
     "name": "stdout",
     "output_type": "stream",
     "text": [
      "(49, 5)\n"
     ]
    },
    {
     "data": {
      "text/plain": [
       "[<matplotlib.lines.Line2D at 0x16227b6a0>]"
      ]
     },
     "execution_count": 157,
     "metadata": {},
     "output_type": "execute_result"
    }
   ],
   "source": [
    "print(my_simulator.eval_rewards_mean.shape)\n",
    "twap_stat = np.mean(my_simulator.eval_rewards_mean[:,1])\n",
    "plt.plot([0, len(my_simulator.train_actions[:,0])], [twap_stat, twap_stat], 'k--')"
   ]
  },
  {
   "cell_type": "code",
   "execution_count": 492,
   "metadata": {},
   "outputs": [
    {
     "data": {
      "text/plain": [
       "<matplotlib.legend.Legend at 0x1793669b0>"
      ]
     },
     "execution_count": 492,
     "metadata": {},
     "output_type": "execute_result"
    }
   ],
   "source": [
    "\n",
    "from matplotlib import pyplot as plt\n",
    "strat = 1\n",
    "plt.plot([0, len(my_simulator.train_actions[:,0])], [twap_stat, twap_stat], 'k--',label = \"Optimal Value\")\n",
    "for i in range(5):\n",
    "    plt.plot(my_simulator._moving_average(my_simulator.train_actions[:,i,strat],n=100),label = \"act \" + str(i))\n",
    "    pass\n",
    "#plt.ylim([0.95,1.])\n",
    "#plt.xlim([3000,4500])\n",
    "plt.legend()\n",
    "#plt.plot(moving_average(my_simulator.train_actions[:,0,strat],n=5),label = \"act \" + str(i))\n"
   ]
  },
  {
   "cell_type": "markdown",
   "metadata": {},
   "source": [
    "### A look at state values"
   ]
  },
  {
   "cell_type": "code",
   "execution_count": 442,
   "metadata": {
    "scrolled": true
   },
   "outputs": [
    {
     "data": {
      "text/plain": [
       "Text(0.5, 1, 'State values over position')"
      ]
     },
     "execution_count": 442,
     "metadata": {},
     "output_type": "execute_result"
    }
   ],
   "source": [
    "# First check value with position start with 2D\n",
    "from matplotlib import pyplot as plt\n",
    "bar_agent = daisy30aN31UCB\n",
    "n = 10\n",
    "values = []\n",
    "x_vals = []\n",
    "my_action = 4\n",
    "t = -1\n",
    "p = 1\n",
    "\n",
    "\n",
    "for i in range(n):\n",
    "    #action_vals = []\n",
    "    p = 2 * i / (n-1) - 1\n",
    "    state = [p,t] \n",
    "    state = np.reshape(state, [1, 2])\n",
    "    values.append(bar_agent.predict(state)[0][my_action])\n",
    "    x_vals.append(p)\n",
    "    \n",
    "plt.plot(x_vals,values)\n",
    "plt.title(\"State values over position\")\n",
    "    \n",
    "    "
   ]
  },
  {
   "cell_type": "markdown",
   "metadata": {},
   "source": [
    "### Investigating UCB Algo Addition"
   ]
  },
  {
   "cell_type": "code",
   "execution_count": 483,
   "metadata": {},
   "outputs": [
    {
     "name": "stdout",
     "output_type": "stream",
     "text": [
      "Simulating Action\n",
      "Predictions:  [0.32488014 0.60000005 1.09904722 1.15997028 0.79908602] Variance:  [[2.49138708e-02 5.49129021e-08 8.11514367e-03 1.60408080e-04\n",
      "  2.94971124e-02]] UCB element:  [[0.14049461 0.00020858 0.0801839  0.01127333 0.15287231]]\n",
      "Argmax without UCB:  3 Argmax with UCB:  2\n"
     ]
    }
   ],
   "source": [
    "UCB_agent = daisy80aN31UCB\n",
    "print(\"Simulating Action\")\n",
    "state = [1,-1] \n",
    "state = np.reshape(state, [1, 2])\n",
    "state1 = [0,0] \n",
    "state = np.reshape(state, [1, 2])\n",
    "c=40\n",
    "t= 20000\n",
    "\n",
    "predictions = UCB_agent.predict(state)[0]\n",
    "variance = UCB_agent.variance(state)\n",
    "test_ct = c * np.sqrt(np.log(t) / t)\n",
    "ucb_element = test_ct * np.sqrt(variance)\n",
    "print(\"Predictions: \", predictions,\"Variance: \", variance, \"UCB element: \",ucb_element )\n",
    "print(\"Argmax without UCB: \",np.argmax(predictions),\"Argmax with UCB: \",np.argmax(predictions + ucb_element) )\n",
    "\n",
    "\n"
   ]
  },
  {
   "cell_type": "code",
   "execution_count": null,
   "metadata": {},
   "outputs": [],
   "source": [
    "# Try ramping up c\n",
    "daisy8aN11UCB.c = "
   ]
  },
  {
   "cell_type": "markdown",
   "metadata": {},
   "source": [
    "## Misc Code"
   ]
  },
  {
   "cell_type": "code",
   "execution_count": 142,
   "metadata": {},
   "outputs": [
    {
     "ename": "ValueError",
     "evalue": "shapes (2,1) and (3,) not aligned: 1 (dim 1) != 3 (dim 0)",
     "output_type": "error",
     "traceback": [
      "\u001b[0;31m---------------------------------------------------------------------------\u001b[0m",
      "\u001b[0;31mValueError\u001b[0m                                Traceback (most recent call last)",
      "\u001b[0;32m<ipython-input-142-e234a47fefb5>\u001b[0m in \u001b[0;36m<module>\u001b[0;34m\u001b[0m\n\u001b[1;32m      4\u001b[0m \u001b[0mmy_range\u001b[0m\u001b[0;34m.\u001b[0m\u001b[0mshape\u001b[0m \u001b[0;34m=\u001b[0m \u001b[0;34m(\u001b[0m\u001b[0;36m2\u001b[0m\u001b[0;34m,\u001b[0m\u001b[0;36m1\u001b[0m\u001b[0;34m)\u001b[0m\u001b[0;34m\u001b[0m\u001b[0;34m\u001b[0m\u001b[0m\n\u001b[1;32m      5\u001b[0m \u001b[0;34m\u001b[0m\u001b[0m\n\u001b[0;32m----> 6\u001b[0;31m \u001b[0mnp\u001b[0m\u001b[0;34m.\u001b[0m\u001b[0mcos\u001b[0m\u001b[0;34m(\u001b[0m\u001b[0mnp\u001b[0m\u001b[0;34m.\u001b[0m\u001b[0mdot\u001b[0m\u001b[0;34m(\u001b[0m\u001b[0mmy_range\u001b[0m\u001b[0;34m,\u001b[0m \u001b[0mmy_rands\u001b[0m\u001b[0;34m)\u001b[0m \u001b[0;34m*\u001b[0m \u001b[0mnp\u001b[0m\u001b[0;34m.\u001b[0m\u001b[0mpi\u001b[0m\u001b[0;34m)\u001b[0m\u001b[0;34m\u001b[0m\u001b[0;34m\u001b[0m\u001b[0m\n\u001b[0m",
      "\u001b[0;31mValueError\u001b[0m: shapes (2,1) and (3,) not aligned: 1 (dim 1) != 3 (dim 0)"
     ]
    }
   ],
   "source": [
    "my_rands = np.random.rand(3)\n",
    "#my_rands.shape = (1,3)\n",
    "my_range = np.arange(2)\n",
    "my_range.shape = (2,1)\n",
    "\n",
    "np.cos(np.dot(my_range, my_rands) * np.pi)"
   ]
  },
  {
   "cell_type": "code",
   "execution_count": 24,
   "metadata": {},
   "outputs": [],
   "source": [
    "my_simulator.show_stats(moving_average = 800)"
   ]
  },
  {
   "cell_type": "code",
   "execution_count": 10,
   "metadata": {},
   "outputs": [
    {
     "name": "stdout",
     "output_type": "stream",
     "text": [
      "0.009993278292196676\n",
      "0.00999727800350609\n",
      "[[7612089.    716650.6   666954.56  679772.75  689112.    671250.25\n",
      "   663567.6 ]]\n"
     ]
    }
   ],
   "source": [
    "print(george.epsilon)\n",
    "print(alice.epsilon)\n",
    "state = [1,0.5] \n",
    "state = np.reshape(state, [1, 2])\n",
    "print(alice.predict(state))\n"
   ]
  },
  {
   "cell_type": "code",
   "execution_count": 16,
   "metadata": {},
   "outputs": [
    {
     "name": "stdout",
     "output_type": "stream",
     "text": [
      "1\n",
      "5.3915353\n",
      "[[5.140569  5.3915353 4.5375085 4.7906394 3.8501995 3.0198317 1.5048974]]\n"
     ]
    }
   ],
   "source": [
    "state = [1,0.5] \n",
    "state = np.reshape(state, [1, 2])\n",
    "pred1 = george.predict(state)\n",
    "pred2 = pred1 + pred1\n",
    "print(np.argmax(pred2))\n",
    "print(pred2[0,np.argmax(pred2)])\n",
    "print(pred2)"
   ]
  },
  {
   "cell_type": "code",
   "execution_count": 28,
   "metadata": {},
   "outputs": [
    {
     "data": {
      "text/plain": [
       "[<matplotlib.lines.Line2D at 0x141e61208>]"
      ]
     },
     "execution_count": 28,
     "metadata": {},
     "output_type": "execute_result"
    }
   ],
   "source": [
    "plt.plot(moving_average(my_simulator.eval_rewards[:,1],n=300), label  = \"George\")"
   ]
  },
  {
   "cell_type": "code",
   "execution_count": 29,
   "metadata": {},
   "outputs": [],
   "source": [
    "george.save(\"george1_t50_n7\")"
   ]
  },
  {
   "cell_type": "code",
   "execution_count": 124,
   "metadata": {},
   "outputs": [
    {
     "name": "stdout",
     "output_type": "stream",
     "text": [
      "(0, 3)\n",
      "Outer 1:  nan\n",
      "Inner 1:  nan\n",
      "Inner 2:  nan\n",
      "Outer Inner :  nan\n",
      "Outer 2 :  nan\n"
     ]
    },
    {
     "name": "stderr",
     "output_type": "stream",
     "text": [
      "/Users/tobyweston/Applications/anaconda3/lib/python3.7/site-packages/numpy/core/fromnumeric.py:3118: RuntimeWarning: Mean of empty slice.\n",
      "  out=out, **kwargs)\n",
      "/Users/tobyweston/Applications/anaconda3/lib/python3.7/site-packages/numpy/core/_methods.py:85: RuntimeWarning: invalid value encountered in double_scalars\n",
      "  ret = ret.dtype.type(ret / rcount)\n"
     ]
    }
   ],
   "source": [
    "#print(my_simulator.code_time[:])\n",
    "#plt.plot(moving_average(my_simulator.code_time[:,0]))\n",
    "print(my_simulator.code_time_o.shape)\n",
    "print(\"Outer 1: \", np.mean(my_simulator.code_time_o[:,0]))\n",
    "print(\"Inner 1: \", np.mean(my_simulator.code_time_i[:,0]))\n",
    "print(\"Inner 2: \", np.mean(my_simulator.code_time_i[:,1]))\n",
    "print(\"Outer Inner : \", np.mean(my_simulator.code_time_o[:,1]))\n",
    "print(\"Outer 2 : \", np.mean(my_simulator.code_time_o[:,2]))\n",
    "#print(np.mean(plt.plot(my_simulator.code_time[:,2])))"
   ]
  },
  {
   "cell_type": "code",
   "execution_count": 21,
   "metadata": {},
   "outputs": [
    {
     "data": {
      "text/plain": [
       "<matplotlib.legend.Legend at 0x14c705630>"
      ]
     },
     "execution_count": 21,
     "metadata": {},
     "output_type": "execute_result"
    }
   ],
   "source": [
    "#my_simulator.show_training_stats()\n",
    "#plt.plot(moving_average(my_simulator.all_rewards2,500))\n",
    "plt.plot(moving_average(my_simulator.train_rewards[:,0],n=300), label  = \"Fred\")\n",
    "plt.plot(moving_average(my_simulator.train_rewards[:,1],n=300), label  = \"George\")\n",
    "plt.plot(moving_average(my_simulator.train_rewards[:,2],n=300), label  = \"Tim\")\n",
    "plt.plot(moving_average(my_simulator.train_rewards[:,2],n=300), label  = \"Tim\")\n",
    "plt.legend()\n",
    "#len(my_simulator.all_rewards2)"
   ]
  },
  {
   "cell_type": "code",
   "execution_count": 25,
   "metadata": {},
   "outputs": [],
   "source": [
    "plt.show()"
   ]
  },
  {
   "cell_type": "code",
   "execution_count": 35,
   "metadata": {},
   "outputs": [
    {
     "data": {
      "text/plain": [
       "6000"
      ]
     },
     "execution_count": 35,
     "metadata": {},
     "output_type": "execute_result"
    },
    {
     "data": {
      "image/png": "[encoded data removed]",
      "text/plain": [
       "<Figure size 432x288 with 1 Axes>"
      ]
     },
     "metadata": {
      "needs_background": "light"
     },
     "output_type": "display_data"
    }
   ],
   "source": [
    "my_simulator.show_training_stats()\n",
    "plt.plot(moving_average(my_simulator.all_rewards2,300))\n",
    "\n",
    "len(my_simulator.all_rewards[:,0])\n",
    "\n",
    "\n"
   ]
  },
  {
   "cell_type": "code",
   "execution_count": null,
   "metadata": {},
   "outputs": [],
   "source": []
  },
  {
   "cell_type": "code",
   "execution_count": 68,
   "metadata": {
    "scrolled": true
   },
   "outputs": [
    {
     "data": {
      "image/png": "[encoded data removed]",
      "text/plain": [
       "<Figure size 432x288 with 1 Axes>"
      ]
     },
     "metadata": {
      "needs_background": "light"
     },
     "output_type": "display_data"
    }
   ],
   "source": [
    "my_simulator.show_training_stats()"
   ]
  },
  {
   "cell_type": "markdown",
   "metadata": {},
   "source": [
    "### Temporary Area for Simulator Code"
   ]
  },
  {
   "cell_type": "markdown",
   "metadata": {},
   "source": [
    "**Todo:**\n",
    "- Saving the agent model\n",
    "- Evaluate agent"
   ]
  },
  {
   "cell_type": "code",
   "execution_count": 3,
   "metadata": {},
   "outputs": [],
   "source": [
    "#from numpy import reshape\n",
    "#from twap import agent_environment\n",
    "#from matplotlib import pyplot as plt\n",
    "#from numpy import cumsum\n",
    "import time\n",
    "\n",
    "class simulator:\n",
    "\n",
    "    def __init__(self,market_,agents, params = None):\n",
    "        \n",
    "        # Default params\n",
    "        if params is None:\n",
    "            params = params = {\"terminal\" : 1, \"num_trades\" : 50, \"position\" : 10, \"batch_size\" : 32 }\n",
    "            print(\"Initialising using default parameters\")\n",
    "\n",
    "        self.terminal = params[\"terminal\"]\n",
    "        self.num_steps = params[\"num_trades\"]\n",
    "        self.batch_size = params[\"batch_size\"]\n",
    "        self.agents = agents\n",
    "        self.n_agents = len(self.agents)\n",
    "\n",
    "        self.m = market_\n",
    "        self.env = agent_environmentM(self.m,\n",
    "                                     params[\"position\"],\n",
    "                                     params[\"num_trades\"],\n",
    "                                     params[\"terminal\"],\n",
    "                                     [0,0.001,0.005,0.01,0.02,0.05,0.1],\n",
    "                                     self.n_agents\n",
    "                                    )\n",
    "        \n",
    "        \n",
    "\n",
    "        # Stats\n",
    "        self.final_timestep = []\n",
    "        self.train_rewards = np.zeros((0,self.n_agents))\n",
    "        self.eval_rewards = np.zeros((0,self.n_agents))\n",
    "        \n",
    "        \n",
    "\n",
    "    def __moving_average(self,a, n=300):\n",
    "        ret = np.cumsum(a, dtype=float)\n",
    "        ret[n:] = ret[n:] - ret[:-n]\n",
    "        return ret[n - 1:] / n\n",
    "\n",
    "\n",
    "\n",
    "    def train(self,n_episodes = 10000, epsilon = None, epsilon_decay = None,show_details = True, evaluate = False):\n",
    "\t\t# TODO: different training parameters\n",
    "        \n",
    "        # Number of agents to be trained\n",
    "        \n",
    "        ### Live Plots ###\n",
    "        fig = plt.figure()\n",
    "        ax = fig.add_subplot(111)\n",
    "        plt.ion()\n",
    "\n",
    "        fig.show()\n",
    "        fig.canvas.draw()\n",
    "        ### Live Plots ###\n",
    "        \n",
    "        # Default training parameters if not provided\n",
    "        if epsilon is None:\n",
    "            epsilon = [1] * self.n_agents\n",
    "            \n",
    "        if epsilon_decay is None:\n",
    "            epsilon_decay = [0.998] * self.n_agents\n",
    "        \n",
    "        if evaluate:\n",
    "            train = [False] * self.n_agents\n",
    "        else:\n",
    "            train = [True] * self.n_agents\n",
    "            \n",
    "        # TEMPORARY? #\n",
    "        self.code_time_i = np.zeros((0,2))\n",
    "        self.code_time_o = np.zeros((0,3))\n",
    "        # TEMPORARY? #\n",
    "\n",
    "        # Evaluatory Stats\n",
    "        current_training_step = len(self.train_rewards) #\n",
    "        \n",
    "        n_correct = 0#\n",
    "        total_reward = np.zeros(self.n_agents)#\n",
    "        \n",
    "        pcnt_opt = []#\n",
    "        \n",
    "        \n",
    "\n",
    "\t\t\n",
    "\n",
    "\t\t# Set up the agents:\n",
    "        for i ,agent in enumerate(self.agents):\n",
    "            agent.epsilon = epsilon[i]\n",
    "            agent.epsilon_decay = epsilon_decay[i]\n",
    "            \n",
    "        # Setup action list\n",
    "        actions = [-1] * self.n_agents\n",
    "        \n",
    "        timer_o = []\n",
    "        \n",
    "        for e in range(n_episodes): # iterate over new episodes of the game\n",
    "            \n",
    "            #Time code\n",
    "            timer = []\n",
    "            timer_o = []\n",
    "            start_time_o = time.time()\n",
    "            \n",
    "            states = self.env.reset() # reset state at start of each new episode of the game\n",
    "            states = np.reshape(states, [self.n_agents,1, self.env.state_size])\n",
    "            \n",
    "            correct_action = 0.0\n",
    "            \n",
    "            done = np.zeros(self.n_agents) # Has the episode finished\n",
    "            inactive = np.zeros(self.n_agents) # Agents which are still trading\n",
    "            \n",
    "            total_reward.fill(0)\n",
    "            \n",
    "            time_now = time.time()\n",
    "            timer_o.append(time_now - start_time_o)\n",
    "            start_time_o = time.time()\n",
    "            \n",
    "            \n",
    "            for t in range(self.num_steps):\n",
    "                timer = []\n",
    "                start_time = time.time()\n",
    "                # Get actions for each agent\n",
    "                for i, agent in enumerate(self.agents):\n",
    "                    # Agents action only updated if still active\n",
    "                    if not inactive[i]:\n",
    "                        actions[i] = agent.act(states[i])\n",
    "                \n",
    "                next_states, rewards, done = self.env.step(actions)\n",
    "                \n",
    "                time_now = time.time()\n",
    "                timer.append(time_now - start_time)\n",
    "                start_time = time_now\n",
    "                \n",
    "                rewards = (1 - done) * rewards\n",
    "                \n",
    "                next_states = np.reshape(next_states, [self.n_agents,1, self.env.state_size])\n",
    "                total_reward += rewards\n",
    "                #print(total_reward)\n",
    "                for i, agent in enumerate(self.agents):\n",
    "                    if not inactive[i] and train[i]:\n",
    "                        agent.remember(states[i], actions[i], rewards[i], next_states[i], done[i])\n",
    "                \n",
    "                time_now = time.time()\n",
    "                timer.append(time_now - start_time)\n",
    "                #if e % 100 == 0:\n",
    "                    #print(\"time\", t, \"Actions \", actions[0], \"Rewards \", rewards[0], states[0],next_states[0])\n",
    "\n",
    "                states = next_states\n",
    "                \n",
    "                if actions[0] == 4:\n",
    "                    correct_action += 1\n",
    "                    \n",
    "                    \n",
    "                if all(done): \n",
    "                    percent_optimal = correct_action / self.num_steps\n",
    "                    pcnt_opt.append(percent_optimal)\n",
    "                    break # exit loop\n",
    "                    \n",
    "                inactive = inactive + done\n",
    "                \n",
    "                self.code_time_i = np.vstack((self.code_time_i,timer))   \n",
    "\n",
    "            if not all(done):\n",
    "                print(\"We have a problem.\")\n",
    "                \n",
    "            \n",
    "            time_now = time.time()\n",
    "            timer_o.append(time_now - start_time_o)\n",
    "            start_time_o = time.time()\n",
    "            \n",
    "            if evaluate:\n",
    "                self.eval_rewards = np.vstack((self.eval_rewards,total_reward))\n",
    "            else:\n",
    "                self.train_rewards = np.vstack((self.train_rewards,total_reward))\n",
    "            \n",
    "            for i, agent in enumerate(self.agents):\n",
    "                if len(agent.memory) > self.batch_size and train[i]:\n",
    "                    agent.replay(self.batch_size) # train the agent by replaying the experiences of the episode\n",
    "\n",
    "            time_now = time.time()\n",
    "            timer_o.append(time_now - start_time_o)\n",
    "            self.code_time_o = np.vstack((self.code_time_o,timer_o)) \n",
    "            if e % 100 == 0:\n",
    "                #self.total_training_steps += 100\n",
    "                if show_details and not evaluate:\n",
    "                    ax.clear()\n",
    "                    for i in range(self.train_rewards.shape[1]):\n",
    "                        ax.plot(self.__moving_average(self.train_rewards[current_training_step:,i],n=500), label  = self.agents[i].agent_name)\n",
    "                    plt.pause(0.0001)\n",
    "                    plt.draw()\n",
    "        if not evaluate:\n",
    "            self.show_stats(trained_from = current_training_step)\t\t\n",
    "        \n",
    "    def evaluate(self,n_episodes = 500):\n",
    "        start_iteration = len(self.eval_rewards)\n",
    "        epsilon = [0] * self.n_agents\n",
    "        self.train(n_episodes = n_episodes, epsilon = epsilon, show_details = False,evaluate = True)\n",
    "        self.show_stats(trained_from = start_iteration,training = False)\n",
    "\n",
    "    def show_stats(self,trained_from = 0,trained_to = None,moving_average = 400,training = True):\n",
    "        \n",
    "        if training:\n",
    "            if trained_to is None:\n",
    "                trained_to = len(self.train_rewards)\n",
    "            for i in range(self.train_rewards.shape[1]):\n",
    "                plt.plot(self.__moving_average(self.train_rewards[trained_from:trained_to,i],n=moving_average), label  = self.agents[i].agent_name)\n",
    "        else:\n",
    "            if trained_to is None:\n",
    "                trained_to = len(self.eval_rewards)\n",
    "            for i in range(self.eval_rewards.shape[1]):\n",
    "                plt.plot(self.__moving_average(self.eval_rewards[trained_from:trained_to,i],n=moving_average), label  = self.agents[i].agent_name)\n",
    "        plt.legend()\n",
    "        \n",
    "        \n",
    "    #def test_convergence(self,)\n",
    "\n",
    "    def execute(self,agent):\n",
    "        # Currently just one strat\n",
    "        position = []\n",
    "        cash = []\n",
    "        states = self.env.reset() # reset state at start of each new episode of the game\n",
    "        states = np.reshape(states, [len(training_agents),1, self.env.state_size])\n",
    "            \n",
    "        for t in range(self.num_steps):\n",
    "\n",
    "            action = agent.act(states)\n",
    "            next_state, reward, done = self.env.step(action)\n",
    "            next_states = np.reshape(next_states, [len(training_agents),1, self.env.state_size])\n",
    "            total_reward += rewards\n",
    "            #print(total_reward)\n",
    "            for i, agent in enumerate(training_agents):\n",
    "                # Note this happens when its been done for more than one step\n",
    "                training_agents[agent].remember(states[i], actions[i], rewards[i], next_states[i], done[i])\n",
    "            states = next_states\n",
    "\n",
    "            if all(done): \n",
    "                break \n",
    "        \n",
    "        "
   ]
  },
  {
   "cell_type": "code",
   "execution_count": 6,
   "metadata": {},
   "outputs": [
    {
     "ename": "TypeError",
     "evalue": "__init__() takes 6 positional arguments but 7 were given",
     "output_type": "error",
     "traceback": [
      "\u001b[0;31m---------------------------------------------------------------------------\u001b[0m",
      "\u001b[0;31mTypeError\u001b[0m                                 Traceback (most recent call last)",
      "\u001b[0;32m<ipython-input-6-82718a3ca1e3>\u001b[0m in \u001b[0;36m<module>\u001b[0;34m\u001b[0m\n\u001b[1;32m     38\u001b[0m \u001b[0msimple_stock\u001b[0m \u001b[0;34m=\u001b[0m \u001b[0mbs_stock\u001b[0m\u001b[0;34m(\u001b[0m\u001b[0;36m1\u001b[0m\u001b[0;34m,\u001b[0m\u001b[0;36m0\u001b[0m\u001b[0;34m,\u001b[0m\u001b[0;36m0.1\u001b[0m\u001b[0;34m)\u001b[0m \u001b[0;31m# No drift, 0.5 vol\u001b[0m\u001b[0;34m\u001b[0m\u001b[0;34m\u001b[0m\u001b[0m\n\u001b[1;32m     39\u001b[0m \u001b[0msimple_market\u001b[0m \u001b[0;34m=\u001b[0m \u001b[0mmarket\u001b[0m\u001b[0;34m(\u001b[0m\u001b[0msimple_stock\u001b[0m\u001b[0;34m,\u001b[0m\u001b[0;36m3\u001b[0m\u001b[0;34m)\u001b[0m\u001b[0;34m\u001b[0m\u001b[0;34m\u001b[0m\u001b[0m\n\u001b[0;32m---> 40\u001b[0;31m \u001b[0menv\u001b[0m \u001b[0;34m=\u001b[0m \u001b[0magent_environment\u001b[0m\u001b[0;34m(\u001b[0m\u001b[0msimple_market\u001b[0m\u001b[0;34m,\u001b[0m\u001b[0;36m10\u001b[0m\u001b[0;34m,\u001b[0m\u001b[0;36m50\u001b[0m\u001b[0;34m,\u001b[0m\u001b[0;36m1\u001b[0m\u001b[0;34m,\u001b[0m\u001b[0;34m[\u001b[0m\u001b[0;36m0\u001b[0m\u001b[0;34m,\u001b[0m\u001b[0;36m0.001\u001b[0m\u001b[0;34m,\u001b[0m\u001b[0;36m0.005\u001b[0m\u001b[0;34m,\u001b[0m\u001b[0;36m0.01\u001b[0m\u001b[0;34m,\u001b[0m\u001b[0;36m0.02\u001b[0m\u001b[0;34m,\u001b[0m\u001b[0;36m0.05\u001b[0m\u001b[0;34m,\u001b[0m\u001b[0;36m0.1\u001b[0m\u001b[0;34m]\u001b[0m\u001b[0;34m,\u001b[0m\u001b[0;36m3\u001b[0m\u001b[0;34m)\u001b[0m\u001b[0;34m\u001b[0m\u001b[0;34m\u001b[0m\u001b[0m\n\u001b[0m\u001b[1;32m     41\u001b[0m \u001b[0mprint\u001b[0m\u001b[0;34m(\u001b[0m\u001b[0menv\u001b[0m\u001b[0;34m.\u001b[0m\u001b[0mreset\u001b[0m\u001b[0;34m(\u001b[0m\u001b[0;34m)\u001b[0m\u001b[0;34m)\u001b[0m\u001b[0;34m\u001b[0m\u001b[0;34m\u001b[0m\u001b[0m\n\u001b[1;32m     42\u001b[0m \u001b[0mstates\u001b[0m\u001b[0;34m,\u001b[0m \u001b[0mrewards\u001b[0m\u001b[0;34m,\u001b[0m \u001b[0mdone\u001b[0m \u001b[0;34m=\u001b[0m \u001b[0menv\u001b[0m\u001b[0;34m.\u001b[0m\u001b[0mstep\u001b[0m\u001b[0;34m(\u001b[0m\u001b[0;34m[\u001b[0m\u001b[0;36m1\u001b[0m\u001b[0;34m,\u001b[0m\u001b[0;36m1\u001b[0m\u001b[0;34m,\u001b[0m\u001b[0;36m1\u001b[0m\u001b[0;34m]\u001b[0m\u001b[0;34m)\u001b[0m\u001b[0;34m\u001b[0m\u001b[0;34m\u001b[0m\u001b[0m\n",
      "\u001b[0;31mTypeError\u001b[0m: __init__() takes 6 positional arguments but 7 were given"
     ]
    }
   ],
   "source": [
    "import numpy as np\n",
    "'''\n",
    "action_values = np.array([1,2,3,4,5,6,7,8])\n",
    "actions = np.ones(3,dtype = int)\n",
    "print(actions)\n",
    "print(action_values[list(actions)])\n",
    "\n",
    "volumes = np.array([1,2,1,4,5,6],dtype = float)\n",
    "position = np.array([5,5,5,5,4,5],dtype = float)\n",
    "\n",
    "position -= np.minimum(volumes,position)\n",
    "time = 0.647\n",
    "\n",
    "\n",
    "times = np.ones(len(position)) * time\n",
    "\n",
    "\n",
    "print(position,times)\n",
    "state = np.vstack((position,times))\n",
    "\n",
    "\n",
    "\n",
    "print(state.T)\n",
    "done = np.zeros(6)\n",
    "print(done.T)\n",
    "done.shape = (6,1)\n",
    "print(done)\n",
    "\n",
    "state = np.array(state,dtype = 'object')\n",
    "done = np.array(done,dtype = 'object')\n",
    "\n",
    "\n",
    "print(state.T,done)\n",
    "\n",
    "'''\n",
    "\n",
    "\n",
    "simple_stock = bs_stock(1,0,0.1) # No drift, 0.5 vol\n",
    "simple_market = market(simple_stock,3)\n",
    "env = agent_environment(simple_market,10,50,1,[0,0.001,0.005,0.01,0.02,0.05,0.1],3)\n",
    "print(env.reset())\n",
    "states, rewards, done = env.step([1,1,1])\n",
    "\n",
    "states = np.reshape(states, [3,1, 2])\n",
    "print(states)\n"
   ]
  },
  {
   "cell_type": "code",
   "execution_count": 7,
   "metadata": {},
   "outputs": [],
   "source": [
    "from random import gauss\n",
    "from numpy import exp\n",
    "from numpy import ones\n",
    "from numpy import vectorize\n",
    "\n",
    "class stock:\n",
    "\t\n",
    "\tdef __init__(self, initial, drift, vol):\n",
    "\t\tself.initial = initial\n",
    "\n",
    "\n",
    "\n",
    "\n",
    "class bs_stock:\n",
    "\n",
    "\tdef __init__(self, initial, drift, vol):\n",
    "\t\tself.initial = initial\n",
    "\t\tself.price = initial\n",
    "\t\tself.drift = drift\n",
    "\t\tself.vol = vol\n",
    "\n",
    "\tdef generate_price(self,dt,St = None):\n",
    "\t\tif St is None:\n",
    "\t\t\tSt = self.price\n",
    "\n",
    "\t\tself.price = St * exp((self.drift - 0.5 * self.vol) * dt + self.vol * dt**0.5 * gauss(0,1))\n",
    "\t\treturn self.price\n",
    "\n",
    "\tdef generate_path(self,T,grid_size):\n",
    "\t\tres = []\n",
    "\t\tself.reset()\n",
    "\t\tnext_price = self.price\n",
    "\t\tres.append(next_price)\n",
    "\t\tdt = T / grid_size\n",
    "\n",
    "\t\tfor i in range(grid_size):\n",
    "\t\t\tnext_price = generate_price(dt)\n",
    "\t\t\tres.append(next_price)\n",
    "\n",
    "\tdef reset(self):\n",
    "\t\tself.price = self.initial\n",
    "\n",
    "\tdef __str__(self):\n",
    "\t\tprint(f\"Stock Price: {self.price} \\n \\\n",
    "\t\t Black Scholes Dynamics, drift: {self.drift}, vol: {self.vol}\")\n",
    "\n",
    "\n",
    "class marketM:\n",
    "\t'''Basic market model, base class for more complex models'''\n",
    "\n",
    "\tdef __init__(self,stock_,num_strats = 1):\n",
    "\t\tself.stock = stock_\n",
    "\t\tself.spread = 0\n",
    "\t\tself.price_adjust = ones(num_strats)\n",
    "\n",
    "\n",
    "\tdef sell(self,volume,dt):\n",
    "\t\t'''sell *volume* of stock over time window dt, volume is np array'''\n",
    "\t\tself.price_adjust *= vectorize(self.exp_g)(volume)\n",
    "\t\t#print(\"volume \", volume, \"price_adjust \",self.price_adjust)        \n",
    "\t\tret = (self.stock.price * self.price_adjust - vectorize(self.f)(volume/dt) - 0.5 * self.spread) * volume \n",
    "\t\treturn ret\n",
    "\n",
    "\n",
    "\tdef g(self,v):\n",
    "\t\treturn v * 0.001\n",
    "    \n",
    "\tdef exp_g(self,v):\n",
    "\t\treturn exp(-self.g(v))\n",
    "\n",
    "\tdef f(self,v):\n",
    "\t\treturn v * 0.001\n",
    "\n",
    "\tdef reset(self):\n",
    "\t\tself.stock.reset()\n",
    "\t\tself.price_adjust = ones(len(self.price_adjust))\n",
    "\n",
    "\tdef progress(self,dt):\n",
    "\t\tself.stock.generate_price(dt)\n",
    "\n",
    "\tdef state(self):\n",
    "\t\treturn (self.stock.price)"
   ]
  },
  {
   "cell_type": "code",
   "execution_count": 8,
   "metadata": {},
   "outputs": [],
   "source": [
    "from numpy import exp\n",
    "    \n",
    "class agent_environmentM:\n",
    "\n",
    "    def __init__(self, market, position,num_steps,terminal,action_values_pct,n_strats):\n",
    "        self.m = market\n",
    "        self.initial = np.ones(n_strats) * position\n",
    "        self.n_strats = n_strats\n",
    "        self.reset()\n",
    "        self.terminal = terminal\n",
    "        self.step_size = terminal / num_steps\n",
    "        # Possible amounts to sell: 0 - 10% of the total position\n",
    "        self.action_values = np.array(action_values_pct) * position \n",
    "        self.num_actions = len(self.action_values)\n",
    "        self.state_size = 2\n",
    "\n",
    "\n",
    "    def sell(self,volumes):\n",
    "        capped_volume = np.minimum(volumes,self.position)\n",
    "        self.position -= capped_volume\n",
    "        returns = self.m.sell(capped_volume,self.step_size) \n",
    "        self.cash += returns\n",
    "        return returns\n",
    "\n",
    "    def reset(self):\n",
    "        self.position = self.initial.copy()\n",
    "        self.cash = np.zeros(self.n_strats)\n",
    "        self.time = 0\n",
    "        self.m.reset()\n",
    "        return self.state() # State not dynamic (full = False)\n",
    "\n",
    "    def progress(self,dt):\n",
    "        self.m.progress(dt)\n",
    "        self.time += dt\n",
    "\n",
    "    def state(self,full = False):\n",
    "\n",
    "        times = np.ones(self.n_strats) * self.time\n",
    "        # TODO: Store state as a seprate variable\n",
    "        states = np.vstack((self.position,times))\n",
    "        \n",
    "        return np.vstack((self.position,times)).T\n",
    "    \n",
    "    def step(self,actions):\n",
    "        self.progress(self.step_size)\n",
    "        \n",
    "        rewards = self.sell(self.action_values[actions])\n",
    "        done = (self.position == 0) + (self.time >= self.terminal)\n",
    "        done = np.array(done,dtype = bool)\n",
    "            \n",
    "\t\t# Reward is currently just the returned cash / 100...\n",
    "\t\t# Not sure what the last value of the tuple should be??\n",
    "        \n",
    "        # Ufortunately this is no longer the format of the AI gym env\n",
    "        # Ideally this would be flexible depending on the input (array vs scalar)\n",
    "        return self.state(), rewards, done"
   ]
  },
  {
   "cell_type": "markdown",
   "metadata": {},
   "source": [
    "### Testing Area"
   ]
  },
  {
   "cell_type": "code",
   "execution_count": 8,
   "metadata": {},
   "outputs": [],
   "source": [
    "batch_size = 32\n",
    "output_dir = 'model_output/trading/'\n",
    "if not os.path.exists(output_dir):\n",
    "    os.makedirs(output_dir)"
   ]
  },
  {
   "cell_type": "code",
   "execution_count": 9,
   "metadata": {},
   "outputs": [],
   "source": [
    "number_time_steps = 50"
   ]
  },
  {
   "cell_type": "code",
   "execution_count": 11,
   "metadata": {},
   "outputs": [
    {
     "name": "stdout",
     "output_type": "stream",
     "text": [
      "2 7\n"
     ]
    }
   ],
   "source": [
    "my_stock = bs_stock(1,0,0.1) # No drift, 0.5 vol\n",
    "mkt = market(my_stock)\n",
    "env = agent_environment(mkt,10,number_time_steps,1)\n",
    "twap_mkt = market(my_stock)\n",
    "twap_env = agent_environment(twap_mkt,10,number_time_steps,1)\n",
    "action_size = env.num_actions\n",
    "n_episodes = 12000\n",
    "state_size = 2\n",
    "print(state_size,action_size)\n",
    "fred = DQNAgent(state_size, action_size,\"Jack\") # initialise agent"
   ]
  },
  {
   "cell_type": "markdown",
   "metadata": {},
   "source": [
    "Get TWAP stats"
   ]
  },
  {
   "cell_type": "code",
   "execution_count": 67,
   "metadata": {},
   "outputs": [
    {
     "ename": "NameError",
     "evalue": "name 'n_episodes' is not defined",
     "output_type": "error",
     "traceback": [
      "\u001b[0;31m---------------------------------------------------------------------------\u001b[0m",
      "\u001b[0;31mNameError\u001b[0m                                 Traceback (most recent call last)",
      "\u001b[0;32m<ipython-input-67-a0534f52de5e>\u001b[0m in \u001b[0;36m<module>\u001b[0;34m\u001b[0m\n\u001b[1;32m      5\u001b[0m \u001b[0;34m\u001b[0m\u001b[0m\n\u001b[1;32m      6\u001b[0m \u001b[0mdone\u001b[0m \u001b[0;34m=\u001b[0m \u001b[0;32mFalse\u001b[0m\u001b[0;34m\u001b[0m\u001b[0;34m\u001b[0m\u001b[0m\n\u001b[0;32m----> 7\u001b[0;31m \u001b[0;32mfor\u001b[0m \u001b[0me\u001b[0m \u001b[0;32min\u001b[0m \u001b[0mrange\u001b[0m\u001b[0;34m(\u001b[0m\u001b[0mn_episodes\u001b[0m\u001b[0;34m)\u001b[0m\u001b[0;34m:\u001b[0m \u001b[0;31m# iterate over new episodes of the game\u001b[0m\u001b[0;34m\u001b[0m\u001b[0;34m\u001b[0m\u001b[0m\n\u001b[0m\u001b[1;32m      8\u001b[0m     \u001b[0mstate\u001b[0m \u001b[0;34m=\u001b[0m \u001b[0mtwap_env\u001b[0m\u001b[0;34m.\u001b[0m\u001b[0mreset\u001b[0m\u001b[0;34m(\u001b[0m\u001b[0;34m)\u001b[0m \u001b[0;31m# reset state at start of each new episode of the game\u001b[0m\u001b[0;34m\u001b[0m\u001b[0;34m\u001b[0m\u001b[0m\n\u001b[1;32m      9\u001b[0m     \u001b[0mstate\u001b[0m \u001b[0;34m=\u001b[0m \u001b[0mnp\u001b[0m\u001b[0;34m.\u001b[0m\u001b[0mreshape\u001b[0m\u001b[0;34m(\u001b[0m\u001b[0mstate\u001b[0m\u001b[0;34m,\u001b[0m \u001b[0;34m[\u001b[0m\u001b[0;36m1\u001b[0m\u001b[0;34m,\u001b[0m \u001b[0mstate_size\u001b[0m\u001b[0;34m]\u001b[0m\u001b[0;34m)\u001b[0m\u001b[0;34m\u001b[0m\u001b[0;34m\u001b[0m\u001b[0m\n",
      "\u001b[0;31mNameError\u001b[0m: name 'n_episodes' is not defined"
     ]
    }
   ],
   "source": [
    "all_rewards =[]\n",
    "optimal_action = 4\n",
    "\n",
    "\n",
    "\n",
    "done = False\n",
    "for e in range(n_episodes): # iterate over new episodes of the game\n",
    "    state = twap_env.reset() # reset state at start of each new episode of the game\n",
    "    state = np.reshape(state, [1, state_size])\n",
    "    \n",
    "    correct_action = 0\n",
    "    total_reward = 0.0\n",
    "    \n",
    "    for time in range(number_time_steps):  \n",
    "        action = 4\n",
    "        # agent interacts with env, gets feedback; 4 state data points, e.g., pole angle, cart position:\n",
    "        next_state, reward, done, _ = twap_env.step(action)\n",
    "        reward = reward if not done else 0 # reward +1 for each additional frame with pole upright        \n",
    "        total_reward += reward\n",
    "        \n",
    "        # Evaluation\n",
    "        if action == optimal_action:\n",
    "            correct_action += 1\n",
    "        if done: \n",
    "            percent_optimal = correct_action / number_time_steps\n",
    "            all_rewards.append(total_reward)\n",
    "            #print(\"episode: {}/{}, score: {}, e: {:.2}, reward: {:.2}\" # print the episode's score and agent's epsilon\n",
    "                  #.format(e, n_episodes, percent_optimal, 0.0, total_reward))\n",
    "            break # exit loop\n",
    "print(\"Average reward: \", np.mean(all_rewards))\n",
    "twap_stat = np.mean(all_rewards)"
   ]
  },
  {
   "cell_type": "code",
   "execution_count": 334,
   "metadata": {},
   "outputs": [
    {
     "name": "stdout",
     "output_type": "stream",
     "text": [
      "[[9.99 0.  ]\n",
      " [9.99 0.  ]\n",
      " [9.99 0.  ]]\n"
     ]
    }
   ],
   "source": [
    "print(env.reset())\n",
    "agent = fred\n",
    "e = 1\n"
   ]
  },
  {
   "cell_type": "markdown",
   "metadata": {},
   "source": [
    "# ONE DIM TEST"
   ]
  },
  {
   "cell_type": "code",
   "execution_count": 1,
   "metadata": {},
   "outputs": [
    {
     "name": "stderr",
     "output_type": "stream",
     "text": [
      "Using TensorFlow backend.\n",
      "Using TensorFlow backend.\n"
     ]
    }
   ],
   "source": [
    "import random\n",
    "#import gym\n",
    "import numpy as np\n",
    "from collections import deque\n",
    "from keras.models import Sequential\n",
    "from keras.layers import Dense\n",
    "from keras.optimizers import Adam\n",
    "import os # for creating directories\n",
    "from matplotlib import pyplot as plt"
   ]
  },
  {
   "cell_type": "code",
   "execution_count": 10,
   "metadata": {},
   "outputs": [],
   "source": [
    "class DQNAgent:\n",
    "    def __init__(self, state_size, action_size, agent_name):\n",
    "        self.agent_name = agent_name\n",
    "        self.state_size = state_size\n",
    "        self.action_size = action_size\n",
    "        # double-ended queue; acts like list, but elements can be added/removed from either end:\n",
    "        self.memory = deque(maxlen=2000)\n",
    "        # decay or discount rate: enables agent to take into account future actions in addition\n",
    "        # to the immediate ones, but discounted at this rate:\n",
    "        self.gamma = 1 # Was 0.95\n",
    "        # exploration rate: how much to act randomly; more initially than later due to epsilon\n",
    "        # decay:\n",
    "        self.epsilon = 1.0\n",
    "        # decrease number of random explorations as the agent's performance (hopefully)\n",
    "        # improves over time:\n",
    "        self.epsilon_decay = 0.998 \n",
    "        # minimum amount of random exploration permitted:\n",
    "        self.epsilon_min = 0.01\n",
    "        # rate at which NN adjusts models parameters via SGD to reduce cost:\n",
    "        self.learning_rate = 0.001\n",
    "        self.model = self._build_model() # private method \n",
    "    \n",
    "    def _build_model(self):\n",
    "        # neural net to approximate Q-value function:\n",
    "        model = Sequential()\n",
    "        model.add(Dense(5, input_dim=self.state_size, activation='relu')) # 1st hidden layer; states as input\n",
    "        model.add(Dense(5, activation='relu')) # 2nd hidden layer\n",
    "        model.add(Dense(self.action_size, activation='linear')) # 2 actions, so 2 output neurons: 0 and 1 (L/R)\n",
    "        model.compile(loss='mse',\n",
    "                      optimizer=Adam(lr=self.learning_rate))\n",
    "        return model\n",
    "    \n",
    "    def remember(self, state, action, reward, next_state, done):\n",
    "        # list of previous experiences, enabling re-training later\n",
    "        #print(\"State \", state, \"Action \", action, \"Reward \", reward, \"next state \", next_state, \"done\", done)\n",
    "        self.memory.append((state, action, reward, next_state, done))\n",
    "\n",
    "    def act(self, state):\n",
    "        # if acting randomly, take random action:\n",
    "        if np.random.rand() <= self.epsilon:\n",
    "            return random.randrange(self.action_size)\n",
    "        # if not acting randomly, predict reward value based on current state:\n",
    "        act_values = self.model.predict(state)\n",
    "        # pick the action that will give the highest reward (i.e., go left or right?)\n",
    "        return np.argmax(act_values[0])\n",
    "\n",
    "    # method that trains NN with experiences sampled from memory:\n",
    "    def replay(self, batch_size):\n",
    "        # sample a minibatch from memory\n",
    "        minibatch = random.sample(self.memory, batch_size)\n",
    "        # extract data for each minibatch sample:\n",
    "        for state, action, reward, next_state, done in minibatch:\n",
    "            # if done (boolean whether game ended or not, i.e., whether final state or not), then target = reward:\n",
    "            target = reward\n",
    "\n",
    "            # if not done, then predict future discounted reward\n",
    "            if not done:\n",
    "                target = (reward + self.gamma * # (target) = reward + (discount rate gamma) * \n",
    "                          np.amax(self.model.predict(next_state)[0])) # (maximum target Q based on future action a')\n",
    "            target_f = self.model.predict(state) # approximately map current state to future discounted reward\n",
    "            #print(\"state\", state, \"reward: \", reward, \"done \", done, \"predict \", self.model.predict(next_state)[0])\n",
    "            target_f[0][action] = target\n",
    "            # Change the action taken to the reward + predicted max of next states\n",
    "            # single epoch of training with x=state, y=target_f; fit decreases loss btwn target_f and y_hat:\n",
    "            self.model.fit(state, target_f, epochs=1, verbose=0)\n",
    "        if self.epsilon > self.epsilon_min:\n",
    "            self.epsilon *= self.epsilon_decay\n",
    "\n",
    "    def load(self, file_name):\n",
    "        self.model.load_weights(file_name)\n",
    "\n",
    "    def save(self, file_name):\n",
    "        self.model.save_weights(file_name)"
   ]
  },
  {
   "cell_type": "code",
   "execution_count": 58,
   "metadata": {},
   "outputs": [],
   "source": [
    "\n",
    "params = {\n",
    "    \"terminal\" : 1,\n",
    "    \"num_trades\" : 50,\n",
    "    \"position\" : 10,\n",
    "    \"batch_size\" : 32\n",
    "}\n",
    "number_time_steps = 50\n",
    "state_size = 2\n",
    "from market_models import market\n",
    "from twap import agent_environment\n",
    "from market_models import bs_stock\n",
    "from twap import agent_environment\n",
    "\n",
    "simple_stock = bs_stock(1,0,0.1) # No drift, 0.5 vol\n",
    "simple_market = market(simple_stock,num_strats = 1)\n",
    "\n",
    "state_size = 2\n",
    "action_size = 7 # This is NOT dynamic (and probably should be)\n",
    "\n",
    "#fred = DQNAgent(state_size, action_size,\"Fred\") # initialise agent\n",
    "\n",
    "env = agent_environment(simple_market,\n",
    "                                     params[\"position\"],\n",
    "                                     params[\"num_trades\"],\n",
    "                                     params[\"terminal\"],\n",
    "                                     [0,0.001,0.005,0.01,0.02,0.05,0.1]\n",
    "                                    )\n",
    "agent = alice2"
   ]
  },
  {
   "cell_type": "code",
   "execution_count": 60,
   "metadata": {},
   "outputs": [
    {
     "name": "stdout",
     "output_type": "stream",
     "text": [
      "10\n",
      "2\n",
      "10 [0, 0.01, 0.05, 0.1, 0.2, 0.5, 1.0]\n",
      "State  [[9.   0.02]] Action  6 Reward  [0.94177681] Stock  0.9927690821008861\n",
      "State  [[8.99 0.04]] Action  1 Reward  [0.0098443] Stock  0.9859255280437625\n",
      "State  [[8.79 0.06]] Action  4 Reward  [0.18774377] Stock  0.9498674718483238\n",
      "State  [[8.59 0.08]] Action  4 Reward  [0.18529801] Stock  0.9378114556775721\n",
      "State  [[8.39 0.1 ]] Action  4 Reward  [0.18166391] Stock  0.91979925500815\n",
      "State  [[8.19 0.12]] Action  4 Reward  [0.18094335] Stock  0.9163738793134334\n",
      "State  [[7.99 0.14]] Action  4 Reward  [0.17793669] Stock  0.9014936296887037\n",
      "State  [[7.89 0.16]] Action  3 Reward  [0.08954958] Stock  0.9023978584743934\n",
      "State  [[7.69 0.18]] Action  4 Reward  [0.18322727] Stock  0.9282781961274605\n",
      "State  [[7.49 0.2 ]] Action  4 Reward  [0.18035429] Stock  0.9140628567600129\n",
      "State  [[7.48 0.22]] Action  1 Reward  [0.00903821] Stock  0.9066030039708823\n",
      "State  [[7.28 0.24]] Action  4 Reward  [0.17855983] Stock  0.9052580835064212\n",
      "State  [[7.08 0.26]] Action  4 Reward  [0.17871923] Stock  0.9062385076548723\n",
      "State  [[7.03 0.28]] Action  2 Reward  [0.04384499] Stock  0.8820154490236081\n",
      "State  [[6.83 0.3 ]] Action  4 Reward  [0.17489055] Stock  0.8872609251446688\n",
      "State  [[6.63 0.32]] Action  4 Reward  [0.17801681] Stock  0.9031224266287174\n",
      "State  [[5.63 0.34]] Action  6 Reward  [0.8739471] Stock  0.927993587014871\n",
      "State  [[5.13 0.36]] Action  5 Reward  [0.44045497] Stock  0.9103324800955671\n",
      "State  [[4.13 0.38]] Action  6 Reward  [0.85317138] Stock  0.9084885867833719\n",
      "State  [[3.63 0.4 ]] Action  5 Reward  [0.44470852] Stock  0.9202604738801952\n",
      "State  [[3.13 0.42]] Action  5 Reward  [0.44839103] Stock  0.9281365148666567\n",
      "State  [[3.08 0.44]] Action  2 Reward  [0.04624887] Stock  0.9339177721682722\n",
      "State  [[2.58 0.46]] Action  5 Reward  [0.45695294] Stock  0.945898466886887\n",
      "State  [[2.08 0.48]] Action  5 Reward  [0.44565638] Stock  0.9235987716510692\n",
      "State  [[1.58 0.5 ]] Action  5 Reward  [0.44586752] Stock  0.9244865325373698\n",
      "State  [[1.08 0.52]] Action  5 Reward  [0.43572474] Stock  0.9044815765086447\n",
      "State  [[0.58 0.54]] Action  5 Reward  [0.43692297] Stock  0.9073530674511235\n",
      "State  [[0.08 0.56]] Action  5 Reward  [0.43215554] Stock  0.8981769533303491\n",
      "State  [[0.   0.58]] Action  5 Reward  0 Stock  0.883068518425511\n"
     ]
    }
   ],
   "source": [
    "state = env.reset() # reset state at start of each new episode of the game\n",
    "state = np.reshape(state, [1, state_size])\n",
    "print(env.position)\n",
    "print(state_size)\n",
    "print(env.position,env.action_values)\n",
    "    \n",
    "correct_action = 0\n",
    "optimal_action = 3\n",
    "\n",
    "for time in range(number_time_steps):  \n",
    "    action = agent.act(state)\n",
    "    # agent interacts with env, gets feedback; 4 state data points, e.g., pole angle, cart position:\n",
    "    next_state, reward, done, _ = env.step(action)\n",
    "    reward = reward if not done else 0 # reward +1 for each additional frame with pole upright        \n",
    "    next_state = np.reshape(next_state, [1, state_size]) # TRY REMOVING\n",
    "        \n",
    "    # remember the previous timestep's state, actions, reward, etc.:\n",
    "    #agent.remember(state, action, reward, next_state, done)\n",
    "    # set \"current state\" for upcoming iteration to the current next state:\n",
    "    state = next_state\n",
    "        \n",
    "    print(\"State \",state,\"Action \",action,\"Reward \", reward, \"Stock \", env.m.stock.price)\n",
    "        \n",
    "    # Evaluation\n",
    "    if action == optimal_action:\n",
    "        correct_action += 1\n",
    "    if done: \n",
    "        percent_optimal = correct_action / number_time_steps\n",
    "        #print(\"episode: {}/{}, score: {}, e: {:.2}\" # print the episode's score and agent's epsilon\n",
    "                  #.format(e, n_episodes, percent_optimal, agent.epsilon))\n",
    "        break # exit loop\n"
   ]
  },
  {
   "cell_type": "markdown",
   "metadata": {},
   "source": [
    "This needs to become a seperate evaluate class, producing stats of performance over time relative to baseline.\n",
    "\n",
    "May need to split $g(\\cdot)$ out of the stock price so seperate strats can be evaluated simaltaneously."
   ]
  },
  {
   "cell_type": "code",
   "execution_count": 30,
   "metadata": {},
   "outputs": [
    {
     "name": "stdout",
     "output_type": "stream",
     "text": [
      "episode: 0/10000, score: 0.08, e: 0.998, reward: [9.40352391]\n",
      "episode: 0/10000, score: 0.08, e: 0.998, reward: [9.40352391]\n",
      "episode: 50/10000, score: 0.12, e: 0.9029373243680279, reward: [8.81362216]\n",
      "episode: 50/10000, score: 0.12, e: 0.9029373243680279, reward: [8.81362216]\n",
      "episode: 100/10000, score: 0.08, e: 0.8169296710790511, reward: [8.70349158]\n",
      "episode: 100/10000, score: 0.08, e: 0.8169296710790511, reward: [8.70349158]\n",
      "episode: 150/10000, score: 0.06, e: 0.7391145204418551, reward: [9.35133596]\n",
      "episode: 150/10000, score: 0.06, e: 0.7391145204418551, reward: [9.35133596]\n",
      "episode: 200/10000, score: 0.08, e: 0.6687115105103473, reward: [8.36707224]\n",
      "episode: 200/10000, score: 0.08, e: 0.6687115105103473, reward: [8.36707224]\n",
      "episode: 250/10000, score: 0.02, e: 0.6050146112969089, reward: [9.31593255]\n",
      "episode: 250/10000, score: 0.02, e: 0.6050146112969089, reward: [9.31593255]\n",
      "episode: 300/10000, score: 0.1, e: 0.5473850444168268, reward: [8.65049381]\n",
      "episode: 300/10000, score: 0.1, e: 0.5473850444168268, reward: [8.65049381]\n",
      "episode: 350/10000, score: 0.0, e: 0.49524487715912174, reward: [8.50193025]\n",
      "episode: 350/10000, score: 0.0, e: 0.49524487715912174, reward: [8.50193025]\n",
      "episode: 400/10000, score: 0.36, e: 0.448071226742515, reward: [8.26172988]\n",
      "episode: 400/10000, score: 0.36, e: 0.448071226742515, reward: [8.26172988]\n",
      "episode: 450/10000, score: 0.02, e: 0.40539101663445526, reward: [9.66005052]\n",
      "episode: 450/10000, score: 0.02, e: 0.40539101663445526, reward: [9.66005052]\n",
      "episode: 500/10000, score: 0.04, e: 0.36677623234744455, reward: [9.90358916]\n",
      "episode: 500/10000, score: 0.04, e: 0.36677623234744455, reward: [9.90358916]\n",
      "episode: 550/10000, score: 0.02, e: 0.3318396291358591, reward: [8.90428573]\n",
      "episode: 550/10000, score: 0.02, e: 0.3318396291358591, reward: [8.90428573]\n",
      "episode: 600/10000, score: 0.22, e: 0.3002308485483078, reward: [9.90661113]\n",
      "episode: 600/10000, score: 0.22, e: 0.3002308485483078, reward: [9.90661113]\n",
      "episode: 650/10000, score: 0.06, e: 0.2716329048907331, reward: [2.71439547]\n",
      "episode: 650/10000, score: 0.06, e: 0.2716329048907331, reward: [2.71439547]\n",
      "episode: 700/10000, score: 0.0, e: 0.24575900636508355, reward: [9.04180919]\n",
      "episode: 700/10000, score: 0.0, e: 0.24575900636508355, reward: [9.04180919]\n",
      "episode: 750/10000, score: 0.04, e: 0.2223496790046429, reward: [8.78872314]\n",
      "episode: 750/10000, score: 0.04, e: 0.2223496790046429, reward: [8.78872314]\n",
      "episode: 800/10000, score: 0.4, e: 0.20117016456366946, reward: [10.42973634]\n",
      "episode: 800/10000, score: 0.4, e: 0.20117016456366946, reward: [10.42973634]\n",
      "episode: 850/10000, score: 0.0, e: 0.18200806626632815, reward: [9.01780397]\n",
      "episode: 850/10000, score: 0.0, e: 0.18200806626632815, reward: [9.01780397]\n",
      "episode: 900/10000, score: 0.02, e: 0.16467121880552807, reward: [8.42442746]\n",
      "episode: 900/10000, score: 0.02, e: 0.16467121880552807, reward: [8.42442746]\n",
      "episode: 950/10000, score: 0.02, e: 0.14898576123114782, reward: [9.12137029]\n",
      "episode: 950/10000, score: 0.02, e: 0.14898576123114782, reward: [9.12137029]\n",
      "episode: 1000/10000, score: 0.12, e: 0.13479439340178997, reward: [9.56291068]\n",
      "episode: 1000/10000, score: 0.12, e: 0.13479439340178997, reward: [9.56291068]\n",
      "episode: 1050/10000, score: 0.0, e: 0.12195479851505375, reward: [9.80041984]\n",
      "episode: 1050/10000, score: 0.0, e: 0.12195479851505375, reward: [9.80041984]\n",
      "episode: 1100/10000, score: 0.02, e: 0.11033821589681822, reward: [6.41732635]\n",
      "episode: 1100/10000, score: 0.02, e: 0.11033821589681822, reward: [6.41732635]\n",
      "episode: 1150/10000, score: 0.0, e: 0.09982814973688857, reward: [10.06983478]\n",
      "episode: 1150/10000, score: 0.0, e: 0.09982814973688857, reward: [10.06983478]\n",
      "episode: 1200/10000, score: 0.0, e: 0.09031920082168032, reward: [8.90492314]\n",
      "episode: 1200/10000, score: 0.0, e: 0.09031920082168032, reward: [8.90492314]\n",
      "episode: 1250/10000, score: 0.12, e: 0.08171600954808274, reward: [9.3733955]\n",
      "episode: 1250/10000, score: 0.12, e: 0.08171600954808274, reward: [9.3733955]\n",
      "episode: 1300/10000, score: 0.02, e: 0.0739322996186152, reward: [9.60535472]\n",
      "episode: 1300/10000, score: 0.02, e: 0.0739322996186152, reward: [9.60535472]\n",
      "episode: 1350/10000, score: 0.12, e: 0.06689001282766313, reward: [8.01153048]\n",
      "episode: 1350/10000, score: 0.12, e: 0.06689001282766313, reward: [8.01153048]\n",
      "episode: 1400/10000, score: 0.08, e: 0.06051852626207736, reward: [9.22456364]\n",
      "episode: 1400/10000, score: 0.08, e: 0.06051852626207736, reward: [9.22456364]\n",
      "episode: 1450/10000, score: 0.0, e: 0.054753944065908174, reward: [9.30319798]\n",
      "episode: 1450/10000, score: 0.0, e: 0.054753944065908174, reward: [9.30319798]\n",
      "episode: 1500/10000, score: 0.12, e: 0.04953845666680137, reward: [9.64913285]\n",
      "episode: 1500/10000, score: 0.12, e: 0.04953845666680137, reward: [9.64913285]\n",
      "episode: 1550/10000, score: 0.02, e: 0.044819761038119355, reward: [9.57168344]\n",
      "episode: 1550/10000, score: 0.02, e: 0.044819761038119355, reward: [9.57168344]\n",
      "episode: 1600/10000, score: 0.08, e: 0.04055053618293973, reward: [9.86876212]\n",
      "episode: 1600/10000, score: 0.08, e: 0.04055053618293973, reward: [9.86876212]\n",
      "episode: 1650/10000, score: 0.0, e: 0.03668796857987223, reward: [8.91085144]\n",
      "episode: 1650/10000, score: 0.0, e: 0.03668796857987223, reward: [8.91085144]\n",
      "episode: 1700/10000, score: 0.0, e: 0.03319332283167145, reward: [9.04348034]\n",
      "episode: 1700/10000, score: 0.0, e: 0.03319332283167145, reward: [9.04348034]\n",
      "episode: 1750/10000, score: 0.06, e: 0.030031553210935435, reward: [9.34583517]\n",
      "episode: 1750/10000, score: 0.06, e: 0.030031553210935435, reward: [9.34583517]\n",
      "episode: 1800/10000, score: 0.16, e: 0.02717095220731272, reward: [9.70430429]\n",
      "episode: 1800/10000, score: 0.16, e: 0.02717095220731272, reward: [9.70430429]\n",
      "episode: 1850/10000, score: 0.0, e: 0.02458283255170592, reward: [5.29536379]\n",
      "episode: 1850/10000, score: 0.0, e: 0.02458283255170592, reward: [5.29536379]\n",
      "episode: 1900/10000, score: 0.0, e: 0.022241239528681966, reward: [8.84499818]\n",
      "episode: 1900/10000, score: 0.0, e: 0.022241239528681966, reward: [8.84499818]\n",
      "episode: 1950/10000, score: 0.0, e: 0.020122690692040587, reward: [9.87651776]\n",
      "episode: 1950/10000, score: 0.0, e: 0.020122690692040587, reward: [9.87651776]\n",
      "episode: 2000/10000, score: 0.0, e: 0.018205940373303156, reward: [5.87516467]\n",
      "episode: 2000/10000, score: 0.0, e: 0.018205940373303156, reward: [5.87516467]\n",
      "episode: 2050/10000, score: 0.12, e: 0.016471766621517243, reward: [9.8336942]\n",
      "episode: 2050/10000, score: 0.12, e: 0.016471766621517243, reward: [9.8336942]\n",
      "episode: 2100/10000, score: 0.32, e: 0.014902778437722815, reward: [9.15663316]\n",
      "episode: 2100/10000, score: 0.32, e: 0.014902778437722815, reward: [9.15663316]\n",
      "episode: 2150/10000, score: 0.0, e: 0.01348324137094887, reward: [10.39784947]\n",
      "episode: 2150/10000, score: 0.0, e: 0.01348324137094887, reward: [10.39784947]\n",
      "episode: 2200/10000, score: 0.0, e: 0.012198919726746358, reward: [9.79952128]\n",
      "episode: 2200/10000, score: 0.0, e: 0.012198919726746358, reward: [9.79952128]\n",
      "episode: 2250/10000, score: 0.0, e: 0.01103693380586043, reward: [8.68358146]\n",
      "episode: 2250/10000, score: 0.0, e: 0.01103693380586043, reward: [8.68358146]\n",
      "episode: 2300/10000, score: 0.0, e: 0.009985630741373389, reward: [9.4030932]\n",
      "episode: 2300/10000, score: 0.0, e: 0.009985630741373389, reward: [9.4030932]\n",
      "episode: 2350/10000, score: 0.0, e: 0.009985630741373389, reward: [9.90268206]\n",
      "episode: 2350/10000, score: 0.0, e: 0.009985630741373389, reward: [9.90268206]\n",
      "episode: 2400/10000, score: 0.0, e: 0.009985630741373389, reward: [9.47624126]\n",
      "episode: 2400/10000, score: 0.0, e: 0.009985630741373389, reward: [9.47624126]\n",
      "episode: 2450/10000, score: 0.0, e: 0.009985630741373389, reward: [9.88793198]\n",
      "episode: 2450/10000, score: 0.0, e: 0.009985630741373389, reward: [9.88793198]\n",
      "episode: 2500/10000, score: 0.02, e: 0.009985630741373389, reward: [8.98584731]\n",
      "episode: 2500/10000, score: 0.02, e: 0.009985630741373389, reward: [8.98584731]\n",
      "episode: 2550/10000, score: 0.16, e: 0.009985630741373389, reward: [10.11366374]\n",
      "episode: 2550/10000, score: 0.16, e: 0.009985630741373389, reward: [10.11366374]\n",
      "episode: 2600/10000, score: 0.22, e: 0.009985630741373389, reward: [9.77347058]\n",
      "episode: 2600/10000, score: 0.22, e: 0.009985630741373389, reward: [9.77347058]\n"
     ]
    },
    {
     "name": "stdout",
     "output_type": "stream",
     "text": [
      "episode: 2650/10000, score: 0.18, e: 0.009985630741373389, reward: [9.2869665]\n",
      "episode: 2650/10000, score: 0.18, e: 0.009985630741373389, reward: [9.2869665]\n",
      "episode: 2700/10000, score: 0.0, e: 0.009985630741373389, reward: [9.49412788]\n",
      "episode: 2700/10000, score: 0.0, e: 0.009985630741373389, reward: [9.49412788]\n",
      "episode: 2750/10000, score: 0.0, e: 0.009985630741373389, reward: [9.19860784]\n",
      "episode: 2750/10000, score: 0.0, e: 0.009985630741373389, reward: [9.19860784]\n",
      "episode: 2800/10000, score: 0.06, e: 0.009985630741373389, reward: [8.68899838]\n",
      "episode: 2800/10000, score: 0.06, e: 0.009985630741373389, reward: [8.68899838]\n",
      "episode: 2850/10000, score: 0.0, e: 0.009985630741373389, reward: [9.80359259]\n",
      "episode: 2850/10000, score: 0.0, e: 0.009985630741373389, reward: [9.80359259]\n",
      "episode: 2900/10000, score: 0.0, e: 0.009985630741373389, reward: [9.07097216]\n",
      "episode: 2900/10000, score: 0.0, e: 0.009985630741373389, reward: [9.07097216]\n",
      "episode: 2950/10000, score: 0.0, e: 0.009985630741373389, reward: [0.97690516]\n",
      "episode: 2950/10000, score: 0.0, e: 0.009985630741373389, reward: [0.97690516]\n",
      "episode: 3000/10000, score: 0.32, e: 0.009985630741373389, reward: [9.94572466]\n",
      "episode: 3000/10000, score: 0.32, e: 0.009985630741373389, reward: [9.94572466]\n",
      "episode: 3050/10000, score: 0.04, e: 0.009985630741373389, reward: [9.65637737]\n",
      "episode: 3050/10000, score: 0.04, e: 0.009985630741373389, reward: [9.65637737]\n",
      "episode: 3100/10000, score: 0.1, e: 0.009985630741373389, reward: [9.12767464]\n",
      "episode: 3100/10000, score: 0.1, e: 0.009985630741373389, reward: [9.12767464]\n",
      "episode: 3150/10000, score: 0.02, e: 0.009985630741373389, reward: [8.63017166]\n",
      "episode: 3150/10000, score: 0.02, e: 0.009985630741373389, reward: [8.63017166]\n",
      "episode: 3200/10000, score: 0.0, e: 0.009985630741373389, reward: [8.92071758]\n",
      "episode: 3200/10000, score: 0.0, e: 0.009985630741373389, reward: [8.92071758]\n",
      "episode: 3250/10000, score: 0.1, e: 0.009985630741373389, reward: [9.31351004]\n",
      "episode: 3250/10000, score: 0.1, e: 0.009985630741373389, reward: [9.31351004]\n",
      "episode: 3300/10000, score: 0.08, e: 0.009985630741373389, reward: [9.71333107]\n",
      "episode: 3300/10000, score: 0.08, e: 0.009985630741373389, reward: [9.71333107]\n",
      "episode: 3350/10000, score: 0.12, e: 0.009985630741373389, reward: [9.16452615]\n",
      "episode: 3350/10000, score: 0.12, e: 0.009985630741373389, reward: [9.16452615]\n",
      "episode: 3400/10000, score: 0.42, e: 0.009985630741373389, reward: [10.49697348]\n",
      "episode: 3400/10000, score: 0.42, e: 0.009985630741373389, reward: [10.49697348]\n",
      "episode: 3450/10000, score: 0.0, e: 0.009985630741373389, reward: [9.61952078]\n",
      "episode: 3450/10000, score: 0.0, e: 0.009985630741373389, reward: [9.61952078]\n",
      "episode: 3500/10000, score: 0.0, e: 0.009985630741373389, reward: [8.86672227]\n",
      "episode: 3500/10000, score: 0.0, e: 0.009985630741373389, reward: [8.86672227]\n",
      "episode: 3550/10000, score: 0.0, e: 0.009985630741373389, reward: [8.42540285]\n",
      "episode: 3550/10000, score: 0.0, e: 0.009985630741373389, reward: [8.42540285]\n",
      "episode: 3600/10000, score: 0.0, e: 0.009985630741373389, reward: [8.71500854]\n",
      "episode: 3600/10000, score: 0.0, e: 0.009985630741373389, reward: [8.71500854]\n",
      "episode: 3650/10000, score: 0.2, e: 0.009985630741373389, reward: [8.95585318]\n",
      "episode: 3650/10000, score: 0.2, e: 0.009985630741373389, reward: [8.95585318]\n",
      "episode: 3700/10000, score: 0.0, e: 0.009985630741373389, reward: [7.23844481]\n",
      "episode: 3700/10000, score: 0.0, e: 0.009985630741373389, reward: [7.23844481]\n",
      "episode: 3750/10000, score: 0.12, e: 0.009985630741373389, reward: [8.68587236]\n",
      "episode: 3750/10000, score: 0.12, e: 0.009985630741373389, reward: [8.68587236]\n",
      "episode: 3800/10000, score: 0.0, e: 0.009985630741373389, reward: [9.86781703]\n",
      "episode: 3800/10000, score: 0.0, e: 0.009985630741373389, reward: [9.86781703]\n",
      "episode: 3850/10000, score: 0.14, e: 0.009985630741373389, reward: [9.70055588]\n",
      "episode: 3850/10000, score: 0.14, e: 0.009985630741373389, reward: [9.70055588]\n",
      "episode: 3900/10000, score: 0.0, e: 0.009985630741373389, reward: [9.46771279]\n",
      "episode: 3900/10000, score: 0.0, e: 0.009985630741373389, reward: [9.46771279]\n",
      "episode: 3950/10000, score: 0.0, e: 0.009985630741373389, reward: [7.88999707]\n",
      "episode: 3950/10000, score: 0.0, e: 0.009985630741373389, reward: [7.88999707]\n",
      "episode: 4000/10000, score: 0.0, e: 0.009985630741373389, reward: [8.85777164]\n",
      "episode: 4000/10000, score: 0.0, e: 0.009985630741373389, reward: [8.85777164]\n",
      "episode: 4050/10000, score: 0.0, e: 0.009985630741373389, reward: [9.89241172]\n",
      "episode: 4050/10000, score: 0.0, e: 0.009985630741373389, reward: [9.89241172]\n",
      "episode: 4100/10000, score: 0.38, e: 0.009985630741373389, reward: [8.73348152]\n",
      "episode: 4100/10000, score: 0.38, e: 0.009985630741373389, reward: [8.73348152]\n",
      "episode: 4150/10000, score: 0.38, e: 0.009985630741373389, reward: [10.35376645]\n",
      "episode: 4150/10000, score: 0.38, e: 0.009985630741373389, reward: [10.35376645]\n",
      "episode: 4200/10000, score: 0.1, e: 0.009985630741373389, reward: [8.33100616]\n",
      "episode: 4200/10000, score: 0.1, e: 0.009985630741373389, reward: [8.33100616]\n"
     ]
    },
    {
     "ename": "KeyboardInterrupt",
     "evalue": "",
     "output_type": "error",
     "traceback": [
      "\u001b[0;31m---------------------------------------------------------------------------\u001b[0m",
      "\u001b[0;31mKeyboardInterrupt\u001b[0m                         Traceback (most recent call last)",
      "\u001b[0;32m<ipython-input-30-6bc73398f8ed>\u001b[0m in \u001b[0;36m<module>\u001b[0;34m\u001b[0m\n\u001b[1;32m     46\u001b[0m             \u001b[0;32mbreak\u001b[0m \u001b[0;31m# exit loop\u001b[0m\u001b[0;34m\u001b[0m\u001b[0;34m\u001b[0m\u001b[0m\n\u001b[1;32m     47\u001b[0m     \u001b[0;32mif\u001b[0m \u001b[0mlen\u001b[0m\u001b[0;34m(\u001b[0m\u001b[0magent\u001b[0m\u001b[0;34m.\u001b[0m\u001b[0mmemory\u001b[0m\u001b[0;34m)\u001b[0m \u001b[0;34m>\u001b[0m \u001b[0mbatch_size\u001b[0m\u001b[0;34m:\u001b[0m\u001b[0;34m\u001b[0m\u001b[0;34m\u001b[0m\u001b[0m\n\u001b[0;32m---> 48\u001b[0;31m         \u001b[0magent\u001b[0m\u001b[0;34m.\u001b[0m\u001b[0mreplay\u001b[0m\u001b[0;34m(\u001b[0m\u001b[0mbatch_size\u001b[0m\u001b[0;34m)\u001b[0m \u001b[0;31m# train the agent by replaying the experiences of the episode\u001b[0m\u001b[0;34m\u001b[0m\u001b[0;34m\u001b[0m\u001b[0m\n\u001b[0m\u001b[1;32m     49\u001b[0m     \u001b[0;32mif\u001b[0m \u001b[0me\u001b[0m \u001b[0;34m%\u001b[0m \u001b[0;36m50\u001b[0m \u001b[0;34m==\u001b[0m \u001b[0;36m0\u001b[0m\u001b[0;34m:\u001b[0m\u001b[0;34m\u001b[0m\u001b[0;34m\u001b[0m\u001b[0m\n\u001b[1;32m     50\u001b[0m         \u001b[0magent\u001b[0m\u001b[0;34m.\u001b[0m\u001b[0msave\u001b[0m\u001b[0;34m(\u001b[0m\u001b[0moutput_dir\u001b[0m \u001b[0;34m+\u001b[0m \u001b[0;34m\"weights_\"\u001b[0m \u001b[0;34m+\u001b[0m \u001b[0;34m'{:04d}'\u001b[0m\u001b[0;34m.\u001b[0m\u001b[0mformat\u001b[0m\u001b[0;34m(\u001b[0m\u001b[0me\u001b[0m\u001b[0;34m)\u001b[0m \u001b[0;34m+\u001b[0m \u001b[0;34m\".hdf5\"\u001b[0m\u001b[0;34m)\u001b[0m\u001b[0;34m\u001b[0m\u001b[0;34m\u001b[0m\u001b[0m\n",
      "\u001b[0;32m<ipython-input-7-bc795eab8d23>\u001b[0m in \u001b[0;36mreplay\u001b[0;34m(self, batch_size)\u001b[0m\n\u001b[1;32m     58\u001b[0m                 target = (reward + self.gamma * # (target) = reward + (discount rate gamma) * \n\u001b[1;32m     59\u001b[0m                           np.amax(self.model.predict(next_state)[0])) # (maximum target Q based on future action a')\n\u001b[0;32m---> 60\u001b[0;31m             \u001b[0mtarget_f\u001b[0m \u001b[0;34m=\u001b[0m \u001b[0mself\u001b[0m\u001b[0;34m.\u001b[0m\u001b[0mmodel\u001b[0m\u001b[0;34m.\u001b[0m\u001b[0mpredict\u001b[0m\u001b[0;34m(\u001b[0m\u001b[0mstate\u001b[0m\u001b[0;34m)\u001b[0m \u001b[0;31m# approximately map current state to future discounted reward\u001b[0m\u001b[0;34m\u001b[0m\u001b[0;34m\u001b[0m\u001b[0m\n\u001b[0m\u001b[1;32m     61\u001b[0m             \u001b[0;31m#print(\"state\", state, \"reward: \", reward, \"done \", done, \"predict \", self.model.predict(next_state)[0])\u001b[0m\u001b[0;34m\u001b[0m\u001b[0;34m\u001b[0m\u001b[0;34m\u001b[0m\u001b[0m\n\u001b[1;32m     62\u001b[0m             \u001b[0mtarget_f\u001b[0m\u001b[0;34m[\u001b[0m\u001b[0;36m0\u001b[0m\u001b[0;34m]\u001b[0m\u001b[0;34m[\u001b[0m\u001b[0maction\u001b[0m\u001b[0;34m]\u001b[0m \u001b[0;34m=\u001b[0m \u001b[0mtarget\u001b[0m\u001b[0;34m\u001b[0m\u001b[0;34m\u001b[0m\u001b[0m\n",
      "\u001b[0;32m~/Applications/anaconda3/lib/python3.7/site-packages/keras/engine/training.py\u001b[0m in \u001b[0;36mpredict\u001b[0;34m(self, x, batch_size, verbose, steps, callbacks, max_queue_size, workers, use_multiprocessing)\u001b[0m\n\u001b[1;32m   1460\u001b[0m                                             \u001b[0mverbose\u001b[0m\u001b[0;34m=\u001b[0m\u001b[0mverbose\u001b[0m\u001b[0;34m,\u001b[0m\u001b[0;34m\u001b[0m\u001b[0;34m\u001b[0m\u001b[0m\n\u001b[1;32m   1461\u001b[0m                                             \u001b[0msteps\u001b[0m\u001b[0;34m=\u001b[0m\u001b[0msteps\u001b[0m\u001b[0;34m,\u001b[0m\u001b[0;34m\u001b[0m\u001b[0;34m\u001b[0m\u001b[0m\n\u001b[0;32m-> 1462\u001b[0;31m                                             callbacks=callbacks)\n\u001b[0m\u001b[1;32m   1463\u001b[0m \u001b[0;34m\u001b[0m\u001b[0m\n\u001b[1;32m   1464\u001b[0m     def train_on_batch(self, x, y,\n",
      "\u001b[0;32m~/Applications/anaconda3/lib/python3.7/site-packages/keras/engine/training_arrays.py\u001b[0m in \u001b[0;36mpredict_loop\u001b[0;34m(model, f, ins, batch_size, verbose, steps, callbacks)\u001b[0m\n\u001b[1;32m    316\u001b[0m                 \u001b[0mins_batch\u001b[0m \u001b[0;34m=\u001b[0m \u001b[0mslice_arrays\u001b[0m\u001b[0;34m(\u001b[0m\u001b[0mins\u001b[0m\u001b[0;34m[\u001b[0m\u001b[0;34m:\u001b[0m\u001b[0;34m-\u001b[0m\u001b[0;36m1\u001b[0m\u001b[0;34m]\u001b[0m\u001b[0;34m,\u001b[0m \u001b[0mbatch_ids\u001b[0m\u001b[0;34m)\u001b[0m \u001b[0;34m+\u001b[0m \u001b[0;34m[\u001b[0m\u001b[0mins\u001b[0m\u001b[0;34m[\u001b[0m\u001b[0;34m-\u001b[0m\u001b[0;36m1\u001b[0m\u001b[0;34m]\u001b[0m\u001b[0;34m]\u001b[0m\u001b[0;34m\u001b[0m\u001b[0;34m\u001b[0m\u001b[0m\n\u001b[1;32m    317\u001b[0m             \u001b[0;32melse\u001b[0m\u001b[0;34m:\u001b[0m\u001b[0;34m\u001b[0m\u001b[0;34m\u001b[0m\u001b[0m\n\u001b[0;32m--> 318\u001b[0;31m                 \u001b[0mins_batch\u001b[0m \u001b[0;34m=\u001b[0m \u001b[0mslice_arrays\u001b[0m\u001b[0;34m(\u001b[0m\u001b[0mins\u001b[0m\u001b[0;34m,\u001b[0m \u001b[0mbatch_ids\u001b[0m\u001b[0;34m)\u001b[0m\u001b[0;34m\u001b[0m\u001b[0;34m\u001b[0m\u001b[0m\n\u001b[0m\u001b[1;32m    319\u001b[0m             \u001b[0;32mfor\u001b[0m \u001b[0mi\u001b[0m \u001b[0;32min\u001b[0m \u001b[0mindices_for_conversion_to_dense\u001b[0m\u001b[0;34m:\u001b[0m\u001b[0;34m\u001b[0m\u001b[0;34m\u001b[0m\u001b[0m\n\u001b[1;32m    320\u001b[0m                 \u001b[0mins_batch\u001b[0m\u001b[0;34m[\u001b[0m\u001b[0mi\u001b[0m\u001b[0;34m]\u001b[0m \u001b[0;34m=\u001b[0m \u001b[0mins_batch\u001b[0m\u001b[0;34m[\u001b[0m\u001b[0mi\u001b[0m\u001b[0;34m]\u001b[0m\u001b[0;34m.\u001b[0m\u001b[0mtoarray\u001b[0m\u001b[0;34m(\u001b[0m\u001b[0;34m)\u001b[0m\u001b[0;34m\u001b[0m\u001b[0;34m\u001b[0m\u001b[0m\n",
      "\u001b[0;32m~/Applications/anaconda3/lib/python3.7/site-packages/keras/utils/generic_utils.py\u001b[0m in \u001b[0;36mslice_arrays\u001b[0;34m(arrays, start, stop)\u001b[0m\n\u001b[1;32m    553\u001b[0m             \u001b[0;32mif\u001b[0m \u001b[0mhasattr\u001b[0m\u001b[0;34m(\u001b[0m\u001b[0mstart\u001b[0m\u001b[0;34m,\u001b[0m \u001b[0;34m'shape'\u001b[0m\u001b[0;34m)\u001b[0m\u001b[0;34m:\u001b[0m\u001b[0;34m\u001b[0m\u001b[0;34m\u001b[0m\u001b[0m\n\u001b[1;32m    554\u001b[0m                 \u001b[0mstart\u001b[0m \u001b[0;34m=\u001b[0m \u001b[0mstart\u001b[0m\u001b[0;34m.\u001b[0m\u001b[0mtolist\u001b[0m\u001b[0;34m(\u001b[0m\u001b[0;34m)\u001b[0m\u001b[0;34m\u001b[0m\u001b[0;34m\u001b[0m\u001b[0m\n\u001b[0;32m--> 555\u001b[0;31m             \u001b[0;32mreturn\u001b[0m \u001b[0;34m[\u001b[0m\u001b[0;32mNone\u001b[0m \u001b[0;32mif\u001b[0m \u001b[0mx\u001b[0m \u001b[0;32mis\u001b[0m \u001b[0;32mNone\u001b[0m \u001b[0;32melse\u001b[0m \u001b[0mx\u001b[0m\u001b[0;34m[\u001b[0m\u001b[0mstart\u001b[0m\u001b[0;34m]\u001b[0m \u001b[0;32mfor\u001b[0m \u001b[0mx\u001b[0m \u001b[0;32min\u001b[0m \u001b[0marrays\u001b[0m\u001b[0;34m]\u001b[0m\u001b[0;34m\u001b[0m\u001b[0;34m\u001b[0m\u001b[0m\n\u001b[0m\u001b[1;32m    556\u001b[0m         \u001b[0;32melse\u001b[0m\u001b[0;34m:\u001b[0m\u001b[0;34m\u001b[0m\u001b[0;34m\u001b[0m\u001b[0m\n\u001b[1;32m    557\u001b[0m             \u001b[0;32mreturn\u001b[0m \u001b[0;34m[\u001b[0m\u001b[0;32mNone\u001b[0m \u001b[0;32mif\u001b[0m \u001b[0mx\u001b[0m \u001b[0;32mis\u001b[0m \u001b[0;32mNone\u001b[0m \u001b[0;32melse\u001b[0m \u001b[0mx\u001b[0m\u001b[0;34m[\u001b[0m\u001b[0mstart\u001b[0m\u001b[0;34m:\u001b[0m\u001b[0mstop\u001b[0m\u001b[0;34m]\u001b[0m \u001b[0;32mfor\u001b[0m \u001b[0mx\u001b[0m \u001b[0;32min\u001b[0m \u001b[0marrays\u001b[0m\u001b[0;34m]\u001b[0m\u001b[0;34m\u001b[0m\u001b[0;34m\u001b[0m\u001b[0m\n",
      "\u001b[0;32m~/Applications/anaconda3/lib/python3.7/site-packages/keras/utils/generic_utils.py\u001b[0m in \u001b[0;36m<listcomp>\u001b[0;34m(.0)\u001b[0m\n\u001b[1;32m    553\u001b[0m             \u001b[0;32mif\u001b[0m \u001b[0mhasattr\u001b[0m\u001b[0;34m(\u001b[0m\u001b[0mstart\u001b[0m\u001b[0;34m,\u001b[0m \u001b[0;34m'shape'\u001b[0m\u001b[0;34m)\u001b[0m\u001b[0;34m:\u001b[0m\u001b[0;34m\u001b[0m\u001b[0;34m\u001b[0m\u001b[0m\n\u001b[1;32m    554\u001b[0m                 \u001b[0mstart\u001b[0m \u001b[0;34m=\u001b[0m \u001b[0mstart\u001b[0m\u001b[0;34m.\u001b[0m\u001b[0mtolist\u001b[0m\u001b[0;34m(\u001b[0m\u001b[0;34m)\u001b[0m\u001b[0;34m\u001b[0m\u001b[0;34m\u001b[0m\u001b[0m\n\u001b[0;32m--> 555\u001b[0;31m             \u001b[0;32mreturn\u001b[0m \u001b[0;34m[\u001b[0m\u001b[0;32mNone\u001b[0m \u001b[0;32mif\u001b[0m \u001b[0mx\u001b[0m \u001b[0;32mis\u001b[0m \u001b[0;32mNone\u001b[0m \u001b[0;32melse\u001b[0m \u001b[0mx\u001b[0m\u001b[0;34m[\u001b[0m\u001b[0mstart\u001b[0m\u001b[0;34m]\u001b[0m \u001b[0;32mfor\u001b[0m \u001b[0mx\u001b[0m \u001b[0;32min\u001b[0m \u001b[0marrays\u001b[0m\u001b[0;34m]\u001b[0m\u001b[0;34m\u001b[0m\u001b[0;34m\u001b[0m\u001b[0m\n\u001b[0m\u001b[1;32m    556\u001b[0m         \u001b[0;32melse\u001b[0m\u001b[0;34m:\u001b[0m\u001b[0;34m\u001b[0m\u001b[0;34m\u001b[0m\u001b[0m\n\u001b[1;32m    557\u001b[0m             \u001b[0;32mreturn\u001b[0m \u001b[0;34m[\u001b[0m\u001b[0;32mNone\u001b[0m \u001b[0;32mif\u001b[0m \u001b[0mx\u001b[0m \u001b[0;32mis\u001b[0m \u001b[0;32mNone\u001b[0m \u001b[0;32melse\u001b[0m \u001b[0mx\u001b[0m\u001b[0;34m[\u001b[0m\u001b[0mstart\u001b[0m\u001b[0;34m:\u001b[0m\u001b[0mstop\u001b[0m\u001b[0;34m]\u001b[0m \u001b[0;32mfor\u001b[0m \u001b[0mx\u001b[0m \u001b[0;32min\u001b[0m \u001b[0marrays\u001b[0m\u001b[0;34m]\u001b[0m\u001b[0;34m\u001b[0m\u001b[0;34m\u001b[0m\u001b[0m\n",
      "\u001b[0;31mKeyboardInterrupt\u001b[0m: "
     ]
    },
    {
     "ename": "KeyboardInterrupt",
     "evalue": "",
     "output_type": "error",
     "traceback": [
      "\u001b[0;31m---------------------------------------------------------------------------\u001b[0m",
      "\u001b[0;31mKeyboardInterrupt\u001b[0m                         Traceback (most recent call last)",
      "\u001b[0;32m<ipython-input-30-6bc73398f8ed>\u001b[0m in \u001b[0;36m<module>\u001b[0;34m\u001b[0m\n\u001b[1;32m     46\u001b[0m             \u001b[0;32mbreak\u001b[0m \u001b[0;31m# exit loop\u001b[0m\u001b[0;34m\u001b[0m\u001b[0;34m\u001b[0m\u001b[0m\n\u001b[1;32m     47\u001b[0m     \u001b[0;32mif\u001b[0m \u001b[0mlen\u001b[0m\u001b[0;34m(\u001b[0m\u001b[0magent\u001b[0m\u001b[0;34m.\u001b[0m\u001b[0mmemory\u001b[0m\u001b[0;34m)\u001b[0m \u001b[0;34m>\u001b[0m \u001b[0mbatch_size\u001b[0m\u001b[0;34m:\u001b[0m\u001b[0;34m\u001b[0m\u001b[0;34m\u001b[0m\u001b[0m\n\u001b[0;32m---> 48\u001b[0;31m         \u001b[0magent\u001b[0m\u001b[0;34m.\u001b[0m\u001b[0mreplay\u001b[0m\u001b[0;34m(\u001b[0m\u001b[0mbatch_size\u001b[0m\u001b[0;34m)\u001b[0m \u001b[0;31m# train the agent by replaying the experiences of the episode\u001b[0m\u001b[0;34m\u001b[0m\u001b[0;34m\u001b[0m\u001b[0m\n\u001b[0m\u001b[1;32m     49\u001b[0m     \u001b[0;32mif\u001b[0m \u001b[0me\u001b[0m \u001b[0;34m%\u001b[0m \u001b[0;36m50\u001b[0m \u001b[0;34m==\u001b[0m \u001b[0;36m0\u001b[0m\u001b[0;34m:\u001b[0m\u001b[0;34m\u001b[0m\u001b[0;34m\u001b[0m\u001b[0m\n\u001b[1;32m     50\u001b[0m         \u001b[0magent\u001b[0m\u001b[0;34m.\u001b[0m\u001b[0msave\u001b[0m\u001b[0;34m(\u001b[0m\u001b[0moutput_dir\u001b[0m \u001b[0;34m+\u001b[0m \u001b[0;34m\"weights_\"\u001b[0m \u001b[0;34m+\u001b[0m \u001b[0;34m'{:04d}'\u001b[0m\u001b[0;34m.\u001b[0m\u001b[0mformat\u001b[0m\u001b[0;34m(\u001b[0m\u001b[0me\u001b[0m\u001b[0;34m)\u001b[0m \u001b[0;34m+\u001b[0m \u001b[0;34m\".hdf5\"\u001b[0m\u001b[0;34m)\u001b[0m\u001b[0;34m\u001b[0m\u001b[0;34m\u001b[0m\u001b[0m\n",
      "\u001b[0;32m<ipython-input-7-bc795eab8d23>\u001b[0m in \u001b[0;36mreplay\u001b[0;34m(self, batch_size)\u001b[0m\n\u001b[1;32m     58\u001b[0m                 target = (reward + self.gamma * # (target) = reward + (discount rate gamma) * \n\u001b[1;32m     59\u001b[0m                           np.amax(self.model.predict(next_state)[0])) # (maximum target Q based on future action a')\n\u001b[0;32m---> 60\u001b[0;31m             \u001b[0mtarget_f\u001b[0m \u001b[0;34m=\u001b[0m \u001b[0mself\u001b[0m\u001b[0;34m.\u001b[0m\u001b[0mmodel\u001b[0m\u001b[0;34m.\u001b[0m\u001b[0mpredict\u001b[0m\u001b[0;34m(\u001b[0m\u001b[0mstate\u001b[0m\u001b[0;34m)\u001b[0m \u001b[0;31m# approximately map current state to future discounted reward\u001b[0m\u001b[0;34m\u001b[0m\u001b[0;34m\u001b[0m\u001b[0m\n\u001b[0m\u001b[1;32m     61\u001b[0m             \u001b[0;31m#print(\"state\", state, \"reward: \", reward, \"done \", done, \"predict \", self.model.predict(next_state)[0])\u001b[0m\u001b[0;34m\u001b[0m\u001b[0;34m\u001b[0m\u001b[0;34m\u001b[0m\u001b[0m\n\u001b[1;32m     62\u001b[0m             \u001b[0mtarget_f\u001b[0m\u001b[0;34m[\u001b[0m\u001b[0;36m0\u001b[0m\u001b[0;34m]\u001b[0m\u001b[0;34m[\u001b[0m\u001b[0maction\u001b[0m\u001b[0;34m]\u001b[0m \u001b[0;34m=\u001b[0m \u001b[0mtarget\u001b[0m\u001b[0;34m\u001b[0m\u001b[0;34m\u001b[0m\u001b[0m\n",
      "\u001b[0;32m~/Applications/anaconda3/lib/python3.7/site-packages/keras/engine/training.py\u001b[0m in \u001b[0;36mpredict\u001b[0;34m(self, x, batch_size, verbose, steps, callbacks, max_queue_size, workers, use_multiprocessing)\u001b[0m\n\u001b[1;32m   1460\u001b[0m                                             \u001b[0mverbose\u001b[0m\u001b[0;34m=\u001b[0m\u001b[0mverbose\u001b[0m\u001b[0;34m,\u001b[0m\u001b[0;34m\u001b[0m\u001b[0;34m\u001b[0m\u001b[0m\n\u001b[1;32m   1461\u001b[0m                                             \u001b[0msteps\u001b[0m\u001b[0;34m=\u001b[0m\u001b[0msteps\u001b[0m\u001b[0;34m,\u001b[0m\u001b[0;34m\u001b[0m\u001b[0;34m\u001b[0m\u001b[0m\n\u001b[0;32m-> 1462\u001b[0;31m                                             callbacks=callbacks)\n\u001b[0m\u001b[1;32m   1463\u001b[0m \u001b[0;34m\u001b[0m\u001b[0m\n\u001b[1;32m   1464\u001b[0m     def train_on_batch(self, x, y,\n",
      "\u001b[0;32m~/Applications/anaconda3/lib/python3.7/site-packages/keras/engine/training_arrays.py\u001b[0m in \u001b[0;36mpredict_loop\u001b[0;34m(model, f, ins, batch_size, verbose, steps, callbacks)\u001b[0m\n\u001b[1;32m    316\u001b[0m                 \u001b[0mins_batch\u001b[0m \u001b[0;34m=\u001b[0m \u001b[0mslice_arrays\u001b[0m\u001b[0;34m(\u001b[0m\u001b[0mins\u001b[0m\u001b[0;34m[\u001b[0m\u001b[0;34m:\u001b[0m\u001b[0;34m-\u001b[0m\u001b[0;36m1\u001b[0m\u001b[0;34m]\u001b[0m\u001b[0;34m,\u001b[0m \u001b[0mbatch_ids\u001b[0m\u001b[0;34m)\u001b[0m \u001b[0;34m+\u001b[0m \u001b[0;34m[\u001b[0m\u001b[0mins\u001b[0m\u001b[0;34m[\u001b[0m\u001b[0;34m-\u001b[0m\u001b[0;36m1\u001b[0m\u001b[0;34m]\u001b[0m\u001b[0;34m]\u001b[0m\u001b[0;34m\u001b[0m\u001b[0;34m\u001b[0m\u001b[0m\n\u001b[1;32m    317\u001b[0m             \u001b[0;32melse\u001b[0m\u001b[0;34m:\u001b[0m\u001b[0;34m\u001b[0m\u001b[0;34m\u001b[0m\u001b[0m\n\u001b[0;32m--> 318\u001b[0;31m                 \u001b[0mins_batch\u001b[0m \u001b[0;34m=\u001b[0m \u001b[0mslice_arrays\u001b[0m\u001b[0;34m(\u001b[0m\u001b[0mins\u001b[0m\u001b[0;34m,\u001b[0m \u001b[0mbatch_ids\u001b[0m\u001b[0;34m)\u001b[0m\u001b[0;34m\u001b[0m\u001b[0;34m\u001b[0m\u001b[0m\n\u001b[0m\u001b[1;32m    319\u001b[0m             \u001b[0;32mfor\u001b[0m \u001b[0mi\u001b[0m \u001b[0;32min\u001b[0m \u001b[0mindices_for_conversion_to_dense\u001b[0m\u001b[0;34m:\u001b[0m\u001b[0;34m\u001b[0m\u001b[0;34m\u001b[0m\u001b[0m\n\u001b[1;32m    320\u001b[0m                 \u001b[0mins_batch\u001b[0m\u001b[0;34m[\u001b[0m\u001b[0mi\u001b[0m\u001b[0;34m]\u001b[0m \u001b[0;34m=\u001b[0m \u001b[0mins_batch\u001b[0m\u001b[0;34m[\u001b[0m\u001b[0mi\u001b[0m\u001b[0;34m]\u001b[0m\u001b[0;34m.\u001b[0m\u001b[0mtoarray\u001b[0m\u001b[0;34m(\u001b[0m\u001b[0;34m)\u001b[0m\u001b[0;34m\u001b[0m\u001b[0;34m\u001b[0m\u001b[0m\n",
      "\u001b[0;32m~/Applications/anaconda3/lib/python3.7/site-packages/keras/utils/generic_utils.py\u001b[0m in \u001b[0;36mslice_arrays\u001b[0;34m(arrays, start, stop)\u001b[0m\n\u001b[1;32m    553\u001b[0m             \u001b[0;32mif\u001b[0m \u001b[0mhasattr\u001b[0m\u001b[0;34m(\u001b[0m\u001b[0mstart\u001b[0m\u001b[0;34m,\u001b[0m \u001b[0;34m'shape'\u001b[0m\u001b[0;34m)\u001b[0m\u001b[0;34m:\u001b[0m\u001b[0;34m\u001b[0m\u001b[0;34m\u001b[0m\u001b[0m\n\u001b[1;32m    554\u001b[0m                 \u001b[0mstart\u001b[0m \u001b[0;34m=\u001b[0m \u001b[0mstart\u001b[0m\u001b[0;34m.\u001b[0m\u001b[0mtolist\u001b[0m\u001b[0;34m(\u001b[0m\u001b[0;34m)\u001b[0m\u001b[0;34m\u001b[0m\u001b[0;34m\u001b[0m\u001b[0m\n\u001b[0;32m--> 555\u001b[0;31m             \u001b[0;32mreturn\u001b[0m \u001b[0;34m[\u001b[0m\u001b[0;32mNone\u001b[0m \u001b[0;32mif\u001b[0m \u001b[0mx\u001b[0m \u001b[0;32mis\u001b[0m \u001b[0;32mNone\u001b[0m \u001b[0;32melse\u001b[0m \u001b[0mx\u001b[0m\u001b[0;34m[\u001b[0m\u001b[0mstart\u001b[0m\u001b[0;34m]\u001b[0m \u001b[0;32mfor\u001b[0m \u001b[0mx\u001b[0m \u001b[0;32min\u001b[0m \u001b[0marrays\u001b[0m\u001b[0;34m]\u001b[0m\u001b[0;34m\u001b[0m\u001b[0;34m\u001b[0m\u001b[0m\n\u001b[0m\u001b[1;32m    556\u001b[0m         \u001b[0;32melse\u001b[0m\u001b[0;34m:\u001b[0m\u001b[0;34m\u001b[0m\u001b[0;34m\u001b[0m\u001b[0m\n\u001b[1;32m    557\u001b[0m             \u001b[0;32mreturn\u001b[0m \u001b[0;34m[\u001b[0m\u001b[0;32mNone\u001b[0m \u001b[0;32mif\u001b[0m \u001b[0mx\u001b[0m \u001b[0;32mis\u001b[0m \u001b[0;32mNone\u001b[0m \u001b[0;32melse\u001b[0m \u001b[0mx\u001b[0m\u001b[0;34m[\u001b[0m\u001b[0mstart\u001b[0m\u001b[0;34m:\u001b[0m\u001b[0mstop\u001b[0m\u001b[0;34m]\u001b[0m \u001b[0;32mfor\u001b[0m \u001b[0mx\u001b[0m \u001b[0;32min\u001b[0m \u001b[0marrays\u001b[0m\u001b[0;34m]\u001b[0m\u001b[0;34m\u001b[0m\u001b[0;34m\u001b[0m\u001b[0m\n",
      "\u001b[0;32m~/Applications/anaconda3/lib/python3.7/site-packages/keras/utils/generic_utils.py\u001b[0m in \u001b[0;36m<listcomp>\u001b[0;34m(.0)\u001b[0m\n\u001b[1;32m    553\u001b[0m             \u001b[0;32mif\u001b[0m \u001b[0mhasattr\u001b[0m\u001b[0;34m(\u001b[0m\u001b[0mstart\u001b[0m\u001b[0;34m,\u001b[0m \u001b[0;34m'shape'\u001b[0m\u001b[0;34m)\u001b[0m\u001b[0;34m:\u001b[0m\u001b[0;34m\u001b[0m\u001b[0;34m\u001b[0m\u001b[0m\n\u001b[1;32m    554\u001b[0m                 \u001b[0mstart\u001b[0m \u001b[0;34m=\u001b[0m \u001b[0mstart\u001b[0m\u001b[0;34m.\u001b[0m\u001b[0mtolist\u001b[0m\u001b[0;34m(\u001b[0m\u001b[0;34m)\u001b[0m\u001b[0;34m\u001b[0m\u001b[0;34m\u001b[0m\u001b[0m\n\u001b[0;32m--> 555\u001b[0;31m             \u001b[0;32mreturn\u001b[0m \u001b[0;34m[\u001b[0m\u001b[0;32mNone\u001b[0m \u001b[0;32mif\u001b[0m \u001b[0mx\u001b[0m \u001b[0;32mis\u001b[0m \u001b[0;32mNone\u001b[0m \u001b[0;32melse\u001b[0m \u001b[0mx\u001b[0m\u001b[0;34m[\u001b[0m\u001b[0mstart\u001b[0m\u001b[0;34m]\u001b[0m \u001b[0;32mfor\u001b[0m \u001b[0mx\u001b[0m \u001b[0;32min\u001b[0m \u001b[0marrays\u001b[0m\u001b[0;34m]\u001b[0m\u001b[0;34m\u001b[0m\u001b[0;34m\u001b[0m\u001b[0m\n\u001b[0m\u001b[1;32m    556\u001b[0m         \u001b[0;32melse\u001b[0m\u001b[0;34m:\u001b[0m\u001b[0;34m\u001b[0m\u001b[0;34m\u001b[0m\u001b[0m\n\u001b[1;32m    557\u001b[0m             \u001b[0;32mreturn\u001b[0m \u001b[0;34m[\u001b[0m\u001b[0;32mNone\u001b[0m \u001b[0;32mif\u001b[0m \u001b[0mx\u001b[0m \u001b[0;32mis\u001b[0m \u001b[0;32mNone\u001b[0m \u001b[0;32melse\u001b[0m \u001b[0mx\u001b[0m\u001b[0;34m[\u001b[0m\u001b[0mstart\u001b[0m\u001b[0;34m:\u001b[0m\u001b[0mstop\u001b[0m\u001b[0;34m]\u001b[0m \u001b[0;32mfor\u001b[0m \u001b[0mx\u001b[0m \u001b[0;32min\u001b[0m \u001b[0marrays\u001b[0m\u001b[0;34m]\u001b[0m\u001b[0;34m\u001b[0m\u001b[0;34m\u001b[0m\u001b[0m\n",
      "\u001b[0;31mKeyboardInterrupt\u001b[0m: "
     ]
    }
   ],
   "source": [
    "# Evaluatory stats\n",
    "optimal_action = 3\n",
    "correct_action = 0\n",
    "total_reward = 0\n",
    "all_rewards = []\n",
    "most_chosen_action =[]\n",
    "pcnt_opt =[]\n",
    "n_episodes = 10000\n",
    "batch_size = 32\n",
    "agent.epsilon = 1\n",
    "\n",
    "\n",
    "done = False\n",
    "\n",
    "for e in range(n_episodes): # iterate over new episodes of the game\n",
    "    state = env.reset() # reset state at start of each new episode of the game\n",
    "    state = np.reshape(state, [1, state_size])\n",
    "    \n",
    "    correct_action = 0\n",
    "    total_reward = 0\n",
    "    \n",
    "    # time represents a frame of the game; goal is to keep pole upright as\n",
    "    # long as possible up to range, e.g., 500 or 5000 timesteps:\n",
    "    for time in range(number_time_steps):  \n",
    "        action = agent.act(state)\n",
    "        # agent interacts with env, gets feedback; 4 state data points, e.g., pole angle, cart position:\n",
    "        next_state, reward, done, _ = env.step(action)\n",
    "        reward = reward if not done else 0 # reward +1 for each additional frame with pole upright        \n",
    "        next_state = np.reshape(next_state, [1, state_size]) \n",
    "        total_reward += reward\n",
    "        \n",
    "        # remember the previous timestep's state, actions, reward, etc.:\n",
    "        agent.remember(state, action, reward, next_state, done)\n",
    "        # set \"current state\" for upcoming iteration to the current next state:\n",
    "        state = next_state\n",
    "        \n",
    "        # Evaluation\n",
    "        if action == optimal_action:\n",
    "            correct_action += 1\n",
    "        if done: \n",
    "            percent_optimal = correct_action / number_time_steps\n",
    "            all_rewards.append(total_reward)\n",
    "            pcnt_opt.append(percent_optimal)\n",
    "            #print(\"episode: {}/{}, score: {}, e: {:.2}, reward: {:.2}\" # print the episode's score and agent's epsilon\n",
    "                  #.format(e, n_episodes, percent_optimal, agent.epsilon, total_reward))\n",
    "            break # exit loop\n",
    "    if len(agent.memory) > batch_size:\n",
    "        agent.replay(batch_size) # train the agent by replaying the experiences of the episode\n",
    "    if e % 50 == 0:\n",
    "        agent.save(output_dir + \"weights_\" + '{:04d}'.format(e) + \".hdf5\")\n",
    "        print(\"episode: {}/{}, score: {}, e: {}, reward: {}\" # print the episode's score and agent's epsilon\n",
    "                  .format(e, n_episodes, percent_optimal, agent.epsilon, total_reward))\n",
    "\n"
   ]
  },
  {
   "cell_type": "code",
   "execution_count": 31,
   "metadata": {},
   "outputs": [
    {
     "data": {
      "text/plain": [
       "[<matplotlib.lines.Line2D at 0x142fb2da0>]"
      ]
     },
     "execution_count": 31,
     "metadata": {},
     "output_type": "execute_result"
    },
    {
     "data": {
      "text/plain": [
       "[<matplotlib.lines.Line2D at 0x142fb2da0>]"
      ]
     },
     "execution_count": 31,
     "metadata": {},
     "output_type": "execute_result"
    },
    {
     "data": {
      "image/png": "[encoded data removed]",
      "text/plain": [
       "<Figure size 432x288 with 1 Axes>"
      ]
     },
     "metadata": {
      "needs_background": "light"
     },
     "output_type": "display_data"
    },
    {
     "data": {
      "image/png": "[encoded data removed]",
      "text/plain": [
       "<Figure size 432x288 with 1 Axes>"
      ]
     },
     "metadata": {
      "needs_background": "light"
     },
     "output_type": "display_data"
    }
   ],
   "source": [
    "plt.plot(all_rewards)"
   ]
  },
  {
   "cell_type": "code",
   "execution_count": 89,
   "metadata": {},
   "outputs": [
    {
     "ename": "NameError",
     "evalue": "name 'all_rewards' is not defined",
     "output_type": "error",
     "traceback": [
      "\u001b[0;31m---------------------------------------------------------------------------\u001b[0m",
      "\u001b[0;31mNameError\u001b[0m                                 Traceback (most recent call last)",
      "\u001b[0;32m<ipython-input-89-b2118b4be176>\u001b[0m in \u001b[0;36m<module>\u001b[0;34m\u001b[0m\n\u001b[1;32m      4\u001b[0m     \u001b[0;32mreturn\u001b[0m \u001b[0mret\u001b[0m\u001b[0;34m[\u001b[0m\u001b[0mn\u001b[0m \u001b[0;34m-\u001b[0m \u001b[0;36m1\u001b[0m\u001b[0;34m:\u001b[0m\u001b[0;34m]\u001b[0m \u001b[0;34m/\u001b[0m \u001b[0mn\u001b[0m\u001b[0;34m\u001b[0m\u001b[0;34m\u001b[0m\u001b[0m\n\u001b[1;32m      5\u001b[0m \u001b[0;34m\u001b[0m\u001b[0m\n\u001b[0;32m----> 6\u001b[0;31m \u001b[0mplt\u001b[0m\u001b[0;34m.\u001b[0m\u001b[0mplot\u001b[0m\u001b[0;34m(\u001b[0m\u001b[0mmoving_average\u001b[0m\u001b[0;34m(\u001b[0m\u001b[0mall_rewards\u001b[0m\u001b[0;34m,\u001b[0m\u001b[0;36m200\u001b[0m\u001b[0;34m)\u001b[0m\u001b[0;34m)\u001b[0m\u001b[0;34m\u001b[0m\u001b[0;34m\u001b[0m\u001b[0m\n\u001b[0m\u001b[1;32m      7\u001b[0m \u001b[0;31m#plt.plot([0, 5000], [9.5, 9.5], 'k-')\u001b[0m\u001b[0;34m\u001b[0m\u001b[0;34m\u001b[0m\u001b[0;34m\u001b[0m\u001b[0m\n\u001b[1;32m      8\u001b[0m \u001b[0mplt\u001b[0m\u001b[0;34m.\u001b[0m\u001b[0mshow\u001b[0m\u001b[0;34m(\u001b[0m\u001b[0;34m)\u001b[0m\u001b[0;34m\u001b[0m\u001b[0;34m\u001b[0m\u001b[0m\n",
      "\u001b[0;31mNameError\u001b[0m: name 'all_rewards' is not defined"
     ]
    }
   ],
   "source": [
    "def moving_average(a, n=3) :\n",
    "    ret = np.cumsum(a, dtype=float)\n",
    "    ret[n:] = ret[n:] - ret[:-n]\n",
    "    return ret[n - 1:] / n\n",
    "\n",
    "plt.plot(moving_average(all_rewards,200))\n",
    "#plt.plot([0, 5000], [9.5, 9.5], 'k-')\n",
    "plt.show()"
   ]
  },
  {
   "cell_type": "code",
   "execution_count": 60,
   "metadata": {
    "collapsed": true
   },
   "outputs": [
    {
     "data": {
      "image/png": "[encoded data removed]",
      "text/plain": [
       "<Figure size 432x288 with 1 Axes>"
      ]
     },
     "metadata": {
      "needs_background": "light"
     },
     "output_type": "display_data"
    }
   ],
   "source": [
    "plt.plot(moving_average(pcnt_opt,600))\n",
    "#plt.plot([0, 5000], [twap_stat, twap_stat], 'k-')\n",
    "plt.show()"
   ]
  },
  {
   "cell_type": "code",
   "execution_count": null,
   "metadata": {},
   "outputs": [],
   "source": [
    "class DQNAgent:\n",
    "    def __init__(self, state_size, action_size, agent_name):\n",
    "        self.agent_name = agent_name\n",
    "        self.state_size = state_size\n",
    "        self.action_size = action_size\n",
    "        # double-ended queue; acts like list, but elements can be added/removed from either end:\n",
    "        self.memory = deque(maxlen=2000)\n",
    "        # decay or discount rate: enables agent to take into account future actions in addition\n",
    "        # to the immediate ones, but discounted at this rate:\n",
    "        self.gamma = 1 # Was 0.95\n",
    "        # exploration rate: how much to act randomly; more initially than later due to epsilon\n",
    "        # decay:\n",
    "        self.epsilon = 1.0\n",
    "        # decrease number of random explorations as the agent's performance (hopefully)\n",
    "        # improves over time:\n",
    "        self.epsilon_decay = 0.998 \n",
    "        # minimum amount of random exploration permitted:\n",
    "        self.epsilon_min = 0.01\n",
    "        # rate at which NN adjusts models parameters via SGD to reduce cost:\n",
    "        self.learning_rate = 0.001\n",
    "        self.model = self._build_model() # private method \n",
    "    \n",
    "    def _build_model(self):\n",
    "        # neural net to approximate Q-value function:\n",
    "        model = Sequential()\n",
    "        model.add(Dense(5, input_dim=self.state_size, activation='relu')) # 1st hidden layer; states as input\n",
    "        model.add(Dense(5, activation='relu')) # 2nd hidden layer\n",
    "        model.add(Dense(self.action_size, activation='linear')) # 2 actions, so 2 output neurons: 0 and 1 (L/R)\n",
    "        model.compile(loss='mse',\n",
    "                      optimizer=Adam(lr=self.learning_rate))\n",
    "        return model\n",
    "    \n",
    "    def remember(self, state, action, reward, next_state, done):\n",
    "        # list of previous experiences, enabling re-training later\n",
    "        #print(\"State \", state, \"Action \", action, \"Reward \", reward, \"next state \", next_state, \"done\", done)\n",
    "        self.memory.append((state, action, reward, next_state, done))\n",
    "\n",
    "    def act(self, state):\n",
    "        # if acting randomly, take random action:\n",
    "        if np.random.rand() <= self.epsilon:\n",
    "            return random.randrange(self.action_size)\n",
    "        # if not acting randomly, predict reward value based on current state:\n",
    "        act_values = self.model.predict(state)\n",
    "        # pick the action that will give the highest reward (i.e., go left or right?)\n",
    "        return np.argmax(act_values[0])\n",
    "\n",
    "    # method that trains NN with experiences sampled from memory:\n",
    "    def replay(self, batch_size):\n",
    "        # sample a minibatch from memory\n",
    "        minibatch = random.sample(self.memory, batch_size)\n",
    "        # extract data for each minibatch sample:\n",
    "        for state, action, reward, next_state, done in minibatch:\n",
    "            # if done (boolean whether game ended or not, i.e., whether final state or not), then target = reward:\n",
    "            target = reward\n",
    "\n",
    "            # if not done, then predict future discounted reward\n",
    "            if not done:\n",
    "                target = (reward + self.gamma * # (target) = reward + (discount rate gamma) * \n",
    "                          np.amax(self.model.predict(next_state)[0])) # (maximum target Q based on future action a')\n",
    "            target_f = self.model.predict(state) # approximately map current state to future discounted reward\n",
    "            #print(\"state\", state, \"reward: \", reward, \"done \", done, \"predict \", self.model.predict(next_state)[0])\n",
    "            target_f[0][action] = target\n",
    "            # Change the action taken to the reward + predicted max of next states\n",
    "            # single epoch of training with x=state, y=target_f; fit decreases loss btwn target_f and y_hat:\n",
    "            self.model.fit(state, target_f, epochs=1, verbose=0)\n",
    "        if self.epsilon > self.epsilon_min:\n",
    "            self.epsilon *= self.epsilon_decay\n",
    "\n",
    "    def load(self, file_name):\n",
    "        self.model.load_weights(file_name)\n",
    "\n",
    "    def save(self, file_name):\n",
    "        self.model.save_weights(file_name)"
   ]
  }
 ],
 "metadata": {
  "kernelspec": {
   "display_name": "Python 3",
   "language": "python",
   "name": "python3"
  },
  "language_info": {
   "codemirror_mode": {
    "name": "ipython",
    "version": 3
   },
   "file_extension": ".py",
   "mimetype": "text/x-python",
   "name": "python",
   "nbconvert_exporter": "python",
   "pygments_lexer": "ipython3",
   "version": "3.7.3"
  }
 },
 "nbformat": 4,
 "nbformat_minor": 2
}
