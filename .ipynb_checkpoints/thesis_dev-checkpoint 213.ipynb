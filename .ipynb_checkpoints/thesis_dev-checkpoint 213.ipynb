{
 "cells": [
  {
   "cell_type": "code",
   "execution_count": 3,
   "metadata": {},
   "outputs": [],
   "source": [
    "output_dir = 'model_output/cartpole/'"
   ]
  },
  {
   "cell_type": "code",
   "execution_count": 4,
   "metadata": {},
   "outputs": [],
   "source": [
    "if not os.path.exists(output_dir):\n",
    "    os.makedirs(output_dir)"
   ]
  },
  {
   "cell_type": "markdown",
   "metadata": {
    "collapsed": true
   },
   "source": [
    "## Trading"
   ]
  },
  {
   "cell_type": "markdown",
   "metadata": {},
   "source": [
    "### External Packages"
   ]
  },
  {
   "cell_type": "code",
   "execution_count": 1,
   "metadata": {},
   "outputs": [],
   "source": [
    "import os # for creating directories\n",
    "import matplotlib\n",
    "matplotlib.use('TkAgg')\n",
    "import numpy as np"
   ]
  },
  {
   "cell_type": "markdown",
   "metadata": {},
   "source": [
    "### Custom library imports"
   ]
  },
  {
   "cell_type": "code",
   "execution_count": 78,
   "metadata": {},
   "outputs": [],
   "source": [
    "from library.market_modelsM import market\n",
    "#from library.local_environments import agent_environmentM\n",
    "from library.market_modelsM import bs_stock\n",
    "import library.agents\n",
    "import library.simulations\n",
    "#import library.WIPAgents\n",
    "import library.WIPAgentsv2\n",
    "import library.WIPAgentsv3\n",
    "import library.WIPAgentsv4"
   ]
  },
  {
   "cell_type": "markdown",
   "metadata": {},
   "source": [
    "- *market_models* include stock price models and market impact models.\n",
    "- *local_environments* includes agent environments (recording the agents position, cash and market impact, these are built to model AIGym environments\n",
    "- *agents* include market agents, different deepQlearning agents and theoretical baseline agents\n",
    "- *simulator* simplifies the training and evaluation of multiple agents"
   ]
  },
  {
   "cell_type": "markdown",
   "metadata": {},
   "source": [
    "Start with an agent (Fred) who only knows the position and the time. Take the trade options as %s of the total position. For now we assume that he can trade between 1% and 10% at a time (Restrictive - could we make this more flexible?) A uniform partition also doesn't necessarily seem appropriate. Look at continuous generalisations."
   ]
  },
  {
   "cell_type": "markdown",
   "metadata": {},
   "source": [
    "### Code using new Simulator class"
   ]
  },
  {
   "cell_type": "markdown",
   "metadata": {},
   "source": [
    "Reload any updated modules"
   ]
  },
  {
   "cell_type": "code",
   "execution_count": 146,
   "metadata": {},
   "outputs": [
    {
     "data": {
      "text/plain": [
       "<module 'library.WIPAgentsv4' from '/Users/tobyweston/Documents/Imperial/Thesis/ThesisCode/library/WIPAgentsv4.py'>"
      ]
     },
     "execution_count": 146,
     "metadata": {},
     "output_type": "execute_result"
    }
   ],
   "source": [
    "from imp import reload\n",
    "reload(library.agents)\n",
    "reload(library.simulations)\n",
    "#reload(library.WIPAgents)\n",
    "reload(library.WIPAgentsv2)\n",
    "reload(library.WIPAgentsv4)"
   ]
  },
  {
   "cell_type": "code",
   "execution_count": 46,
   "metadata": {},
   "outputs": [
    {
     "ename": "TypeError",
     "evalue": "reload() argument must be a module",
     "output_type": "error",
     "traceback": [
      "\u001b[0;31m---------------------------------------------------------------------------\u001b[0m",
      "\u001b[0;31mTypeError\u001b[0m                                 Traceback (most recent call last)",
      "\u001b[0;32m<ipython-input-46-ccaa1173b7da>\u001b[0m in \u001b[0;36m<module>\u001b[0;34m\u001b[0m\n\u001b[1;32m      1\u001b[0m \u001b[0;32mfrom\u001b[0m \u001b[0mimp\u001b[0m \u001b[0;32mimport\u001b[0m \u001b[0mreload\u001b[0m\u001b[0;34m\u001b[0m\u001b[0;34m\u001b[0m\u001b[0m\n\u001b[1;32m      2\u001b[0m \u001b[0mreload\u001b[0m\u001b[0;34m(\u001b[0m\u001b[0mlibrary\u001b[0m\u001b[0;34m.\u001b[0m\u001b[0msimulations\u001b[0m\u001b[0;34m)\u001b[0m\u001b[0;34m\u001b[0m\u001b[0;34m\u001b[0m\u001b[0m\n\u001b[0;32m----> 3\u001b[0;31m \u001b[0mreload\u001b[0m\u001b[0;34m(\u001b[0m\u001b[0mlibrary\u001b[0m\u001b[0;34m.\u001b[0m\u001b[0magents\u001b[0m\u001b[0;34m.\u001b[0m\u001b[0mdistAgentsWIP2\u001b[0m\u001b[0;34m.\u001b[0m\u001b[0mC51Agent\u001b[0m\u001b[0;34m)\u001b[0m\u001b[0;34m\u001b[0m\u001b[0;34m\u001b[0m\u001b[0m\n\u001b[0m",
      "\u001b[0;32m~/Applications/anaconda3/lib/python3.7/imp.py\u001b[0m in \u001b[0;36mreload\u001b[0;34m(module)\u001b[0m\n\u001b[1;32m    312\u001b[0m \u001b[0;34m\u001b[0m\u001b[0m\n\u001b[1;32m    313\u001b[0m     \"\"\"\n\u001b[0;32m--> 314\u001b[0;31m     \u001b[0;32mreturn\u001b[0m \u001b[0mimportlib\u001b[0m\u001b[0;34m.\u001b[0m\u001b[0mreload\u001b[0m\u001b[0;34m(\u001b[0m\u001b[0mmodule\u001b[0m\u001b[0;34m)\u001b[0m\u001b[0;34m\u001b[0m\u001b[0;34m\u001b[0m\u001b[0m\n\u001b[0m\u001b[1;32m    315\u001b[0m \u001b[0;34m\u001b[0m\u001b[0m\n\u001b[1;32m    316\u001b[0m \u001b[0;34m\u001b[0m\u001b[0m\n",
      "\u001b[0;32m~/Applications/anaconda3/lib/python3.7/importlib/__init__.py\u001b[0m in \u001b[0;36mreload\u001b[0;34m(module)\u001b[0m\n\u001b[1;32m    138\u001b[0m     \"\"\"\n\u001b[1;32m    139\u001b[0m     \u001b[0;32mif\u001b[0m \u001b[0;32mnot\u001b[0m \u001b[0mmodule\u001b[0m \u001b[0;32mor\u001b[0m \u001b[0;32mnot\u001b[0m \u001b[0misinstance\u001b[0m\u001b[0;34m(\u001b[0m\u001b[0mmodule\u001b[0m\u001b[0;34m,\u001b[0m \u001b[0mtypes\u001b[0m\u001b[0;34m.\u001b[0m\u001b[0mModuleType\u001b[0m\u001b[0;34m)\u001b[0m\u001b[0;34m:\u001b[0m\u001b[0;34m\u001b[0m\u001b[0;34m\u001b[0m\u001b[0m\n\u001b[0;32m--> 140\u001b[0;31m         \u001b[0;32mraise\u001b[0m \u001b[0mTypeError\u001b[0m\u001b[0;34m(\u001b[0m\u001b[0;34m\"reload() argument must be a module\"\u001b[0m\u001b[0;34m)\u001b[0m\u001b[0;34m\u001b[0m\u001b[0;34m\u001b[0m\u001b[0m\n\u001b[0m\u001b[1;32m    141\u001b[0m     \u001b[0;32mtry\u001b[0m\u001b[0;34m:\u001b[0m\u001b[0;34m\u001b[0m\u001b[0;34m\u001b[0m\u001b[0m\n\u001b[1;32m    142\u001b[0m         \u001b[0mname\u001b[0m \u001b[0;34m=\u001b[0m \u001b[0mmodule\u001b[0m\u001b[0;34m.\u001b[0m\u001b[0m__spec__\u001b[0m\u001b[0;34m.\u001b[0m\u001b[0mname\u001b[0m\u001b[0;34m\u001b[0m\u001b[0;34m\u001b[0m\u001b[0m\n",
      "\u001b[0;31mTypeError\u001b[0m: reload() argument must be a module"
     ]
    }
   ],
   "source": [
    "from imp import reload\n",
    "reload(library.simulations)\n",
    "reload(library.agents.distAgentsWIP2.C51Agent)"
   ]
  },
  {
   "cell_type": "markdown",
   "metadata": {},
   "source": [
    "Initialisation and parameters"
   ]
  },
  {
   "cell_type": "markdown",
   "metadata": {},
   "source": [
    "To speed up model identification and differentiation:\n",
    "- Fred: Deep Q Network Model (standard params) \n",
    "- George: Deep Q Network Model (alternative params)\n",
    "- Greg: Deep Q Network Model with Target network\n",
    "- Alice: Double Deep Q Network Model\n",
    "- Rob: Random strategy\n",
    "- Tim: TWAP\n",
    "- David: Distributional RL state action value\n",
    "- Daisy: Distributional RL state value\n",
    "- Paul: Version of Daisy with larger network and 2 epochs of training (how can we use the data more efficiently?)\n",
    "\n",
    "Future:\n",
    "- Harry: Prioritised sweep\n"
   ]
  },
  {
   "cell_type": "markdown",
   "metadata": {},
   "source": [
    "### Set up the agents and Simulator"
   ]
  },
  {
   "cell_type": "code",
   "execution_count": 1,
   "metadata": {},
   "outputs": [
    {
     "name": "stderr",
     "output_type": "stream",
     "text": [
      "Using TensorFlow backend.\n"
     ]
    },
    {
     "data": {
      "text/html": [
       "\n",
       "                Logging results to <a href=\"https://wandb.com\" target=\"_blank\">Weights & Biases</a> <a href=\"https://docs.wandb.com/integrations/jupyter.html\" target=\"_blank\">(Documentation)</a>.<br/>\n",
       "                Project page: <a href=\"https://app.wandb.ai/tobyg/OptEx\" target=\"_blank\">https://app.wandb.ai/tobyg/OptEx</a><br/>\n",
       "                Run page: <a href=\"https://app.wandb.ai/tobyg/OptEx/runs/3rp2d0ir\" target=\"_blank\">https://app.wandb.ai/tobyg/OptEx/runs/3rp2d0ir</a><br/>\n",
       "            "
      ],
      "text/plain": [
       "<IPython.core.display.HTML object>"
      ]
     },
     "metadata": {},
     "output_type": "display_data"
    },
    {
     "name": "stderr",
     "output_type": "stream",
     "text": [
      "wandb: Wandb version 0.9.0 is available!  To upgrade, please run:\n",
      "wandb:  $ pip install wandb --upgrade\n"
     ]
    }
   ],
   "source": [
    "# External Packages\n",
    "import numpy as np\n",
    "\n",
    "# Internal Library\n",
    "from library.market_modelsM import market, bs_stock, signal_stock, real_stock\n",
    "from library.agents.distAgentsWIP2 import QRAgent, C51Agent\n",
    "from library.agents.baseAgents import TWAPAgent\n",
    "#from library.agents.distAgents import C51Agent\n",
    "import library.simulations\n",
    "import pandas as pd\n",
    "\n",
    "\n",
    "params = {\n",
    "    \"terminal\" : 1,\n",
    "    \"num_trades\" : 10,\n",
    "    \"position\" : 10,\n",
    "    \"batch_size\" : 32,\n",
    "    \"action_values\" : [0.05,0.075,0.1,0.15,0.2] # [0.001,0.005,0.01,0.015,0.02,0.03,0.05,0.075,0.1,0.15,0.2,0.25,0.3,0.35]\n",
    "}\n",
    "# Optimal action 0.1\n",
    "state_size = 2\n",
    "action_size = len(params[\"action_values\"])\n",
    "\n",
    "#fred = library.agents.DQNAgent(state_size, action_size,\"Fred\") # initialise agent\n",
    "#greg = library.agents.DQNAgent(state_size, action_size,\"Greg15\",C=15) # Second agent\n",
    "#greta = library.agents.DQNAgent(state_size, action_size,\"Greta4\",C=4,alternative_target = True) # Second agent\n",
    "\n",
    "#alice = library.agents.DDQNAgent(state_size, action_size,\"Alice\")\n",
    "#alice2 = library.agents.DDQNAgent(state_size, action_size,\"Alice2\")\n",
    "\n",
    "#tim = library.agents.TWAPAgent(2,\"Tim\")\n",
    "#rob = library.agents.randomAgent(4,\"Rob\",action_size = action_size)\n",
    "\n",
    "#amanda = library.agents.DDQNAgent(state_size, action_size,\"Amanda30\",C=30) # Second agent\n",
    "#agnes = library.agents.DDQNAgent(state_size, action_size,\"Agnes10\",C=10,alternative_target = True) # Second agent\n",
    "\n",
    "#daisy8a = library.WIPAgentsv2.distAgent(action_size,\"Daisy8 Alt\",C=8,alternative_target = True)\n",
    "#daisy8a2 = library.WIPAgentsv2.distAgent(\"Daisy8 Alt 2\",C=8,alternative_target = True)\n",
    "#amanda10a = library.agents.DDQNAgent(state_size, action_size,\"Amanda50 Alt\",C=50)\n",
    "#amanda20 = library.agents.DDQNAgent(state_size, action_size,\"Amanda20\",C=20) \n",
    "#greta = library.agents.DQNAgent(state_size, action_size,\"Greta4\",C=4,alternative_target = True)\n",
    "#paul8a = library.WIPAgentsv3.distAgentL(\"Paul\",C=8,alternative_target = True)\n",
    "#daisy100N51 = library.WIPAgentsv2.distAgent(action_size,\"Daisy100 N51\",N=51,C=100,alternative_target = False)\n",
    "#daisy15aN21 = library.WIPAgentsv2.distAgent(action_size,\"Daisy15 Alt N21\",N=21,C=15,alternative_target = True)\n",
    "\n",
    "#daisy15N11 = library.WIPAgentsv2.distAgent(action_size,\"Daisy15 N11\",N=11,C=15,alternative_target = False,UCB = False)\n",
    "\n",
    "#daisy25aN31_geo10k = library.WIPAgentsv2.distAgent(action_size,\"Daisy25 Alt N31\",N=31,C=25,alternative_target = True)\n",
    "#daisy25aN31_9995 = library.WIPAgentsv2.distAgent(action_size,\"Daisy25 Alt N31\",N=31,C=25,alternative_target = True)\n",
    "#daisy25aN31_9999 = library.WIPAgentsv2.distAgent(action_size,\"Daisy25 Alt N31\",N=31,C=25,alternative_target = True)\n",
    "#daisy25aN31_99995 = library.WIPAgentsv2.distAgent(action_size,\"Daisy25 Alt N31\",N=31,C=25,alternative_target = True)\n",
    "\n",
    "#candidate1 = library.WIPAgentsv2.distAgent(action_size,\"Daisy400a N31 UCB80 n4\",N=31,C=400,alternative_target = True,UCB = True, UCBc = 80)\n",
    "#candidate2 = library.WIPAgentsv2.distAgent(action_size,\"Daisy150a N41 UCB100 n4\",N=41,C=150,alternative_target = True,UCB = True,UCBc = 100)\n",
    "brian = library.agents.distAgentsWIP2.C51Agent(state_size, params[\"action_values\"],\"BrianOg100a N41 UCB100 n4\",N=41,C=100,alternative_target = True,UCB = True,UCBc = 90)\n",
    "\n",
    "quentin = library.agents.distAgentsWIP2.QRAgent(state_size, params[\"action_values\"], \"Quentin Og\",C=100, alternative_target = True,UCB=False,UCBc = 1,tree_horizon = 1)#,market_data_size=n_hist_prices)\n",
    "\n",
    "agents = [\n",
    "    quentin\n",
    "]\n",
    "\n",
    "#amanda10a.tree_n = 4\n",
    "#candidate1.tree_n = 5\n",
    "#brian.tree_n = 4\n",
    "\n",
    "\n",
    "#daisy8a2.epsilon_min = 0.1\n",
    "#paul8a.epsilon_min = 0.04\n",
    "#amanda10a.epsilon_min = 0.01\n",
    "#alice.learning_rate = 0.01\n",
    "\n",
    "simple_stock = bs_stock(1,0,0.0005) # No drift, 0.0005 vol\n",
    "simple_market = market(simple_stock,num_strats = len(agents))\n",
    "\n",
    "epsilon_decays = [0.9992,0.9995,0.9999,0.99995,1]\n",
    "\n",
    "my_simulator = library.simulations.simulator(simple_market,agents,params,test_name = \"Test 28\")\n",
    "#my_simulator.plot_title = \"Test 20\"\n"
   ]
  },
  {
   "cell_type": "code",
   "execution_count": 1,
   "metadata": {},
   "outputs": [
    {
     "name": "stderr",
     "output_type": "stream",
     "text": [
      "Using TensorFlow backend.\n",
      "/Users/tobyweston/Applications/anaconda3/lib/python3.7/site-packages/IPython/core/interactiveshell.py:3057: DtypeWarning: Columns (1,2,3,4,5,6,7,8,9,10,11,12,13,14,15,16,17,18,19,20,21,22,23,24,25,26,27,28,29,30,31,32,33,34,35,36,37,38,39,40,41,42,43,44,45,46,47,48,49,50,51,52,53,54,55,56,57,58,59,60,61,62,63,64,65,66,67,68,69,70,71,72,73,74,75,76,77,78,79,80,81,82,83,84,85,86,87,88,89,90,91,92,93,94,95,96,97,98,99,100,101,102,103,104,105,106,107,108,109,110,111,112,113,114,115,116,117,118,119,120,121,122,123,124,125,126,127,128,129,130,131,132,133,134,135,136,137,138,139,140,141,142,143,144,145,146,147,148,149,150,151,152,153,154,155,156,157,158,159,160,161,162,163,164,165,166,167,168,169,170,171,172,173,174,175,176,177,178,179,180,181,182,183,184,185,186,187,188,189,190,191,192,193,194,195,196,197,198,199,200,201,202,203,204,205,206,207,208,209,210,211,212,213,214,215,216,217,218,219,220,221,222,223,224,225,226,227,228,229,230,231,232,233,234,235,236,237,238,239,240,241,242,243,244,245,246,247,248,249,250,251,252,253,254,255,256,257,258,259,260,261,262,263,264,265,266,267,268,269,270,271,272,273,274,275,276,277,278,279,280,281,282,283,284,285,286,287,288,289,290,291,292,293,294,295,296,297,298,299,300,301,302,303,304,305,306,307,308,309,310,311,312,313,314,315,316,317,318,319,320,321,322,323,324,325,326,327,328,329,330,331,332,333,334,335,336,337,338,339,340,341,342,343,344,345,346,347,348,349,350,351,352,353,354,355,356,357,358,359,360,361,362,363,364,365,366,367,368,369,370,371,372,373,374,375,376,377,378,379,380,381,382,383,384,385,386,387,388,389,390,391,392,393,394,395,396,397,398,399,400,401,402,403,404,405,406,407,408,409,410,411,412,413,414,415,416,417,418,419,420,421,422,423,424,425,426,427,428,429,430,431,432,433,434,435,436,437,438,439,440,441,442,443,444,445,446,447,448,449,450,451,452,453,454,455,456,457,458,459,460,461,462,463,464,465,466,467,468,469,470,471,472,473,474,475,476,477,478,479,480,481,482,483,484,485,486,487,488,489,490,491,492,493,494,495,496,497,498,499,500,501,502,503,504,505,506,507,508,509,510,511,512,513,514,515,516,517,518,519,520,521,522,523,524,525,526,527,528,529,530,531,532,533,534,535,536,537,538,539,540,541,542,543,544,545,546,547,548,549,550,551,552,553,554,555,556,557,558,559,560,561,562,563,564,565,566,567,568,569,570,571,572,573,574,575,576,577,578,579,580,581,582,583,584,585,586,587,588,589,590,591,592,593,594,595,596,597,598,599,600,601,602,603,604,605,606,607,608,609,610,611,612,613,614,615,616,617,618,619,620,621,622,623,624,625,626,627,628,629,630,631,632,633,634,635,636,637,638,639,640,641,642,643,644,645,646,647,648,649,650,651,652,653,654,655,656,657,658,659,660,661,662,663,664,665,666,667,668,669,670,671,672,673,674,675,676,677,678,679,680,681,682,683,684,685,686,687,688,689,690,691,692,693,694,695,696,697,698,699,700,701,702,703,704,705,706,707,708,709,710,711,712,713,714,715,716,717,718,719,720,721,722,723,724,725,726,727,728,729,730,731,732,733,734,735,736,737,738,739,740,741,742,743,744,745,746,747,748,749,750,751,752,753,754,755,756,757,758,759,760,761,762,763,764,765,766,767,768,769,770,771,772,773,774,775,776,777,778,779,780,781,782,783,784,785,786,787,788,789,790,791,792,793,794,795,796,797,798,799,800,801,802,803,804,805,806,807,808,809,810,811,812,813,814,815,816,817,818,819,820,821,822,823,824,825,826,827,828,829,830,831,832,833,834,835,836,837,838,839,840,841,842,843,844,845,846,847,848,849,850,851,852,853,854,855,856,857,858,859,860,861,862,863,864,865,866,867,868,869,870,871,872,873,874,875,876,877,878,879,880,881,882,883,884,885,886,887,888,889,890,891,892,893,894,895,896,897,898,899,900,901,902,903,904,905,906,907,908,909,910,911,912,913,914,915,916,917,918,919,920,921,922,923,924,925,926,927,928,929,930,931,932,933,934,935,936,937,938,939,940,941,942,943,944,945,946,947,948,949,950,951,952,953,954,955,956,957,958,959,960,961,962,963,964,965,966,967,968,969,970,971,972,973,974,975,976,977,978,979,980,981,982,983,984,985,986,987,988,989,990,991,992,993,994,995,996,997,998,999,1000,1001,1002,1003,1004,1005,1006,1007,1008,1009,1010,1011,1012,1013,1014,1015,1016,1017,1018,1019,1020,1021,1022,1023,1024,1025,1026,1027,1028,1029,1030,1031,1032,1033,1034,1035,1036,1037,1038,1039,1040,1041,1042,1043,1044,1045,1046,1047,1048,1049,1050,1051,1052,1053,1054,1055,1056,1057,1058,1059,1060,1061,1062,1063,1064,1065,1066,1067,1068,1069,1070,1071,1072,1073,1074,1075,1076,1077,1078,1079,1080,1081,1082,1083,1084,1085,1086,1087,1088,1089,1090,1091,1092,1093,1094,1095,1096,1097,1098,1099,1100,1101,1102,1103,1104,1105,1106,1107,1108,1109,1110,1111,1112,1113,1114,1115,1116,1117,1118,1119,1120,1121,1122,1123,1124,1125,1126,1127,1128,1129,1130,1131,1132,1133,1134,1135,1136,1137,1138,1139,1140,1141,1142,1143,1144,1145,1146,1147,1148,1149,1150,1151,1152,1153,1154,1155,1156,1157,1158,1159,1160,1161,1162,1163,1164,1165,1166,1167,1168,1169,1170,1171,1172,1173,1174,1175,1176,1177,1178,1179,1180,1181,1182,1183,1184,1185,1186,1187,1188,1189,1190,1191,1192,1193,1194,1195,1196,1197,1198,1199,1200,1201,1202,1203,1204,1205,1206,1207,1208,1209,1210,1211,1212,1213,1214,1215,1216,1217,1218,1219,1220,1221,1222,1223,1224,1225,1226,1227,1228,1229,1230,1231,1232,1233,1234,1235,1236,1237,1238,1239,1240,1241,1242,1243,1244,1245,1246,1247,1248,1249,1250,1251,1252,1253,1254,1255,1256,1257,1258,1259,1260,1261,1262,1263,1264,1265,1266,1267,1268,1269,1270,1271,1272,1273,1274,1275,1276,1277,1278,1279,1280,1281,1282,1283,1284,1285,1286,1287,1288,1289,1290,1291,1292,1293,1294,1295,1296,1297,1298,1299,1300,1301,1302,1303,1304,1305,1306,1307,1308,1309,1310,1311,1312,1313,1314,1315,1316,1317,1318,1319,1320,1321,1322,1323,1324,1325,1326,1327,1328,1329,1330,1331,1332,1333,1334,1335,1336,1337,1338,1339,1340,1341,1342,1343,1344,1345,1346,1347,1348,1349,1350,1351,1352,1353,1354,1355,1356,1357,1358,1359,1360,1361,1362,1363,1364,1365,1366,1367,1368,1369,1370,1371,1372,1373,1374,1375,1376,1377,1378,1379,1380,1381,1382,1383,1384,1385,1386,1387,1388,1389,1390,1391,1392,1393,1394,1395,1396,1397,1398,1399,1400,1401,1402,1403,1404,1405,1406,1407,1408,1409,1410,1411,1412,1413,1414,1415,1416,1417,1418,1419,1420,1421,1422,1423,1424,1425,1426,1427,1428,1429,1430,1431,1432,1433,1434,1435,1436,1437,1438,1439,1440,1441,1442,1443,1444,1445,1446,1447,1448,1449,1450,1451,1452,1453,1454,1455,1456,1457,1458,1459,1460,1461,1462,1463,1464,1465,1466,1467,1468,1469,1470,1471,1472,1473,1474,1475,1476,1477,1478,1479,1480,1481,1482,1483,1484,1485,1486,1487,1488,1489,1490,1491,1492,1493,1494,1495,1496,1497,1498,1499,1500,1501,1502,1503,1504,1505,1506,1507,1508,1509,1510,1511,1512,1513,1514,1515,1516,1517,1518,1519,1520,1521,1522,1523,1524,1525,1526,1527,1528,1529,1530,1531,1532,1533,1534,1535,1536,1537,1538,1539,1540,1541,1542,1543,1544,1545,1546,1547,1548,1549,1550,1551,1552,1553,1554,1555,1556,1557,1558,1559,1560,1561,1562,1563,1564,1565,1566,1567,1568,1569,1570,1571,1572,1573,1574,1575,1576,1577,1578,1579,1580,1581,1582,1583,1584,1585,1586,1587,1588,1589,1590,1591,1592,1593,1594,1595,1596,1597,1598,1599,1600,1601,1602,1603,1604,1605,1606,1607,1608,1609,1610,1611,1612,1613,1614,1615,1616,1617,1618,1619,1620,1621,1622,1623,1624,1625,1626,1627,1628,1629,1630,1631,1632,1633,1634,1635,1636,1637,1638,1639,1640,1641,1642,1643,1644,1645,1646,1647,1648,1649,1650,1651,1652,1653,1654,1655,1656,1657,1658,1659,1660,1661,1662,1663,1664,1665,1666,1667,1668,1669,1670,1671,1672,1673,1674,1675,1676,1677,1678,1679,1680,1681,1682,1683,1684,1685,1686,1687,1688,1689,1690,1691,1692,1693,1694,1695,1696,1697,1698,1699,1700,1701,1702,1703,1704,1705,1706,1707,1708,1709,1710,1711,1712,1713,1714,1715,1716,1717,1718,1719,1720,1721,1722,1723,1724,1725,1726,1727,1728,1729,1730,1731,1732,1733,1734,1735,1736,1737,1738,1739,1740,1741,1742,1743,1744,1745,1746,1747,1748,1749,1750,1751,1752,1753,1754,1755,1756,1757,1758,1759,1760,1761,1762,1763,1764,1765,1766,1767,1768,1769,1770,1771,1772,1773,1774,1775,1776,1777,1778,1779,1780,1781,1782,1783,1784,1785,1786,1787,1788,1789,1790,1791,1792,1793,1794,1795,1796,1797,1798,1799,1800,1801,1802,1803,1804,1805,1806,1807,1808,1809,1810,1811,1812,1813,1814,1815,1816,1817,1818,1819,1820,1821,1822,1823,1824,1825,1826,1827,1828,1829,1830,1831,1832,1833,1834,1835,1836,1837,1838,1839,1840,1841,1842,1843,1844,1845,1846,1847,1848,1849,1850,1851,1852,1853,1854,1855,1856,1857,1858,1859,1860,1861,1862,1863,1864,1865,1866,1867,1868,1869,1870,1871,1872,1873,1874,1875,1876,1877,1878,1879,1880,1881,1882,1883,1884,1885,1886,1887,1888,1889,1890,1891,1892,1893,1894,1895,1896,1897,1898,1899,1900,1901,1902,1903,1904,1905,1906,1907,1908,1909,1910,1911,1912,1913,1914,1915,1916,1917,1918,1919,1920,1921,1922,1923,1924,1925,1926,1927,1928,1929,1930,1931,1932,1933,1934,1935,1936,1937,1938,1939,1940,1941,1942,1943,1944,1945,1946,1947,1948,1949,1950,1951,1952,1953,1954,1955,1956,1957,1958,1959,1960,1961,1962,1963,1964,1965,1966,1967,1968,1969,1970,1971,1972,1973,1974,1975,1976,1977,1978,1979,1980,1981,1982,1983,1984,1985,1986,1987,1988,1989,1990,1991,1992,1993,1994,1995,1996,1997,1998,1999,2000,2001,2002,2003,2004,2005,2006,2007,2008,2009,2010,2011,2012,2013,2014,2015,2016,2017,2018,2019,2020,2021,2022,2023,2024,2025,2026,2027,2028,2029,2030,2031,2032,2033,2034,2035,2036,2037,2038,2039,2040,2041,2042,2043,2044,2045,2046,2047,2048,2049,2050,2051,2052,2053,2054,2055,2056,2057,2058,2059,2060,2061,2062,2063,2064,2065,2066,2067,2068,2069,2070,2071,2072,2073,2074,2075,2076,2077,2078,2079,2080,2081,2082,2083,2084,2085,2086,2087,2088,2089,2090,2091,2092,2093,2094,2095,2096,2097,2098,2099,2100,2101,2102,2103,2104,2105,2106,2107,2108,2109,2110,2111,2112,2113,2114,2115,2116,2117,2118,2119,2120,2121,2122,2123,2124,2125,2126,2127,2128,2129,2130,2131,2132,2133,2134,2135,2136,2137,2138,2139,2140,2141,2142,2143,2144,2145,2146,2147,2148,2149,2150,2151,2152,2153,2154,2155,2156,2157,2158,2159,2160,2161,2162,2163,2164,2165,2166,2167,2168,2169,2170,2171,2172,2173,2174,2175,2176,2177,2178,2179,2180,2181,2182,2183,2184,2185,2186,2187,2188,2189,2190,2191,2192,2193,2194,2195,2196,2197,2198,2199,2200,2201,2202,2203,2204,2205,2206,2207,2208,2209,2210,2211,2212,2213,2214,2215,2216,2217,2218,2219,2220,2221,2222,2223,2224,2225,2226,2227,2228,2229,2230,2231,2232,2233,2234,2235,2236,2237,2238,2239,2240,2241,2242,2243,2244,2245,2246,2247,2248,2249,2250,2251,2252,2253,2254,2255,2256,2257,2258,2259,2260,2261,2262,2263,2264,2265,2266,2267,2268,2269,2270,2271,2272,2273,2274,2275,2276,2277,2278,2279,2280,2281,2282,2283,2284,2285,2286,2287,2288,2289,2290,2291,2292,2293,2294,2295,2296,2297,2298,2299,2300,2301,2302,2303,2304,2305,2306,2307,2308,2309,2310,2311,2312,2313,2314,2315,2316,2317,2318,2319,2320,2321,2322,2323,2324,2325,2326,2327,2328,2329,2330,2331,2332,2333,2334,2335,2336,2337,2338,2339,2340,2341,2342,2343,2344,2345,2346,2347,2348,2349,2350,2351,2352,2353,2354,2355,2356,2357,2358,2359,2360,2361,2362,2363,2364,2365,2366,2367,2368,2369,2370,2371,2372,2373,2374,2375,2376,2377,2378,2379,2380,2381,2382,2383,2384,2385,2386,2387,2388,2389,2390,2391,2392,2393,2394,2395,2396,2397,2398,2399,2400,2401,2402,2403,2404,2405,2406,2407,2408,2409,2410,2411,2412,2413,2414,2415,2416,2417,2418,2419,2420,2421,2422,2423,2424,2425,2426,2427,2428,2429,2430,2431,2432,2433,2434,2435,2436,2437,2438,2439,2440,2441,2442,2443,2444,2445,2446,2447,2448,2449,2450,2451,2452,2453,2454,2455,2456,2457,2458,2459,2460,2461,2462,2463,2464,2465,2466,2467,2468,2469,2470,2471,2472,2473,2474,2475,2476,2477,2478,2479,2480,2481,2482,2483,2484,2485,2486,2487,2488,2489,2490,2491,2492,2493,2494,2495,2496,2497,2498,2499,2500,2501,2502,2503,2504,2505,2506,2507,2508,2509,2510,2511,2512,2513,2514,2515,2516,2517,2518,2519,2520,2521,2522,2523,2524,2525,2526,2527,2528,2529,2530,2531,2532,2533,2534,2535,2536,2537,2538,2539,2540,2541,2542,2543,2544,2545,2546,2547,2548,2549,2550,2551,2552,2553,2554,2555,2556,2557,2558,2559,2560,2561,2562,2563,2564,2565,2566,2567,2568,2569,2570,2571,2572,2573,2574,2575,2576,2577,2578,2579,2580,2581,2582,2583,2584,2585,2586,2587,2588,2589,2590,2591,2592,2593,2594,2595,2596,2597,2598,2599,2600,2601,2602,2603,2604,2605,2606,2607,2608,2609,2610,2611,2612,2613,2614,2615,2616,2617,2618,2619,2620,2621,2622,2623,2624,2625,2626,2627,2628,2629,2630,2631,2632,2633,2634,2635,2636,2637,2638,2639,2640,2641,2642,2643,2644,2645,2646,2647,2648,2649,2650,2651,2652,2653,2654,2655,2656,2657,2658,2659,2660,2661,2662,2663,2664,2665,2666,2667,2668,2669,2670,2671,2672,2673,2674,2675,2676,2677,2678,2679,2680,2681,2682,2683,2684,2685,2686,2687,2688,2689,2690,2691,2692,2693,2694,2695,2696,2697,2698,2699,2700,2701,2702,2703,2704,2705,2706,2707,2708,2709,2710,2711,2712,2713,2714,2715,2716,2717,2718,2719,2720,2721,2722,2723,2724,2725,2726,2727,2728,2729,2730,2731,2732,2733,2734,2735,2736,2737,2738,2739,2740,2741,2742,2743,2744,2745,2746,2747,2748,2749,2750,2751,2752,2753,2754,2755,2756,2757,2758,2759,2760,2761,2762,2763,2764,2765,2766,2767,2768,2769,2770,2771,2772,2773,2774,2775,2776,2777,2778,2779,2780,2781,2782,2783,2784,2785,2786,2787,2788,2789,2790,2791,2792,2793,2794,2795,2796,2797,2798,2799,2800,2801,2802,2803,2804,2805,2806,2807,2808,2809,2810,2811,2812,2813,2814,2815,2816,2817,2818,2819,2820,2821,2822,2823,2824,2825,2826,2827,2828,2829,2830,2831,2832,2833,2834,2835,2836,2837,2838,2839,2840,2841,2842,2843,2844,2845,2846,2847,2848,2849,2850,2851,2852,2853,2854,2855,2856,2857,2858,2859,2860,2861,2862,2863,2864,2865,2866,2867,2868,2869,2870,2871,2872,2873,2874,2875,2876,2877,2878,2879,2880,2881,2882,2883,2884,2885,2886,2887,2888,2889,2890,2891,2892,2893,2894,2895,2896,2897,2898,2899,2900,2901,2902,2903,2904,2905,2906,2907,2908,2909,2910,2911,2912,2913,2914,2915,2916,2917,2918,2919,2920,2921,2922,2923,2924,2925,2926,2927,2928,2929,2930,2931,2932,2933,2934,2935,2936,2937,2938,2939,2940,2941,2942,2943,2944,2945,2946,2947,2948,2949,2950,2951,2952,2953,2954,2955,2956,2957,2958,2959,2960,2961,2962,2963,2964,2965,2966,2967,2968,2969,2970,2971,2972,2973,2974,2975,2976,2977,2978,2979,2980,2981,2982,2983,2984,2985,2986,2987,2988,2989,2990,2991,2992,2993,2994,2995,2996,2997,2998,2999,3000,3001,3002,3003,3004,3005,3006,3007,3008,3009,3010,3011,3012,3013,3014,3015,3016,3017,3018,3019,3020,3021,3022,3023,3024,3025,3026,3027,3028,3029,3030) have mixed types. Specify dtype option on import or set low_memory=False.\n",
      "  interactivity=interactivity, compiler=compiler, result=result)\n"
     ]
    },
    {
     "name": "stdout",
     "output_type": "stream",
     "text": [
      "Warning: dropping 18 nan value(s)\n"
     ]
    },
    {
     "data": {
      "text/html": [
       "\n",
       "                Logging results to <a href=\"https://wandb.com\" target=\"_blank\">Weights & Biases</a> <a href=\"https://docs.wandb.com/integrations/jupyter.html\" target=\"_blank\">(Documentation)</a>.<br/>\n",
       "                Project page: <a href=\"https://app.wandb.ai/tobyg/OptEx\" target=\"_blank\">https://app.wandb.ai/tobyg/OptEx</a><br/>\n",
       "                Run page: <a href=\"https://app.wandb.ai/tobyg/OptEx/runs/2dfrt9q7\" target=\"_blank\">https://app.wandb.ai/tobyg/OptEx/runs/2dfrt9q7</a><br/>\n",
       "            "
      ],
      "text/plain": [
       "<IPython.core.display.HTML object>"
      ]
     },
     "metadata": {},
     "output_type": "display_data"
    },
    {
     "name": "stderr",
     "output_type": "stream",
     "text": [
      "wandb: Wandb version 0.9.0 is available!  To upgrade, please run:\n",
      "wandb:  $ pip install wandb --upgrade\n",
      "requests_with_retry encountered retryable exception: ('Connection aborted.', OSError(\"(54, 'ECONNRESET')\")). args: ('https://api.wandb.ai/files/tobyg/OptEx/2dfrt9q7/file_stream',), kwargs: {'json': {'files': {'wandb-events.jsonl': {'offset': 30, 'content': ['{\"system.cpu\": 39.6, \"system.memory\": 69.01, \"system.disk\": 46.9, \"system.proc.memory.availableMB\": 2538.29, \"system.proc.memory.rssMB\": 577.8, \"system.proc.memory.percent\": 7.05, \"system.proc.cpu.threads\": 35.0, \"system.network.sent\": 5689344, \"system.network.recv\": 6706176, \"_wandb\": true, \"_timestamp\": 1591720352, \"_runtime\": 3043}\\n']}, 'wandb-history.jsonl': {'offset': 514, 'content': ['{\"episode\": 3600, \"act_val0\": 1.372760534286499, \"_runtime\": 937.2106912136078, \"_timestamp\": 1591718245.985443, \"_step\": 514}\\n', '{\"episode\": 3600, \"act_val1\": 1.3639389276504517, \"_runtime\": 937.2169742584229, \"_timestamp\": 1591718245.9917262, \"_step\": 515}\\n', '{\"episode\": 3600, \"act_val2\": 1.3586349487304688, \"_runtime\": 937.2218210697174, \"_timestamp\": 1591718245.996573, \"_step\": 516}\\n', '{\"episode\": 3600, \"act_val3\": 1.355098843574524, \"_runtime\": 937.2267799377441, \"_timestamp\": 1591718246.0015318, \"_step\": 517}\\n', '{\"episode\": 3600, \"act_val4\": 1.3515628576278687, \"_runtime\": 937.2319061756134, \"_timestamp\": 1591718246.006658, \"_step\": 518}\\n', '{\"episode\": 3600, \"act_val5\": 1.335916519165039, \"_runtime\": 937.2361521720886, \"_timestamp\": 1591718246.010904, \"_step\": 519}\\n', '{\"episode\": 3600, \"act_val6\": 1.317305564880371, \"_runtime\": 937.2407932281494, \"_timestamp\": 1591718246.0155451, \"_step\": 520}\\n', '{\"episode\": 3600, \"eval_rewards\": 0.9094755155639096, \"_runtime\": 938.4169580936432, \"_timestamp\": 1591718247.19171, \"_step\": 521}\\n', '{\"episode\": 3650, \"act_val0\": 1.3723787069320679, \"_runtime\": 952.7748010158539, \"_timestamp\": 1591718261.549553, \"_step\": 522}\\n', '{\"episode\": 3650, \"act_val1\": 1.3611472845077515, \"_runtime\": 952.781004190445, \"_timestamp\": 1591718261.555756, \"_step\": 523}\\n', '{\"episode\": 3650, \"act_val2\": 1.3544081449508667, \"_runtime\": 952.7855401039124, \"_timestamp\": 1591718261.560292, \"_step\": 524}\\n', '{\"episode\": 3650, \"act_val3\": 1.349897861480713, \"_runtime\": 952.7900841236115, \"_timestamp\": 1591718261.564836, \"_step\": 525}\\n', '{\"episode\": 3650, \"act_val4\": 1.345350742340088, \"_runtime\": 952.794762134552, \"_timestamp\": 1591718261.569514, \"_step\": 526}\\n', '{\"episode\": 3650, \"act_val5\": 1.3258099555969238, \"_runtime\": 952.7990531921387, \"_timestamp\": 1591718261.573805, \"_step\": 527}\\n', '{\"episode\": 3650, \"act_val6\": 1.307779312133789, \"_runtime\": 952.803463935852, \"_timestamp\": 1591718261.5782158, \"_step\": 528}\\n']}, 'wandb-summary.json': {'offset': 0, 'content': ['{\"act_val0\": 1.3723787069320679, \"episode\": 3650, \"_runtime\": 952.803463935852, \"_timestamp\": 1591718261.5782158, \"_step\": 528, \"act_val1\": 1.3611472845077515, \"act_val2\": 1.3544081449508667, \"act_val3\": 1.349897861480713, \"act_val4\": 1.345350742340088, \"act_val5\": 1.3258099555969238, \"act_val6\": 1.307779312133789, \"eval_rewards\": 0.9094755155639096}\\n']}}}}\n",
      "requests_with_retry encountered retryable exception: ('Connection aborted.', OSError(\"(54, 'ECONNRESET')\")). args: ('https://api.wandb.ai/files/tobyg/OptEx/2dfrt9q7/file_stream',), kwargs: {'json': {'files': {'wandb-events.jsonl': {'offset': 66, 'content': ['{\"system.cpu\": 37.88, \"system.memory\": 68.49, \"system.disk\": 46.9, \"system.proc.memory.availableMB\": 2580.86, \"system.proc.memory.rssMB\": 388.82, \"system.proc.memory.percent\": 4.75, \"system.proc.cpu.threads\": 35.0, \"system.network.sent\": 10467328, \"system.network.recv\": 32815104, \"_wandb\": true, \"_timestamp\": 1591722203, \"_runtime\": 4894}\\n']}, 'wandb-history.jsonl': {'offset': 964, 'content': ['{\"episode\": 6700, \"act_val0\": 1.3740781545639038, \"_runtime\": 4143.705914974213, \"_timestamp\": 1591721452.4806669, \"_step\": 964}\\n', '{\"episode\": 6700, \"act_val1\": 1.361418604850769, \"_runtime\": 4143.71187210083, \"_timestamp\": 1591721452.486624, \"_step\": 965}\\n', '{\"episode\": 6700, \"act_val2\": 1.3538230657577515, \"_runtime\": 4143.717847108841, \"_timestamp\": 1591721452.492599, \"_step\": 966}\\n', '{\"episode\": 6700, \"act_val3\": 1.3487591743469238, \"_runtime\": 4143.72686123848, \"_timestamp\": 1591721452.5016131, \"_step\": 967}\\n', '{\"episode\": 6700, \"act_val4\": 1.3436954021453857, \"_runtime\": 4143.736104011536, \"_timestamp\": 1591721452.510856, \"_step\": 968}\\n', '{\"episode\": 6700, \"act_val5\": 1.3234403133392334, \"_runtime\": 4143.745114326477, \"_timestamp\": 1591721452.5198662, \"_step\": 969}\\n', '{\"episode\": 6700, \"act_val6\": 1.298121452331543, \"_runtime\": 4143.751136064529, \"_timestamp\": 1591721452.525888, \"_step\": 970}\\n']}, 'wandb-summary.json': {'offset': 0, 'content': ['{\"act_val0\": 1.3740781545639038, \"episode\": 6700, \"_runtime\": 4143.751136064529, \"_timestamp\": 1591721452.525888, \"_step\": 970, \"act_val1\": 1.361418604850769, \"act_val2\": 1.3538230657577515, \"act_val3\": 1.3487591743469238, \"act_val4\": 1.3436954021453857, \"act_val5\": 1.3234403133392334, \"act_val6\": 1.298121452331543, \"eval_rewards\": 0.9095024319670924}\\n']}}}}\n"
     ]
    },
    {
     "ename": "KeyboardInterrupt",
     "evalue": "",
     "output_type": "error",
     "traceback": [
      "\u001b[0;31m---------------------------------------------------------------------------\u001b[0m",
      "\u001b[0;31mKeyboardInterrupt\u001b[0m                         Traceback (most recent call last)",
      "\u001b[0;32m<ipython-input-1-aeef30018154>\u001b[0m in \u001b[0;36m<module>\u001b[0;34m\u001b[0m\n\u001b[1;32m     62\u001b[0m \u001b[0mmy_simulator\u001b[0m \u001b[0;34m=\u001b[0m \u001b[0mlibrary\u001b[0m\u001b[0;34m.\u001b[0m\u001b[0msimulations\u001b[0m\u001b[0;34m.\u001b[0m\u001b[0msimulator\u001b[0m\u001b[0;34m(\u001b[0m\u001b[0msimple_market\u001b[0m\u001b[0;34m,\u001b[0m\u001b[0magents\u001b[0m\u001b[0;34m,\u001b[0m\u001b[0mparams\u001b[0m\u001b[0;34m,\u001b[0m\u001b[0mtest_name\u001b[0m \u001b[0;34m=\u001b[0m \u001b[0;34m\"Simple Stock Testing\"\u001b[0m\u001b[0;34m)\u001b[0m\u001b[0;34m\u001b[0m\u001b[0;34m\u001b[0m\u001b[0m\n\u001b[1;32m     63\u001b[0m \u001b[0;34m\u001b[0m\u001b[0m\n\u001b[0;32m---> 64\u001b[0;31m \u001b[0mmy_simulator\u001b[0m\u001b[0;34m.\u001b[0m\u001b[0mtrain\u001b[0m\u001b[0;34m(\u001b[0m\u001b[0;36m10000\u001b[0m\u001b[0;34m)\u001b[0m\u001b[0;34m\u001b[0m\u001b[0;34m\u001b[0m\u001b[0m\n\u001b[0m",
      "\u001b[0;32m~/Documents/Imperial/Thesis/ThesisCode/library/simulations.py\u001b[0m in \u001b[0;36mtrain\u001b[0;34m(self, n_episodes, epsilon, epsilon_decay, show_details, evaluate)\u001b[0m\n\u001b[1;32m    199\u001b[0m                                 \u001b[0;32mfor\u001b[0m \u001b[0mi\u001b[0m\u001b[0;34m,\u001b[0m \u001b[0magent\u001b[0m \u001b[0;32min\u001b[0m \u001b[0menumerate\u001b[0m\u001b[0;34m(\u001b[0m\u001b[0mself\u001b[0m\u001b[0;34m.\u001b[0m\u001b[0magents\u001b[0m\u001b[0;34m)\u001b[0m\u001b[0;34m:\u001b[0m\u001b[0;34m\u001b[0m\u001b[0;34m\u001b[0m\u001b[0m\n\u001b[1;32m    200\u001b[0m                                         \u001b[0;32mif\u001b[0m \u001b[0mlen\u001b[0m\u001b[0;34m(\u001b[0m\u001b[0magent\u001b[0m\u001b[0;34m.\u001b[0m\u001b[0mmemory\u001b[0m\u001b[0;34m)\u001b[0m \u001b[0;34m>\u001b[0m \u001b[0mself\u001b[0m\u001b[0;34m.\u001b[0m\u001b[0mbatch_size\u001b[0m \u001b[0;32mand\u001b[0m \u001b[0;32mnot\u001b[0m \u001b[0mevaluate\u001b[0m\u001b[0;34m:\u001b[0m\u001b[0;34m\u001b[0m\u001b[0;34m\u001b[0m\u001b[0m\n\u001b[0;32m--> 201\u001b[0;31m                                                 \u001b[0magent\u001b[0m\u001b[0;34m.\u001b[0m\u001b[0mreplay\u001b[0m\u001b[0;34m(\u001b[0m\u001b[0mself\u001b[0m\u001b[0;34m.\u001b[0m\u001b[0mbatch_size\u001b[0m\u001b[0;34m)\u001b[0m \u001b[0;31m# train the agent by replaying the experiences of the episode\u001b[0m\u001b[0;34m\u001b[0m\u001b[0;34m\u001b[0m\u001b[0m\n\u001b[0m\u001b[1;32m    202\u001b[0m                                                 \u001b[0magent\u001b[0m\u001b[0;34m.\u001b[0m\u001b[0mstep\u001b[0m\u001b[0;34m(\u001b[0m\u001b[0;34m)\u001b[0m \u001b[0;31m# Update target network if required\u001b[0m\u001b[0;34m\u001b[0m\u001b[0;34m\u001b[0m\u001b[0m\n\u001b[1;32m    203\u001b[0m \u001b[0;34m\u001b[0m\u001b[0m\n",
      "\u001b[0;32m~/Documents/Imperial/Thesis/ThesisCode/library/agents/baseAgents.py\u001b[0m in \u001b[0;36mreplay\u001b[0;34m(self, batch_size)\u001b[0m\n\u001b[1;32m    201\u001b[0m                 \u001b[0;32mfor\u001b[0m \u001b[0mmem_index\u001b[0m\u001b[0;34m,\u001b[0m \u001b[0;34m(\u001b[0m\u001b[0mstate\u001b[0m\u001b[0;34m,\u001b[0m \u001b[0maction\u001b[0m\u001b[0;34m,\u001b[0m \u001b[0mreward\u001b[0m\u001b[0;34m,\u001b[0m \u001b[0mnext_state\u001b[0m\u001b[0;34m,\u001b[0m \u001b[0mdone\u001b[0m\u001b[0;34m)\u001b[0m \u001b[0;32min\u001b[0m \u001b[0mminibatch\u001b[0m\u001b[0;34m:\u001b[0m\u001b[0;34m\u001b[0m\u001b[0;34m\u001b[0m\u001b[0m\n\u001b[1;32m    202\u001b[0m                         \u001b[0;31m#print(\"replay state\",state)\u001b[0m\u001b[0;34m\u001b[0m\u001b[0;34m\u001b[0m\u001b[0;34m\u001b[0m\u001b[0m\n\u001b[0;32m--> 203\u001b[0;31m                         \u001b[0mself\u001b[0m\u001b[0;34m.\u001b[0m\u001b[0mfit\u001b[0m\u001b[0;34m(\u001b[0m\u001b[0mstate\u001b[0m\u001b[0;34m,\u001b[0m \u001b[0maction\u001b[0m\u001b[0;34m,\u001b[0m \u001b[0mreward\u001b[0m\u001b[0;34m,\u001b[0m \u001b[0mnext_state\u001b[0m\u001b[0;34m,\u001b[0m \u001b[0mdone\u001b[0m\u001b[0;34m,\u001b[0m\u001b[0mmem_index\u001b[0m\u001b[0;34m)\u001b[0m\u001b[0;34m\u001b[0m\u001b[0;34m\u001b[0m\u001b[0m\n\u001b[0m\u001b[1;32m    204\u001b[0m \u001b[0;34m\u001b[0m\u001b[0m\n\u001b[1;32m    205\u001b[0m         \u001b[0;32mdef\u001b[0m \u001b[0mstep\u001b[0m\u001b[0;34m(\u001b[0m\u001b[0mself\u001b[0m\u001b[0;34m)\u001b[0m\u001b[0;34m:\u001b[0m\u001b[0;34m\u001b[0m\u001b[0;34m\u001b[0m\u001b[0m\n",
      "\u001b[0;32m~/Documents/Imperial/Thesis/ThesisCode/library/agents/distAgentsWIP2.py\u001b[0m in \u001b[0;36mfit\u001b[0;34m(self, state, action_index, reward, next_state, done, mem_index)\u001b[0m\n\u001b[1;32m    447\u001b[0m \u001b[0;34m\u001b[0m\u001b[0m\n\u001b[1;32m    448\u001b[0m \u001b[0;34m\u001b[0m\u001b[0m\n\u001b[0;32m--> 449\u001b[0;31m                 \u001b[0mtarget\u001b[0m \u001b[0;34m=\u001b[0m \u001b[0mself\u001b[0m\u001b[0;34m.\u001b[0m\u001b[0mproject\u001b[0m\u001b[0;34m(\u001b[0m\u001b[0mreward\u001b[0m\u001b[0;34m,\u001b[0m\u001b[0mnext_state\u001b[0m\u001b[0;34m,\u001b[0m\u001b[0mdone\u001b[0m\u001b[0;34m,\u001b[0m\u001b[0mself\u001b[0m\u001b[0;34m.\u001b[0m\u001b[0mtree_n\u001b[0m\u001b[0;34m,\u001b[0m\u001b[0mmem_index\u001b[0m\u001b[0;34m)\u001b[0m\u001b[0;34m\u001b[0m\u001b[0;34m\u001b[0m\u001b[0m\n\u001b[0m\u001b[1;32m    450\u001b[0m                 \u001b[0;31m#print(target)\u001b[0m\u001b[0;34m\u001b[0m\u001b[0;34m\u001b[0m\u001b[0;34m\u001b[0m\u001b[0m\n\u001b[1;32m    451\u001b[0m \u001b[0;34m\u001b[0m\u001b[0m\n",
      "\u001b[0;32m~/Documents/Imperial/Thesis/ThesisCode/library/agents/distAgentsWIP2.py\u001b[0m in \u001b[0;36mproject\u001b[0;34m(self, reward, next_state, done, horizon, mem_index)\u001b[0m\n\u001b[1;32m    423\u001b[0m                 \u001b[0mpredict\u001b[0m \u001b[0;34m=\u001b[0m \u001b[0;34m[\u001b[0m\u001b[0;34m]\u001b[0m\u001b[0;34m\u001b[0m\u001b[0;34m\u001b[0m\u001b[0m\n\u001b[1;32m    424\u001b[0m                 \u001b[0;32mif\u001b[0m \u001b[0;32mnot\u001b[0m \u001b[0mdone\u001b[0m\u001b[0;34m:\u001b[0m\u001b[0;34m\u001b[0m\u001b[0;34m\u001b[0m\u001b[0m\n\u001b[0;32m--> 425\u001b[0;31m                         \u001b[0mnext_action_index\u001b[0m \u001b[0;34m=\u001b[0m \u001b[0mnp\u001b[0m\u001b[0;34m.\u001b[0m\u001b[0margmax\u001b[0m\u001b[0;34m(\u001b[0m\u001b[0mself\u001b[0m\u001b[0;34m.\u001b[0m\u001b[0mpredict\u001b[0m\u001b[0;34m(\u001b[0m\u001b[0mnext_state\u001b[0m\u001b[0;34m)\u001b[0m\u001b[0;34m[\u001b[0m\u001b[0;36m0\u001b[0m\u001b[0;34m]\u001b[0m\u001b[0;34m)\u001b[0m\u001b[0;34m\u001b[0m\u001b[0;34m\u001b[0m\u001b[0m\n\u001b[0m\u001b[1;32m    426\u001b[0m                         \u001b[0;32mif\u001b[0m \u001b[0mhorizon\u001b[0m \u001b[0;34m>\u001b[0m \u001b[0;36m1\u001b[0m \u001b[0;32mand\u001b[0m \u001b[0mmem_index\u001b[0m \u001b[0;34m<\u001b[0m \u001b[0;34m(\u001b[0m\u001b[0mself\u001b[0m\u001b[0;34m.\u001b[0m\u001b[0mmemory\u001b[0m\u001b[0;34m.\u001b[0m\u001b[0msize\u001b[0m \u001b[0;34m-\u001b[0m \u001b[0;36m1\u001b[0m\u001b[0;34m)\u001b[0m\u001b[0;34m:\u001b[0m\u001b[0;34m\u001b[0m\u001b[0;34m\u001b[0m\u001b[0m\n\u001b[1;32m    427\u001b[0m                                 \u001b[0mstate1\u001b[0m\u001b[0;34m,\u001b[0m \u001b[0maction1\u001b[0m\u001b[0;34m,\u001b[0m \u001b[0mreward1\u001b[0m\u001b[0;34m,\u001b[0m \u001b[0mnext_state1\u001b[0m\u001b[0;34m,\u001b[0m \u001b[0mdone1\u001b[0m \u001b[0;34m=\u001b[0m \u001b[0mself\u001b[0m\u001b[0;34m.\u001b[0m\u001b[0mmemory\u001b[0m\u001b[0;34m[\u001b[0m\u001b[0mmem_index\u001b[0m \u001b[0;34m+\u001b[0m \u001b[0;36m1\u001b[0m\u001b[0;34m]\u001b[0m\u001b[0;34m\u001b[0m\u001b[0;34m\u001b[0m\u001b[0m\n",
      "\u001b[0;32m~/Documents/Imperial/Thesis/ThesisCode/library/agents/distAgentsWIP2.py\u001b[0m in \u001b[0;36mpredict\u001b[0;34m(self, state, target)\u001b[0m\n\u001b[1;32m    413\u001b[0m                 \u001b[0mres\u001b[0m \u001b[0;34m=\u001b[0m \u001b[0;34m[\u001b[0m\u001b[0;34m]\u001b[0m\u001b[0;34m\u001b[0m\u001b[0;34m\u001b[0m\u001b[0m\n\u001b[1;32m    414\u001b[0m                 \u001b[0;32mfor\u001b[0m \u001b[0mi\u001b[0m \u001b[0;32min\u001b[0m \u001b[0mrange\u001b[0m\u001b[0;34m(\u001b[0m\u001b[0mself\u001b[0m\u001b[0;34m.\u001b[0m\u001b[0maction_size\u001b[0m\u001b[0;34m)\u001b[0m\u001b[0;34m:\u001b[0m\u001b[0;34m\u001b[0m\u001b[0;34m\u001b[0m\u001b[0m\n\u001b[0;32m--> 415\u001b[0;31m                         \u001b[0mres\u001b[0m\u001b[0;34m.\u001b[0m\u001b[0mappend\u001b[0m\u001b[0;34m(\u001b[0m\u001b[0mself\u001b[0m\u001b[0;34m.\u001b[0m\u001b[0mpredict_action\u001b[0m\u001b[0;34m(\u001b[0m\u001b[0mstate\u001b[0m\u001b[0;34m,\u001b[0m\u001b[0mi\u001b[0m\u001b[0;34m,\u001b[0m\u001b[0mtarget\u001b[0m \u001b[0;34m=\u001b[0m \u001b[0mtarget\u001b[0m\u001b[0;34m)\u001b[0m\u001b[0;34m)\u001b[0m\u001b[0;34m\u001b[0m\u001b[0;34m\u001b[0m\u001b[0m\n\u001b[0m\u001b[1;32m    416\u001b[0m \u001b[0;34m\u001b[0m\u001b[0m\n\u001b[1;32m    417\u001b[0m                 \u001b[0mres\u001b[0m \u001b[0;34m=\u001b[0m \u001b[0mnp\u001b[0m\u001b[0;34m.\u001b[0m\u001b[0marray\u001b[0m\u001b[0;34m(\u001b[0m\u001b[0mres\u001b[0m\u001b[0;34m)\u001b[0m\u001b[0;34m\u001b[0m\u001b[0;34m\u001b[0m\u001b[0m\n",
      "\u001b[0;32m~/Documents/Imperial/Thesis/ThesisCode/library/agents/distAgentsWIP2.py\u001b[0m in \u001b[0;36mpredict_action\u001b[0;34m(self, state, action_index, target)\u001b[0m\n\u001b[1;32m    396\u001b[0m                 \u001b[0;31m#print(\"predict_action output\",self.model.predict([state_action,self.quantiles_selected]))\u001b[0m\u001b[0;34m\u001b[0m\u001b[0;34m\u001b[0m\u001b[0;34m\u001b[0m\u001b[0m\n\u001b[1;32m    397\u001b[0m \u001b[0;34m\u001b[0m\u001b[0m\n\u001b[0;32m--> 398\u001b[0;31m                 \u001b[0;32mreturn\u001b[0m \u001b[0mnp\u001b[0m\u001b[0;34m.\u001b[0m\u001b[0madd\u001b[0m\u001b[0;34m.\u001b[0m\u001b[0mreduce\u001b[0m\u001b[0;34m(\u001b[0m\u001b[0mself\u001b[0m\u001b[0;34m.\u001b[0m\u001b[0mqi\u001b[0m \u001b[0;34m*\u001b[0m \u001b[0mself\u001b[0m\u001b[0;34m.\u001b[0m\u001b[0mmodel\u001b[0m\u001b[0;34m.\u001b[0m\u001b[0mpredict\u001b[0m\u001b[0;34m(\u001b[0m\u001b[0mstate_action\u001b[0m\u001b[0;34m)\u001b[0m\u001b[0;34m,\u001b[0m\u001b[0;36m1\u001b[0m\u001b[0;34m)\u001b[0m\u001b[0;34m\u001b[0m\u001b[0;34m\u001b[0m\u001b[0m\n\u001b[0m\u001b[1;32m    399\u001b[0m \u001b[0;34m\u001b[0m\u001b[0m\n\u001b[1;32m    400\u001b[0m         \u001b[0;31m# This function needs to be rolled into predict_action\u001b[0m\u001b[0;34m\u001b[0m\u001b[0;34m\u001b[0m\u001b[0;34m\u001b[0m\u001b[0m\n",
      "\u001b[0;32m~/Applications/anaconda3/lib/python3.7/site-packages/keras/engine/training.py\u001b[0m in \u001b[0;36mpredict\u001b[0;34m(self, x, batch_size, verbose, steps, callbacks, max_queue_size, workers, use_multiprocessing)\u001b[0m\n\u001b[1;32m   1460\u001b[0m                                             \u001b[0mverbose\u001b[0m\u001b[0;34m=\u001b[0m\u001b[0mverbose\u001b[0m\u001b[0;34m,\u001b[0m\u001b[0;34m\u001b[0m\u001b[0;34m\u001b[0m\u001b[0m\n\u001b[1;32m   1461\u001b[0m                                             \u001b[0msteps\u001b[0m\u001b[0;34m=\u001b[0m\u001b[0msteps\u001b[0m\u001b[0;34m,\u001b[0m\u001b[0;34m\u001b[0m\u001b[0;34m\u001b[0m\u001b[0m\n\u001b[0;32m-> 1462\u001b[0;31m                                             callbacks=callbacks)\n\u001b[0m\u001b[1;32m   1463\u001b[0m \u001b[0;34m\u001b[0m\u001b[0m\n\u001b[1;32m   1464\u001b[0m     def train_on_batch(self, x, y,\n",
      "\u001b[0;32m~/Applications/anaconda3/lib/python3.7/site-packages/keras/engine/training_arrays.py\u001b[0m in \u001b[0;36mpredict_loop\u001b[0;34m(model, f, ins, batch_size, verbose, steps, callbacks)\u001b[0m\n\u001b[1;32m    322\u001b[0m             \u001b[0mbatch_logs\u001b[0m \u001b[0;34m=\u001b[0m \u001b[0;34m{\u001b[0m\u001b[0;34m'batch'\u001b[0m\u001b[0;34m:\u001b[0m \u001b[0mbatch_index\u001b[0m\u001b[0;34m,\u001b[0m \u001b[0;34m'size'\u001b[0m\u001b[0;34m:\u001b[0m \u001b[0mlen\u001b[0m\u001b[0;34m(\u001b[0m\u001b[0mbatch_ids\u001b[0m\u001b[0;34m)\u001b[0m\u001b[0;34m}\u001b[0m\u001b[0;34m\u001b[0m\u001b[0;34m\u001b[0m\u001b[0m\n\u001b[1;32m    323\u001b[0m             \u001b[0mcallbacks\u001b[0m\u001b[0;34m.\u001b[0m\u001b[0m_call_batch_hook\u001b[0m\u001b[0;34m(\u001b[0m\u001b[0;34m'predict'\u001b[0m\u001b[0;34m,\u001b[0m \u001b[0;34m'begin'\u001b[0m\u001b[0;34m,\u001b[0m \u001b[0mbatch_index\u001b[0m\u001b[0;34m,\u001b[0m \u001b[0mbatch_logs\u001b[0m\u001b[0;34m)\u001b[0m\u001b[0;34m\u001b[0m\u001b[0;34m\u001b[0m\u001b[0m\n\u001b[0;32m--> 324\u001b[0;31m             \u001b[0mbatch_outs\u001b[0m \u001b[0;34m=\u001b[0m \u001b[0mf\u001b[0m\u001b[0;34m(\u001b[0m\u001b[0mins_batch\u001b[0m\u001b[0;34m)\u001b[0m\u001b[0;34m\u001b[0m\u001b[0;34m\u001b[0m\u001b[0m\n\u001b[0m\u001b[1;32m    325\u001b[0m             \u001b[0mbatch_outs\u001b[0m \u001b[0;34m=\u001b[0m \u001b[0mto_list\u001b[0m\u001b[0;34m(\u001b[0m\u001b[0mbatch_outs\u001b[0m\u001b[0;34m)\u001b[0m\u001b[0;34m\u001b[0m\u001b[0;34m\u001b[0m\u001b[0m\n\u001b[1;32m    326\u001b[0m             \u001b[0;32mif\u001b[0m \u001b[0mbatch_index\u001b[0m \u001b[0;34m==\u001b[0m \u001b[0;36m0\u001b[0m\u001b[0;34m:\u001b[0m\u001b[0;34m\u001b[0m\u001b[0;34m\u001b[0m\u001b[0m\n",
      "\u001b[0;32m~/Applications/anaconda3/lib/python3.7/site-packages/tensorflow/python/keras/backend.py\u001b[0m in \u001b[0;36m__call__\u001b[0;34m(self, inputs)\u001b[0m\n\u001b[1;32m   3790\u001b[0m         \u001b[0mvalue\u001b[0m \u001b[0;34m=\u001b[0m \u001b[0mmath_ops\u001b[0m\u001b[0;34m.\u001b[0m\u001b[0mcast\u001b[0m\u001b[0;34m(\u001b[0m\u001b[0mvalue\u001b[0m\u001b[0;34m,\u001b[0m \u001b[0mtensor\u001b[0m\u001b[0;34m.\u001b[0m\u001b[0mdtype\u001b[0m\u001b[0;34m)\u001b[0m\u001b[0;34m\u001b[0m\u001b[0;34m\u001b[0m\u001b[0m\n\u001b[1;32m   3791\u001b[0m       \u001b[0mconverted_inputs\u001b[0m\u001b[0;34m.\u001b[0m\u001b[0mappend\u001b[0m\u001b[0;34m(\u001b[0m\u001b[0mvalue\u001b[0m\u001b[0;34m)\u001b[0m\u001b[0;34m\u001b[0m\u001b[0;34m\u001b[0m\u001b[0m\n\u001b[0;32m-> 3792\u001b[0;31m     \u001b[0moutputs\u001b[0m \u001b[0;34m=\u001b[0m \u001b[0mself\u001b[0m\u001b[0;34m.\u001b[0m\u001b[0m_graph_fn\u001b[0m\u001b[0;34m(\u001b[0m\u001b[0;34m*\u001b[0m\u001b[0mconverted_inputs\u001b[0m\u001b[0;34m)\u001b[0m\u001b[0;34m\u001b[0m\u001b[0;34m\u001b[0m\u001b[0m\n\u001b[0m\u001b[1;32m   3793\u001b[0m \u001b[0;34m\u001b[0m\u001b[0m\n\u001b[1;32m   3794\u001b[0m     \u001b[0;31m# EagerTensor.numpy() will often make a copy to ensure memory safety.\u001b[0m\u001b[0;34m\u001b[0m\u001b[0;34m\u001b[0m\u001b[0;34m\u001b[0m\u001b[0m\n",
      "\u001b[0;32m~/Applications/anaconda3/lib/python3.7/site-packages/tensorflow/python/eager/function.py\u001b[0m in \u001b[0;36m__call__\u001b[0;34m(self, *args, **kwargs)\u001b[0m\n\u001b[1;32m   1603\u001b[0m       \u001b[0mTypeError\u001b[0m\u001b[0;34m:\u001b[0m \u001b[0mFor\u001b[0m \u001b[0minvalid\u001b[0m \u001b[0mpositional\u001b[0m\u001b[0;34m/\u001b[0m\u001b[0mkeyword\u001b[0m \u001b[0margument\u001b[0m \u001b[0mcombinations\u001b[0m\u001b[0;34m.\u001b[0m\u001b[0;34m\u001b[0m\u001b[0;34m\u001b[0m\u001b[0m\n\u001b[1;32m   1604\u001b[0m     \"\"\"\n\u001b[0;32m-> 1605\u001b[0;31m     \u001b[0;32mreturn\u001b[0m \u001b[0mself\u001b[0m\u001b[0;34m.\u001b[0m\u001b[0m_call_impl\u001b[0m\u001b[0;34m(\u001b[0m\u001b[0margs\u001b[0m\u001b[0;34m,\u001b[0m \u001b[0mkwargs\u001b[0m\u001b[0;34m)\u001b[0m\u001b[0;34m\u001b[0m\u001b[0;34m\u001b[0m\u001b[0m\n\u001b[0m\u001b[1;32m   1606\u001b[0m \u001b[0;34m\u001b[0m\u001b[0m\n\u001b[1;32m   1607\u001b[0m   \u001b[0;32mdef\u001b[0m \u001b[0m_call_impl\u001b[0m\u001b[0;34m(\u001b[0m\u001b[0mself\u001b[0m\u001b[0;34m,\u001b[0m \u001b[0margs\u001b[0m\u001b[0;34m,\u001b[0m \u001b[0mkwargs\u001b[0m\u001b[0;34m,\u001b[0m \u001b[0mcancellation_manager\u001b[0m\u001b[0;34m=\u001b[0m\u001b[0;32mNone\u001b[0m\u001b[0;34m)\u001b[0m\u001b[0;34m:\u001b[0m\u001b[0;34m\u001b[0m\u001b[0;34m\u001b[0m\u001b[0m\n",
      "\u001b[0;32m~/Applications/anaconda3/lib/python3.7/site-packages/tensorflow/python/eager/function.py\u001b[0m in \u001b[0;36m_call_impl\u001b[0;34m(self, args, kwargs, cancellation_manager)\u001b[0m\n\u001b[1;32m   1643\u001b[0m       raise TypeError(\"Keyword arguments {} unknown. Expected {}.\".format(\n\u001b[1;32m   1644\u001b[0m           list(kwargs.keys()), list(self._arg_keywords)))\n\u001b[0;32m-> 1645\u001b[0;31m     \u001b[0;32mreturn\u001b[0m \u001b[0mself\u001b[0m\u001b[0;34m.\u001b[0m\u001b[0m_call_flat\u001b[0m\u001b[0;34m(\u001b[0m\u001b[0margs\u001b[0m\u001b[0;34m,\u001b[0m \u001b[0mself\u001b[0m\u001b[0;34m.\u001b[0m\u001b[0mcaptured_inputs\u001b[0m\u001b[0;34m,\u001b[0m \u001b[0mcancellation_manager\u001b[0m\u001b[0;34m)\u001b[0m\u001b[0;34m\u001b[0m\u001b[0;34m\u001b[0m\u001b[0m\n\u001b[0m\u001b[1;32m   1646\u001b[0m \u001b[0;34m\u001b[0m\u001b[0m\n\u001b[1;32m   1647\u001b[0m   \u001b[0;32mdef\u001b[0m \u001b[0m_filtered_call\u001b[0m\u001b[0;34m(\u001b[0m\u001b[0mself\u001b[0m\u001b[0;34m,\u001b[0m \u001b[0margs\u001b[0m\u001b[0;34m,\u001b[0m \u001b[0mkwargs\u001b[0m\u001b[0;34m)\u001b[0m\u001b[0;34m:\u001b[0m\u001b[0;34m\u001b[0m\u001b[0;34m\u001b[0m\u001b[0m\n",
      "\u001b[0;32m~/Applications/anaconda3/lib/python3.7/site-packages/tensorflow/python/eager/function.py\u001b[0m in \u001b[0;36m_call_flat\u001b[0;34m(self, args, captured_inputs, cancellation_manager)\u001b[0m\n\u001b[1;32m   1744\u001b[0m       \u001b[0;31m# No tape is watching; skip to running the function.\u001b[0m\u001b[0;34m\u001b[0m\u001b[0;34m\u001b[0m\u001b[0;34m\u001b[0m\u001b[0m\n\u001b[1;32m   1745\u001b[0m       return self._build_call_outputs(self._inference_function.call(\n\u001b[0;32m-> 1746\u001b[0;31m           ctx, args, cancellation_manager=cancellation_manager))\n\u001b[0m\u001b[1;32m   1747\u001b[0m     forward_backward = self._select_forward_and_backward_functions(\n\u001b[1;32m   1748\u001b[0m         \u001b[0margs\u001b[0m\u001b[0;34m,\u001b[0m\u001b[0;34m\u001b[0m\u001b[0;34m\u001b[0m\u001b[0m\n",
      "\u001b[0;32m~/Applications/anaconda3/lib/python3.7/site-packages/tensorflow/python/eager/function.py\u001b[0m in \u001b[0;36mcall\u001b[0;34m(self, ctx, args, cancellation_manager)\u001b[0m\n\u001b[1;32m    596\u001b[0m               \u001b[0minputs\u001b[0m\u001b[0;34m=\u001b[0m\u001b[0margs\u001b[0m\u001b[0;34m,\u001b[0m\u001b[0;34m\u001b[0m\u001b[0;34m\u001b[0m\u001b[0m\n\u001b[1;32m    597\u001b[0m               \u001b[0mattrs\u001b[0m\u001b[0;34m=\u001b[0m\u001b[0mattrs\u001b[0m\u001b[0;34m,\u001b[0m\u001b[0;34m\u001b[0m\u001b[0;34m\u001b[0m\u001b[0m\n\u001b[0;32m--> 598\u001b[0;31m               ctx=ctx)\n\u001b[0m\u001b[1;32m    599\u001b[0m         \u001b[0;32melse\u001b[0m\u001b[0;34m:\u001b[0m\u001b[0;34m\u001b[0m\u001b[0;34m\u001b[0m\u001b[0m\n\u001b[1;32m    600\u001b[0m           outputs = execute.execute_with_cancellation(\n",
      "\u001b[0;32m~/Applications/anaconda3/lib/python3.7/site-packages/tensorflow/python/eager/execute.py\u001b[0m in \u001b[0;36mquick_execute\u001b[0;34m(op_name, num_outputs, inputs, attrs, ctx, name)\u001b[0m\n\u001b[1;32m     58\u001b[0m     \u001b[0mctx\u001b[0m\u001b[0;34m.\u001b[0m\u001b[0mensure_initialized\u001b[0m\u001b[0;34m(\u001b[0m\u001b[0;34m)\u001b[0m\u001b[0;34m\u001b[0m\u001b[0;34m\u001b[0m\u001b[0m\n\u001b[1;32m     59\u001b[0m     tensors = pywrap_tfe.TFE_Py_Execute(ctx._handle, device_name, op_name,\n\u001b[0;32m---> 60\u001b[0;31m                                         inputs, attrs, num_outputs)\n\u001b[0m\u001b[1;32m     61\u001b[0m   \u001b[0;32mexcept\u001b[0m \u001b[0mcore\u001b[0m\u001b[0;34m.\u001b[0m\u001b[0m_NotOkStatusException\u001b[0m \u001b[0;32mas\u001b[0m \u001b[0me\u001b[0m\u001b[0;34m:\u001b[0m\u001b[0;34m\u001b[0m\u001b[0;34m\u001b[0m\u001b[0m\n\u001b[1;32m     62\u001b[0m     \u001b[0;32mif\u001b[0m \u001b[0mname\u001b[0m \u001b[0;32mis\u001b[0m \u001b[0;32mnot\u001b[0m \u001b[0;32mNone\u001b[0m\u001b[0;34m:\u001b[0m\u001b[0;34m\u001b[0m\u001b[0;34m\u001b[0m\u001b[0m\n",
      "\u001b[0;31mKeyboardInterrupt\u001b[0m: "
     ]
    }
   ],
   "source": [
    "# External Packages\n",
    "import numpy as np\n",
    "\n",
    "# Internal Library\n",
    "from library.market_modelsM import market, bs_stock, signal_stock, real_stock\n",
    "from library.agents.distAgentsWIP2 import QRAgent, C51Agent\n",
    "from library.agents.baseAgents import TWAPAgent\n",
    "#from library.agents.distAgents import C51Agent\n",
    "import library.simulations\n",
    "import pandas as pd\n",
    "\n",
    "# Define setup\n",
    "params = {\n",
    "    \"terminal\" : 3600,\n",
    "    \"num_trades\" : 10,\n",
    "    \"position\" : 1,\n",
    "    \"batch_size\" : 32,\n",
    "    \"action_values\" : [0.05,0.075,0.09,0.1,0.11,0.15,0.2] #[0.05,0.075,0.1,0.15,0.2] \n",
    "}\n",
    "state_size = 2\n",
    "action_size = len(params[\"action_values\"])\n",
    "n_hist_prices = 0\n",
    "\n",
    "# Define Agents\n",
    "quentin = library.agents.distAgentsWIP2.QRAgent(state_size, params[\"action_values\"], \"Quentin\",C=0, alternative_target = False,UCB=False,UCBc = 1,tree_horizon = 1,market_data_size=n_hist_prices)\n",
    "brian = library.agents.distAgentsWIP2.C51Agent(state_size, params[\"action_values\"], \"Brian Appl 1hr md32\",C=100, alternative_target = True,UCB=True,UCBc = 100,tree_horizon = 4,market_data_size=n_hist_prices)\n",
    "tim = library.agents.baseAgents.TWAPAgent(3,\"TWAP_APPL\", len(params[\"action_values\"]))\n",
    "#print(brian.model.summary())\n",
    "agents = [\n",
    "    quentin\n",
    "]\n",
    "\n",
    "brian.learning_rate = 0.0001\n",
    "# NOTE: Cosine basis for Isabelle results in a lot of params...\n",
    "\n",
    "# Initialise Simulator\n",
    "# BS market\n",
    "'''\n",
    "simple_stock = bs_stock(1,0,0.0005) # No drift, 0.0005 vol\n",
    "simple_market = market(simple_stock,num_strats = len(agents))\n",
    "my_simulator = library.simulations.simulator(simple_market,agents,params,test_name = \"QR Testing\")\n",
    "'''\n",
    "\n",
    "# real stock testing\n",
    "# Retrieve data\n",
    "\n",
    "df1 = pd.read_csv(\"data/2020_05_04_SPX_yFinance\") # Load .csv\n",
    "df1 = df1[\"Adj Close.3\"][2:]\n",
    "df2 = pd.read_csv(\"data/2020_05_16_SPX_yFinance\") # Load .csv\n",
    "df2 = df2[\"Adj Close.3\"][2:]\n",
    "appl_data = pd.concat([df1,df2])\n",
    "print(\"Warning: dropping\",sum(pd.isnull(appl_data)), \"nan value(s)\")\n",
    "appl_data = appl_data.dropna()\n",
    "appl_data = appl_data.values # Extract APPL as np array\n",
    "appl_data = appl_data.astype(float) # convert any rouge strings to floats\n",
    "appl_stock = real_stock(appl_data,n_steps = params[\"terminal\"],recycle = True,n_train=10) # create stock - traded once per 6 minutes and recycled\n",
    "appl_market = market(appl_stock,num_strats = len(agents),n_hist_prices = n_hist_prices)\n",
    "#my_simulator = library.simulations.simulator(appl_market,agents,params,test_name = \"Apple Stock Testing\")\n",
    "\n",
    "simple_stock = bs_stock(1,0,0.0005) # No drift, 0.0005 vol\n",
    "simple_market = market(simple_stock,num_strats = len(agents))\n",
    "my_simulator = library.simulations.simulator(simple_market,agents,params,test_name = \"Simple Stock Testing\")\n",
    "\n",
    "my_simulator.train(10000)\n"
   ]
  },
  {
   "cell_type": "code",
   "execution_count": 2,
   "metadata": {},
   "outputs": [
    {
     "name": "stdout",
     "output_type": "stream",
     "text": [
      "[0.05, 0.075, 0.09, 0.1, 0.11, 0.15, 0.2]\n"
     ]
    }
   ],
   "source": [
    "print(my_simulator.possible_actions)"
   ]
  },
  {
   "cell_type": "markdown",
   "metadata": {},
   "source": [
    "### Train agents"
   ]
  },
  {
   "cell_type": "code",
   "execution_count": 103,
   "metadata": {},
   "outputs": [],
   "source": [
    "#my_simulator.pretrain(n_iterations = 1000)"
   ]
  },
  {
   "cell_type": "code",
   "execution_count": null,
   "metadata": {
    "scrolled": true
   },
   "outputs": [
    {
     "name": "stderr",
     "output_type": "stream",
     "text": [
      "wandb: Wandb version 0.9.0 is available!  To upgrade, please run:\n",
      "wandb:  $ pip install wandb --upgrade\n"
     ]
    }
   ],
   "source": [
    "#epsilon_decays = [0.9992,0.999,1,1]\n",
    "my_simulator.train(epsilon_decay = epsilon_decays, n_episodes = 14000)"
   ]
  },
  {
   "cell_type": "code",
   "execution_count": 28,
   "metadata": {},
   "outputs": [
    {
     "name": "stderr",
     "output_type": "stream",
     "text": [
      "requests_with_retry encountered retryable exception: ('Connection aborted.', OSError(\"(54, 'ECONNRESET')\")). args: ('https://api.wandb.ai/files/tobyg/OptEx/2zrmyc4l/file_stream',), kwargs: {'json': {'files': {'wandb-events.jsonl': {'offset': 252, 'content': ['{\"system.cpu\": 36.47, \"system.memory\": 83.08, \"system.disk\": 40.6, \"system.proc.memory.availableMB\": 1386.56, \"system.proc.memory.rssMB\": 263.42, \"system.proc.memory.percent\": 3.22, \"system.proc.cpu.threads\": 37.0, \"system.network.sent\": 850944, \"system.network.recv\": 3897344, \"_wandb\": true, \"_timestamp\": 1590698717, \"_runtime\": 25227}\\n']}, 'wandb-history.jsonl': {'offset': 2596, 'content': ['{\"episode\": 24800, \"act_val0\": 0.9685129981189713, \"_runtime\": 25281.71138691902, \"_timestamp\": 1590698721.36659, \"_step\": 2596}\\n', '{\"episode\": 24800, \"act_val1\": 0.9680547655318655, \"_runtime\": 25281.715941905975, \"_timestamp\": 1590698721.371145, \"_step\": 2597}\\n', '{\"episode\": 24800, \"act_val2\": 0.9676043839254779, \"_runtime\": 25281.720087766647, \"_timestamp\": 1590698721.3752909, \"_step\": 2598}\\n', '{\"episode\": 24800, \"act_val3\": 0.9677552336213691, \"_runtime\": 25281.72429704666, \"_timestamp\": 1590698721.3795002, \"_step\": 2599}\\n', '{\"episode\": 24800, \"act_val4\": 0.9694536829702621, \"_runtime\": 25281.728620052338, \"_timestamp\": 1590698721.3838232, \"_step\": 2600}\\n', '{\"episode\": 24400, \"eval_rewards\": 0.9703925187569498, \"_runtime\": 25619.055186986923, \"_timestamp\": 1590699058.71039, \"_step\": 2601}\\n']}, 'wandb-summary.json': {'offset': 0, 'content': ['{\"episode\": 12000, \"_runtime\": 3818.0181329250336, \"act_val0\": 0.9793726902720828, \"_timestamp\": 1590689772.844296, \"_step\": 1258, \"act_val1\": 0.9825574618643692, \"act_val2\": 0.9820978278753792, \"act_val3\": 0.9803122831461918, \"act_val4\": 0.9736565238263496, \"eval_rewards\": 0.9713873004751176}\\n']}}}}\n",
      "requests_with_retry encountered retryable exception: ('Connection aborted.', OSError(\"(54, 'ECONNRESET')\")). args: ('https://api.wandb.ai/files/tobyg/OptEx/2zrmyc4l/file_stream',), kwargs: {'json': {'files': {'wandb-summary.json': {'offset': 0, 'content': ['{\"episode\": 12000, \"_runtime\": 3818.0181329250336, \"act_val0\": 0.9793726902720828, \"_timestamp\": 1590689772.844296, \"_step\": 1258, \"act_val1\": 0.9825574618643692, \"act_val2\": 0.9820978278753792, \"act_val3\": 0.9803122831461918, \"act_val4\": 0.9736565238263496, \"eval_rewards\": 0.9713873004751176}\\n']}}}}\n",
      "requests_with_retry encountered retryable exception: ('Connection aborted.', OSError(\"(54, 'ECONNRESET')\")). args: ('https://api.wandb.ai/files/tobyg/OptEx/2zrmyc4l/file_stream',), kwargs: {'json': {'files': {'wandb-history.jsonl': {'offset': 2623, 'content': ['{\"episode\": 25050, \"act_val0\": 0.9823144621642383, \"_runtime\": 27623.547642946243, \"_timestamp\": 1590701063.202846, \"_step\": 2623}\\n', '{\"episode\": 25050, \"act_val1\": 0.9821641560118263, \"_runtime\": 27623.55366396904, \"_timestamp\": 1590701063.208867, \"_step\": 2624}\\n', '{\"episode\": 25050, \"act_val2\": 0.982012395720995, \"_runtime\": 27623.558231830597, \"_timestamp\": 1590701063.213435, \"_step\": 2625}\\n', '{\"episode\": 25050, \"act_val3\": 0.9828693236290506, \"_runtime\": 27623.56247973442, \"_timestamp\": 1590701063.2176828, \"_step\": 2626}\\n', '{\"episode\": 25050, \"act_val4\": 0.9853345330536417, \"_runtime\": 27623.567014932632, \"_timestamp\": 1590701063.222218, \"_step\": 2627}\\n', '{\"episode\": 25100, \"act_val0\": 0.9772400210618424, \"_runtime\": 34838.482749938965, \"_timestamp\": 1590708278.137953, \"_step\": 2628}\\n', '{\"episode\": 25100, \"act_val1\": 0.977555688355809, \"_runtime\": 34838.487241983414, \"_timestamp\": 1590708278.142445, \"_step\": 2629}\\n', '{\"episode\": 25100, \"act_val2\": 0.9778731293395272, \"_runtime\": 34838.49173498154, \"_timestamp\": 1590708278.146938, \"_step\": 2630}\\n']}, 'wandb-summary.json': {'offset': 0, 'content': ['{\"episode\": 12000, \"_runtime\": 3818.0181329250336, \"act_val0\": 0.9793726902720828, \"_timestamp\": 1590689772.844296, \"_step\": 1258, \"act_val1\": 0.9825574618643692, \"act_val2\": 0.9820978278753792, \"act_val3\": 0.9803122831461918, \"act_val4\": 0.9736565238263496, \"eval_rewards\": 0.9713873004751176}\\n']}}}}\n",
      "requests_with_retry encountered retryable exception: ('Connection aborted.', OSError(\"(54, 'ECONNRESET')\")). args: ('https://api.wandb.ai/files/tobyg/OptEx/2zrmyc4l/file_stream',), kwargs: {'json': {'files': {'wandb-history.jsonl': {'offset': 2638, 'content': ['{\"episode\": 25200, \"act_val0\": 0.9721740672507191, \"_runtime\": 34878.08688092232, \"_timestamp\": 1590708317.742084, \"_step\": 2638}\\n', '{\"episode\": 25200, \"act_val1\": 0.9698114278802625, \"_runtime\": 34878.09283089638, \"_timestamp\": 1590708317.748034, \"_step\": 2639}\\n', '{\"episode\": 25200, \"act_val2\": 0.9675732657713899, \"_runtime\": 34878.09739589691, \"_timestamp\": 1590708317.752599, \"_step\": 2640}\\n', '{\"episode\": 25200, \"act_val3\": 0.9629238127450965, \"_runtime\": 34878.102195978165, \"_timestamp\": 1590708317.757399, \"_step\": 2641}\\n', '{\"episode\": 25200, \"act_val4\": 0.9642127481101125, \"_runtime\": 34878.10773587227, \"_timestamp\": 1590708317.762939, \"_step\": 2642}\\n', '{\"episode\": 24800, \"eval_rewards\": 0.9704777107564283, \"_runtime\": 34880.03689599037, \"_timestamp\": 1590708319.692099, \"_step\": 2643}\\n', '{\"episode\": 25250, \"act_val0\": 0.9731328353438085, \"_runtime\": 42091.74888586998, \"_timestamp\": 1590715531.404089, \"_step\": 2644}\\n', '{\"episode\": 25250, \"act_val1\": 0.9723737394128814, \"_runtime\": 42091.75479197502, \"_timestamp\": 1590715531.409995, \"_step\": 2645}\\n', '{\"episode\": 25250, \"act_val2\": 0.9716480243778192, \"_runtime\": 42091.75916290283, \"_timestamp\": 1590715531.414366, \"_step\": 2646}\\n', '{\"episode\": 25250, \"act_val3\": 0.9714915984815453, \"_runtime\": 42091.76374602318, \"_timestamp\": 1590715531.4189491, \"_step\": 2647}\\n', '{\"episode\": 25250, \"act_val4\": 0.9725998577070374, \"_runtime\": 42091.76814389229, \"_timestamp\": 1590715531.423347, \"_step\": 2648}\\n']}, 'wandb-summary.json': {'offset': 0, 'content': ['{\"episode\": 12000, \"_runtime\": 3818.0181329250336, \"act_val0\": 0.9793726902720828, \"_timestamp\": 1590689772.844296, \"_step\": 1258, \"act_val1\": 0.9825574618643692, \"act_val2\": 0.9820978278753792, \"act_val3\": 0.9803122831461918, \"act_val4\": 0.9736565238263496, \"eval_rewards\": 0.9713873004751176}\\n']}}}}\n",
      "requests_with_retry encountered retryable exception: ('Connection aborted.', OSError(\"(54, 'ECONNRESET')\")). args: ('https://api.wandb.ai/files/tobyg/OptEx/2zrmyc4l/file_stream',), kwargs: {'json': {'files': {'wandb-events.jsonl': {'offset': 259, 'content': ['{\"system.cpu\": 30.63, \"system.memory\": 75.99, \"system.disk\": 40.7, \"system.proc.memory.availableMB\": 1966.61, \"system.proc.memory.rssMB\": 258.35, \"system.proc.memory.percent\": 3.15, \"system.proc.cpu.threads\": 37.13, \"system.network.sent\": 2125824, \"system.network.recv\": 7276544, \"_wandb\": true, \"_timestamp\": 1590722776, \"_runtime\": 49286}\\n']}, 'wandb-summary.json': {'offset': 0, 'content': ['{\"episode\": 12000, \"_runtime\": 3818.0181329250336, \"act_val0\": 0.9793726902720828, \"_timestamp\": 1590689772.844296, \"_step\": 1258, \"act_val1\": 0.9825574618643692, \"act_val2\": 0.9820978278753792, \"act_val3\": 0.9803122831461918, \"act_val4\": 0.9736565238263496, \"eval_rewards\": 0.9713873004751176}\\n']}}}}\n",
      "requests_with_retry encountered retryable exception: ('Connection aborted.', OSError(\"(54, 'ECONNRESET')\")). args: ('https://api.wandb.ai/files/tobyg/OptEx/2zrmyc4l/file_stream',), kwargs: {'json': {'files': {'wandb-history.jsonl': {'offset': 2670, 'content': ['{\"episode\": 25500, \"act_val0\": 0.9777878473493521, \"_runtime\": 49379.08823609352, \"_timestamp\": 1590722818.7434392, \"_step\": 2670}\\n', '{\"episode\": 25500, \"act_val1\": 0.9765884560725394, \"_runtime\": 49379.09438085556, \"_timestamp\": 1590722818.749584, \"_step\": 2671}\\n', '{\"episode\": 25500, \"act_val2\": 0.9753966768663848, \"_runtime\": 49379.09874367714, \"_timestamp\": 1590722818.7539468, \"_step\": 2672}\\n', '{\"episode\": 25500, \"act_val3\": 0.9698269865278281, \"_runtime\": 49379.10345888138, \"_timestamp\": 1590722818.758662, \"_step\": 2673}\\n', '{\"episode\": 25500, \"act_val4\": 0.9736935806460131, \"_runtime\": 49379.1078748703, \"_timestamp\": 1590722818.763078, \"_step\": 2674}\\n', '{\"episode\": 25550, \"act_val0\": 0.9664332679851958, \"_runtime\": 49687.61379981041, \"_timestamp\": 1590723127.269003, \"_step\": 2675}\\n', '{\"episode\": 25550, \"act_val1\": 0.9655860954332883, \"_runtime\": 49687.61820602417, \"_timestamp\": 1590723127.2734091, \"_step\": 2676}\\n', '{\"episode\": 25550, \"act_val2\": 0.9647671446606118, \"_runtime\": 49687.6211938858, \"_timestamp\": 1590723127.276397, \"_step\": 2677}\\n', '{\"episode\": 25550, \"act_val3\": 0.9635553314143755, \"_runtime\": 49687.624282836914, \"_timestamp\": 1590723127.279486, \"_step\": 2678}\\n', '{\"episode\": 25550, \"act_val4\": 0.9639792444922483, \"_runtime\": 49687.627624988556, \"_timestamp\": 1590723127.282828, \"_step\": 2679}\\n']}, 'wandb-summary.json': {'offset': 0, 'content': ['{\"episode\": 12000, \"_runtime\": 3818.0181329250336, \"act_val0\": 0.9793726902720828, \"_timestamp\": 1590689772.844296, \"_step\": 1258, \"act_val1\": 0.9825574618643692, \"act_val2\": 0.9820978278753792, \"act_val3\": 0.9803122831461918, \"act_val4\": 0.9736565238263496, \"eval_rewards\": 0.9713873004751176}\\n']}}}}\n"
     ]
    },
    {
     "name": "stderr",
     "output_type": "stream",
     "text": [
      "requests_with_retry encountered retryable exception: ('Connection aborted.', OSError(\"(54, 'ECONNRESET')\")). args: ('https://api.wandb.ai/files/tobyg/OptEx/2zrmyc4l/file_stream',), kwargs: {'json': {'files': {'wandb-events.jsonl': {'offset': 262, 'content': ['{\"system.cpu\": 34.83, \"system.memory\": 75.27, \"system.disk\": 40.7, \"system.proc.memory.availableMB\": 2026.17, \"system.proc.memory.rssMB\": 263.89, \"system.proc.memory.percent\": 3.22, \"system.proc.cpu.threads\": 37.53, \"system.network.sent\": 2491392, \"system.network.recv\": 7963648, \"_wandb\": true, \"_timestamp\": 1590723166, \"_runtime\": 49676}\\n']}, 'wandb-history.jsonl': {'offset': 2686, 'content': ['{\"episode\": 25650, \"act_val0\": 0.974631643761005, \"_runtime\": 49725.21203684807, \"_timestamp\": 1590723164.86724, \"_step\": 2686}\\n', '{\"episode\": 25650, \"act_val1\": 0.9728265190281035, \"_runtime\": 49725.21805691719, \"_timestamp\": 1590723164.87326, \"_step\": 2687}\\n', '{\"episode\": 25650, \"act_val2\": 0.9700481248049242, \"_runtime\": 49725.22251582146, \"_timestamp\": 1590723164.877719, \"_step\": 2688}\\n', '{\"episode\": 25650, \"act_val3\": 0.9515324659599022, \"_runtime\": 49725.22714686394, \"_timestamp\": 1590723164.88235, \"_step\": 2689}\\n', '{\"episode\": 25650, \"act_val4\": 0.9610450365032397, \"_runtime\": 49725.23156785965, \"_timestamp\": 1590723164.886771, \"_step\": 2690}\\n', '{\"episode\": 25700, \"act_val0\": 0.9763046486553295, \"_runtime\": 61266.473335027695, \"_timestamp\": 1590734706.1285381, \"_step\": 2691}\\n', '{\"episode\": 25700, \"act_val1\": 0.9749531618811857, \"_runtime\": 61266.47815489769, \"_timestamp\": 1590734706.133358, \"_step\": 2692}\\n', '{\"episode\": 25700, \"act_val2\": 0.9736285999381242, \"_runtime\": 61266.48220086098, \"_timestamp\": 1590734706.137404, \"_step\": 2693}\\n', '{\"episode\": 25700, \"act_val3\": 0.9629850937416222, \"_runtime\": 61266.48678088188, \"_timestamp\": 1590734706.141984, \"_step\": 2694}\\n', '{\"episode\": 25700, \"act_val4\": 0.9708550961220338, \"_runtime\": 61266.49214696884, \"_timestamp\": 1590734706.14735, \"_step\": 2695}\\n']}}}}\n"
     ]
    }
   ],
   "source": [
    "my_simulator.train(epsilon_decay = epsilon_decays, n_episodes = 10000)"
   ]
  },
  {
   "cell_type": "code",
   "execution_count": null,
   "metadata": {},
   "outputs": [],
   "source": []
  },
  {
   "cell_type": "markdown",
   "metadata": {},
   "source": [
    "### Additional Training"
   ]
  },
  {
   "cell_type": "code",
   "execution_count": 654,
   "metadata": {
    "collapsed": true
   },
   "outputs": [
    {
     "ename": "KeyboardInterrupt",
     "evalue": "",
     "output_type": "error",
     "traceback": [
      "\u001b[0;31m---------------------------------------------------------------------------\u001b[0m",
      "\u001b[0;31mKeyboardInterrupt\u001b[0m                         Traceback (most recent call last)",
      "\u001b[0;32m<ipython-input-654-2f828db60d62>\u001b[0m in \u001b[0;36m<module>\u001b[0;34m\u001b[0m\n\u001b[1;32m      1\u001b[0m \u001b[0mepsilons\u001b[0m \u001b[0;34m=\u001b[0m \u001b[0;34m[\u001b[0m\u001b[0;36m0.05\u001b[0m\u001b[0;34m,\u001b[0m\u001b[0;36m0.2\u001b[0m\u001b[0;34m,\u001b[0m\u001b[0;36m0.22\u001b[0m\u001b[0;34m,\u001b[0m\u001b[0;36m0.22\u001b[0m\u001b[0;34m,\u001b[0m\u001b[0;36m1\u001b[0m\u001b[0;34m]\u001b[0m\u001b[0;34m\u001b[0m\u001b[0;34m\u001b[0m\u001b[0m\n\u001b[1;32m      2\u001b[0m \u001b[0;31m#epsilon_decays = [0.999,0.999,1,1]\u001b[0m\u001b[0;34m\u001b[0m\u001b[0;34m\u001b[0m\u001b[0;34m\u001b[0m\u001b[0m\n\u001b[0;32m----> 3\u001b[0;31m \u001b[0mmy_simulator\u001b[0m\u001b[0;34m.\u001b[0m\u001b[0mtrain\u001b[0m\u001b[0;34m(\u001b[0m\u001b[0mepsilon\u001b[0m \u001b[0;34m=\u001b[0m \u001b[0mepsilons\u001b[0m\u001b[0;34m,\u001b[0m \u001b[0mepsilon_decay\u001b[0m \u001b[0;34m=\u001b[0m \u001b[0mepsilon_decays\u001b[0m\u001b[0;34m,\u001b[0m \u001b[0mn_episodes\u001b[0m \u001b[0;34m=\u001b[0m \u001b[0;36m4000\u001b[0m\u001b[0;34m)\u001b[0m\u001b[0;34m\u001b[0m\u001b[0;34m\u001b[0m\u001b[0m\n\u001b[0m",
      "\u001b[0;32m~/Documents/Imperial/Thesis/ThesisCode/library/simulations.py\u001b[0m in \u001b[0;36mtrain\u001b[0;34m(self, n_episodes, epsilon, epsilon_decay, show_details, evaluate)\u001b[0m\n\u001b[1;32m    182\u001b[0m                                 \u001b[0;32mfor\u001b[0m \u001b[0mi\u001b[0m\u001b[0;34m,\u001b[0m \u001b[0magent\u001b[0m \u001b[0;32min\u001b[0m \u001b[0menumerate\u001b[0m\u001b[0;34m(\u001b[0m\u001b[0mself\u001b[0m\u001b[0;34m.\u001b[0m\u001b[0magents\u001b[0m\u001b[0;34m)\u001b[0m\u001b[0;34m:\u001b[0m\u001b[0;34m\u001b[0m\u001b[0;34m\u001b[0m\u001b[0m\n\u001b[1;32m    183\u001b[0m                                         \u001b[0;32mif\u001b[0m \u001b[0mlen\u001b[0m\u001b[0;34m(\u001b[0m\u001b[0magent\u001b[0m\u001b[0;34m.\u001b[0m\u001b[0mmemory\u001b[0m\u001b[0;34m)\u001b[0m \u001b[0;34m>\u001b[0m \u001b[0mself\u001b[0m\u001b[0;34m.\u001b[0m\u001b[0mbatch_size\u001b[0m \u001b[0;32mand\u001b[0m \u001b[0;32mnot\u001b[0m \u001b[0mevaluate\u001b[0m\u001b[0;34m:\u001b[0m\u001b[0;34m\u001b[0m\u001b[0;34m\u001b[0m\u001b[0m\n\u001b[0;32m--> 184\u001b[0;31m                                                 \u001b[0magent\u001b[0m\u001b[0;34m.\u001b[0m\u001b[0mreplay\u001b[0m\u001b[0;34m(\u001b[0m\u001b[0mself\u001b[0m\u001b[0;34m.\u001b[0m\u001b[0mbatch_size\u001b[0m\u001b[0;34m)\u001b[0m \u001b[0;31m# train the agent by replaying the experiences of the episode\u001b[0m\u001b[0;34m\u001b[0m\u001b[0;34m\u001b[0m\u001b[0m\n\u001b[0m\u001b[1;32m    185\u001b[0m                                                 \u001b[0magent\u001b[0m\u001b[0;34m.\u001b[0m\u001b[0mstep\u001b[0m\u001b[0;34m(\u001b[0m\u001b[0;34m)\u001b[0m \u001b[0;31m# Update target network if required\u001b[0m\u001b[0;34m\u001b[0m\u001b[0;34m\u001b[0m\u001b[0m\n\u001b[1;32m    186\u001b[0m \u001b[0;34m\u001b[0m\u001b[0m\n",
      "\u001b[0;32m~/Documents/Imperial/Thesis/ThesisCode/library/WIPAgentsv2.py\u001b[0m in \u001b[0;36mreplay\u001b[0;34m(self, batch_size)\u001b[0m\n\u001b[1;32m    194\u001b[0m \u001b[0;34m\u001b[0m\u001b[0m\n\u001b[1;32m    195\u001b[0m                 \u001b[0;32mfor\u001b[0m \u001b[0mmem_index\u001b[0m\u001b[0;34m,\u001b[0m \u001b[0;34m(\u001b[0m\u001b[0mstate\u001b[0m\u001b[0;34m,\u001b[0m \u001b[0maction\u001b[0m\u001b[0;34m,\u001b[0m \u001b[0mreward\u001b[0m\u001b[0;34m,\u001b[0m \u001b[0mnext_state\u001b[0m\u001b[0;34m,\u001b[0m \u001b[0mdone\u001b[0m\u001b[0;34m)\u001b[0m \u001b[0;32min\u001b[0m \u001b[0mminibatch\u001b[0m\u001b[0;34m:\u001b[0m\u001b[0;34m\u001b[0m\u001b[0;34m\u001b[0m\u001b[0m\n\u001b[0;32m--> 196\u001b[0;31m                         \u001b[0mself\u001b[0m\u001b[0;34m.\u001b[0m\u001b[0mfit\u001b[0m\u001b[0;34m(\u001b[0m\u001b[0mstate\u001b[0m\u001b[0;34m,\u001b[0m \u001b[0maction\u001b[0m\u001b[0;34m,\u001b[0m \u001b[0mreward\u001b[0m\u001b[0;34m,\u001b[0m \u001b[0mnext_state\u001b[0m\u001b[0;34m,\u001b[0m \u001b[0mdone\u001b[0m\u001b[0;34m,\u001b[0m\u001b[0mmem_index\u001b[0m\u001b[0;34m)\u001b[0m\u001b[0;34m\u001b[0m\u001b[0;34m\u001b[0m\u001b[0m\n\u001b[0m\u001b[1;32m    197\u001b[0m \u001b[0;34m\u001b[0m\u001b[0m\n\u001b[1;32m    198\u001b[0m                 \u001b[0;32mif\u001b[0m \u001b[0mself\u001b[0m\u001b[0;34m.\u001b[0m\u001b[0mepsilon\u001b[0m \u001b[0;34m>\u001b[0m \u001b[0mself\u001b[0m\u001b[0;34m.\u001b[0m\u001b[0mepsilon_min\u001b[0m\u001b[0;34m:\u001b[0m\u001b[0;34m\u001b[0m\u001b[0;34m\u001b[0m\u001b[0m\n",
      "\u001b[0;32m~/Documents/Imperial/Thesis/ThesisCode/library/WIPAgentsv2.py\u001b[0m in \u001b[0;36mfit\u001b[0;34m(self, state, action_index, reward, next_state, done, mem_index)\u001b[0m\n\u001b[1;32m    236\u001b[0m                 \u001b[0;31m#if DEBUG:\u001b[0m\u001b[0;34m\u001b[0m\u001b[0;34m\u001b[0m\u001b[0;34m\u001b[0m\u001b[0m\n\u001b[1;32m    237\u001b[0m                 \u001b[0;31m#print(\"fitting state:\", state,\",action:\",action_index,\",reward:\",reward, \" delta target_f \",target_f[action_index][0]-debug_target_f,\"done:\",done)\u001b[0m\u001b[0;34m\u001b[0m\u001b[0;34m\u001b[0m\u001b[0;34m\u001b[0m\u001b[0m\n\u001b[0;32m--> 238\u001b[0;31m                 \u001b[0mself\u001b[0m\u001b[0;34m.\u001b[0m\u001b[0mmodel\u001b[0m\u001b[0;34m.\u001b[0m\u001b[0mfit\u001b[0m\u001b[0;34m(\u001b[0m\u001b[0mstate\u001b[0m\u001b[0;34m,\u001b[0m \u001b[0mtarget_f\u001b[0m\u001b[0;34m,\u001b[0m\u001b[0mepochs\u001b[0m\u001b[0;34m=\u001b[0m\u001b[0;36m1\u001b[0m\u001b[0;34m,\u001b[0m \u001b[0mverbose\u001b[0m\u001b[0;34m=\u001b[0m\u001b[0;36m0\u001b[0m\u001b[0;34m)\u001b[0m\u001b[0;34m\u001b[0m\u001b[0;34m\u001b[0m\u001b[0m\n\u001b[0m\u001b[1;32m    239\u001b[0m \u001b[0;34m\u001b[0m\u001b[0m\n\u001b[1;32m    240\u001b[0m         \u001b[0;31m# Temporary Experiment\u001b[0m\u001b[0;34m\u001b[0m\u001b[0;34m\u001b[0m\u001b[0;34m\u001b[0m\u001b[0m\n",
      "\u001b[0;32m~/Applications/anaconda3/lib/python3.7/site-packages/keras/engine/training.py\u001b[0m in \u001b[0;36mfit\u001b[0;34m(self, x, y, batch_size, epochs, verbose, callbacks, validation_split, validation_data, shuffle, class_weight, sample_weight, initial_epoch, steps_per_epoch, validation_steps, validation_freq, max_queue_size, workers, use_multiprocessing, **kwargs)\u001b[0m\n\u001b[1;32m   1237\u001b[0m                                         \u001b[0msteps_per_epoch\u001b[0m\u001b[0;34m=\u001b[0m\u001b[0msteps_per_epoch\u001b[0m\u001b[0;34m,\u001b[0m\u001b[0;34m\u001b[0m\u001b[0;34m\u001b[0m\u001b[0m\n\u001b[1;32m   1238\u001b[0m                                         \u001b[0mvalidation_steps\u001b[0m\u001b[0;34m=\u001b[0m\u001b[0mvalidation_steps\u001b[0m\u001b[0;34m,\u001b[0m\u001b[0;34m\u001b[0m\u001b[0;34m\u001b[0m\u001b[0m\n\u001b[0;32m-> 1239\u001b[0;31m                                         validation_freq=validation_freq)\n\u001b[0m\u001b[1;32m   1240\u001b[0m \u001b[0;34m\u001b[0m\u001b[0m\n\u001b[1;32m   1241\u001b[0m     def evaluate(self,\n",
      "\u001b[0;32m~/Applications/anaconda3/lib/python3.7/site-packages/keras/engine/training_arrays.py\u001b[0m in \u001b[0;36mfit_loop\u001b[0;34m(model, fit_function, fit_inputs, out_labels, batch_size, epochs, verbose, callbacks, val_function, val_inputs, shuffle, initial_epoch, steps_per_epoch, validation_steps, validation_freq)\u001b[0m\n\u001b[1;32m    143\u001b[0m \u001b[0;34m\u001b[0m\u001b[0m\n\u001b[1;32m    144\u001b[0m     \u001b[0;32mfor\u001b[0m \u001b[0mepoch\u001b[0m \u001b[0;32min\u001b[0m \u001b[0mrange\u001b[0m\u001b[0;34m(\u001b[0m\u001b[0minitial_epoch\u001b[0m\u001b[0;34m,\u001b[0m \u001b[0mepochs\u001b[0m\u001b[0;34m)\u001b[0m\u001b[0;34m:\u001b[0m\u001b[0;34m\u001b[0m\u001b[0;34m\u001b[0m\u001b[0m\n\u001b[0;32m--> 145\u001b[0;31m         \u001b[0mmodel\u001b[0m\u001b[0;34m.\u001b[0m\u001b[0mreset_metrics\u001b[0m\u001b[0;34m(\u001b[0m\u001b[0;34m)\u001b[0m\u001b[0;34m\u001b[0m\u001b[0;34m\u001b[0m\u001b[0m\n\u001b[0m\u001b[1;32m    146\u001b[0m         \u001b[0mcallbacks\u001b[0m\u001b[0;34m.\u001b[0m\u001b[0mon_epoch_begin\u001b[0m\u001b[0;34m(\u001b[0m\u001b[0mepoch\u001b[0m\u001b[0;34m)\u001b[0m\u001b[0;34m\u001b[0m\u001b[0;34m\u001b[0m\u001b[0m\n\u001b[1;32m    147\u001b[0m         \u001b[0mepoch_logs\u001b[0m \u001b[0;34m=\u001b[0m \u001b[0;34m{\u001b[0m\u001b[0;34m}\u001b[0m\u001b[0;34m\u001b[0m\u001b[0;34m\u001b[0m\u001b[0m\n",
      "\u001b[0;32m~/Applications/anaconda3/lib/python3.7/site-packages/keras/engine/training.py\u001b[0m in \u001b[0;36mreset_metrics\u001b[0;34m(self)\u001b[0m\n\u001b[1;32m    278\u001b[0m         \u001b[0mmetrics\u001b[0m \u001b[0;34m=\u001b[0m \u001b[0mself\u001b[0m\u001b[0;34m.\u001b[0m\u001b[0m_get_training_eval_metrics\u001b[0m\u001b[0;34m(\u001b[0m\u001b[0;34m)\u001b[0m\u001b[0;34m\u001b[0m\u001b[0;34m\u001b[0m\u001b[0m\n\u001b[1;32m    279\u001b[0m         \u001b[0;32mfor\u001b[0m \u001b[0mm\u001b[0m \u001b[0;32min\u001b[0m \u001b[0mmetrics\u001b[0m\u001b[0;34m:\u001b[0m\u001b[0;34m\u001b[0m\u001b[0;34m\u001b[0m\u001b[0m\n\u001b[0;32m--> 280\u001b[0;31m             \u001b[0mm\u001b[0m\u001b[0;34m.\u001b[0m\u001b[0mreset_states\u001b[0m\u001b[0;34m(\u001b[0m\u001b[0;34m)\u001b[0m\u001b[0;34m\u001b[0m\u001b[0;34m\u001b[0m\u001b[0m\n\u001b[0m\u001b[1;32m    281\u001b[0m \u001b[0;34m\u001b[0m\u001b[0m\n\u001b[1;32m    282\u001b[0m     \u001b[0;32mdef\u001b[0m \u001b[0m_check_trainable_weights_consistency\u001b[0m\u001b[0;34m(\u001b[0m\u001b[0mself\u001b[0m\u001b[0;34m)\u001b[0m\u001b[0;34m:\u001b[0m\u001b[0;34m\u001b[0m\u001b[0;34m\u001b[0m\u001b[0m\n",
      "\u001b[0;32m~/Applications/anaconda3/lib/python3.7/site-packages/keras/metrics.py\u001b[0m in \u001b[0;36mreset_states\u001b[0;34m(self)\u001b[0m\n\u001b[1;32m    103\u001b[0m         \u001b[0mwhen\u001b[0m \u001b[0ma\u001b[0m \u001b[0mmetric\u001b[0m \u001b[0;32mis\u001b[0m \u001b[0mevaluated\u001b[0m \u001b[0mduring\u001b[0m \u001b[0mtraining\u001b[0m\u001b[0;34m.\u001b[0m\u001b[0;34m\u001b[0m\u001b[0;34m\u001b[0m\u001b[0m\n\u001b[1;32m    104\u001b[0m         \"\"\"\n\u001b[0;32m--> 105\u001b[0;31m         \u001b[0mK\u001b[0m\u001b[0;34m.\u001b[0m\u001b[0mbatch_set_value\u001b[0m\u001b[0;34m(\u001b[0m\u001b[0;34m[\u001b[0m\u001b[0;34m(\u001b[0m\u001b[0mv\u001b[0m\u001b[0;34m,\u001b[0m \u001b[0;36m0\u001b[0m\u001b[0;34m)\u001b[0m \u001b[0;32mfor\u001b[0m \u001b[0mv\u001b[0m \u001b[0;32min\u001b[0m \u001b[0mself\u001b[0m\u001b[0;34m.\u001b[0m\u001b[0mweights\u001b[0m\u001b[0;34m]\u001b[0m\u001b[0;34m)\u001b[0m\u001b[0;34m\u001b[0m\u001b[0;34m\u001b[0m\u001b[0m\n\u001b[0m\u001b[1;32m    106\u001b[0m \u001b[0;34m\u001b[0m\u001b[0m\n\u001b[1;32m    107\u001b[0m     \u001b[0;34m@\u001b[0m\u001b[0mabc\u001b[0m\u001b[0;34m.\u001b[0m\u001b[0mabstractmethod\u001b[0m\u001b[0;34m\u001b[0m\u001b[0;34m\u001b[0m\u001b[0m\n",
      "\u001b[0;32m~/Applications/anaconda3/lib/python3.7/site-packages/keras/backend/tensorflow_backend.py\u001b[0m in \u001b[0;36mbatch_set_value\u001b[0;34m(tuples)\u001b[0m\n\u001b[1;32m   2958\u001b[0m             \u001b[0;31m`\u001b[0m\u001b[0mvalue\u001b[0m\u001b[0;31m`\u001b[0m \u001b[0mshould\u001b[0m \u001b[0mbe\u001b[0m \u001b[0ma\u001b[0m \u001b[0mNumpy\u001b[0m \u001b[0marray\u001b[0m\u001b[0;34m.\u001b[0m\u001b[0;34m\u001b[0m\u001b[0;34m\u001b[0m\u001b[0m\n\u001b[1;32m   2959\u001b[0m     \"\"\"\n\u001b[0;32m-> 2960\u001b[0;31m     \u001b[0mtf_keras_backend\u001b[0m\u001b[0;34m.\u001b[0m\u001b[0mbatch_set_value\u001b[0m\u001b[0;34m(\u001b[0m\u001b[0mtuples\u001b[0m\u001b[0;34m)\u001b[0m\u001b[0;34m\u001b[0m\u001b[0;34m\u001b[0m\u001b[0m\n\u001b[0m\u001b[1;32m   2961\u001b[0m \u001b[0;34m\u001b[0m\u001b[0m\n\u001b[1;32m   2962\u001b[0m \u001b[0;34m\u001b[0m\u001b[0m\n",
      "\u001b[0;32m~/Applications/anaconda3/lib/python3.7/site-packages/tensorflow/python/keras/backend.py\u001b[0m in \u001b[0;36mbatch_set_value\u001b[0;34m(tuples)\u001b[0m\n\u001b[1;32m   3382\u001b[0m   \u001b[0;32mif\u001b[0m \u001b[0mops\u001b[0m\u001b[0;34m.\u001b[0m\u001b[0mexecuting_eagerly_outside_functions\u001b[0m\u001b[0;34m(\u001b[0m\u001b[0;34m)\u001b[0m\u001b[0;34m:\u001b[0m\u001b[0;34m\u001b[0m\u001b[0;34m\u001b[0m\u001b[0m\n\u001b[1;32m   3383\u001b[0m     \u001b[0;32mfor\u001b[0m \u001b[0mx\u001b[0m\u001b[0;34m,\u001b[0m \u001b[0mvalue\u001b[0m \u001b[0;32min\u001b[0m \u001b[0mtuples\u001b[0m\u001b[0;34m:\u001b[0m\u001b[0;34m\u001b[0m\u001b[0;34m\u001b[0m\u001b[0m\n\u001b[0;32m-> 3384\u001b[0;31m       \u001b[0mx\u001b[0m\u001b[0;34m.\u001b[0m\u001b[0massign\u001b[0m\u001b[0;34m(\u001b[0m\u001b[0mnp\u001b[0m\u001b[0;34m.\u001b[0m\u001b[0masarray\u001b[0m\u001b[0;34m(\u001b[0m\u001b[0mvalue\u001b[0m\u001b[0;34m,\u001b[0m \u001b[0mdtype\u001b[0m\u001b[0;34m=\u001b[0m\u001b[0mdtype\u001b[0m\u001b[0;34m(\u001b[0m\u001b[0mx\u001b[0m\u001b[0;34m)\u001b[0m\u001b[0;34m)\u001b[0m\u001b[0;34m)\u001b[0m\u001b[0;34m\u001b[0m\u001b[0;34m\u001b[0m\u001b[0m\n\u001b[0m\u001b[1;32m   3385\u001b[0m   \u001b[0;32melse\u001b[0m\u001b[0;34m:\u001b[0m\u001b[0;34m\u001b[0m\u001b[0;34m\u001b[0m\u001b[0m\n\u001b[1;32m   3386\u001b[0m     \u001b[0;32mwith\u001b[0m \u001b[0mget_graph\u001b[0m\u001b[0;34m(\u001b[0m\u001b[0;34m)\u001b[0m\u001b[0;34m.\u001b[0m\u001b[0mas_default\u001b[0m\u001b[0;34m(\u001b[0m\u001b[0;34m)\u001b[0m\u001b[0;34m:\u001b[0m\u001b[0;34m\u001b[0m\u001b[0;34m\u001b[0m\u001b[0m\n",
      "\u001b[0;32m~/Applications/anaconda3/lib/python3.7/site-packages/tensorflow/python/ops/resource_variable_ops.py\u001b[0m in \u001b[0;36massign\u001b[0;34m(self, value, use_locking, name, read_value)\u001b[0m\n\u001b[1;32m    848\u001b[0m           self.handle, value_tensor, name=name)\n\u001b[1;32m    849\u001b[0m       \u001b[0;32mif\u001b[0m \u001b[0mread_value\u001b[0m\u001b[0;34m:\u001b[0m\u001b[0;34m\u001b[0m\u001b[0;34m\u001b[0m\u001b[0m\n\u001b[0;32m--> 850\u001b[0;31m         \u001b[0;32mreturn\u001b[0m \u001b[0mself\u001b[0m\u001b[0;34m.\u001b[0m\u001b[0m_lazy_read\u001b[0m\u001b[0;34m(\u001b[0m\u001b[0massign_op\u001b[0m\u001b[0;34m)\u001b[0m\u001b[0;34m\u001b[0m\u001b[0;34m\u001b[0m\u001b[0m\n\u001b[0m\u001b[1;32m    851\u001b[0m     \u001b[0;32mreturn\u001b[0m \u001b[0massign_op\u001b[0m\u001b[0;34m\u001b[0m\u001b[0;34m\u001b[0m\u001b[0m\n\u001b[1;32m    852\u001b[0m \u001b[0;34m\u001b[0m\u001b[0m\n",
      "\u001b[0;32m~/Applications/anaconda3/lib/python3.7/site-packages/tensorflow/python/ops/resource_variable_ops.py\u001b[0m in \u001b[0;36m_lazy_read\u001b[0;34m(self, op)\u001b[0m\n\u001b[1;32m    817\u001b[0m \u001b[0;34m\u001b[0m\u001b[0m\n\u001b[1;32m    818\u001b[0m   \u001b[0;32mdef\u001b[0m \u001b[0m_lazy_read\u001b[0m\u001b[0;34m(\u001b[0m\u001b[0mself\u001b[0m\u001b[0;34m,\u001b[0m \u001b[0mop\u001b[0m\u001b[0;34m)\u001b[0m\u001b[0;34m:\u001b[0m\u001b[0;34m\u001b[0m\u001b[0;34m\u001b[0m\u001b[0m\n\u001b[0;32m--> 819\u001b[0;31m     \u001b[0mvariable_accessed\u001b[0m\u001b[0;34m(\u001b[0m\u001b[0mself\u001b[0m\u001b[0;34m)\u001b[0m\u001b[0;34m\u001b[0m\u001b[0;34m\u001b[0m\u001b[0m\n\u001b[0m\u001b[1;32m    820\u001b[0m     return _UnreadVariable(\n\u001b[1;32m    821\u001b[0m         \u001b[0mhandle\u001b[0m\u001b[0;34m=\u001b[0m\u001b[0mself\u001b[0m\u001b[0;34m.\u001b[0m\u001b[0m_handle\u001b[0m\u001b[0;34m,\u001b[0m \u001b[0mdtype\u001b[0m\u001b[0;34m=\u001b[0m\u001b[0mself\u001b[0m\u001b[0;34m.\u001b[0m\u001b[0mdtype\u001b[0m\u001b[0;34m,\u001b[0m \u001b[0mshape\u001b[0m\u001b[0;34m=\u001b[0m\u001b[0mself\u001b[0m\u001b[0;34m.\u001b[0m\u001b[0m_shape\u001b[0m\u001b[0;34m,\u001b[0m\u001b[0;34m\u001b[0m\u001b[0;34m\u001b[0m\u001b[0m\n",
      "\u001b[0;32m~/Applications/anaconda3/lib/python3.7/site-packages/tensorflow/python/ops/resource_variable_ops.py\u001b[0m in \u001b[0;36mvariable_accessed\u001b[0;34m(variable)\u001b[0m\n\u001b[1;32m    329\u001b[0m     \u001b[0mops\u001b[0m\u001b[0;34m.\u001b[0m\u001b[0mget_default_graph\u001b[0m\u001b[0;34m(\u001b[0m\u001b[0;34m)\u001b[0m\u001b[0;34m.\u001b[0m\u001b[0mwatch_variable\u001b[0m\u001b[0;34m(\u001b[0m\u001b[0mvariable\u001b[0m\u001b[0;34m)\u001b[0m\u001b[0;34m\u001b[0m\u001b[0;34m\u001b[0m\u001b[0m\n\u001b[1;32m    330\u001b[0m   \u001b[0;32mif\u001b[0m \u001b[0mvariable\u001b[0m\u001b[0;34m.\u001b[0m\u001b[0mtrainable\u001b[0m\u001b[0;34m:\u001b[0m\u001b[0;34m\u001b[0m\u001b[0;34m\u001b[0m\u001b[0m\n\u001b[0;32m--> 331\u001b[0;31m     \u001b[0mtape\u001b[0m\u001b[0;34m.\u001b[0m\u001b[0mvariable_accessed\u001b[0m\u001b[0;34m(\u001b[0m\u001b[0mvariable\u001b[0m\u001b[0;34m)\u001b[0m\u001b[0;34m\u001b[0m\u001b[0;34m\u001b[0m\u001b[0m\n\u001b[0m\u001b[1;32m    332\u001b[0m \u001b[0;34m\u001b[0m\u001b[0m\n\u001b[1;32m    333\u001b[0m \u001b[0;34m\u001b[0m\u001b[0m\n",
      "\u001b[0;32m~/Applications/anaconda3/lib/python3.7/site-packages/tensorflow/python/eager/tape.py\u001b[0m in \u001b[0;36mvariable_accessed\u001b[0;34m(variable)\u001b[0m\n\u001b[1;32m     78\u001b[0m   \"\"\"\n\u001b[1;32m     79\u001b[0m   strategy, context = (\n\u001b[0;32m---> 80\u001b[0;31m       distribution_strategy_context.get_strategy_and_replica_context())\n\u001b[0m\u001b[1;32m     81\u001b[0m   \u001b[0;32mif\u001b[0m \u001b[0mcontext\u001b[0m\u001b[0;34m:\u001b[0m\u001b[0;34m\u001b[0m\u001b[0;34m\u001b[0m\u001b[0m\n\u001b[1;32m     82\u001b[0m     \u001b[0mvariables\u001b[0m \u001b[0;34m=\u001b[0m \u001b[0;34m[\u001b[0m\u001b[0mstrategy\u001b[0m\u001b[0;34m.\u001b[0m\u001b[0mextended\u001b[0m\u001b[0;34m.\u001b[0m\u001b[0mvalue_container\u001b[0m\u001b[0;34m(\u001b[0m\u001b[0mvariable\u001b[0m\u001b[0;34m)\u001b[0m\u001b[0;34m]\u001b[0m\u001b[0;34m\u001b[0m\u001b[0;34m\u001b[0m\u001b[0m\n",
      "\u001b[0;32m~/Applications/anaconda3/lib/python3.7/site-packages/tensorflow/python/distribute/distribution_strategy_context.py\u001b[0m in \u001b[0;36mget_strategy_and_replica_context\u001b[0;34m()\u001b[0m\n\u001b[1;32m    214\u001b[0m \u001b[0;34m\u001b[0m\u001b[0m\n\u001b[1;32m    215\u001b[0m \u001b[0;32mdef\u001b[0m \u001b[0mget_strategy_and_replica_context\u001b[0m\u001b[0;34m(\u001b[0m\u001b[0;34m)\u001b[0m\u001b[0;34m:\u001b[0m\u001b[0;34m\u001b[0m\u001b[0;34m\u001b[0m\u001b[0m\n\u001b[0;32m--> 216\u001b[0;31m   \u001b[0mper_thread_mode\u001b[0m \u001b[0;34m=\u001b[0m \u001b[0m_get_per_thread_mode\u001b[0m\u001b[0;34m(\u001b[0m\u001b[0;34m)\u001b[0m\u001b[0;34m\u001b[0m\u001b[0;34m\u001b[0m\u001b[0m\n\u001b[0m\u001b[1;32m    217\u001b[0m   \u001b[0;32mreturn\u001b[0m \u001b[0;34m(\u001b[0m\u001b[0mper_thread_mode\u001b[0m\u001b[0;34m.\u001b[0m\u001b[0mstrategy\u001b[0m\u001b[0;34m,\u001b[0m \u001b[0mper_thread_mode\u001b[0m\u001b[0;34m.\u001b[0m\u001b[0mreplica_context\u001b[0m\u001b[0;34m)\u001b[0m\u001b[0;34m\u001b[0m\u001b[0;34m\u001b[0m\u001b[0m\n\u001b[1;32m    218\u001b[0m \u001b[0;34m\u001b[0m\u001b[0m\n",
      "\u001b[0;32m~/Applications/anaconda3/lib/python3.7/site-packages/tensorflow/python/distribute/distribution_strategy_context.py\u001b[0m in \u001b[0;36m_get_per_thread_mode\u001b[0;34m()\u001b[0m\n\u001b[1;32m     79\u001b[0m \u001b[0;32mdef\u001b[0m \u001b[0m_get_per_thread_mode\u001b[0m\u001b[0;34m(\u001b[0m\u001b[0;34m)\u001b[0m\u001b[0;34m:\u001b[0m\u001b[0;34m\u001b[0m\u001b[0;34m\u001b[0m\u001b[0m\n\u001b[1;32m     80\u001b[0m   \u001b[0;32mtry\u001b[0m\u001b[0;34m:\u001b[0m\u001b[0;34m\u001b[0m\u001b[0;34m\u001b[0m\u001b[0m\n\u001b[0;32m---> 81\u001b[0;31m     \u001b[0;32mreturn\u001b[0m \u001b[0mops\u001b[0m\u001b[0;34m.\u001b[0m\u001b[0mget_default_graph\u001b[0m\u001b[0;34m(\u001b[0m\u001b[0;34m)\u001b[0m\u001b[0;34m.\u001b[0m\u001b[0m_distribution_strategy_stack\u001b[0m\u001b[0;34m[\u001b[0m\u001b[0;34m-\u001b[0m\u001b[0;36m1\u001b[0m\u001b[0;34m]\u001b[0m  \u001b[0;31m# pylint: disable=protected-access\u001b[0m\u001b[0;34m\u001b[0m\u001b[0;34m\u001b[0m\u001b[0m\n\u001b[0m\u001b[1;32m     82\u001b[0m   \u001b[0;32mexcept\u001b[0m \u001b[0;34m(\u001b[0m\u001b[0mAttributeError\u001b[0m\u001b[0;34m,\u001b[0m \u001b[0mIndexError\u001b[0m\u001b[0;34m)\u001b[0m\u001b[0;34m:\u001b[0m\u001b[0;34m\u001b[0m\u001b[0;34m\u001b[0m\u001b[0m\n\u001b[1;32m     83\u001b[0m     \u001b[0;32mreturn\u001b[0m \u001b[0m_get_default_replica_mode\u001b[0m\u001b[0;34m(\u001b[0m\u001b[0;34m)\u001b[0m\u001b[0;34m\u001b[0m\u001b[0;34m\u001b[0m\u001b[0m\n",
      "\u001b[0;32m~/Applications/anaconda3/lib/python3.7/site-packages/tensorflow/python/framework/ops.py\u001b[0m in \u001b[0;36mget_default_graph\u001b[0;34m()\u001b[0m\n\u001b[1;32m   5814\u001b[0m     \u001b[0mThe\u001b[0m \u001b[0mdefault\u001b[0m\u001b[0;31m \u001b[0m\u001b[0;31m`\u001b[0m\u001b[0mGraph\u001b[0m\u001b[0;31m`\u001b[0m \u001b[0mbeing\u001b[0m \u001b[0mused\u001b[0m \u001b[0;32min\u001b[0m \u001b[0mthe\u001b[0m \u001b[0mcurrent\u001b[0m \u001b[0mthread\u001b[0m\u001b[0;34m.\u001b[0m\u001b[0;34m\u001b[0m\u001b[0;34m\u001b[0m\u001b[0m\n\u001b[1;32m   5815\u001b[0m   \"\"\"\n\u001b[0;32m-> 5816\u001b[0;31m   \u001b[0;32mreturn\u001b[0m \u001b[0m_default_graph_stack\u001b[0m\u001b[0;34m.\u001b[0m\u001b[0mget_default\u001b[0m\u001b[0;34m(\u001b[0m\u001b[0;34m)\u001b[0m\u001b[0;34m\u001b[0m\u001b[0;34m\u001b[0m\u001b[0m\n\u001b[0m\u001b[1;32m   5817\u001b[0m \u001b[0;34m\u001b[0m\u001b[0m\n\u001b[1;32m   5818\u001b[0m \u001b[0;34m\u001b[0m\u001b[0m\n",
      "\u001b[0;32m~/Applications/anaconda3/lib/python3.7/site-packages/tensorflow/python/framework/ops.py\u001b[0m in \u001b[0;36mget_default\u001b[0;34m(self)\u001b[0m\n\u001b[1;32m   5373\u001b[0m     \u001b[0mret\u001b[0m \u001b[0;34m=\u001b[0m \u001b[0msuper\u001b[0m\u001b[0;34m(\u001b[0m\u001b[0m_DefaultGraphStack\u001b[0m\u001b[0;34m,\u001b[0m \u001b[0mself\u001b[0m\u001b[0;34m)\u001b[0m\u001b[0;34m.\u001b[0m\u001b[0mget_default\u001b[0m\u001b[0;34m(\u001b[0m\u001b[0;34m)\u001b[0m\u001b[0;34m\u001b[0m\u001b[0;34m\u001b[0m\u001b[0m\n\u001b[1;32m   5374\u001b[0m     \u001b[0;32mif\u001b[0m \u001b[0mret\u001b[0m \u001b[0;32mis\u001b[0m \u001b[0;32mNone\u001b[0m\u001b[0;34m:\u001b[0m\u001b[0;34m\u001b[0m\u001b[0;34m\u001b[0m\u001b[0m\n\u001b[0;32m-> 5375\u001b[0;31m       \u001b[0mret\u001b[0m \u001b[0;34m=\u001b[0m \u001b[0mself\u001b[0m\u001b[0;34m.\u001b[0m\u001b[0m_GetGlobalDefaultGraph\u001b[0m\u001b[0;34m(\u001b[0m\u001b[0;34m)\u001b[0m\u001b[0;34m\u001b[0m\u001b[0;34m\u001b[0m\u001b[0m\n\u001b[0m\u001b[1;32m   5376\u001b[0m     \u001b[0;32mreturn\u001b[0m \u001b[0mret\u001b[0m\u001b[0;34m\u001b[0m\u001b[0;34m\u001b[0m\u001b[0m\n\u001b[1;32m   5377\u001b[0m \u001b[0;34m\u001b[0m\u001b[0m\n",
      "\u001b[0;32m~/Applications/anaconda3/lib/python3.7/site-packages/tensorflow/python/framework/ops.py\u001b[0m in \u001b[0;36m_GetGlobalDefaultGraph\u001b[0;34m(self)\u001b[0m\n\u001b[1;32m   5377\u001b[0m \u001b[0;34m\u001b[0m\u001b[0m\n\u001b[1;32m   5378\u001b[0m   \u001b[0;32mdef\u001b[0m \u001b[0m_GetGlobalDefaultGraph\u001b[0m\u001b[0;34m(\u001b[0m\u001b[0mself\u001b[0m\u001b[0;34m)\u001b[0m\u001b[0;34m:\u001b[0m\u001b[0;34m\u001b[0m\u001b[0;34m\u001b[0m\u001b[0m\n\u001b[0;32m-> 5379\u001b[0;31m     \u001b[0;32mif\u001b[0m \u001b[0mself\u001b[0m\u001b[0;34m.\u001b[0m\u001b[0m_global_default_graph\u001b[0m \u001b[0;32mis\u001b[0m \u001b[0;32mNone\u001b[0m\u001b[0;34m:\u001b[0m\u001b[0;34m\u001b[0m\u001b[0;34m\u001b[0m\u001b[0m\n\u001b[0m\u001b[1;32m   5380\u001b[0m       \u001b[0;31m# TODO(mrry): Perhaps log that the default graph is being used, or set\u001b[0m\u001b[0;34m\u001b[0m\u001b[0;34m\u001b[0m\u001b[0;34m\u001b[0m\u001b[0m\n\u001b[1;32m   5381\u001b[0m       \u001b[0;31m#   provide some other feedback to prevent confusion when a mixture of\u001b[0m\u001b[0;34m\u001b[0m\u001b[0;34m\u001b[0m\u001b[0;34m\u001b[0m\u001b[0m\n",
      "\u001b[0;31mKeyboardInterrupt\u001b[0m: "
     ]
    }
   ],
   "source": [
    "epsilons = [0.05,0.2,0.22,0.22,1]\n",
    "#epsilon_decays = [0.999,0.999,1,1]\n",
    "my_simulator.train(epsilon = epsilons, epsilon_decay = epsilon_decays, n_episodes = 4000)"
   ]
  },
  {
   "cell_type": "markdown",
   "metadata": {},
   "source": [
    "Add twap stat to final plot"
   ]
  },
  {
   "cell_type": "code",
   "execution_count": 97,
   "metadata": {},
   "outputs": [
    {
     "data": {
      "text/plain": [
       "[<matplotlib.lines.Line2D at 0x14515c5c0>]"
      ]
     },
     "execution_count": 97,
     "metadata": {},
     "output_type": "execute_result"
    }
   ],
   "source": [
    "from matplotlib import pyplot as plt\n",
    "plt.ylim([9,10])\n",
    "twap_stat = 9.849\n",
    "plt.plot([0, 175], [twap_stat, twap_stat], 'k--')"
   ]
  },
  {
   "cell_type": "code",
   "execution_count": 387,
   "metadata": {
    "scrolled": true
   },
   "outputs": [
    {
     "name": "stdout",
     "output_type": "stream",
     "text": [
      "0.05389431695657363\n"
     ]
    }
   ],
   "source": [
    "print(daisy25aN31_9995.epsilon)"
   ]
  },
  {
   "cell_type": "code",
   "execution_count": 2,
   "metadata": {},
   "outputs": [
    {
     "data": {
      "text/plain": [
       "6"
      ]
     },
     "execution_count": 2,
     "metadata": {},
     "output_type": "execute_result"
    }
   ],
   "source": [
    "import numpy as np\n",
    "x = np.array([1,2,3])\n",
    "np.add.reduce(x)"
   ]
  },
  {
   "cell_type": "code",
   "execution_count": 7,
   "metadata": {},
   "outputs": [
    {
     "name": "stdout",
     "output_type": "stream",
     "text": [
      "19 20\n"
     ]
    }
   ],
   "source": [
    "res = (19,20)\n",
    "x,y,*z = res\n",
    "print(x,y)"
   ]
  },
  {
   "cell_type": "code",
   "execution_count": 10,
   "metadata": {},
   "outputs": [
    {
     "name": "stdout",
     "output_type": "stream",
     "text": [
      "0                  AAPL\n",
      "1                   NaN\n",
      "2    288.79998779296875\n",
      "3     288.2250061035156\n",
      "4    288.07000732421875\n",
      "Name: Adj Close.3, dtype: object\n",
      "0                 AAPL\n",
      "1                  NaN\n",
      "2    312.8826904296875\n",
      "3    312.2799987792969\n",
      "4    311.7300109863281\n",
      "Name: Adj Close.3, dtype: object\n"
     ]
    }
   ],
   "source": [
    "import pandas as pd\n",
    "df1 = pd.read_csv(\"data/2020_05_04_SPX_yFinance\") # Load .csv\n",
    "df2 = pd.read_csv(\"data/2020_05_16_SPX_yFinance\") # Load .csv\n",
    "print(df1[\"Adj Close.3\"].head())\n",
    "print(df2[\"Adj Close.3\"].head())"
   ]
  },
  {
   "cell_type": "code",
   "execution_count": 28,
   "metadata": {},
   "outputs": [
    {
     "data": {
      "text/html": [
       "\n",
       "                Logging results to <a href=\"https://wandb.com\" target=\"_blank\">Weights & Biases</a> <a href=\"https://docs.wandb.com/integrations/jupyter.html\" target=\"_blank\">(Documentation)</a>.<br/>\n",
       "                Project page: <a href=\"https://app.wandb.ai/tobyg/OptEx\" target=\"_blank\">https://app.wandb.ai/tobyg/OptEx</a><br/>\n",
       "                Run page: <a href=\"https://app.wandb.ai/tobyg/OptEx/runs/2k7i5l4j\" target=\"_blank\">https://app.wandb.ai/tobyg/OptEx/runs/2k7i5l4j</a><br/>\n",
       "            "
      ],
      "text/plain": [
       "<IPython.core.display.HTML object>"
      ]
     },
     "metadata": {},
     "output_type": "display_data"
    },
    {
     "name": "stderr",
     "output_type": "stream",
     "text": [
      "wandb: Wandb version 0.9.0 is available!  To upgrade, please run:\n",
      "wandb:  $ pip install wandb --upgrade\n"
     ]
    }
   ],
   "source": [
    "my_simulator_eval = library.simulations.simulator(appl_market,agents,params,test_name = \"Apple Stock Testing\")"
   ]
  },
  {
   "cell_type": "markdown",
   "metadata": {},
   "source": [
    "Evaluate a sample episode post training"
   ]
  },
  {
   "cell_type": "code",
   "execution_count": 2,
   "metadata": {},
   "outputs": [
    {
     "name": "stdout",
     "output_type": "stream",
     "text": [
      "Agent 0 predict [[1.5529969 1.5239925 1.5060272 1.4940503 1.4820733 1.4371645 1.3810469]]\n",
      "State[0]:  (array([[ 1., -1.]]), array([0.99744944, 0.99579729, 0.99713171, 0.99748115, 0.99735413,\n",
      "       0.99636914, 0.99757646, 0.99768767, 0.99824372, 0.99830722,\n",
      "       0.99927912, 0.99957804, 0.99967335, 0.99887908, 0.99943513,\n",
      "       0.99989577, 1.00036475, 1.00148432, 1.00162733, 1.00324535,\n",
      "       1.00374003, 1.00393065, 1.00354941, 1.00202127, 1.00283455,\n",
      "       1.002358  , 1.0022465 , 1.00221509, 1.00197677, 1.00199267,\n",
      "       1.        , 1.00103919])) Actions[0]:  0 Rewards[0]:  0.05005001368201302 Next_states[0]:  (array([[ 0.9, -0.8]]), array([0.99744944, 0.99579729, 0.99713171, 0.99748115, 0.99735413,\n",
      "       0.99636914, 0.99757646, 0.99768767, 0.99824372, 0.99830722,\n",
      "       0.99927912, 0.99957804, 0.99967335, 0.99887908, 0.99943513,\n",
      "       0.99989577, 1.00036475, 1.00148432, 1.00162733, 1.00324535,\n",
      "       1.00374003, 1.00393065, 1.00354941, 1.00202127, 1.00283455,\n",
      "       1.002358  , 1.0022465 , 1.00221509, 1.00197677, 1.00199267,\n",
      "       1.        , 1.00103919])) Done[0]:  False\n",
      "Agent 0 next predict [[1.5022289 1.477369  1.4594038 1.4474268 1.43545   1.3888203 1.3327029]]\n",
      "Agent 0 predict [[1.5022289 1.477369  1.4594038 1.4474268 1.43545   1.3888203 1.3327029]]\n",
      "State[0]:  (array([[ 0.9, -0.8]]), array([0.99579729, 0.99713171, 0.99748115, 0.99735413, 0.99636914,\n",
      "       0.99757646, 0.99768767, 0.99824372, 0.99830722, 0.99927912,\n",
      "       0.99957804, 0.99967335, 0.99887908, 0.99943513, 0.99989577,\n",
      "       1.00036475, 1.00148432, 1.00162733, 1.00324535, 1.00374003,\n",
      "       1.00393065, 1.00354941, 1.00202127, 1.00283455, 1.002358  ,\n",
      "       1.0022465 , 1.00221509, 1.00197677, 1.00199267, 1.        ,\n",
      "       1.00103919, 0.99982443])) Actions[0]:  0 Rewards[0]:  0.04998927726118994 Next_states[0]:  (array([[ 0.8, -0.6]]), array([0.99579729, 0.99713171, 0.99748115, 0.99735413, 0.99636914,\n",
      "       0.99757646, 0.99768767, 0.99824372, 0.99830722, 0.99927912,\n",
      "       0.99957804, 0.99967335, 0.99887908, 0.99943513, 0.99989577,\n",
      "       1.00036475, 1.00148432, 1.00162733, 1.00324535, 1.00374003,\n",
      "       1.00393065, 1.00354941, 1.00202127, 1.00283455, 1.002358  ,\n",
      "       1.0022465 , 1.00221509, 1.00197677, 1.00199267, 1.        ,\n",
      "       1.00103919, 0.99982443])) Done[0]:  False\n",
      "Agent 0 next predict [[1.4511788 1.427938  1.4127802 1.4008032 1.3888265 1.3409189 1.2843589]]\n",
      "Agent 0 predict [[1.4511788 1.427938  1.4127802 1.4008032 1.3888265 1.3409189 1.2843589]]\n",
      "State[0]:  (array([[ 0.8, -0.6]]), array([0.99713171, 0.99748115, 0.99735413, 0.99636914, 0.99757646,\n",
      "       0.99768767, 0.99824372, 0.99830722, 0.99927912, 0.99957804,\n",
      "       0.99967335, 0.99887908, 0.99943513, 0.99989577, 1.00036475,\n",
      "       1.00148432, 1.00162733, 1.00324535, 1.00374003, 1.00393065,\n",
      "       1.00354941, 1.00202127, 1.00283455, 1.002358  , 1.0022465 ,\n",
      "       1.00221509, 1.00197677, 1.00199267, 1.        , 1.00103919,\n",
      "       0.99982443, 1.00083062])) Actions[0]:  0 Rewards[0]:  0.0500395855454499 Next_states[0]:  (array([[ 0.7, -0.4]]), array([0.99713171, 0.99748115, 0.99735413, 0.99636914, 0.99757646,\n",
      "       0.99768767, 0.99824372, 0.99830722, 0.99927912, 0.99957804,\n",
      "       0.99967335, 0.99887908, 0.99943513, 0.99989577, 1.00036475,\n",
      "       1.00148432, 1.00162733, 1.00324535, 1.00374003, 1.00393065,\n",
      "       1.00354941, 1.00202127, 1.00283455, 1.002358  , 1.0022465 ,\n",
      "       1.00221509, 1.00197677, 1.00199267, 1.        , 1.00103919,\n",
      "       0.99982443, 1.00083062])) Done[0]:  False\n",
      "Agent 0 next predict [[1.4001286 1.3768878 1.3629434 1.3536474 1.3422029 1.2942953 1.2360147]]\n",
      "Agent 0 predict [[1.4001286 1.3768878 1.3629434 1.3536474 1.3422029 1.2942953 1.2360147]]\n",
      "State[0]:  (array([[ 0.7, -0.4]]), array([0.99748115, 0.99735413, 0.99636914, 0.99757646, 0.99768767,\n",
      "       0.99824372, 0.99830722, 0.99927912, 0.99957804, 0.99967335,\n",
      "       0.99887908, 0.99943513, 0.99989577, 1.00036475, 1.00148432,\n",
      "       1.00162733, 1.00324535, 1.00374003, 1.00393065, 1.00354941,\n",
      "       1.00202127, 1.00283455, 1.002358  , 1.0022465 , 1.00221509,\n",
      "       1.00197677, 1.00199267, 1.        , 1.00103919, 0.99982443,\n",
      "       1.00083062, 1.00004318])) Actions[0]:  0 Rewards[0]:  0.050000214761230455 Next_states[0]:  (array([[ 0.6, -0.2]]), array([0.99748115, 0.99735413, 0.99636914, 0.99757646, 0.99768767,\n",
      "       0.99824372, 0.99830722, 0.99927912, 0.99957804, 0.99967335,\n",
      "       0.99887908, 0.99943513, 0.99989577, 1.00036475, 1.00148432,\n",
      "       1.00162733, 1.00324535, 1.00374003, 1.00393065, 1.00354941,\n",
      "       1.00202127, 1.00283455, 1.002358  , 1.0022465 , 1.00221509,\n",
      "       1.00197677, 1.00199267, 1.        , 1.00103919, 0.99982443,\n",
      "       1.00083062, 1.00004318])) Done[0]:  False\n",
      "Agent 0 next predict [[1.3490784 1.3258379 1.3118933 1.3025974 1.293301  1.2476718 1.1877391]]\n",
      "Agent 0 predict [[1.3490784 1.3258379 1.3118933 1.3025974 1.293301  1.2476718 1.1877391]]\n",
      "State[0]:  (array([[ 0.6, -0.2]]), array([0.99735413, 0.99636914, 0.99757646, 0.99768767, 0.99824372,\n",
      "       0.99830722, 0.99927912, 0.99957804, 0.99967335, 0.99887908,\n",
      "       0.99943513, 0.99989577, 1.00036475, 1.00148432, 1.00162733,\n",
      "       1.00324535, 1.00374003, 1.00393065, 1.00354941, 1.00202127,\n",
      "       1.00283455, 1.002358  , 1.0022465 , 1.00221509, 1.00197677,\n",
      "       1.00199267, 1.        , 1.00103919, 0.99982443, 1.00083062,\n",
      "       1.00004318, 1.00046288])) Actions[0]:  0 Rewards[0]:  0.05002119912829931 Next_states[0]:  (array([[0.5, 0. ]]), array([0.99735413, 0.99636914, 0.99757646, 0.99768767, 0.99824372,\n",
      "       0.99830722, 0.99927912, 0.99957804, 0.99967335, 0.99887908,\n",
      "       0.99943513, 0.99989577, 1.00036475, 1.00148432, 1.00162733,\n",
      "       1.00324535, 1.00374003, 1.00393065, 1.00354941, 1.00202127,\n",
      "       1.00283455, 1.002358  , 1.0022465 , 1.00221509, 1.00197677,\n",
      "       1.00199267, 1.        , 1.00103919, 0.99982443, 1.00083062,\n",
      "       1.00004318, 1.00046288])) Done[0]:  False\n",
      "Agent 0 next predict [[1.3005862 1.2747877 1.2608434 1.2515471 1.2422509 1.2010484 1.1409591]]\n",
      "Agent 0 predict [[1.3005862 1.2747877 1.2608434 1.2515471 1.2422509 1.2010484 1.1409591]]\n",
      "State[0]:  (array([[0.5, 0. ]]), array([0.99636914, 0.99757646, 0.99768767, 0.99824372, 0.99830722,\n",
      "       0.99927912, 0.99957804, 0.99967335, 0.99887908, 0.99943513,\n",
      "       0.99989577, 1.00036475, 1.00148432, 1.00162733, 1.00324535,\n",
      "       1.00374003, 1.00393065, 1.00354941, 1.00202127, 1.00283455,\n",
      "       1.002358  , 1.0022465 , 1.00221509, 1.00197677, 1.00199267,\n",
      "       1.        , 1.00103919, 0.99982443, 1.00083062, 1.00004318,\n",
      "       1.00046288, 1.00066026])) Actions[0]:  0 Rewards[0]:  0.05003106792932102 Next_states[0]:  (array([[0.4, 0.2]]), array([0.99636914, 0.99757646, 0.99768767, 0.99824372, 0.99830722,\n",
      "       0.99927912, 0.99957804, 0.99967335, 0.99887908, 0.99943513,\n",
      "       0.99989577, 1.00036475, 1.00148432, 1.00162733, 1.00324535,\n",
      "       1.00374003, 1.00393065, 1.00354941, 1.00202127, 1.00283455,\n",
      "       1.002358  , 1.0022465 , 1.00221509, 1.00197677, 1.00199267,\n",
      "       1.        , 1.00103919, 0.99982443, 1.00083062, 1.00004318,\n",
      "       1.00046288, 1.00066026])) Done[0]:  False\n",
      "Agent 0 next predict [[1.2507869 1.2303597 1.2146617 1.2038889 1.1931161 1.1540157 1.0952889]]\n",
      "Agent 0 predict [[1.2507869 1.2303597 1.2146617 1.2038889 1.1931161 1.1540157 1.0952889]]\n",
      "State[0]:  (array([[0.4, 0.2]]), array([0.99757646, 0.99768767, 0.99824372, 0.99830722, 0.99927912,\n",
      "       0.99957804, 0.99967335, 0.99887908, 0.99943513, 0.99989577,\n",
      "       1.00036475, 1.00148432, 1.00162733, 1.00324535, 1.00374003,\n",
      "       1.00393065, 1.00354941, 1.00202127, 1.00283455, 1.002358  ,\n",
      "       1.0022465 , 1.00221509, 1.00197677, 1.00199267, 1.        ,\n",
      "       1.00103919, 0.99982443, 1.00083062, 1.00004318, 1.00046288,\n",
      "       1.00066026, 1.00053995])) Actions[0]:  0 Rewards[0]:  0.050025052534148996 Next_states[0]:  (array([[0.3, 0.4]]), array([0.99757646, 0.99768767, 0.99824372, 0.99830722, 0.99927912,\n",
      "       0.99957804, 0.99967335, 0.99887908, 0.99943513, 0.99989577,\n",
      "       1.00036475, 1.00148432, 1.00162733, 1.00324535, 1.00374003,\n",
      "       1.00393065, 1.00354941, 1.00202127, 1.00283455, 1.002358  ,\n",
      "       1.0022465 , 1.00221509, 1.00197677, 1.00199267, 1.        ,\n",
      "       1.00103919, 0.99982443, 1.00083062, 1.00004318, 1.00046288,\n",
      "       1.00066026, 1.00053995])) Done[0]:  False\n",
      "Agent 0 next predict [[1.2009878 1.1805605 1.1683041 1.160133  1.1495882 1.1086427 1.0882962]]\n",
      "Agent 0 predict [[1.2009878 1.1805605 1.1683041 1.160133  1.1495882 1.1086427 1.0882962]]\n",
      "State[0]:  (array([[0.3, 0.4]]), array([0.99768767, 0.99824372, 0.99830722, 0.99927912, 0.99957804,\n",
      "       0.99967335, 0.99887908, 0.99943513, 0.99989577, 1.00036475,\n",
      "       1.00148432, 1.00162733, 1.00324535, 1.00374003, 1.00393065,\n",
      "       1.00354941, 1.00202127, 1.00283455, 1.002358  , 1.0022465 ,\n",
      "       1.00221509, 1.00197677, 1.00199267, 1.        , 1.00103919,\n",
      "       0.99982443, 1.00083062, 1.00004318, 1.00046288, 1.00066026,\n",
      "       1.00053995, 0.99786256])) Actions[0]:  0 Rewards[0]:  0.04989118601622773 Next_states[0]:  (array([[0.2, 0.6]]), array([0.99768767, 0.99824372, 0.99830722, 0.99927912, 0.99957804,\n",
      "       0.99967335, 0.99887908, 0.99943513, 0.99989577, 1.00036475,\n",
      "       1.00148432, 1.00162733, 1.00324535, 1.00374003, 1.00393065,\n",
      "       1.00354941, 1.00202127, 1.00283455, 1.002358  , 1.0022465 ,\n",
      "       1.00221509, 1.00197677, 1.00199267, 1.        , 1.00103919,\n",
      "       0.99982443, 1.00083062, 1.00004318, 1.00046288, 1.00066026,\n",
      "       1.00053995, 0.99786256])) Done[0]:  False\n",
      "Agent 0 next predict [[1.1511885 1.1307611 1.1194881 1.1127626 1.1060369 1.0749884 1.093066 ]]\n",
      "Agent 0 predict [[1.1511885 1.1307611 1.1194881 1.1127626 1.1060369 1.0749884 1.093066 ]]\n",
      "State[0]:  (array([[0.2, 0.6]]), array([0.99824372, 0.99830722, 0.99927912, 0.99957804, 0.99967335,\n",
      "       0.99887908, 0.99943513, 0.99989577, 1.00036475, 1.00148432,\n",
      "       1.00162733, 1.00324535, 1.00374003, 1.00393065, 1.00354941,\n",
      "       1.00202127, 1.00283455, 1.002358  , 1.0022465 , 1.00221509,\n",
      "       1.00197677, 1.00199267, 1.        , 1.00103919, 0.99982443,\n",
      "       1.00083062, 1.00004318, 1.00046288, 1.00066026, 1.00053995,\n",
      "       0.99786256, 0.99810758])) Actions[0]:  0 Rewards[0]:  0.0499034369994924 Next_states[0]:  (array([[0.1, 0.8]]), array([0.99824372, 0.99830722, 0.99927912, 0.99957804, 0.99967335,\n",
      "       0.99887908, 0.99943513, 0.99989577, 1.00036475, 1.00148432,\n",
      "       1.00162733, 1.00324535, 1.00374003, 1.00393065, 1.00354941,\n",
      "       1.00202127, 1.00283455, 1.002358  , 1.0022465 , 1.00221509,\n",
      "       1.00197677, 1.00199267, 1.        , 1.00103919, 0.99982443,\n",
      "       1.00083062, 1.00004318, 1.00046288, 1.00066026, 1.00053995,\n",
      "       0.99786256, 0.99810758])) Done[0]:  False\n",
      "Agent 0 next predict [[1.104086  1.0872867 1.0771983 1.0704465 1.063652  1.0776243 1.0971563]]\n",
      "Agent 0 predict [[1.104086  1.0872867 1.0771983 1.0704465 1.063652  1.0776243 1.0971563]]\n",
      "State[0]:  (array([[0.1, 0.8]]), array([0.99830722, 0.99927912, 0.99957804, 0.99967335, 0.99887908,\n",
      "       0.99943513, 0.99989577, 1.00036475, 1.00148432, 1.00162733,\n",
      "       1.00324535, 1.00374003, 1.00393065, 1.00354941, 1.00202127,\n",
      "       1.00283455, 1.002358  , 1.0022465 , 1.00221509, 1.00197677,\n",
      "       1.00199267, 1.        , 1.00103919, 0.99982443, 1.00083062,\n",
      "       1.00004318, 1.00046288, 1.00066026, 1.00053995, 0.99786256,\n",
      "       0.99810758, 1.00073488])) Actions[0]:  0 Rewards[0]:  0.5501688160848849 Next_states[0]:  (array([[-1.,  1.]]), array([0.99830722, 0.99927912, 0.99957804, 0.99967335, 0.99887908,\n",
      "       0.99943513, 0.99989577, 1.00036475, 1.00148432, 1.00162733,\n",
      "       1.00324535, 1.00374003, 1.00393065, 1.00354941, 1.00202127,\n",
      "       1.00283455, 1.002358  , 1.0022465 , 1.00221509, 1.00197677,\n",
      "       1.00199267, 1.        , 1.00103919, 0.99982443, 1.00083062,\n",
      "       1.00004318, 1.00046288, 1.00066026, 1.00053995, 0.99786256,\n",
      "       0.99810758, 1.00073488])) Done[0]:  True\n",
      "Agent 0 next predict [[0.20450136 0.21167712 0.21598253 0.21885286 0.22172314 0.23320436\n",
      "  0.24791889]]\n"
     ]
    }
   ],
   "source": [
    "#daisy25aN31_9995.epsilon = 0.5\n",
    "actions = np.array([0])\n",
    "my_simulator.episode(actions,evaluate = 0,verbose = 1)\n",
    "#david.predict[]\n"
   ]
  },
  {
   "cell_type": "markdown",
   "metadata": {},
   "source": [
    "### Plot Action value distributions for Distributional Agents"
   ]
  },
  {
   "cell_type": "code",
   "execution_count": 45,
   "metadata": {},
   "outputs": [
    {
     "data": {
      "text/plain": [
       "'\\nprint(state,bar_agent.predict(state))\\nprint(state1,bar_agent.predict(state1))\\n#state = np.reshape(np.append(state,1), [1, 3])\\n#print(state)\\n#print(daisy.model.get_weights())\\n#print(\"state probs\", daisy.probs(state))\\n#print(\"pred probs\", bar_agent.model.predict(state1)[0])#-bar_agent.model.predict(state)[0])\\nplt.legend()\\nprint(bar_agent.probs(state,bar_act)[0])'"
      ]
     },
     "execution_count": 45,
     "metadata": {},
     "output_type": "execute_result"
    },
    {
     "data": {
      "image/png": "[encoded data removed]",
      "text/plain": [
       "<Figure size 432x288 with 1 Axes>"
      ]
     },
     "metadata": {
      "needs_background": "light"
     },
     "output_type": "display_data"
    }
   ],
   "source": [
    "from matplotlib import pyplot as plt\n",
    "%matplotlib inline \n",
    "bar_agent = brian #daisy15N11   daisy100N51\n",
    "#plt.plot(my_simulator.eval_rewards_mean[:,1],label = \"act \" + str(1))\n",
    "#print(my_simulator.eval_rewards_mean)\n",
    "#print(my_simulator.env.reset())\n",
    "#episode_actions = np.zeros((7,3))\n",
    "#print(my_simulator.env.step([1,5,6,6]))\n",
    "#state = my_simulator.env.reset()[0]\n",
    "#print(my_simulator.env.cash)\n",
    "loc = [1,-1]\n",
    "md = np.ones(32)\n",
    "loc = np.reshape(loc, [1, 2])\n",
    "#md = np.reshape(md, [1, 32])\n",
    "state = [loc,md]\n",
    "\n",
    "bar_act = 3\n",
    "#plt.bar(bar_agent.z,bar_agent.probs(state,bar_act)[0],alpha = 0.4,width = 0.002,label = f\"state {state}, act {bar_act}\")\n",
    "bar_act = 4\n",
    "plt.bar(bar_agent.z,bar_agent.probs(state,bar_act)[0],alpha = 0.4,width = 0.002,label = f\"state {state}, act {bar_act}\")\n",
    "\n",
    "\n",
    "#plt.bar(bar_agent.z,bar_agent.probs(state1,bar_act)[0],alpha = 0.4,width = 0.004,label = f\"state {state1}, act {bar_act}\")\n",
    "#plt.bar(bar_agent.z,bar_agent.probs(state2,bar_act)[0],alpha = 0.4,width = 0.004,label = f\"state {state2}, act {bar_act}\")\n",
    "#print(bar_agent.probs(state))\n",
    "#print(david30.predict(state))\n",
    "'''\n",
    "print(state,bar_agent.predict(state))\n",
    "print(state1,bar_agent.predict(state1))\n",
    "#state = np.reshape(np.append(state,1), [1, 3])\n",
    "#print(state)\n",
    "#print(daisy.model.get_weights())\n",
    "#print(\"state probs\", daisy.probs(state))\n",
    "#print(\"pred probs\", bar_agent.model.predict(state1)[0])#-bar_agent.model.predict(state)[0])\n",
    "plt.legend()\n",
    "print(bar_agent.probs(state,bar_act)[0])'''"
   ]
  },
  {
   "cell_type": "code",
   "execution_count": 131,
   "metadata": {},
   "outputs": [
    {
     "data": {
      "text/plain": [
       "<BarContainer object of 41 artists>"
      ]
     },
     "execution_count": 131,
     "metadata": {},
     "output_type": "execute_result"
    },
    {
     "data": {
      "image/png": "[encoded data removed]",
      "text/plain": [
       "<Figure size 432x288 with 1 Axes>"
      ]
     },
     "metadata": {
      "needs_background": "light"
     },
     "output_type": "display_data"
    }
   ],
   "source": [
    "from matplotlib import pyplot\n",
    "%matplotlib inline  \n",
    "plt.bar(bar_agent.z,bar_agent.probs(state,bar_act)[0],alpha = 0.4,width = 0.05,label = f\"act {bar_act}\")"
   ]
  },
  {
   "cell_type": "code",
   "execution_count": 88,
   "metadata": {},
   "outputs": [
    {
     "name": "stdout",
     "output_type": "stream",
     "text": [
      "[[1.35744632e-05 5.86628584e-06 2.58160457e-06 5.99464104e-07\n",
      "  4.74560938e-03]]\n",
      "5.994723341004875e-07\n",
      "[[5.5182400e-06 4.3750665e-09 7.5223115e-06 3.8480178e-07 4.1647644e-07\n",
      "  3.4923675e-09 2.4237238e-06 1.4744355e-09 3.1187987e-08 1.6907694e-11\n",
      "  5.8795553e-08 1.1792116e-06 5.0734457e-08 2.7221098e-10 4.8862375e-08\n",
      "  2.0434729e-06 2.8074530e-06 3.4797912e-07 1.7652665e-10 1.5957380e-06\n",
      "  9.9997032e-01 2.7648263e-12 3.7239647e-09 6.4975785e-09 1.3954185e-10\n",
      "  3.4414436e-06 6.0194715e-14 1.8028203e-08 6.9937067e-10 3.7105539e-07\n",
      "  6.1954063e-14 4.7340407e-09 8.1869040e-08 5.0627906e-09 1.4544144e-09\n",
      "  1.3242059e-06 3.8975507e-08 3.0195644e-12 1.6127088e-12 4.0010316e-14\n",
      "  1.1356373e-08]]\n",
      "[[-7.82182970e-05 -3.30417275e-05 -1.41244373e-05 -2.86881338e-06\n",
      "  -1.31347548e-02]]\n"
     ]
    }
   ],
   "source": [
    "state = [-1,0] \n",
    "state = np.reshape(state, [1, 2])\n",
    "print(brian.variance(state))\n",
    "print(brian.var_act(state,3))\n",
    "print(brian.probs(state,3,target = False))\n",
    "print(brian.predict(state))"
   ]
  },
  {
   "cell_type": "markdown",
   "metadata": {},
   "source": [
    "### Plot Action value estimates for the first action over time\n",
    "If using a TWAP agent then add the average to denote the optimal action value for action 5"
   ]
  },
  {
   "cell_type": "code",
   "execution_count": 4,
   "metadata": {
    "scrolled": false
   },
   "outputs": [
    {
     "name": "stdout",
     "output_type": "stream",
     "text": [
      "(21, 1)\n"
     ]
    },
    {
     "ename": "NameError",
     "evalue": "name 'plt' is not defined",
     "output_type": "error",
     "traceback": [
      "\u001b[0;31m---------------------------------------------------------------------------\u001b[0m",
      "\u001b[0;31mNameError\u001b[0m                                 Traceback (most recent call last)",
      "\u001b[0;32m<ipython-input-4-bd6911d3f89c>\u001b[0m in \u001b[0;36m<module>\u001b[0;34m\u001b[0m\n\u001b[1;32m      1\u001b[0m \u001b[0mprint\u001b[0m\u001b[0;34m(\u001b[0m\u001b[0mmy_simulator\u001b[0m\u001b[0;34m.\u001b[0m\u001b[0meval_rewards_mean\u001b[0m\u001b[0;34m.\u001b[0m\u001b[0mshape\u001b[0m\u001b[0;34m)\u001b[0m\u001b[0;34m\u001b[0m\u001b[0;34m\u001b[0m\u001b[0m\n\u001b[1;32m      2\u001b[0m \u001b[0mtwap_stat\u001b[0m \u001b[0;34m=\u001b[0m \u001b[0mnp\u001b[0m\u001b[0;34m.\u001b[0m\u001b[0mmean\u001b[0m\u001b[0;34m(\u001b[0m\u001b[0mmy_simulator\u001b[0m\u001b[0;34m.\u001b[0m\u001b[0meval_rewards_mean\u001b[0m\u001b[0;34m[\u001b[0m\u001b[0;34m:\u001b[0m\u001b[0;34m,\u001b[0m\u001b[0;36m0\u001b[0m\u001b[0;34m]\u001b[0m\u001b[0;34m)\u001b[0m\u001b[0;34m\u001b[0m\u001b[0;34m\u001b[0m\u001b[0m\n\u001b[0;32m----> 3\u001b[0;31m \u001b[0mplt\u001b[0m\u001b[0;34m.\u001b[0m\u001b[0mplot\u001b[0m\u001b[0;34m(\u001b[0m\u001b[0;34m[\u001b[0m\u001b[0;36m0\u001b[0m\u001b[0;34m,\u001b[0m \u001b[0mlen\u001b[0m\u001b[0;34m(\u001b[0m\u001b[0mmy_simulator\u001b[0m\u001b[0;34m.\u001b[0m\u001b[0mtrain_actions\u001b[0m\u001b[0;34m[\u001b[0m\u001b[0;34m:\u001b[0m\u001b[0;34m,\u001b[0m\u001b[0;36m0\u001b[0m\u001b[0;34m]\u001b[0m\u001b[0;34m)\u001b[0m\u001b[0;34m]\u001b[0m\u001b[0;34m,\u001b[0m \u001b[0;34m[\u001b[0m\u001b[0mtwap_stat\u001b[0m\u001b[0;34m,\u001b[0m \u001b[0mtwap_stat\u001b[0m\u001b[0;34m]\u001b[0m\u001b[0;34m,\u001b[0m \u001b[0;34m'k--'\u001b[0m\u001b[0;34m)\u001b[0m\u001b[0;34m\u001b[0m\u001b[0;34m\u001b[0m\u001b[0m\n\u001b[0m",
      "\u001b[0;31mNameError\u001b[0m: name 'plt' is not defined"
     ]
    }
   ],
   "source": [
    "\n",
    "print(my_simulator.eval_rewards_mean.shape)\n",
    "twap_stat = np.mean(my_simulator.eval_rewards_mean[:,0])\n",
    "plt.plot([0, len(my_simulator.train_actions[:,0])], [twap_stat, twap_stat], 'k--')"
   ]
  },
  {
   "cell_type": "code",
   "execution_count": 5,
   "metadata": {},
   "outputs": [
    {
     "data": {
      "text/plain": [
       "<matplotlib.legend.Legend at 0x13ac8c048>"
      ]
     },
     "execution_count": 5,
     "metadata": {},
     "output_type": "execute_result"
    },
    {
     "data": {
      "image/png": "[encoded data removed]",
      "text/plain": [
       "<Figure size 432x288 with 1 Axes>"
      ]
     },
     "metadata": {
      "needs_background": "light"
     },
     "output_type": "display_data"
    }
   ],
   "source": [
    "\n",
    "from matplotlib import pyplot as plt\n",
    "strat = 0\n",
    "plt.plot([0, len(my_simulator.train_actions[:,0])], [twap_stat, twap_stat], 'k--',label = \"Optimal Value\")\n",
    "for i in range(5):\n",
    "    plt.plot(my_simulator._moving_average(my_simulator.train_actions[:,i,strat],n=100),label = \"act \" + str(i))\n",
    "    pass\n",
    "#plt.ylim([0.96,1])\n",
    "#plt.xlim([10000,12000])\n",
    "plt.legend()\n",
    "#plt.plot(moving_average(my_simulator.train_actions[:,0,strat],n=5),label = \"act \" + str(i))\n"
   ]
  },
  {
   "cell_type": "markdown",
   "metadata": {},
   "source": [
    "### A look at state values"
   ]
  },
  {
   "cell_type": "code",
   "execution_count": 605,
   "metadata": {
    "scrolled": false
   },
   "outputs": [
    {
     "data": {
      "text/plain": [
       "Text(0.5, 1, 'State values over time')"
      ]
     },
     "execution_count": 605,
     "metadata": {},
     "output_type": "execute_result"
    }
   ],
   "source": [
    "# First check value with position start with 2D\n",
    "from matplotlib import pyplot as plt\n",
    "bar_agent = daisy100aN31UCB\n",
    "n = 10\n",
    "values = []\n",
    "x_vals = []\n",
    "my_action = 4\n",
    "t = -1\n",
    "p = 0\n",
    "\n",
    "\n",
    "for i in range(n):\n",
    "    #action_vals = []\n",
    "    t = 2 * i / (n-1) - 1\n",
    "    state = [p,t] \n",
    "    state = np.reshape(state, [1, 2])\n",
    "    values.append(bar_agent.predict(state)[0][my_action])\n",
    "    x_vals.append(t)\n",
    "    \n",
    "plt.plot(x_vals,values)\n",
    "plt.title(\"State values over time\")\n",
    "    \n",
    "    "
   ]
  },
  {
   "cell_type": "markdown",
   "metadata": {},
   "source": [
    "### Investigating UCB Algo Addition"
   ]
  },
  {
   "cell_type": "code",
   "execution_count": 607,
   "metadata": {},
   "outputs": [
    {
     "name": "stdout",
     "output_type": "stream",
     "text": [
      "Simulating Action\n",
      "Predictions:  [0.9765848  0.98030104 0.98547602 0.98322241 0.98320087] Variance:  [[0.00508625 0.00504293 0.00451804 0.00494304 0.00472284]] UCB element:  [[0.10821977 0.10775795 0.10199589 0.10668543 0.10428198]]\n",
      "Argmax without UCB:  2 Argmax with UCB:  3\n"
     ]
    }
   ],
   "source": [
    "UCB_agent = daisy100aN31UCB\n",
    "print(\"Simulating Action\")\n",
    "state = [1,-1] \n",
    "state = np.reshape(state, [1, 2])\n",
    "state1 = [0,0] \n",
    "state = np.reshape(state, [1, 2])\n",
    "c=50\n",
    "t= 10000\n",
    "\n",
    "predictions = UCB_agent.predict(state)[0]\n",
    "variance = UCB_agent.variance(state)\n",
    "test_ct = c * np.sqrt(np.log(t) / t)\n",
    "ucb_element = test_ct * np.sqrt(variance)\n",
    "print(\"Predictions: \", predictions,\"Variance: \", variance, \"UCB element: \",ucb_element )\n",
    "print(\"Argmax without UCB: \",np.argmax(predictions),\"Argmax with UCB: \",np.argmax(predictions + ucb_element) )\n",
    "\n",
    "\n"
   ]
  },
  {
   "cell_type": "code",
   "execution_count": null,
   "metadata": {},
   "outputs": [],
   "source": [
    "# Try ramping up c\n",
    "daisy8aN11UCB.c = "
   ]
  },
  {
   "cell_type": "markdown",
   "metadata": {},
   "source": [
    "## Misc Code"
   ]
  },
  {
   "cell_type": "code",
   "execution_count": 142,
   "metadata": {},
   "outputs": [
    {
     "ename": "ValueError",
     "evalue": "shapes (2,1) and (3,) not aligned: 1 (dim 1) != 3 (dim 0)",
     "output_type": "error",
     "traceback": [
      "\u001b[0;31m---------------------------------------------------------------------------\u001b[0m",
      "\u001b[0;31mValueError\u001b[0m                                Traceback (most recent call last)",
      "\u001b[0;32m<ipython-input-142-e234a47fefb5>\u001b[0m in \u001b[0;36m<module>\u001b[0;34m\u001b[0m\n\u001b[1;32m      4\u001b[0m \u001b[0mmy_range\u001b[0m\u001b[0;34m.\u001b[0m\u001b[0mshape\u001b[0m \u001b[0;34m=\u001b[0m \u001b[0;34m(\u001b[0m\u001b[0;36m2\u001b[0m\u001b[0;34m,\u001b[0m\u001b[0;36m1\u001b[0m\u001b[0;34m)\u001b[0m\u001b[0;34m\u001b[0m\u001b[0;34m\u001b[0m\u001b[0m\n\u001b[1;32m      5\u001b[0m \u001b[0;34m\u001b[0m\u001b[0m\n\u001b[0;32m----> 6\u001b[0;31m \u001b[0mnp\u001b[0m\u001b[0;34m.\u001b[0m\u001b[0mcos\u001b[0m\u001b[0;34m(\u001b[0m\u001b[0mnp\u001b[0m\u001b[0;34m.\u001b[0m\u001b[0mdot\u001b[0m\u001b[0;34m(\u001b[0m\u001b[0mmy_range\u001b[0m\u001b[0;34m,\u001b[0m \u001b[0mmy_rands\u001b[0m\u001b[0;34m)\u001b[0m \u001b[0;34m*\u001b[0m \u001b[0mnp\u001b[0m\u001b[0;34m.\u001b[0m\u001b[0mpi\u001b[0m\u001b[0;34m)\u001b[0m\u001b[0;34m\u001b[0m\u001b[0;34m\u001b[0m\u001b[0m\n\u001b[0m",
      "\u001b[0;31mValueError\u001b[0m: shapes (2,1) and (3,) not aligned: 1 (dim 1) != 3 (dim 0)"
     ]
    }
   ],
   "source": [
    "my_rands = np.random.rand(3)\n",
    "#my_rands.shape = (1,3)\n",
    "my_range = np.arange(2)\n",
    "my_range.shape = (2,1)\n",
    "\n",
    "np.cos(np.dot(my_range, my_rands) * np.pi)"
   ]
  },
  {
   "cell_type": "code",
   "execution_count": 24,
   "metadata": {},
   "outputs": [],
   "source": [
    "my_simulator.show_stats(moving_average = 800)"
   ]
  },
  {
   "cell_type": "code",
   "execution_count": 10,
   "metadata": {},
   "outputs": [
    {
     "name": "stdout",
     "output_type": "stream",
     "text": [
      "0.009993278292196676\n",
      "0.00999727800350609\n",
      "[[7612089.    716650.6   666954.56  679772.75  689112.    671250.25\n",
      "   663567.6 ]]\n"
     ]
    }
   ],
   "source": [
    "print(george.epsilon)\n",
    "print(alice.epsilon)\n",
    "state = [1,0.5] \n",
    "state = np.reshape(state, [1, 2])\n",
    "print(alice.predict(state))\n"
   ]
  },
  {
   "cell_type": "code",
   "execution_count": 16,
   "metadata": {},
   "outputs": [
    {
     "name": "stdout",
     "output_type": "stream",
     "text": [
      "1\n",
      "5.3915353\n",
      "[[5.140569  5.3915353 4.5375085 4.7906394 3.8501995 3.0198317 1.5048974]]\n"
     ]
    }
   ],
   "source": [
    "state = [1,0.5] \n",
    "state = np.reshape(state, [1, 2])\n",
    "pred1 = george.predict(state)\n",
    "pred2 = pred1 + pred1\n",
    "print(np.argmax(pred2))\n",
    "print(pred2[0,np.argmax(pred2)])\n",
    "print(pred2)"
   ]
  },
  {
   "cell_type": "code",
   "execution_count": 28,
   "metadata": {},
   "outputs": [
    {
     "data": {
      "text/plain": [
       "[<matplotlib.lines.Line2D at 0x141e61208>]"
      ]
     },
     "execution_count": 28,
     "metadata": {},
     "output_type": "execute_result"
    }
   ],
   "source": [
    "plt.plot(moving_average(my_simulator.eval_rewards[:,1],n=300), label  = \"George\")"
   ]
  },
  {
   "cell_type": "code",
   "execution_count": 29,
   "metadata": {},
   "outputs": [],
   "source": [
    "george.save(\"george1_t50_n7\")"
   ]
  },
  {
   "cell_type": "code",
   "execution_count": 124,
   "metadata": {},
   "outputs": [
    {
     "name": "stdout",
     "output_type": "stream",
     "text": [
      "(0, 3)\n",
      "Outer 1:  nan\n",
      "Inner 1:  nan\n",
      "Inner 2:  nan\n",
      "Outer Inner :  nan\n",
      "Outer 2 :  nan\n"
     ]
    },
    {
     "name": "stderr",
     "output_type": "stream",
     "text": [
      "/Users/tobyweston/Applications/anaconda3/lib/python3.7/site-packages/numpy/core/fromnumeric.py:3118: RuntimeWarning: Mean of empty slice.\n",
      "  out=out, **kwargs)\n",
      "/Users/tobyweston/Applications/anaconda3/lib/python3.7/site-packages/numpy/core/_methods.py:85: RuntimeWarning: invalid value encountered in double_scalars\n",
      "  ret = ret.dtype.type(ret / rcount)\n"
     ]
    }
   ],
   "source": [
    "#print(my_simulator.code_time[:])\n",
    "#plt.plot(moving_average(my_simulator.code_time[:,0]))\n",
    "print(my_simulator.code_time_o.shape)\n",
    "print(\"Outer 1: \", np.mean(my_simulator.code_time_o[:,0]))\n",
    "print(\"Inner 1: \", np.mean(my_simulator.code_time_i[:,0]))\n",
    "print(\"Inner 2: \", np.mean(my_simulator.code_time_i[:,1]))\n",
    "print(\"Outer Inner : \", np.mean(my_simulator.code_time_o[:,1]))\n",
    "print(\"Outer 2 : \", np.mean(my_simulator.code_time_o[:,2]))\n",
    "#print(np.mean(plt.plot(my_simulator.code_time[:,2])))"
   ]
  },
  {
   "cell_type": "code",
   "execution_count": 21,
   "metadata": {},
   "outputs": [
    {
     "data": {
      "text/plain": [
       "<matplotlib.legend.Legend at 0x14c705630>"
      ]
     },
     "execution_count": 21,
     "metadata": {},
     "output_type": "execute_result"
    }
   ],
   "source": [
    "#my_simulator.show_training_stats()\n",
    "#plt.plot(moving_average(my_simulator.all_rewards2,500))\n",
    "plt.plot(moving_average(my_simulator.train_rewards[:,0],n=300), label  = \"Fred\")\n",
    "plt.plot(moving_average(my_simulator.train_rewards[:,1],n=300), label  = \"George\")\n",
    "plt.plot(moving_average(my_simulator.train_rewards[:,2],n=300), label  = \"Tim\")\n",
    "plt.plot(moving_average(my_simulator.train_rewards[:,2],n=300), label  = \"Tim\")\n",
    "plt.legend()\n",
    "#len(my_simulator.all_rewards2)"
   ]
  },
  {
   "cell_type": "code",
   "execution_count": 25,
   "metadata": {},
   "outputs": [],
   "source": [
    "plt.show()"
   ]
  },
  {
   "cell_type": "code",
   "execution_count": 35,
   "metadata": {},
   "outputs": [
    {
     "data": {
      "text/plain": [
       "6000"
      ]
     },
     "execution_count": 35,
     "metadata": {},
     "output_type": "execute_result"
    },
    {
     "data": {
      "image/png": "[encoded data removed]",
      "text/plain": [
       "<Figure size 432x288 with 1 Axes>"
      ]
     },
     "metadata": {
      "needs_background": "light"
     },
     "output_type": "display_data"
    }
   ],
   "source": [
    "my_simulator.show_training_stats()\n",
    "plt.plot(moving_average(my_simulator.all_rewards2,300))\n",
    "\n",
    "len(my_simulator.all_rewards[:,0])\n",
    "\n",
    "\n"
   ]
  },
  {
   "cell_type": "code",
   "execution_count": null,
   "metadata": {},
   "outputs": [],
   "source": []
  },
  {
   "cell_type": "code",
   "execution_count": 68,
   "metadata": {
    "scrolled": true
   },
   "outputs": [
    {
     "data": {
      "image/png": "[encoded data removed]",
      "text/plain": [
       "<Figure size 432x288 with 1 Axes>"
      ]
     },
     "metadata": {
      "needs_background": "light"
     },
     "output_type": "display_data"
    }
   ],
   "source": [
    "my_simulator.show_training_stats()"
   ]
  },
  {
   "cell_type": "markdown",
   "metadata": {},
   "source": [
    "### Temporary Area for Simulator Code"
   ]
  },
  {
   "cell_type": "markdown",
   "metadata": {},
   "source": [
    "**Todo:**\n",
    "- Saving the agent model\n",
    "- Evaluate agent"
   ]
  },
  {
   "cell_type": "code",
   "execution_count": 3,
   "metadata": {},
   "outputs": [],
   "source": [
    "#from numpy import reshape\n",
    "#from twap import agent_environment\n",
    "#from matplotlib import pyplot as plt\n",
    "#from numpy import cumsum\n",
    "import time\n",
    "\n",
    "class simulator:\n",
    "\n",
    "    def __init__(self,market_,agents, params = None):\n",
    "        \n",
    "        # Default params\n",
    "        if params is None:\n",
    "            params = params = {\"terminal\" : 1, \"num_trades\" : 50, \"position\" : 10, \"batch_size\" : 32 }\n",
    "            print(\"Initialising using default parameters\")\n",
    "\n",
    "        self.terminal = params[\"terminal\"]\n",
    "        self.num_steps = params[\"num_trades\"]\n",
    "        self.batch_size = params[\"batch_size\"]\n",
    "        self.agents = agents\n",
    "        self.n_agents = len(self.agents)\n",
    "\n",
    "        self.m = market_\n",
    "        self.env = agent_environmentM(self.m,\n",
    "                                     params[\"position\"],\n",
    "                                     params[\"num_trades\"],\n",
    "                                     params[\"terminal\"],\n",
    "                                     [0,0.001,0.005,0.01,0.02,0.05,0.1],\n",
    "                                     self.n_agents\n",
    "                                    )\n",
    "        \n",
    "        \n",
    "\n",
    "        # Stats\n",
    "        self.final_timestep = []\n",
    "        self.train_rewards = np.zeros((0,self.n_agents))\n",
    "        self.eval_rewards = np.zeros((0,self.n_agents))\n",
    "        \n",
    "        \n",
    "\n",
    "    def __moving_average(self,a, n=300):\n",
    "        ret = np.cumsum(a, dtype=float)\n",
    "        ret[n:] = ret[n:] - ret[:-n]\n",
    "        return ret[n - 1:] / n\n",
    "\n",
    "\n",
    "\n",
    "    def train(self,n_episodes = 10000, epsilon = None, epsilon_decay = None,show_details = True, evaluate = False):\n",
    "\t\t# TODO: different training parameters\n",
    "        \n",
    "        # Number of agents to be trained\n",
    "        \n",
    "        ### Live Plots ###\n",
    "        fig = plt.figure()\n",
    "        ax = fig.add_subplot(111)\n",
    "        plt.ion()\n",
    "\n",
    "        fig.show()\n",
    "        fig.canvas.draw()\n",
    "        ### Live Plots ###\n",
    "        \n",
    "        # Default training parameters if not provided\n",
    "        if epsilon is None:\n",
    "            epsilon = [1] * self.n_agents\n",
    "            \n",
    "        if epsilon_decay is None:\n",
    "            epsilon_decay = [0.998] * self.n_agents\n",
    "        \n",
    "        if evaluate:\n",
    "            train = [False] * self.n_agents\n",
    "        else:\n",
    "            train = [True] * self.n_agents\n",
    "            \n",
    "        # TEMPORARY? #\n",
    "        self.code_time_i = np.zeros((0,2))\n",
    "        self.code_time_o = np.zeros((0,3))\n",
    "        # TEMPORARY? #\n",
    "\n",
    "        # Evaluatory Stats\n",
    "        current_training_step = len(self.train_rewards) #\n",
    "        \n",
    "        n_correct = 0#\n",
    "        total_reward = np.zeros(self.n_agents)#\n",
    "        \n",
    "        pcnt_opt = []#\n",
    "        \n",
    "        \n",
    "\n",
    "\t\t\n",
    "\n",
    "\t\t# Set up the agents:\n",
    "        for i ,agent in enumerate(self.agents):\n",
    "            agent.epsilon = epsilon[i]\n",
    "            agent.epsilon_decay = epsilon_decay[i]\n",
    "            \n",
    "        # Setup action list\n",
    "        actions = [-1] * self.n_agents\n",
    "        \n",
    "        timer_o = []\n",
    "        \n",
    "        for e in range(n_episodes): # iterate over new episodes of the game\n",
    "            \n",
    "            #Time code\n",
    "            timer = []\n",
    "            timer_o = []\n",
    "            start_time_o = time.time()\n",
    "            \n",
    "            states = self.env.reset() # reset state at start of each new episode of the game\n",
    "            states = np.reshape(states, [self.n_agents,1, self.env.state_size])\n",
    "            \n",
    "            correct_action = 0.0\n",
    "            \n",
    "            done = np.zeros(self.n_agents) # Has the episode finished\n",
    "            inactive = np.zeros(self.n_agents) # Agents which are still trading\n",
    "            \n",
    "            total_reward.fill(0)\n",
    "            \n",
    "            time_now = time.time()\n",
    "            timer_o.append(time_now - start_time_o)\n",
    "            start_time_o = time.time()\n",
    "            \n",
    "            \n",
    "            for t in range(self.num_steps):\n",
    "                timer = []\n",
    "                start_time = time.time()\n",
    "                # Get actions for each agent\n",
    "                for i, agent in enumerate(self.agents):\n",
    "                    # Agents action only updated if still active\n",
    "                    if not inactive[i]:\n",
    "                        actions[i] = agent.act(states[i])\n",
    "                \n",
    "                next_states, rewards, done = self.env.step(actions)\n",
    "                \n",
    "                time_now = time.time()\n",
    "                timer.append(time_now - start_time)\n",
    "                start_time = time_now\n",
    "                \n",
    "                rewards = (1 - done) * rewards\n",
    "                \n",
    "                next_states = np.reshape(next_states, [self.n_agents,1, self.env.state_size])\n",
    "                total_reward += rewards\n",
    "                #print(total_reward)\n",
    "                for i, agent in enumerate(self.agents):\n",
    "                    if not inactive[i] and train[i]:\n",
    "                        agent.remember(states[i], actions[i], rewards[i], next_states[i], done[i])\n",
    "                \n",
    "                time_now = time.time()\n",
    "                timer.append(time_now - start_time)\n",
    "                #if e % 100 == 0:\n",
    "                    #print(\"time\", t, \"Actions \", actions[0], \"Rewards \", rewards[0], states[0],next_states[0])\n",
    "\n",
    "                states = next_states\n",
    "                \n",
    "                if actions[0] == 4:\n",
    "                    correct_action += 1\n",
    "                    \n",
    "                    \n",
    "                if all(done): \n",
    "                    percent_optimal = correct_action / self.num_steps\n",
    "                    pcnt_opt.append(percent_optimal)\n",
    "                    break # exit loop\n",
    "                    \n",
    "                inactive = inactive + done\n",
    "                \n",
    "                self.code_time_i = np.vstack((self.code_time_i,timer))   \n",
    "\n",
    "            if not all(done):\n",
    "                print(\"We have a problem.\")\n",
    "                \n",
    "            \n",
    "            time_now = time.time()\n",
    "            timer_o.append(time_now - start_time_o)\n",
    "            start_time_o = time.time()\n",
    "            \n",
    "            if evaluate:\n",
    "                self.eval_rewards = np.vstack((self.eval_rewards,total_reward))\n",
    "            else:\n",
    "                self.train_rewards = np.vstack((self.train_rewards,total_reward))\n",
    "            \n",
    "            for i, agent in enumerate(self.agents):\n",
    "                if len(agent.memory) > self.batch_size and train[i]:\n",
    "                    agent.replay(self.batch_size) # train the agent by replaying the experiences of the episode\n",
    "\n",
    "            time_now = time.time()\n",
    "            timer_o.append(time_now - start_time_o)\n",
    "            self.code_time_o = np.vstack((self.code_time_o,timer_o)) \n",
    "            if e % 100 == 0:\n",
    "                #self.total_training_steps += 100\n",
    "                if show_details and not evaluate:\n",
    "                    ax.clear()\n",
    "                    for i in range(self.train_rewards.shape[1]):\n",
    "                        ax.plot(self.__moving_average(self.train_rewards[current_training_step:,i],n=500), label  = self.agents[i].agent_name)\n",
    "                    plt.pause(0.0001)\n",
    "                    plt.draw()\n",
    "        if not evaluate:\n",
    "            self.show_stats(trained_from = current_training_step)\t\t\n",
    "        \n",
    "    def evaluate(self,n_episodes = 500):\n",
    "        start_iteration = len(self.eval_rewards)\n",
    "        epsilon = [0] * self.n_agents\n",
    "        self.train(n_episodes = n_episodes, epsilon = epsilon, show_details = False,evaluate = True)\n",
    "        self.show_stats(trained_from = start_iteration,training = False)\n",
    "\n",
    "    def show_stats(self,trained_from = 0,trained_to = None,moving_average = 400,training = True):\n",
    "        \n",
    "        if training:\n",
    "            if trained_to is None:\n",
    "                trained_to = len(self.train_rewards)\n",
    "            for i in range(self.train_rewards.shape[1]):\n",
    "                plt.plot(self.__moving_average(self.train_rewards[trained_from:trained_to,i],n=moving_average), label  = self.agents[i].agent_name)\n",
    "        else:\n",
    "            if trained_to is None:\n",
    "                trained_to = len(self.eval_rewards)\n",
    "            for i in range(self.eval_rewards.shape[1]):\n",
    "                plt.plot(self.__moving_average(self.eval_rewards[trained_from:trained_to,i],n=moving_average), label  = self.agents[i].agent_name)\n",
    "        plt.legend()\n",
    "        \n",
    "        \n",
    "    #def test_convergence(self,)\n",
    "\n",
    "    def execute(self,agent):\n",
    "        # Currently just one strat\n",
    "        position = []\n",
    "        cash = []\n",
    "        states = self.env.reset() # reset state at start of each new episode of the game\n",
    "        states = np.reshape(states, [len(training_agents),1, self.env.state_size])\n",
    "            \n",
    "        for t in range(self.num_steps):\n",
    "\n",
    "            action = agent.act(states)\n",
    "            next_state, reward, done = self.env.step(action)\n",
    "            next_states = np.reshape(next_states, [len(training_agents),1, self.env.state_size])\n",
    "            total_reward += rewards\n",
    "            #print(total_reward)\n",
    "            for i, agent in enumerate(training_agents):\n",
    "                # Note this happens when its been done for more than one step\n",
    "                training_agents[agent].remember(states[i], actions[i], rewards[i], next_states[i], done[i])\n",
    "            states = next_states\n",
    "\n",
    "            if all(done): \n",
    "                break \n",
    "        \n",
    "        "
   ]
  },
  {
   "cell_type": "code",
   "execution_count": 6,
   "metadata": {},
   "outputs": [
    {
     "ename": "TypeError",
     "evalue": "__init__() takes 6 positional arguments but 7 were given",
     "output_type": "error",
     "traceback": [
      "\u001b[0;31m---------------------------------------------------------------------------\u001b[0m",
      "\u001b[0;31mTypeError\u001b[0m                                 Traceback (most recent call last)",
      "\u001b[0;32m<ipython-input-6-82718a3ca1e3>\u001b[0m in \u001b[0;36m<module>\u001b[0;34m\u001b[0m\n\u001b[1;32m     38\u001b[0m \u001b[0msimple_stock\u001b[0m \u001b[0;34m=\u001b[0m \u001b[0mbs_stock\u001b[0m\u001b[0;34m(\u001b[0m\u001b[0;36m1\u001b[0m\u001b[0;34m,\u001b[0m\u001b[0;36m0\u001b[0m\u001b[0;34m,\u001b[0m\u001b[0;36m0.1\u001b[0m\u001b[0;34m)\u001b[0m \u001b[0;31m# No drift, 0.5 vol\u001b[0m\u001b[0;34m\u001b[0m\u001b[0;34m\u001b[0m\u001b[0m\n\u001b[1;32m     39\u001b[0m \u001b[0msimple_market\u001b[0m \u001b[0;34m=\u001b[0m \u001b[0mmarket\u001b[0m\u001b[0;34m(\u001b[0m\u001b[0msimple_stock\u001b[0m\u001b[0;34m,\u001b[0m\u001b[0;36m3\u001b[0m\u001b[0;34m)\u001b[0m\u001b[0;34m\u001b[0m\u001b[0;34m\u001b[0m\u001b[0m\n\u001b[0;32m---> 40\u001b[0;31m \u001b[0menv\u001b[0m \u001b[0;34m=\u001b[0m \u001b[0magent_environment\u001b[0m\u001b[0;34m(\u001b[0m\u001b[0msimple_market\u001b[0m\u001b[0;34m,\u001b[0m\u001b[0;36m10\u001b[0m\u001b[0;34m,\u001b[0m\u001b[0;36m50\u001b[0m\u001b[0;34m,\u001b[0m\u001b[0;36m1\u001b[0m\u001b[0;34m,\u001b[0m\u001b[0;34m[\u001b[0m\u001b[0;36m0\u001b[0m\u001b[0;34m,\u001b[0m\u001b[0;36m0.001\u001b[0m\u001b[0;34m,\u001b[0m\u001b[0;36m0.005\u001b[0m\u001b[0;34m,\u001b[0m\u001b[0;36m0.01\u001b[0m\u001b[0;34m,\u001b[0m\u001b[0;36m0.02\u001b[0m\u001b[0;34m,\u001b[0m\u001b[0;36m0.05\u001b[0m\u001b[0;34m,\u001b[0m\u001b[0;36m0.1\u001b[0m\u001b[0;34m]\u001b[0m\u001b[0;34m,\u001b[0m\u001b[0;36m3\u001b[0m\u001b[0;34m)\u001b[0m\u001b[0;34m\u001b[0m\u001b[0;34m\u001b[0m\u001b[0m\n\u001b[0m\u001b[1;32m     41\u001b[0m \u001b[0mprint\u001b[0m\u001b[0;34m(\u001b[0m\u001b[0menv\u001b[0m\u001b[0;34m.\u001b[0m\u001b[0mreset\u001b[0m\u001b[0;34m(\u001b[0m\u001b[0;34m)\u001b[0m\u001b[0;34m)\u001b[0m\u001b[0;34m\u001b[0m\u001b[0;34m\u001b[0m\u001b[0m\n\u001b[1;32m     42\u001b[0m \u001b[0mstates\u001b[0m\u001b[0;34m,\u001b[0m \u001b[0mrewards\u001b[0m\u001b[0;34m,\u001b[0m \u001b[0mdone\u001b[0m \u001b[0;34m=\u001b[0m \u001b[0menv\u001b[0m\u001b[0;34m.\u001b[0m\u001b[0mstep\u001b[0m\u001b[0;34m(\u001b[0m\u001b[0;34m[\u001b[0m\u001b[0;36m1\u001b[0m\u001b[0;34m,\u001b[0m\u001b[0;36m1\u001b[0m\u001b[0;34m,\u001b[0m\u001b[0;36m1\u001b[0m\u001b[0;34m]\u001b[0m\u001b[0;34m)\u001b[0m\u001b[0;34m\u001b[0m\u001b[0;34m\u001b[0m\u001b[0m\n",
      "\u001b[0;31mTypeError\u001b[0m: __init__() takes 6 positional arguments but 7 were given"
     ]
    }
   ],
   "source": [
    "import numpy as np\n",
    "'''\n",
    "action_values = np.array([1,2,3,4,5,6,7,8])\n",
    "actions = np.ones(3,dtype = int)\n",
    "print(actions)\n",
    "print(action_values[list(actions)])\n",
    "\n",
    "volumes = np.array([1,2,1,4,5,6],dtype = float)\n",
    "position = np.array([5,5,5,5,4,5],dtype = float)\n",
    "\n",
    "position -= np.minimum(volumes,position)\n",
    "time = 0.647\n",
    "\n",
    "\n",
    "times = np.ones(len(position)) * time\n",
    "\n",
    "\n",
    "print(position,times)\n",
    "state = np.vstack((position,times))\n",
    "\n",
    "\n",
    "\n",
    "print(state.T)\n",
    "done = np.zeros(6)\n",
    "print(done.T)\n",
    "done.shape = (6,1)\n",
    "print(done)\n",
    "\n",
    "state = np.array(state,dtype = 'object')\n",
    "done = np.array(done,dtype = 'object')\n",
    "\n",
    "\n",
    "print(state.T,done)\n",
    "\n",
    "'''\n",
    "\n",
    "\n",
    "simple_stock = bs_stock(1,0,0.1) # No drift, 0.5 vol\n",
    "simple_market = market(simple_stock,3)\n",
    "env = agent_environment(simple_market,10,50,1,[0,0.001,0.005,0.01,0.02,0.05,0.1],3)\n",
    "print(env.reset())\n",
    "states, rewards, done = env.step([1,1,1])\n",
    "\n",
    "states = np.reshape(states, [3,1, 2])\n",
    "print(states)\n"
   ]
  },
  {
   "cell_type": "code",
   "execution_count": 7,
   "metadata": {},
   "outputs": [],
   "source": [
    "from random import gauss\n",
    "from numpy import exp\n",
    "from numpy import ones\n",
    "from numpy import vectorize\n",
    "\n",
    "class stock:\n",
    "\t\n",
    "\tdef __init__(self, initial, drift, vol):\n",
    "\t\tself.initial = initial\n",
    "\n",
    "\n",
    "\n",
    "\n",
    "class bs_stock:\n",
    "\n",
    "\tdef __init__(self, initial, drift, vol):\n",
    "\t\tself.initial = initial\n",
    "\t\tself.price = initial\n",
    "\t\tself.drift = drift\n",
    "\t\tself.vol = vol\n",
    "\n",
    "\tdef generate_price(self,dt,St = None):\n",
    "\t\tif St is None:\n",
    "\t\t\tSt = self.price\n",
    "\n",
    "\t\tself.price = St * exp((self.drift - 0.5 * self.vol) * dt + self.vol * dt**0.5 * gauss(0,1))\n",
    "\t\treturn self.price\n",
    "\n",
    "\tdef generate_path(self,T,grid_size):\n",
    "\t\tres = []\n",
    "\t\tself.reset()\n",
    "\t\tnext_price = self.price\n",
    "\t\tres.append(next_price)\n",
    "\t\tdt = T / grid_size\n",
    "\n",
    "\t\tfor i in range(grid_size):\n",
    "\t\t\tnext_price = generate_price(dt)\n",
    "\t\t\tres.append(next_price)\n",
    "\n",
    "\tdef reset(self):\n",
    "\t\tself.price = self.initial\n",
    "\n",
    "\tdef __str__(self):\n",
    "\t\tprint(f\"Stock Price: {self.price} \\n \\\n",
    "\t\t Black Scholes Dynamics, drift: {self.drift}, vol: {self.vol}\")\n",
    "\n",
    "\n",
    "class marketM:\n",
    "\t'''Basic market model, base class for more complex models'''\n",
    "\n",
    "\tdef __init__(self,stock_,num_strats = 1):\n",
    "\t\tself.stock = stock_\n",
    "\t\tself.spread = 0\n",
    "\t\tself.price_adjust = ones(num_strats)\n",
    "\n",
    "\n",
    "\tdef sell(self,volume,dt):\n",
    "\t\t'''sell *volume* of stock over time window dt, volume is np array'''\n",
    "\t\tself.price_adjust *= vectorize(self.exp_g)(volume)\n",
    "\t\t#print(\"volume \", volume, \"price_adjust \",self.price_adjust)        \n",
    "\t\tret = (self.stock.price * self.price_adjust - vectorize(self.f)(volume/dt) - 0.5 * self.spread) * volume \n",
    "\t\treturn ret\n",
    "\n",
    "\n",
    "\tdef g(self,v):\n",
    "\t\treturn v * 0.001\n",
    "    \n",
    "\tdef exp_g(self,v):\n",
    "\t\treturn exp(-self.g(v))\n",
    "\n",
    "\tdef f(self,v):\n",
    "\t\treturn v * 0.001\n",
    "\n",
    "\tdef reset(self):\n",
    "\t\tself.stock.reset()\n",
    "\t\tself.price_adjust = ones(len(self.price_adjust))\n",
    "\n",
    "\tdef progress(self,dt):\n",
    "\t\tself.stock.generate_price(dt)\n",
    "\n",
    "\tdef state(self):\n",
    "\t\treturn (self.stock.price)"
   ]
  },
  {
   "cell_type": "code",
   "execution_count": 8,
   "metadata": {},
   "outputs": [],
   "source": [
    "from numpy import exp\n",
    "    \n",
    "class agent_environmentM:\n",
    "\n",
    "    def __init__(self, market, position,num_steps,terminal,action_values_pct,n_strats):\n",
    "        self.m = market\n",
    "        self.initial = np.ones(n_strats) * position\n",
    "        self.n_strats = n_strats\n",
    "        self.reset()\n",
    "        self.terminal = terminal\n",
    "        self.step_size = terminal / num_steps\n",
    "        # Possible amounts to sell: 0 - 10% of the total position\n",
    "        self.action_values = np.array(action_values_pct) * position \n",
    "        self.num_actions = len(self.action_values)\n",
    "        self.state_size = 2\n",
    "\n",
    "\n",
    "    def sell(self,volumes):\n",
    "        capped_volume = np.minimum(volumes,self.position)\n",
    "        self.position -= capped_volume\n",
    "        returns = self.m.sell(capped_volume,self.step_size) \n",
    "        self.cash += returns\n",
    "        return returns\n",
    "\n",
    "    def reset(self):\n",
    "        self.position = self.initial.copy()\n",
    "        self.cash = np.zeros(self.n_strats)\n",
    "        self.time = 0\n",
    "        self.m.reset()\n",
    "        return self.state() # State not dynamic (full = False)\n",
    "\n",
    "    def progress(self,dt):\n",
    "        self.m.progress(dt)\n",
    "        self.time += dt\n",
    "\n",
    "    def state(self,full = False):\n",
    "\n",
    "        times = np.ones(self.n_strats) * self.time\n",
    "        # TODO: Store state as a seprate variable\n",
    "        states = np.vstack((self.position,times))\n",
    "        \n",
    "        return np.vstack((self.position,times)).T\n",
    "    \n",
    "    def step(self,actions):\n",
    "        self.progress(self.step_size)\n",
    "        \n",
    "        rewards = self.sell(self.action_values[actions])\n",
    "        done = (self.position == 0) + (self.time >= self.terminal)\n",
    "        done = np.array(done,dtype = bool)\n",
    "            \n",
    "\t\t# Reward is currently just the returned cash / 100...\n",
    "\t\t# Not sure what the last value of the tuple should be??\n",
    "        \n",
    "        # Ufortunately this is no longer the format of the AI gym env\n",
    "        # Ideally this would be flexible depending on the input (array vs scalar)\n",
    "        return self.state(), rewards, done"
   ]
  },
  {
   "cell_type": "markdown",
   "metadata": {},
   "source": [
    "### Testing Area"
   ]
  },
  {
   "cell_type": "code",
   "execution_count": 8,
   "metadata": {},
   "outputs": [],
   "source": [
    "batch_size = 32\n",
    "output_dir = 'model_output/trading/'\n",
    "if not os.path.exists(output_dir):\n",
    "    os.makedirs(output_dir)"
   ]
  },
  {
   "cell_type": "code",
   "execution_count": 9,
   "metadata": {},
   "outputs": [],
   "source": [
    "number_time_steps = 50"
   ]
  },
  {
   "cell_type": "code",
   "execution_count": 11,
   "metadata": {},
   "outputs": [
    {
     "name": "stdout",
     "output_type": "stream",
     "text": [
      "2 7\n"
     ]
    }
   ],
   "source": [
    "my_stock = bs_stock(1,0,0.1) # No drift, 0.5 vol\n",
    "mkt = market(my_stock)\n",
    "env = agent_environment(mkt,10,number_time_steps,1)\n",
    "twap_mkt = market(my_stock)\n",
    "twap_env = agent_environment(twap_mkt,10,number_time_steps,1)\n",
    "action_size = env.num_actions\n",
    "n_episodes = 12000\n",
    "state_size = 2\n",
    "print(state_size,action_size)\n",
    "fred = DQNAgent(state_size, action_size,\"Jack\") # initialise agent"
   ]
  },
  {
   "cell_type": "markdown",
   "metadata": {},
   "source": [
    "Get TWAP stats"
   ]
  },
  {
   "cell_type": "code",
   "execution_count": 67,
   "metadata": {},
   "outputs": [
    {
     "ename": "NameError",
     "evalue": "name 'n_episodes' is not defined",
     "output_type": "error",
     "traceback": [
      "\u001b[0;31m---------------------------------------------------------------------------\u001b[0m",
      "\u001b[0;31mNameError\u001b[0m                                 Traceback (most recent call last)",
      "\u001b[0;32m<ipython-input-67-a0534f52de5e>\u001b[0m in \u001b[0;36m<module>\u001b[0;34m\u001b[0m\n\u001b[1;32m      5\u001b[0m \u001b[0;34m\u001b[0m\u001b[0m\n\u001b[1;32m      6\u001b[0m \u001b[0mdone\u001b[0m \u001b[0;34m=\u001b[0m \u001b[0;32mFalse\u001b[0m\u001b[0;34m\u001b[0m\u001b[0;34m\u001b[0m\u001b[0m\n\u001b[0;32m----> 7\u001b[0;31m \u001b[0;32mfor\u001b[0m \u001b[0me\u001b[0m \u001b[0;32min\u001b[0m \u001b[0mrange\u001b[0m\u001b[0;34m(\u001b[0m\u001b[0mn_episodes\u001b[0m\u001b[0;34m)\u001b[0m\u001b[0;34m:\u001b[0m \u001b[0;31m# iterate over new episodes of the game\u001b[0m\u001b[0;34m\u001b[0m\u001b[0;34m\u001b[0m\u001b[0m\n\u001b[0m\u001b[1;32m      8\u001b[0m     \u001b[0mstate\u001b[0m \u001b[0;34m=\u001b[0m \u001b[0mtwap_env\u001b[0m\u001b[0;34m.\u001b[0m\u001b[0mreset\u001b[0m\u001b[0;34m(\u001b[0m\u001b[0;34m)\u001b[0m \u001b[0;31m# reset state at start of each new episode of the game\u001b[0m\u001b[0;34m\u001b[0m\u001b[0;34m\u001b[0m\u001b[0m\n\u001b[1;32m      9\u001b[0m     \u001b[0mstate\u001b[0m \u001b[0;34m=\u001b[0m \u001b[0mnp\u001b[0m\u001b[0;34m.\u001b[0m\u001b[0mreshape\u001b[0m\u001b[0;34m(\u001b[0m\u001b[0mstate\u001b[0m\u001b[0;34m,\u001b[0m \u001b[0;34m[\u001b[0m\u001b[0;36m1\u001b[0m\u001b[0;34m,\u001b[0m \u001b[0mstate_size\u001b[0m\u001b[0;34m]\u001b[0m\u001b[0;34m)\u001b[0m\u001b[0;34m\u001b[0m\u001b[0;34m\u001b[0m\u001b[0m\n",
      "\u001b[0;31mNameError\u001b[0m: name 'n_episodes' is not defined"
     ]
    }
   ],
   "source": [
    "all_rewards =[]\n",
    "optimal_action = 4\n",
    "\n",
    "\n",
    "\n",
    "done = False\n",
    "for e in range(n_episodes): # iterate over new episodes of the game\n",
    "    state = twap_env.reset() # reset state at start of each new episode of the game\n",
    "    state = np.reshape(state, [1, state_size])\n",
    "    \n",
    "    correct_action = 0\n",
    "    total_reward = 0.0\n",
    "    \n",
    "    for time in range(number_time_steps):  \n",
    "        action = 4\n",
    "        # agent interacts with env, gets feedback; 4 state data points, e.g., pole angle, cart position:\n",
    "        next_state, reward, done, _ = twap_env.step(action)\n",
    "        reward = reward if not done else 0 # reward +1 for each additional frame with pole upright        \n",
    "        total_reward += reward\n",
    "        \n",
    "        # Evaluation\n",
    "        if action == optimal_action:\n",
    "            correct_action += 1\n",
    "        if done: \n",
    "            percent_optimal = correct_action / number_time_steps\n",
    "            all_rewards.append(total_reward)\n",
    "            #print(\"episode: {}/{}, score: {}, e: {:.2}, reward: {:.2}\" # print the episode's score and agent's epsilon\n",
    "                  #.format(e, n_episodes, percent_optimal, 0.0, total_reward))\n",
    "            break # exit loop\n",
    "print(\"Average reward: \", np.mean(all_rewards))\n",
    "twap_stat = np.mean(all_rewards)"
   ]
  },
  {
   "cell_type": "code",
   "execution_count": 334,
   "metadata": {},
   "outputs": [
    {
     "name": "stdout",
     "output_type": "stream",
     "text": [
      "[[9.99 0.  ]\n",
      " [9.99 0.  ]\n",
      " [9.99 0.  ]]\n"
     ]
    }
   ],
   "source": [
    "print(env.reset())\n",
    "agent = fred\n",
    "e = 1\n"
   ]
  },
  {
   "cell_type": "markdown",
   "metadata": {},
   "source": [
    "# ONE DIM TEST"
   ]
  },
  {
   "cell_type": "code",
   "execution_count": 1,
   "metadata": {},
   "outputs": [
    {
     "name": "stderr",
     "output_type": "stream",
     "text": [
      "Using TensorFlow backend.\n",
      "Using TensorFlow backend.\n"
     ]
    }
   ],
   "source": [
    "import random\n",
    "#import gym\n",
    "import numpy as np\n",
    "from collections import deque\n",
    "from keras.models import Sequential\n",
    "from keras.layers import Dense\n",
    "from keras.optimizers import Adam\n",
    "import os # for creating directories\n",
    "from matplotlib import pyplot as plt"
   ]
  },
  {
   "cell_type": "code",
   "execution_count": 10,
   "metadata": {},
   "outputs": [],
   "source": [
    "class DQNAgent:\n",
    "    def __init__(self, state_size, action_size, agent_name):\n",
    "        self.agent_name = agent_name\n",
    "        self.state_size = state_size\n",
    "        self.action_size = action_size\n",
    "        # double-ended queue; acts like list, but elements can be added/removed from either end:\n",
    "        self.memory = deque(maxlen=2000)\n",
    "        # decay or discount rate: enables agent to take into account future actions in addition\n",
    "        # to the immediate ones, but discounted at this rate:\n",
    "        self.gamma = 1 # Was 0.95\n",
    "        # exploration rate: how much to act randomly; more initially than later due to epsilon\n",
    "        # decay:\n",
    "        self.epsilon = 1.0\n",
    "        # decrease number of random explorations as the agent's performance (hopefully)\n",
    "        # improves over time:\n",
    "        self.epsilon_decay = 0.998 \n",
    "        # minimum amount of random exploration permitted:\n",
    "        self.epsilon_min = 0.01\n",
    "        # rate at which NN adjusts models parameters via SGD to reduce cost:\n",
    "        self.learning_rate = 0.001\n",
    "        self.model = self._build_model() # private method \n",
    "    \n",
    "    def _build_model(self):\n",
    "        # neural net to approximate Q-value function:\n",
    "        model = Sequential()\n",
    "        model.add(Dense(5, input_dim=self.state_size, activation='relu')) # 1st hidden layer; states as input\n",
    "        model.add(Dense(5, activation='relu')) # 2nd hidden layer\n",
    "        model.add(Dense(self.action_size, activation='linear')) # 2 actions, so 2 output neurons: 0 and 1 (L/R)\n",
    "        model.compile(loss='mse',\n",
    "                      optimizer=Adam(lr=self.learning_rate))\n",
    "        return model\n",
    "    \n",
    "    def remember(self, state, action, reward, next_state, done):\n",
    "        # list of previous experiences, enabling re-training later\n",
    "        #print(\"State \", state, \"Action \", action, \"Reward \", reward, \"next state \", next_state, \"done\", done)\n",
    "        self.memory.append((state, action, reward, next_state, done))\n",
    "\n",
    "    def act(self, state):\n",
    "        # if acting randomly, take random action:\n",
    "        if np.random.rand() <= self.epsilon:\n",
    "            return random.randrange(self.action_size)\n",
    "        # if not acting randomly, predict reward value based on current state:\n",
    "        act_values = self.model.predict(state)\n",
    "        # pick the action that will give the highest reward (i.e., go left or right?)\n",
    "        return np.argmax(act_values[0])\n",
    "\n",
    "    # method that trains NN with experiences sampled from memory:\n",
    "    def replay(self, batch_size):\n",
    "        # sample a minibatch from memory\n",
    "        minibatch = random.sample(self.memory, batch_size)\n",
    "        # extract data for each minibatch sample:\n",
    "        for state, action, reward, next_state, done in minibatch:\n",
    "            # if done (boolean whether game ended or not, i.e., whether final state or not), then target = reward:\n",
    "            target = reward\n",
    "\n",
    "            # if not done, then predict future discounted reward\n",
    "            if not done:\n",
    "                target = (reward + self.gamma * # (target) = reward + (discount rate gamma) * \n",
    "                          np.amax(self.model.predict(next_state)[0])) # (maximum target Q based on future action a')\n",
    "            target_f = self.model.predict(state) # approximately map current state to future discounted reward\n",
    "            #print(\"state\", state, \"reward: \", reward, \"done \", done, \"predict \", self.model.predict(next_state)[0])\n",
    "            target_f[0][action] = target\n",
    "            # Change the action taken to the reward + predicted max of next states\n",
    "            # single epoch of training with x=state, y=target_f; fit decreases loss btwn target_f and y_hat:\n",
    "            self.model.fit(state, target_f, epochs=1, verbose=0)\n",
    "        if self.epsilon > self.epsilon_min:\n",
    "            self.epsilon *= self.epsilon_decay\n",
    "\n",
    "    def load(self, file_name):\n",
    "        self.model.load_weights(file_name)\n",
    "\n",
    "    def save(self, file_name):\n",
    "        self.model.save_weights(file_name)"
   ]
  },
  {
   "cell_type": "code",
   "execution_count": 58,
   "metadata": {},
   "outputs": [],
   "source": [
    "\n",
    "params = {\n",
    "    \"terminal\" : 1,\n",
    "    \"num_trades\" : 50,\n",
    "    \"position\" : 10,\n",
    "    \"batch_size\" : 32\n",
    "}\n",
    "number_time_steps = 50\n",
    "state_size = 2\n",
    "from market_models import market\n",
    "from twap import agent_environment\n",
    "from market_models import bs_stock\n",
    "from twap import agent_environment\n",
    "\n",
    "simple_stock = bs_stock(1,0,0.1) # No drift, 0.5 vol\n",
    "simple_market = market(simple_stock,num_strats = 1)\n",
    "\n",
    "state_size = 2\n",
    "action_size = 7 # This is NOT dynamic (and probably should be)\n",
    "\n",
    "#fred = DQNAgent(state_size, action_size,\"Fred\") # initialise agent\n",
    "\n",
    "env = agent_environment(simple_market,\n",
    "                                     params[\"position\"],\n",
    "                                     params[\"num_trades\"],\n",
    "                                     params[\"terminal\"],\n",
    "                                     [0,0.001,0.005,0.01,0.02,0.05,0.1]\n",
    "                                    )\n",
    "agent = alice2"
   ]
  },
  {
   "cell_type": "code",
   "execution_count": 60,
   "metadata": {},
   "outputs": [
    {
     "name": "stdout",
     "output_type": "stream",
     "text": [
      "10\n",
      "2\n",
      "10 [0, 0.01, 0.05, 0.1, 0.2, 0.5, 1.0]\n",
      "State  [[9.   0.02]] Action  6 Reward  [0.94177681] Stock  0.9927690821008861\n",
      "State  [[8.99 0.04]] Action  1 Reward  [0.0098443] Stock  0.9859255280437625\n",
      "State  [[8.79 0.06]] Action  4 Reward  [0.18774377] Stock  0.9498674718483238\n",
      "State  [[8.59 0.08]] Action  4 Reward  [0.18529801] Stock  0.9378114556775721\n",
      "State  [[8.39 0.1 ]] Action  4 Reward  [0.18166391] Stock  0.91979925500815\n",
      "State  [[8.19 0.12]] Action  4 Reward  [0.18094335] Stock  0.9163738793134334\n",
      "State  [[7.99 0.14]] Action  4 Reward  [0.17793669] Stock  0.9014936296887037\n",
      "State  [[7.89 0.16]] Action  3 Reward  [0.08954958] Stock  0.9023978584743934\n",
      "State  [[7.69 0.18]] Action  4 Reward  [0.18322727] Stock  0.9282781961274605\n",
      "State  [[7.49 0.2 ]] Action  4 Reward  [0.18035429] Stock  0.9140628567600129\n",
      "State  [[7.48 0.22]] Action  1 Reward  [0.00903821] Stock  0.9066030039708823\n",
      "State  [[7.28 0.24]] Action  4 Reward  [0.17855983] Stock  0.9052580835064212\n",
      "State  [[7.08 0.26]] Action  4 Reward  [0.17871923] Stock  0.9062385076548723\n",
      "State  [[7.03 0.28]] Action  2 Reward  [0.04384499] Stock  0.8820154490236081\n",
      "State  [[6.83 0.3 ]] Action  4 Reward  [0.17489055] Stock  0.8872609251446688\n",
      "State  [[6.63 0.32]] Action  4 Reward  [0.17801681] Stock  0.9031224266287174\n",
      "State  [[5.63 0.34]] Action  6 Reward  [0.8739471] Stock  0.927993587014871\n",
      "State  [[5.13 0.36]] Action  5 Reward  [0.44045497] Stock  0.9103324800955671\n",
      "State  [[4.13 0.38]] Action  6 Reward  [0.85317138] Stock  0.9084885867833719\n",
      "State  [[3.63 0.4 ]] Action  5 Reward  [0.44470852] Stock  0.9202604738801952\n",
      "State  [[3.13 0.42]] Action  5 Reward  [0.44839103] Stock  0.9281365148666567\n",
      "State  [[3.08 0.44]] Action  2 Reward  [0.04624887] Stock  0.9339177721682722\n",
      "State  [[2.58 0.46]] Action  5 Reward  [0.45695294] Stock  0.945898466886887\n",
      "State  [[2.08 0.48]] Action  5 Reward  [0.44565638] Stock  0.9235987716510692\n",
      "State  [[1.58 0.5 ]] Action  5 Reward  [0.44586752] Stock  0.9244865325373698\n",
      "State  [[1.08 0.52]] Action  5 Reward  [0.43572474] Stock  0.9044815765086447\n",
      "State  [[0.58 0.54]] Action  5 Reward  [0.43692297] Stock  0.9073530674511235\n",
      "State  [[0.08 0.56]] Action  5 Reward  [0.43215554] Stock  0.8981769533303491\n",
      "State  [[0.   0.58]] Action  5 Reward  0 Stock  0.883068518425511\n"
     ]
    }
   ],
   "source": [
    "state = env.reset() # reset state at start of each new episode of the game\n",
    "state = np.reshape(state, [1, state_size])\n",
    "print(env.position)\n",
    "print(state_size)\n",
    "print(env.position,env.action_values)\n",
    "    \n",
    "correct_action = 0\n",
    "optimal_action = 3\n",
    "\n",
    "for time in range(number_time_steps):  \n",
    "    action = agent.act(state)\n",
    "    # agent interacts with env, gets feedback; 4 state data points, e.g., pole angle, cart position:\n",
    "    next_state, reward, done, _ = env.step(action)\n",
    "    reward = reward if not done else 0 # reward +1 for each additional frame with pole upright        \n",
    "    next_state = np.reshape(next_state, [1, state_size]) # TRY REMOVING\n",
    "        \n",
    "    # remember the previous timestep's state, actions, reward, etc.:\n",
    "    #agent.remember(state, action, reward, next_state, done)\n",
    "    # set \"current state\" for upcoming iteration to the current next state:\n",
    "    state = next_state\n",
    "        \n",
    "    print(\"State \",state,\"Action \",action,\"Reward \", reward, \"Stock \", env.m.stock.price)\n",
    "        \n",
    "    # Evaluation\n",
    "    if action == optimal_action:\n",
    "        correct_action += 1\n",
    "    if done: \n",
    "        percent_optimal = correct_action / number_time_steps\n",
    "        #print(\"episode: {}/{}, score: {}, e: {:.2}\" # print the episode's score and agent's epsilon\n",
    "                  #.format(e, n_episodes, percent_optimal, agent.epsilon))\n",
    "        break # exit loop\n"
   ]
  },
  {
   "cell_type": "markdown",
   "metadata": {},
   "source": [
    "This needs to become a seperate evaluate class, producing stats of performance over time relative to baseline.\n",
    "\n",
    "May need to split $g(\\cdot)$ out of the stock price so seperate strats can be evaluated simaltaneously."
   ]
  },
  {
   "cell_type": "code",
   "execution_count": 30,
   "metadata": {},
   "outputs": [
    {
     "name": "stdout",
     "output_type": "stream",
     "text": [
      "episode: 0/10000, score: 0.08, e: 0.998, reward: [9.40352391]\n",
      "episode: 0/10000, score: 0.08, e: 0.998, reward: [9.40352391]\n",
      "episode: 50/10000, score: 0.12, e: 0.9029373243680279, reward: [8.81362216]\n",
      "episode: 50/10000, score: 0.12, e: 0.9029373243680279, reward: [8.81362216]\n",
      "episode: 100/10000, score: 0.08, e: 0.8169296710790511, reward: [8.70349158]\n",
      "episode: 100/10000, score: 0.08, e: 0.8169296710790511, reward: [8.70349158]\n",
      "episode: 150/10000, score: 0.06, e: 0.7391145204418551, reward: [9.35133596]\n",
      "episode: 150/10000, score: 0.06, e: 0.7391145204418551, reward: [9.35133596]\n",
      "episode: 200/10000, score: 0.08, e: 0.6687115105103473, reward: [8.36707224]\n",
      "episode: 200/10000, score: 0.08, e: 0.6687115105103473, reward: [8.36707224]\n",
      "episode: 250/10000, score: 0.02, e: 0.6050146112969089, reward: [9.31593255]\n",
      "episode: 250/10000, score: 0.02, e: 0.6050146112969089, reward: [9.31593255]\n",
      "episode: 300/10000, score: 0.1, e: 0.5473850444168268, reward: [8.65049381]\n",
      "episode: 300/10000, score: 0.1, e: 0.5473850444168268, reward: [8.65049381]\n",
      "episode: 350/10000, score: 0.0, e: 0.49524487715912174, reward: [8.50193025]\n",
      "episode: 350/10000, score: 0.0, e: 0.49524487715912174, reward: [8.50193025]\n",
      "episode: 400/10000, score: 0.36, e: 0.448071226742515, reward: [8.26172988]\n",
      "episode: 400/10000, score: 0.36, e: 0.448071226742515, reward: [8.26172988]\n",
      "episode: 450/10000, score: 0.02, e: 0.40539101663445526, reward: [9.66005052]\n",
      "episode: 450/10000, score: 0.02, e: 0.40539101663445526, reward: [9.66005052]\n",
      "episode: 500/10000, score: 0.04, e: 0.36677623234744455, reward: [9.90358916]\n",
      "episode: 500/10000, score: 0.04, e: 0.36677623234744455, reward: [9.90358916]\n",
      "episode: 550/10000, score: 0.02, e: 0.3318396291358591, reward: [8.90428573]\n",
      "episode: 550/10000, score: 0.02, e: 0.3318396291358591, reward: [8.90428573]\n",
      "episode: 600/10000, score: 0.22, e: 0.3002308485483078, reward: [9.90661113]\n",
      "episode: 600/10000, score: 0.22, e: 0.3002308485483078, reward: [9.90661113]\n",
      "episode: 650/10000, score: 0.06, e: 0.2716329048907331, reward: [2.71439547]\n",
      "episode: 650/10000, score: 0.06, e: 0.2716329048907331, reward: [2.71439547]\n",
      "episode: 700/10000, score: 0.0, e: 0.24575900636508355, reward: [9.04180919]\n",
      "episode: 700/10000, score: 0.0, e: 0.24575900636508355, reward: [9.04180919]\n",
      "episode: 750/10000, score: 0.04, e: 0.2223496790046429, reward: [8.78872314]\n",
      "episode: 750/10000, score: 0.04, e: 0.2223496790046429, reward: [8.78872314]\n",
      "episode: 800/10000, score: 0.4, e: 0.20117016456366946, reward: [10.42973634]\n",
      "episode: 800/10000, score: 0.4, e: 0.20117016456366946, reward: [10.42973634]\n",
      "episode: 850/10000, score: 0.0, e: 0.18200806626632815, reward: [9.01780397]\n",
      "episode: 850/10000, score: 0.0, e: 0.18200806626632815, reward: [9.01780397]\n",
      "episode: 900/10000, score: 0.02, e: 0.16467121880552807, reward: [8.42442746]\n",
      "episode: 900/10000, score: 0.02, e: 0.16467121880552807, reward: [8.42442746]\n",
      "episode: 950/10000, score: 0.02, e: 0.14898576123114782, reward: [9.12137029]\n",
      "episode: 950/10000, score: 0.02, e: 0.14898576123114782, reward: [9.12137029]\n",
      "episode: 1000/10000, score: 0.12, e: 0.13479439340178997, reward: [9.56291068]\n",
      "episode: 1000/10000, score: 0.12, e: 0.13479439340178997, reward: [9.56291068]\n",
      "episode: 1050/10000, score: 0.0, e: 0.12195479851505375, reward: [9.80041984]\n",
      "episode: 1050/10000, score: 0.0, e: 0.12195479851505375, reward: [9.80041984]\n",
      "episode: 1100/10000, score: 0.02, e: 0.11033821589681822, reward: [6.41732635]\n",
      "episode: 1100/10000, score: 0.02, e: 0.11033821589681822, reward: [6.41732635]\n",
      "episode: 1150/10000, score: 0.0, e: 0.09982814973688857, reward: [10.06983478]\n",
      "episode: 1150/10000, score: 0.0, e: 0.09982814973688857, reward: [10.06983478]\n",
      "episode: 1200/10000, score: 0.0, e: 0.09031920082168032, reward: [8.90492314]\n",
      "episode: 1200/10000, score: 0.0, e: 0.09031920082168032, reward: [8.90492314]\n",
      "episode: 1250/10000, score: 0.12, e: 0.08171600954808274, reward: [9.3733955]\n",
      "episode: 1250/10000, score: 0.12, e: 0.08171600954808274, reward: [9.3733955]\n",
      "episode: 1300/10000, score: 0.02, e: 0.0739322996186152, reward: [9.60535472]\n",
      "episode: 1300/10000, score: 0.02, e: 0.0739322996186152, reward: [9.60535472]\n",
      "episode: 1350/10000, score: 0.12, e: 0.06689001282766313, reward: [8.01153048]\n",
      "episode: 1350/10000, score: 0.12, e: 0.06689001282766313, reward: [8.01153048]\n",
      "episode: 1400/10000, score: 0.08, e: 0.06051852626207736, reward: [9.22456364]\n",
      "episode: 1400/10000, score: 0.08, e: 0.06051852626207736, reward: [9.22456364]\n",
      "episode: 1450/10000, score: 0.0, e: 0.054753944065908174, reward: [9.30319798]\n",
      "episode: 1450/10000, score: 0.0, e: 0.054753944065908174, reward: [9.30319798]\n",
      "episode: 1500/10000, score: 0.12, e: 0.04953845666680137, reward: [9.64913285]\n",
      "episode: 1500/10000, score: 0.12, e: 0.04953845666680137, reward: [9.64913285]\n",
      "episode: 1550/10000, score: 0.02, e: 0.044819761038119355, reward: [9.57168344]\n",
      "episode: 1550/10000, score: 0.02, e: 0.044819761038119355, reward: [9.57168344]\n",
      "episode: 1600/10000, score: 0.08, e: 0.04055053618293973, reward: [9.86876212]\n",
      "episode: 1600/10000, score: 0.08, e: 0.04055053618293973, reward: [9.86876212]\n",
      "episode: 1650/10000, score: 0.0, e: 0.03668796857987223, reward: [8.91085144]\n",
      "episode: 1650/10000, score: 0.0, e: 0.03668796857987223, reward: [8.91085144]\n",
      "episode: 1700/10000, score: 0.0, e: 0.03319332283167145, reward: [9.04348034]\n",
      "episode: 1700/10000, score: 0.0, e: 0.03319332283167145, reward: [9.04348034]\n",
      "episode: 1750/10000, score: 0.06, e: 0.030031553210935435, reward: [9.34583517]\n",
      "episode: 1750/10000, score: 0.06, e: 0.030031553210935435, reward: [9.34583517]\n",
      "episode: 1800/10000, score: 0.16, e: 0.02717095220731272, reward: [9.70430429]\n",
      "episode: 1800/10000, score: 0.16, e: 0.02717095220731272, reward: [9.70430429]\n",
      "episode: 1850/10000, score: 0.0, e: 0.02458283255170592, reward: [5.29536379]\n",
      "episode: 1850/10000, score: 0.0, e: 0.02458283255170592, reward: [5.29536379]\n",
      "episode: 1900/10000, score: 0.0, e: 0.022241239528681966, reward: [8.84499818]\n",
      "episode: 1900/10000, score: 0.0, e: 0.022241239528681966, reward: [8.84499818]\n",
      "episode: 1950/10000, score: 0.0, e: 0.020122690692040587, reward: [9.87651776]\n",
      "episode: 1950/10000, score: 0.0, e: 0.020122690692040587, reward: [9.87651776]\n",
      "episode: 2000/10000, score: 0.0, e: 0.018205940373303156, reward: [5.87516467]\n",
      "episode: 2000/10000, score: 0.0, e: 0.018205940373303156, reward: [5.87516467]\n",
      "episode: 2050/10000, score: 0.12, e: 0.016471766621517243, reward: [9.8336942]\n",
      "episode: 2050/10000, score: 0.12, e: 0.016471766621517243, reward: [9.8336942]\n",
      "episode: 2100/10000, score: 0.32, e: 0.014902778437722815, reward: [9.15663316]\n",
      "episode: 2100/10000, score: 0.32, e: 0.014902778437722815, reward: [9.15663316]\n",
      "episode: 2150/10000, score: 0.0, e: 0.01348324137094887, reward: [10.39784947]\n",
      "episode: 2150/10000, score: 0.0, e: 0.01348324137094887, reward: [10.39784947]\n",
      "episode: 2200/10000, score: 0.0, e: 0.012198919726746358, reward: [9.79952128]\n",
      "episode: 2200/10000, score: 0.0, e: 0.012198919726746358, reward: [9.79952128]\n",
      "episode: 2250/10000, score: 0.0, e: 0.01103693380586043, reward: [8.68358146]\n",
      "episode: 2250/10000, score: 0.0, e: 0.01103693380586043, reward: [8.68358146]\n",
      "episode: 2300/10000, score: 0.0, e: 0.009985630741373389, reward: [9.4030932]\n",
      "episode: 2300/10000, score: 0.0, e: 0.009985630741373389, reward: [9.4030932]\n",
      "episode: 2350/10000, score: 0.0, e: 0.009985630741373389, reward: [9.90268206]\n",
      "episode: 2350/10000, score: 0.0, e: 0.009985630741373389, reward: [9.90268206]\n",
      "episode: 2400/10000, score: 0.0, e: 0.009985630741373389, reward: [9.47624126]\n",
      "episode: 2400/10000, score: 0.0, e: 0.009985630741373389, reward: [9.47624126]\n",
      "episode: 2450/10000, score: 0.0, e: 0.009985630741373389, reward: [9.88793198]\n",
      "episode: 2450/10000, score: 0.0, e: 0.009985630741373389, reward: [9.88793198]\n",
      "episode: 2500/10000, score: 0.02, e: 0.009985630741373389, reward: [8.98584731]\n",
      "episode: 2500/10000, score: 0.02, e: 0.009985630741373389, reward: [8.98584731]\n",
      "episode: 2550/10000, score: 0.16, e: 0.009985630741373389, reward: [10.11366374]\n",
      "episode: 2550/10000, score: 0.16, e: 0.009985630741373389, reward: [10.11366374]\n",
      "episode: 2600/10000, score: 0.22, e: 0.009985630741373389, reward: [9.77347058]\n",
      "episode: 2600/10000, score: 0.22, e: 0.009985630741373389, reward: [9.77347058]\n"
     ]
    },
    {
     "name": "stdout",
     "output_type": "stream",
     "text": [
      "episode: 2650/10000, score: 0.18, e: 0.009985630741373389, reward: [9.2869665]\n",
      "episode: 2650/10000, score: 0.18, e: 0.009985630741373389, reward: [9.2869665]\n",
      "episode: 2700/10000, score: 0.0, e: 0.009985630741373389, reward: [9.49412788]\n",
      "episode: 2700/10000, score: 0.0, e: 0.009985630741373389, reward: [9.49412788]\n",
      "episode: 2750/10000, score: 0.0, e: 0.009985630741373389, reward: [9.19860784]\n",
      "episode: 2750/10000, score: 0.0, e: 0.009985630741373389, reward: [9.19860784]\n",
      "episode: 2800/10000, score: 0.06, e: 0.009985630741373389, reward: [8.68899838]\n",
      "episode: 2800/10000, score: 0.06, e: 0.009985630741373389, reward: [8.68899838]\n",
      "episode: 2850/10000, score: 0.0, e: 0.009985630741373389, reward: [9.80359259]\n",
      "episode: 2850/10000, score: 0.0, e: 0.009985630741373389, reward: [9.80359259]\n",
      "episode: 2900/10000, score: 0.0, e: 0.009985630741373389, reward: [9.07097216]\n",
      "episode: 2900/10000, score: 0.0, e: 0.009985630741373389, reward: [9.07097216]\n",
      "episode: 2950/10000, score: 0.0, e: 0.009985630741373389, reward: [0.97690516]\n",
      "episode: 2950/10000, score: 0.0, e: 0.009985630741373389, reward: [0.97690516]\n",
      "episode: 3000/10000, score: 0.32, e: 0.009985630741373389, reward: [9.94572466]\n",
      "episode: 3000/10000, score: 0.32, e: 0.009985630741373389, reward: [9.94572466]\n",
      "episode: 3050/10000, score: 0.04, e: 0.009985630741373389, reward: [9.65637737]\n",
      "episode: 3050/10000, score: 0.04, e: 0.009985630741373389, reward: [9.65637737]\n",
      "episode: 3100/10000, score: 0.1, e: 0.009985630741373389, reward: [9.12767464]\n",
      "episode: 3100/10000, score: 0.1, e: 0.009985630741373389, reward: [9.12767464]\n",
      "episode: 3150/10000, score: 0.02, e: 0.009985630741373389, reward: [8.63017166]\n",
      "episode: 3150/10000, score: 0.02, e: 0.009985630741373389, reward: [8.63017166]\n",
      "episode: 3200/10000, score: 0.0, e: 0.009985630741373389, reward: [8.92071758]\n",
      "episode: 3200/10000, score: 0.0, e: 0.009985630741373389, reward: [8.92071758]\n",
      "episode: 3250/10000, score: 0.1, e: 0.009985630741373389, reward: [9.31351004]\n",
      "episode: 3250/10000, score: 0.1, e: 0.009985630741373389, reward: [9.31351004]\n",
      "episode: 3300/10000, score: 0.08, e: 0.009985630741373389, reward: [9.71333107]\n",
      "episode: 3300/10000, score: 0.08, e: 0.009985630741373389, reward: [9.71333107]\n",
      "episode: 3350/10000, score: 0.12, e: 0.009985630741373389, reward: [9.16452615]\n",
      "episode: 3350/10000, score: 0.12, e: 0.009985630741373389, reward: [9.16452615]\n",
      "episode: 3400/10000, score: 0.42, e: 0.009985630741373389, reward: [10.49697348]\n",
      "episode: 3400/10000, score: 0.42, e: 0.009985630741373389, reward: [10.49697348]\n",
      "episode: 3450/10000, score: 0.0, e: 0.009985630741373389, reward: [9.61952078]\n",
      "episode: 3450/10000, score: 0.0, e: 0.009985630741373389, reward: [9.61952078]\n",
      "episode: 3500/10000, score: 0.0, e: 0.009985630741373389, reward: [8.86672227]\n",
      "episode: 3500/10000, score: 0.0, e: 0.009985630741373389, reward: [8.86672227]\n",
      "episode: 3550/10000, score: 0.0, e: 0.009985630741373389, reward: [8.42540285]\n",
      "episode: 3550/10000, score: 0.0, e: 0.009985630741373389, reward: [8.42540285]\n",
      "episode: 3600/10000, score: 0.0, e: 0.009985630741373389, reward: [8.71500854]\n",
      "episode: 3600/10000, score: 0.0, e: 0.009985630741373389, reward: [8.71500854]\n",
      "episode: 3650/10000, score: 0.2, e: 0.009985630741373389, reward: [8.95585318]\n",
      "episode: 3650/10000, score: 0.2, e: 0.009985630741373389, reward: [8.95585318]\n",
      "episode: 3700/10000, score: 0.0, e: 0.009985630741373389, reward: [7.23844481]\n",
      "episode: 3700/10000, score: 0.0, e: 0.009985630741373389, reward: [7.23844481]\n",
      "episode: 3750/10000, score: 0.12, e: 0.009985630741373389, reward: [8.68587236]\n",
      "episode: 3750/10000, score: 0.12, e: 0.009985630741373389, reward: [8.68587236]\n",
      "episode: 3800/10000, score: 0.0, e: 0.009985630741373389, reward: [9.86781703]\n",
      "episode: 3800/10000, score: 0.0, e: 0.009985630741373389, reward: [9.86781703]\n",
      "episode: 3850/10000, score: 0.14, e: 0.009985630741373389, reward: [9.70055588]\n",
      "episode: 3850/10000, score: 0.14, e: 0.009985630741373389, reward: [9.70055588]\n",
      "episode: 3900/10000, score: 0.0, e: 0.009985630741373389, reward: [9.46771279]\n",
      "episode: 3900/10000, score: 0.0, e: 0.009985630741373389, reward: [9.46771279]\n",
      "episode: 3950/10000, score: 0.0, e: 0.009985630741373389, reward: [7.88999707]\n",
      "episode: 3950/10000, score: 0.0, e: 0.009985630741373389, reward: [7.88999707]\n",
      "episode: 4000/10000, score: 0.0, e: 0.009985630741373389, reward: [8.85777164]\n",
      "episode: 4000/10000, score: 0.0, e: 0.009985630741373389, reward: [8.85777164]\n",
      "episode: 4050/10000, score: 0.0, e: 0.009985630741373389, reward: [9.89241172]\n",
      "episode: 4050/10000, score: 0.0, e: 0.009985630741373389, reward: [9.89241172]\n",
      "episode: 4100/10000, score: 0.38, e: 0.009985630741373389, reward: [8.73348152]\n",
      "episode: 4100/10000, score: 0.38, e: 0.009985630741373389, reward: [8.73348152]\n",
      "episode: 4150/10000, score: 0.38, e: 0.009985630741373389, reward: [10.35376645]\n",
      "episode: 4150/10000, score: 0.38, e: 0.009985630741373389, reward: [10.35376645]\n",
      "episode: 4200/10000, score: 0.1, e: 0.009985630741373389, reward: [8.33100616]\n",
      "episode: 4200/10000, score: 0.1, e: 0.009985630741373389, reward: [8.33100616]\n"
     ]
    },
    {
     "ename": "KeyboardInterrupt",
     "evalue": "",
     "output_type": "error",
     "traceback": [
      "\u001b[0;31m---------------------------------------------------------------------------\u001b[0m",
      "\u001b[0;31mKeyboardInterrupt\u001b[0m                         Traceback (most recent call last)",
      "\u001b[0;32m<ipython-input-30-6bc73398f8ed>\u001b[0m in \u001b[0;36m<module>\u001b[0;34m\u001b[0m\n\u001b[1;32m     46\u001b[0m             \u001b[0;32mbreak\u001b[0m \u001b[0;31m# exit loop\u001b[0m\u001b[0;34m\u001b[0m\u001b[0;34m\u001b[0m\u001b[0m\n\u001b[1;32m     47\u001b[0m     \u001b[0;32mif\u001b[0m \u001b[0mlen\u001b[0m\u001b[0;34m(\u001b[0m\u001b[0magent\u001b[0m\u001b[0;34m.\u001b[0m\u001b[0mmemory\u001b[0m\u001b[0;34m)\u001b[0m \u001b[0;34m>\u001b[0m \u001b[0mbatch_size\u001b[0m\u001b[0;34m:\u001b[0m\u001b[0;34m\u001b[0m\u001b[0;34m\u001b[0m\u001b[0m\n\u001b[0;32m---> 48\u001b[0;31m         \u001b[0magent\u001b[0m\u001b[0;34m.\u001b[0m\u001b[0mreplay\u001b[0m\u001b[0;34m(\u001b[0m\u001b[0mbatch_size\u001b[0m\u001b[0;34m)\u001b[0m \u001b[0;31m# train the agent by replaying the experiences of the episode\u001b[0m\u001b[0;34m\u001b[0m\u001b[0;34m\u001b[0m\u001b[0m\n\u001b[0m\u001b[1;32m     49\u001b[0m     \u001b[0;32mif\u001b[0m \u001b[0me\u001b[0m \u001b[0;34m%\u001b[0m \u001b[0;36m50\u001b[0m \u001b[0;34m==\u001b[0m \u001b[0;36m0\u001b[0m\u001b[0;34m:\u001b[0m\u001b[0;34m\u001b[0m\u001b[0;34m\u001b[0m\u001b[0m\n\u001b[1;32m     50\u001b[0m         \u001b[0magent\u001b[0m\u001b[0;34m.\u001b[0m\u001b[0msave\u001b[0m\u001b[0;34m(\u001b[0m\u001b[0moutput_dir\u001b[0m \u001b[0;34m+\u001b[0m \u001b[0;34m\"weights_\"\u001b[0m \u001b[0;34m+\u001b[0m \u001b[0;34m'{:04d}'\u001b[0m\u001b[0;34m.\u001b[0m\u001b[0mformat\u001b[0m\u001b[0;34m(\u001b[0m\u001b[0me\u001b[0m\u001b[0;34m)\u001b[0m \u001b[0;34m+\u001b[0m \u001b[0;34m\".hdf5\"\u001b[0m\u001b[0;34m)\u001b[0m\u001b[0;34m\u001b[0m\u001b[0;34m\u001b[0m\u001b[0m\n",
      "\u001b[0;32m<ipython-input-7-bc795eab8d23>\u001b[0m in \u001b[0;36mreplay\u001b[0;34m(self, batch_size)\u001b[0m\n\u001b[1;32m     58\u001b[0m                 target = (reward + self.gamma * # (target) = reward + (discount rate gamma) * \n\u001b[1;32m     59\u001b[0m                           np.amax(self.model.predict(next_state)[0])) # (maximum target Q based on future action a')\n\u001b[0;32m---> 60\u001b[0;31m             \u001b[0mtarget_f\u001b[0m \u001b[0;34m=\u001b[0m \u001b[0mself\u001b[0m\u001b[0;34m.\u001b[0m\u001b[0mmodel\u001b[0m\u001b[0;34m.\u001b[0m\u001b[0mpredict\u001b[0m\u001b[0;34m(\u001b[0m\u001b[0mstate\u001b[0m\u001b[0;34m)\u001b[0m \u001b[0;31m# approximately map current state to future discounted reward\u001b[0m\u001b[0;34m\u001b[0m\u001b[0;34m\u001b[0m\u001b[0m\n\u001b[0m\u001b[1;32m     61\u001b[0m             \u001b[0;31m#print(\"state\", state, \"reward: \", reward, \"done \", done, \"predict \", self.model.predict(next_state)[0])\u001b[0m\u001b[0;34m\u001b[0m\u001b[0;34m\u001b[0m\u001b[0;34m\u001b[0m\u001b[0m\n\u001b[1;32m     62\u001b[0m             \u001b[0mtarget_f\u001b[0m\u001b[0;34m[\u001b[0m\u001b[0;36m0\u001b[0m\u001b[0;34m]\u001b[0m\u001b[0;34m[\u001b[0m\u001b[0maction\u001b[0m\u001b[0;34m]\u001b[0m \u001b[0;34m=\u001b[0m \u001b[0mtarget\u001b[0m\u001b[0;34m\u001b[0m\u001b[0;34m\u001b[0m\u001b[0m\n",
      "\u001b[0;32m~/Applications/anaconda3/lib/python3.7/site-packages/keras/engine/training.py\u001b[0m in \u001b[0;36mpredict\u001b[0;34m(self, x, batch_size, verbose, steps, callbacks, max_queue_size, workers, use_multiprocessing)\u001b[0m\n\u001b[1;32m   1460\u001b[0m                                             \u001b[0mverbose\u001b[0m\u001b[0;34m=\u001b[0m\u001b[0mverbose\u001b[0m\u001b[0;34m,\u001b[0m\u001b[0;34m\u001b[0m\u001b[0;34m\u001b[0m\u001b[0m\n\u001b[1;32m   1461\u001b[0m                                             \u001b[0msteps\u001b[0m\u001b[0;34m=\u001b[0m\u001b[0msteps\u001b[0m\u001b[0;34m,\u001b[0m\u001b[0;34m\u001b[0m\u001b[0;34m\u001b[0m\u001b[0m\n\u001b[0;32m-> 1462\u001b[0;31m                                             callbacks=callbacks)\n\u001b[0m\u001b[1;32m   1463\u001b[0m \u001b[0;34m\u001b[0m\u001b[0m\n\u001b[1;32m   1464\u001b[0m     def train_on_batch(self, x, y,\n",
      "\u001b[0;32m~/Applications/anaconda3/lib/python3.7/site-packages/keras/engine/training_arrays.py\u001b[0m in \u001b[0;36mpredict_loop\u001b[0;34m(model, f, ins, batch_size, verbose, steps, callbacks)\u001b[0m\n\u001b[1;32m    316\u001b[0m                 \u001b[0mins_batch\u001b[0m \u001b[0;34m=\u001b[0m \u001b[0mslice_arrays\u001b[0m\u001b[0;34m(\u001b[0m\u001b[0mins\u001b[0m\u001b[0;34m[\u001b[0m\u001b[0;34m:\u001b[0m\u001b[0;34m-\u001b[0m\u001b[0;36m1\u001b[0m\u001b[0;34m]\u001b[0m\u001b[0;34m,\u001b[0m \u001b[0mbatch_ids\u001b[0m\u001b[0;34m)\u001b[0m \u001b[0;34m+\u001b[0m \u001b[0;34m[\u001b[0m\u001b[0mins\u001b[0m\u001b[0;34m[\u001b[0m\u001b[0;34m-\u001b[0m\u001b[0;36m1\u001b[0m\u001b[0;34m]\u001b[0m\u001b[0;34m]\u001b[0m\u001b[0;34m\u001b[0m\u001b[0;34m\u001b[0m\u001b[0m\n\u001b[1;32m    317\u001b[0m             \u001b[0;32melse\u001b[0m\u001b[0;34m:\u001b[0m\u001b[0;34m\u001b[0m\u001b[0;34m\u001b[0m\u001b[0m\n\u001b[0;32m--> 318\u001b[0;31m                 \u001b[0mins_batch\u001b[0m \u001b[0;34m=\u001b[0m \u001b[0mslice_arrays\u001b[0m\u001b[0;34m(\u001b[0m\u001b[0mins\u001b[0m\u001b[0;34m,\u001b[0m \u001b[0mbatch_ids\u001b[0m\u001b[0;34m)\u001b[0m\u001b[0;34m\u001b[0m\u001b[0;34m\u001b[0m\u001b[0m\n\u001b[0m\u001b[1;32m    319\u001b[0m             \u001b[0;32mfor\u001b[0m \u001b[0mi\u001b[0m \u001b[0;32min\u001b[0m \u001b[0mindices_for_conversion_to_dense\u001b[0m\u001b[0;34m:\u001b[0m\u001b[0;34m\u001b[0m\u001b[0;34m\u001b[0m\u001b[0m\n\u001b[1;32m    320\u001b[0m                 \u001b[0mins_batch\u001b[0m\u001b[0;34m[\u001b[0m\u001b[0mi\u001b[0m\u001b[0;34m]\u001b[0m \u001b[0;34m=\u001b[0m \u001b[0mins_batch\u001b[0m\u001b[0;34m[\u001b[0m\u001b[0mi\u001b[0m\u001b[0;34m]\u001b[0m\u001b[0;34m.\u001b[0m\u001b[0mtoarray\u001b[0m\u001b[0;34m(\u001b[0m\u001b[0;34m)\u001b[0m\u001b[0;34m\u001b[0m\u001b[0;34m\u001b[0m\u001b[0m\n",
      "\u001b[0;32m~/Applications/anaconda3/lib/python3.7/site-packages/keras/utils/generic_utils.py\u001b[0m in \u001b[0;36mslice_arrays\u001b[0;34m(arrays, start, stop)\u001b[0m\n\u001b[1;32m    553\u001b[0m             \u001b[0;32mif\u001b[0m \u001b[0mhasattr\u001b[0m\u001b[0;34m(\u001b[0m\u001b[0mstart\u001b[0m\u001b[0;34m,\u001b[0m \u001b[0;34m'shape'\u001b[0m\u001b[0;34m)\u001b[0m\u001b[0;34m:\u001b[0m\u001b[0;34m\u001b[0m\u001b[0;34m\u001b[0m\u001b[0m\n\u001b[1;32m    554\u001b[0m                 \u001b[0mstart\u001b[0m \u001b[0;34m=\u001b[0m \u001b[0mstart\u001b[0m\u001b[0;34m.\u001b[0m\u001b[0mtolist\u001b[0m\u001b[0;34m(\u001b[0m\u001b[0;34m)\u001b[0m\u001b[0;34m\u001b[0m\u001b[0;34m\u001b[0m\u001b[0m\n\u001b[0;32m--> 555\u001b[0;31m             \u001b[0;32mreturn\u001b[0m \u001b[0;34m[\u001b[0m\u001b[0;32mNone\u001b[0m \u001b[0;32mif\u001b[0m \u001b[0mx\u001b[0m \u001b[0;32mis\u001b[0m \u001b[0;32mNone\u001b[0m \u001b[0;32melse\u001b[0m \u001b[0mx\u001b[0m\u001b[0;34m[\u001b[0m\u001b[0mstart\u001b[0m\u001b[0;34m]\u001b[0m \u001b[0;32mfor\u001b[0m \u001b[0mx\u001b[0m \u001b[0;32min\u001b[0m \u001b[0marrays\u001b[0m\u001b[0;34m]\u001b[0m\u001b[0;34m\u001b[0m\u001b[0;34m\u001b[0m\u001b[0m\n\u001b[0m\u001b[1;32m    556\u001b[0m         \u001b[0;32melse\u001b[0m\u001b[0;34m:\u001b[0m\u001b[0;34m\u001b[0m\u001b[0;34m\u001b[0m\u001b[0m\n\u001b[1;32m    557\u001b[0m             \u001b[0;32mreturn\u001b[0m \u001b[0;34m[\u001b[0m\u001b[0;32mNone\u001b[0m \u001b[0;32mif\u001b[0m \u001b[0mx\u001b[0m \u001b[0;32mis\u001b[0m \u001b[0;32mNone\u001b[0m \u001b[0;32melse\u001b[0m \u001b[0mx\u001b[0m\u001b[0;34m[\u001b[0m\u001b[0mstart\u001b[0m\u001b[0;34m:\u001b[0m\u001b[0mstop\u001b[0m\u001b[0;34m]\u001b[0m \u001b[0;32mfor\u001b[0m \u001b[0mx\u001b[0m \u001b[0;32min\u001b[0m \u001b[0marrays\u001b[0m\u001b[0;34m]\u001b[0m\u001b[0;34m\u001b[0m\u001b[0;34m\u001b[0m\u001b[0m\n",
      "\u001b[0;32m~/Applications/anaconda3/lib/python3.7/site-packages/keras/utils/generic_utils.py\u001b[0m in \u001b[0;36m<listcomp>\u001b[0;34m(.0)\u001b[0m\n\u001b[1;32m    553\u001b[0m             \u001b[0;32mif\u001b[0m \u001b[0mhasattr\u001b[0m\u001b[0;34m(\u001b[0m\u001b[0mstart\u001b[0m\u001b[0;34m,\u001b[0m \u001b[0;34m'shape'\u001b[0m\u001b[0;34m)\u001b[0m\u001b[0;34m:\u001b[0m\u001b[0;34m\u001b[0m\u001b[0;34m\u001b[0m\u001b[0m\n\u001b[1;32m    554\u001b[0m                 \u001b[0mstart\u001b[0m \u001b[0;34m=\u001b[0m \u001b[0mstart\u001b[0m\u001b[0;34m.\u001b[0m\u001b[0mtolist\u001b[0m\u001b[0;34m(\u001b[0m\u001b[0;34m)\u001b[0m\u001b[0;34m\u001b[0m\u001b[0;34m\u001b[0m\u001b[0m\n\u001b[0;32m--> 555\u001b[0;31m             \u001b[0;32mreturn\u001b[0m \u001b[0;34m[\u001b[0m\u001b[0;32mNone\u001b[0m \u001b[0;32mif\u001b[0m \u001b[0mx\u001b[0m \u001b[0;32mis\u001b[0m \u001b[0;32mNone\u001b[0m \u001b[0;32melse\u001b[0m \u001b[0mx\u001b[0m\u001b[0;34m[\u001b[0m\u001b[0mstart\u001b[0m\u001b[0;34m]\u001b[0m \u001b[0;32mfor\u001b[0m \u001b[0mx\u001b[0m \u001b[0;32min\u001b[0m \u001b[0marrays\u001b[0m\u001b[0;34m]\u001b[0m\u001b[0;34m\u001b[0m\u001b[0;34m\u001b[0m\u001b[0m\n\u001b[0m\u001b[1;32m    556\u001b[0m         \u001b[0;32melse\u001b[0m\u001b[0;34m:\u001b[0m\u001b[0;34m\u001b[0m\u001b[0;34m\u001b[0m\u001b[0m\n\u001b[1;32m    557\u001b[0m             \u001b[0;32mreturn\u001b[0m \u001b[0;34m[\u001b[0m\u001b[0;32mNone\u001b[0m \u001b[0;32mif\u001b[0m \u001b[0mx\u001b[0m \u001b[0;32mis\u001b[0m \u001b[0;32mNone\u001b[0m \u001b[0;32melse\u001b[0m \u001b[0mx\u001b[0m\u001b[0;34m[\u001b[0m\u001b[0mstart\u001b[0m\u001b[0;34m:\u001b[0m\u001b[0mstop\u001b[0m\u001b[0;34m]\u001b[0m \u001b[0;32mfor\u001b[0m \u001b[0mx\u001b[0m \u001b[0;32min\u001b[0m \u001b[0marrays\u001b[0m\u001b[0;34m]\u001b[0m\u001b[0;34m\u001b[0m\u001b[0;34m\u001b[0m\u001b[0m\n",
      "\u001b[0;31mKeyboardInterrupt\u001b[0m: "
     ]
    },
    {
     "ename": "KeyboardInterrupt",
     "evalue": "",
     "output_type": "error",
     "traceback": [
      "\u001b[0;31m---------------------------------------------------------------------------\u001b[0m",
      "\u001b[0;31mKeyboardInterrupt\u001b[0m                         Traceback (most recent call last)",
      "\u001b[0;32m<ipython-input-30-6bc73398f8ed>\u001b[0m in \u001b[0;36m<module>\u001b[0;34m\u001b[0m\n\u001b[1;32m     46\u001b[0m             \u001b[0;32mbreak\u001b[0m \u001b[0;31m# exit loop\u001b[0m\u001b[0;34m\u001b[0m\u001b[0;34m\u001b[0m\u001b[0m\n\u001b[1;32m     47\u001b[0m     \u001b[0;32mif\u001b[0m \u001b[0mlen\u001b[0m\u001b[0;34m(\u001b[0m\u001b[0magent\u001b[0m\u001b[0;34m.\u001b[0m\u001b[0mmemory\u001b[0m\u001b[0;34m)\u001b[0m \u001b[0;34m>\u001b[0m \u001b[0mbatch_size\u001b[0m\u001b[0;34m:\u001b[0m\u001b[0;34m\u001b[0m\u001b[0;34m\u001b[0m\u001b[0m\n\u001b[0;32m---> 48\u001b[0;31m         \u001b[0magent\u001b[0m\u001b[0;34m.\u001b[0m\u001b[0mreplay\u001b[0m\u001b[0;34m(\u001b[0m\u001b[0mbatch_size\u001b[0m\u001b[0;34m)\u001b[0m \u001b[0;31m# train the agent by replaying the experiences of the episode\u001b[0m\u001b[0;34m\u001b[0m\u001b[0;34m\u001b[0m\u001b[0m\n\u001b[0m\u001b[1;32m     49\u001b[0m     \u001b[0;32mif\u001b[0m \u001b[0me\u001b[0m \u001b[0;34m%\u001b[0m \u001b[0;36m50\u001b[0m \u001b[0;34m==\u001b[0m \u001b[0;36m0\u001b[0m\u001b[0;34m:\u001b[0m\u001b[0;34m\u001b[0m\u001b[0;34m\u001b[0m\u001b[0m\n\u001b[1;32m     50\u001b[0m         \u001b[0magent\u001b[0m\u001b[0;34m.\u001b[0m\u001b[0msave\u001b[0m\u001b[0;34m(\u001b[0m\u001b[0moutput_dir\u001b[0m \u001b[0;34m+\u001b[0m \u001b[0;34m\"weights_\"\u001b[0m \u001b[0;34m+\u001b[0m \u001b[0;34m'{:04d}'\u001b[0m\u001b[0;34m.\u001b[0m\u001b[0mformat\u001b[0m\u001b[0;34m(\u001b[0m\u001b[0me\u001b[0m\u001b[0;34m)\u001b[0m \u001b[0;34m+\u001b[0m \u001b[0;34m\".hdf5\"\u001b[0m\u001b[0;34m)\u001b[0m\u001b[0;34m\u001b[0m\u001b[0;34m\u001b[0m\u001b[0m\n",
      "\u001b[0;32m<ipython-input-7-bc795eab8d23>\u001b[0m in \u001b[0;36mreplay\u001b[0;34m(self, batch_size)\u001b[0m\n\u001b[1;32m     58\u001b[0m                 target = (reward + self.gamma * # (target) = reward + (discount rate gamma) * \n\u001b[1;32m     59\u001b[0m                           np.amax(self.model.predict(next_state)[0])) # (maximum target Q based on future action a')\n\u001b[0;32m---> 60\u001b[0;31m             \u001b[0mtarget_f\u001b[0m \u001b[0;34m=\u001b[0m \u001b[0mself\u001b[0m\u001b[0;34m.\u001b[0m\u001b[0mmodel\u001b[0m\u001b[0;34m.\u001b[0m\u001b[0mpredict\u001b[0m\u001b[0;34m(\u001b[0m\u001b[0mstate\u001b[0m\u001b[0;34m)\u001b[0m \u001b[0;31m# approximately map current state to future discounted reward\u001b[0m\u001b[0;34m\u001b[0m\u001b[0;34m\u001b[0m\u001b[0m\n\u001b[0m\u001b[1;32m     61\u001b[0m             \u001b[0;31m#print(\"state\", state, \"reward: \", reward, \"done \", done, \"predict \", self.model.predict(next_state)[0])\u001b[0m\u001b[0;34m\u001b[0m\u001b[0;34m\u001b[0m\u001b[0;34m\u001b[0m\u001b[0m\n\u001b[1;32m     62\u001b[0m             \u001b[0mtarget_f\u001b[0m\u001b[0;34m[\u001b[0m\u001b[0;36m0\u001b[0m\u001b[0;34m]\u001b[0m\u001b[0;34m[\u001b[0m\u001b[0maction\u001b[0m\u001b[0;34m]\u001b[0m \u001b[0;34m=\u001b[0m \u001b[0mtarget\u001b[0m\u001b[0;34m\u001b[0m\u001b[0;34m\u001b[0m\u001b[0m\n",
      "\u001b[0;32m~/Applications/anaconda3/lib/python3.7/site-packages/keras/engine/training.py\u001b[0m in \u001b[0;36mpredict\u001b[0;34m(self, x, batch_size, verbose, steps, callbacks, max_queue_size, workers, use_multiprocessing)\u001b[0m\n\u001b[1;32m   1460\u001b[0m                                             \u001b[0mverbose\u001b[0m\u001b[0;34m=\u001b[0m\u001b[0mverbose\u001b[0m\u001b[0;34m,\u001b[0m\u001b[0;34m\u001b[0m\u001b[0;34m\u001b[0m\u001b[0m\n\u001b[1;32m   1461\u001b[0m                                             \u001b[0msteps\u001b[0m\u001b[0;34m=\u001b[0m\u001b[0msteps\u001b[0m\u001b[0;34m,\u001b[0m\u001b[0;34m\u001b[0m\u001b[0;34m\u001b[0m\u001b[0m\n\u001b[0;32m-> 1462\u001b[0;31m                                             callbacks=callbacks)\n\u001b[0m\u001b[1;32m   1463\u001b[0m \u001b[0;34m\u001b[0m\u001b[0m\n\u001b[1;32m   1464\u001b[0m     def train_on_batch(self, x, y,\n",
      "\u001b[0;32m~/Applications/anaconda3/lib/python3.7/site-packages/keras/engine/training_arrays.py\u001b[0m in \u001b[0;36mpredict_loop\u001b[0;34m(model, f, ins, batch_size, verbose, steps, callbacks)\u001b[0m\n\u001b[1;32m    316\u001b[0m                 \u001b[0mins_batch\u001b[0m \u001b[0;34m=\u001b[0m \u001b[0mslice_arrays\u001b[0m\u001b[0;34m(\u001b[0m\u001b[0mins\u001b[0m\u001b[0;34m[\u001b[0m\u001b[0;34m:\u001b[0m\u001b[0;34m-\u001b[0m\u001b[0;36m1\u001b[0m\u001b[0;34m]\u001b[0m\u001b[0;34m,\u001b[0m \u001b[0mbatch_ids\u001b[0m\u001b[0;34m)\u001b[0m \u001b[0;34m+\u001b[0m \u001b[0;34m[\u001b[0m\u001b[0mins\u001b[0m\u001b[0;34m[\u001b[0m\u001b[0;34m-\u001b[0m\u001b[0;36m1\u001b[0m\u001b[0;34m]\u001b[0m\u001b[0;34m]\u001b[0m\u001b[0;34m\u001b[0m\u001b[0;34m\u001b[0m\u001b[0m\n\u001b[1;32m    317\u001b[0m             \u001b[0;32melse\u001b[0m\u001b[0;34m:\u001b[0m\u001b[0;34m\u001b[0m\u001b[0;34m\u001b[0m\u001b[0m\n\u001b[0;32m--> 318\u001b[0;31m                 \u001b[0mins_batch\u001b[0m \u001b[0;34m=\u001b[0m \u001b[0mslice_arrays\u001b[0m\u001b[0;34m(\u001b[0m\u001b[0mins\u001b[0m\u001b[0;34m,\u001b[0m \u001b[0mbatch_ids\u001b[0m\u001b[0;34m)\u001b[0m\u001b[0;34m\u001b[0m\u001b[0;34m\u001b[0m\u001b[0m\n\u001b[0m\u001b[1;32m    319\u001b[0m             \u001b[0;32mfor\u001b[0m \u001b[0mi\u001b[0m \u001b[0;32min\u001b[0m \u001b[0mindices_for_conversion_to_dense\u001b[0m\u001b[0;34m:\u001b[0m\u001b[0;34m\u001b[0m\u001b[0;34m\u001b[0m\u001b[0m\n\u001b[1;32m    320\u001b[0m                 \u001b[0mins_batch\u001b[0m\u001b[0;34m[\u001b[0m\u001b[0mi\u001b[0m\u001b[0;34m]\u001b[0m \u001b[0;34m=\u001b[0m \u001b[0mins_batch\u001b[0m\u001b[0;34m[\u001b[0m\u001b[0mi\u001b[0m\u001b[0;34m]\u001b[0m\u001b[0;34m.\u001b[0m\u001b[0mtoarray\u001b[0m\u001b[0;34m(\u001b[0m\u001b[0;34m)\u001b[0m\u001b[0;34m\u001b[0m\u001b[0;34m\u001b[0m\u001b[0m\n",
      "\u001b[0;32m~/Applications/anaconda3/lib/python3.7/site-packages/keras/utils/generic_utils.py\u001b[0m in \u001b[0;36mslice_arrays\u001b[0;34m(arrays, start, stop)\u001b[0m\n\u001b[1;32m    553\u001b[0m             \u001b[0;32mif\u001b[0m \u001b[0mhasattr\u001b[0m\u001b[0;34m(\u001b[0m\u001b[0mstart\u001b[0m\u001b[0;34m,\u001b[0m \u001b[0;34m'shape'\u001b[0m\u001b[0;34m)\u001b[0m\u001b[0;34m:\u001b[0m\u001b[0;34m\u001b[0m\u001b[0;34m\u001b[0m\u001b[0m\n\u001b[1;32m    554\u001b[0m                 \u001b[0mstart\u001b[0m \u001b[0;34m=\u001b[0m \u001b[0mstart\u001b[0m\u001b[0;34m.\u001b[0m\u001b[0mtolist\u001b[0m\u001b[0;34m(\u001b[0m\u001b[0;34m)\u001b[0m\u001b[0;34m\u001b[0m\u001b[0;34m\u001b[0m\u001b[0m\n\u001b[0;32m--> 555\u001b[0;31m             \u001b[0;32mreturn\u001b[0m \u001b[0;34m[\u001b[0m\u001b[0;32mNone\u001b[0m \u001b[0;32mif\u001b[0m \u001b[0mx\u001b[0m \u001b[0;32mis\u001b[0m \u001b[0;32mNone\u001b[0m \u001b[0;32melse\u001b[0m \u001b[0mx\u001b[0m\u001b[0;34m[\u001b[0m\u001b[0mstart\u001b[0m\u001b[0;34m]\u001b[0m \u001b[0;32mfor\u001b[0m \u001b[0mx\u001b[0m \u001b[0;32min\u001b[0m \u001b[0marrays\u001b[0m\u001b[0;34m]\u001b[0m\u001b[0;34m\u001b[0m\u001b[0;34m\u001b[0m\u001b[0m\n\u001b[0m\u001b[1;32m    556\u001b[0m         \u001b[0;32melse\u001b[0m\u001b[0;34m:\u001b[0m\u001b[0;34m\u001b[0m\u001b[0;34m\u001b[0m\u001b[0m\n\u001b[1;32m    557\u001b[0m             \u001b[0;32mreturn\u001b[0m \u001b[0;34m[\u001b[0m\u001b[0;32mNone\u001b[0m \u001b[0;32mif\u001b[0m \u001b[0mx\u001b[0m \u001b[0;32mis\u001b[0m \u001b[0;32mNone\u001b[0m \u001b[0;32melse\u001b[0m \u001b[0mx\u001b[0m\u001b[0;34m[\u001b[0m\u001b[0mstart\u001b[0m\u001b[0;34m:\u001b[0m\u001b[0mstop\u001b[0m\u001b[0;34m]\u001b[0m \u001b[0;32mfor\u001b[0m \u001b[0mx\u001b[0m \u001b[0;32min\u001b[0m \u001b[0marrays\u001b[0m\u001b[0;34m]\u001b[0m\u001b[0;34m\u001b[0m\u001b[0;34m\u001b[0m\u001b[0m\n",
      "\u001b[0;32m~/Applications/anaconda3/lib/python3.7/site-packages/keras/utils/generic_utils.py\u001b[0m in \u001b[0;36m<listcomp>\u001b[0;34m(.0)\u001b[0m\n\u001b[1;32m    553\u001b[0m             \u001b[0;32mif\u001b[0m \u001b[0mhasattr\u001b[0m\u001b[0;34m(\u001b[0m\u001b[0mstart\u001b[0m\u001b[0;34m,\u001b[0m \u001b[0;34m'shape'\u001b[0m\u001b[0;34m)\u001b[0m\u001b[0;34m:\u001b[0m\u001b[0;34m\u001b[0m\u001b[0;34m\u001b[0m\u001b[0m\n\u001b[1;32m    554\u001b[0m                 \u001b[0mstart\u001b[0m \u001b[0;34m=\u001b[0m \u001b[0mstart\u001b[0m\u001b[0;34m.\u001b[0m\u001b[0mtolist\u001b[0m\u001b[0;34m(\u001b[0m\u001b[0;34m)\u001b[0m\u001b[0;34m\u001b[0m\u001b[0;34m\u001b[0m\u001b[0m\n\u001b[0;32m--> 555\u001b[0;31m             \u001b[0;32mreturn\u001b[0m \u001b[0;34m[\u001b[0m\u001b[0;32mNone\u001b[0m \u001b[0;32mif\u001b[0m \u001b[0mx\u001b[0m \u001b[0;32mis\u001b[0m \u001b[0;32mNone\u001b[0m \u001b[0;32melse\u001b[0m \u001b[0mx\u001b[0m\u001b[0;34m[\u001b[0m\u001b[0mstart\u001b[0m\u001b[0;34m]\u001b[0m \u001b[0;32mfor\u001b[0m \u001b[0mx\u001b[0m \u001b[0;32min\u001b[0m \u001b[0marrays\u001b[0m\u001b[0;34m]\u001b[0m\u001b[0;34m\u001b[0m\u001b[0;34m\u001b[0m\u001b[0m\n\u001b[0m\u001b[1;32m    556\u001b[0m         \u001b[0;32melse\u001b[0m\u001b[0;34m:\u001b[0m\u001b[0;34m\u001b[0m\u001b[0;34m\u001b[0m\u001b[0m\n\u001b[1;32m    557\u001b[0m             \u001b[0;32mreturn\u001b[0m \u001b[0;34m[\u001b[0m\u001b[0;32mNone\u001b[0m \u001b[0;32mif\u001b[0m \u001b[0mx\u001b[0m \u001b[0;32mis\u001b[0m \u001b[0;32mNone\u001b[0m \u001b[0;32melse\u001b[0m \u001b[0mx\u001b[0m\u001b[0;34m[\u001b[0m\u001b[0mstart\u001b[0m\u001b[0;34m:\u001b[0m\u001b[0mstop\u001b[0m\u001b[0;34m]\u001b[0m \u001b[0;32mfor\u001b[0m \u001b[0mx\u001b[0m \u001b[0;32min\u001b[0m \u001b[0marrays\u001b[0m\u001b[0;34m]\u001b[0m\u001b[0;34m\u001b[0m\u001b[0;34m\u001b[0m\u001b[0m\n",
      "\u001b[0;31mKeyboardInterrupt\u001b[0m: "
     ]
    }
   ],
   "source": [
    "# Evaluatory stats\n",
    "optimal_action = 3\n",
    "correct_action = 0\n",
    "total_reward = 0\n",
    "all_rewards = []\n",
    "most_chosen_action =[]\n",
    "pcnt_opt =[]\n",
    "n_episodes = 10000\n",
    "batch_size = 32\n",
    "agent.epsilon = 1\n",
    "\n",
    "\n",
    "done = False\n",
    "\n",
    "for e in range(n_episodes): # iterate over new episodes of the game\n",
    "    state = env.reset() # reset state at start of each new episode of the game\n",
    "    state = np.reshape(state, [1, state_size])\n",
    "    \n",
    "    correct_action = 0\n",
    "    total_reward = 0\n",
    "    \n",
    "    # time represents a frame of the game; goal is to keep pole upright as\n",
    "    # long as possible up to range, e.g., 500 or 5000 timesteps:\n",
    "    for time in range(number_time_steps):  \n",
    "        action = agent.act(state)\n",
    "        # agent interacts with env, gets feedback; 4 state data points, e.g., pole angle, cart position:\n",
    "        next_state, reward, done, _ = env.step(action)\n",
    "        reward = reward if not done else 0 # reward +1 for each additional frame with pole upright        \n",
    "        next_state = np.reshape(next_state, [1, state_size]) \n",
    "        total_reward += reward\n",
    "        \n",
    "        # remember the previous timestep's state, actions, reward, etc.:\n",
    "        agent.remember(state, action, reward, next_state, done)\n",
    "        # set \"current state\" for upcoming iteration to the current next state:\n",
    "        state = next_state\n",
    "        \n",
    "        # Evaluation\n",
    "        if action == optimal_action:\n",
    "            correct_action += 1\n",
    "        if done: \n",
    "            percent_optimal = correct_action / number_time_steps\n",
    "            all_rewards.append(total_reward)\n",
    "            pcnt_opt.append(percent_optimal)\n",
    "            #print(\"episode: {}/{}, score: {}, e: {:.2}, reward: {:.2}\" # print the episode's score and agent's epsilon\n",
    "                  #.format(e, n_episodes, percent_optimal, agent.epsilon, total_reward))\n",
    "            break # exit loop\n",
    "    if len(agent.memory) > batch_size:\n",
    "        agent.replay(batch_size) # train the agent by replaying the experiences of the episode\n",
    "    if e % 50 == 0:\n",
    "        agent.save(output_dir + \"weights_\" + '{:04d}'.format(e) + \".hdf5\")\n",
    "        print(\"episode: {}/{}, score: {}, e: {}, reward: {}\" # print the episode's score and agent's epsilon\n",
    "                  .format(e, n_episodes, percent_optimal, agent.epsilon, total_reward))\n",
    "\n"
   ]
  },
  {
   "cell_type": "code",
   "execution_count": 31,
   "metadata": {},
   "outputs": [
    {
     "data": {
      "text/plain": [
       "[<matplotlib.lines.Line2D at 0x142fb2da0>]"
      ]
     },
     "execution_count": 31,
     "metadata": {},
     "output_type": "execute_result"
    },
    {
     "data": {
      "text/plain": [
       "[<matplotlib.lines.Line2D at 0x142fb2da0>]"
      ]
     },
     "execution_count": 31,
     "metadata": {},
     "output_type": "execute_result"
    },
    {
     "data": {
      "image/png": "[encoded data removed]",
      "text/plain": [
       "<Figure size 432x288 with 1 Axes>"
      ]
     },
     "metadata": {
      "needs_background": "light"
     },
     "output_type": "display_data"
    },
    {
     "data": {
      "image/png": "[encoded data removed]",
      "text/plain": [
       "<Figure size 432x288 with 1 Axes>"
      ]
     },
     "metadata": {
      "needs_background": "light"
     },
     "output_type": "display_data"
    }
   ],
   "source": [
    "plt.plot(all_rewards)"
   ]
  },
  {
   "cell_type": "code",
   "execution_count": 89,
   "metadata": {},
   "outputs": [
    {
     "ename": "NameError",
     "evalue": "name 'all_rewards' is not defined",
     "output_type": "error",
     "traceback": [
      "\u001b[0;31m---------------------------------------------------------------------------\u001b[0m",
      "\u001b[0;31mNameError\u001b[0m                                 Traceback (most recent call last)",
      "\u001b[0;32m<ipython-input-89-b2118b4be176>\u001b[0m in \u001b[0;36m<module>\u001b[0;34m\u001b[0m\n\u001b[1;32m      4\u001b[0m     \u001b[0;32mreturn\u001b[0m \u001b[0mret\u001b[0m\u001b[0;34m[\u001b[0m\u001b[0mn\u001b[0m \u001b[0;34m-\u001b[0m \u001b[0;36m1\u001b[0m\u001b[0;34m:\u001b[0m\u001b[0;34m]\u001b[0m \u001b[0;34m/\u001b[0m \u001b[0mn\u001b[0m\u001b[0;34m\u001b[0m\u001b[0;34m\u001b[0m\u001b[0m\n\u001b[1;32m      5\u001b[0m \u001b[0;34m\u001b[0m\u001b[0m\n\u001b[0;32m----> 6\u001b[0;31m \u001b[0mplt\u001b[0m\u001b[0;34m.\u001b[0m\u001b[0mplot\u001b[0m\u001b[0;34m(\u001b[0m\u001b[0mmoving_average\u001b[0m\u001b[0;34m(\u001b[0m\u001b[0mall_rewards\u001b[0m\u001b[0;34m,\u001b[0m\u001b[0;36m200\u001b[0m\u001b[0;34m)\u001b[0m\u001b[0;34m)\u001b[0m\u001b[0;34m\u001b[0m\u001b[0;34m\u001b[0m\u001b[0m\n\u001b[0m\u001b[1;32m      7\u001b[0m \u001b[0;31m#plt.plot([0, 5000], [9.5, 9.5], 'k-')\u001b[0m\u001b[0;34m\u001b[0m\u001b[0;34m\u001b[0m\u001b[0;34m\u001b[0m\u001b[0m\n\u001b[1;32m      8\u001b[0m \u001b[0mplt\u001b[0m\u001b[0;34m.\u001b[0m\u001b[0mshow\u001b[0m\u001b[0;34m(\u001b[0m\u001b[0;34m)\u001b[0m\u001b[0;34m\u001b[0m\u001b[0;34m\u001b[0m\u001b[0m\n",
      "\u001b[0;31mNameError\u001b[0m: name 'all_rewards' is not defined"
     ]
    }
   ],
   "source": [
    "def moving_average(a, n=3) :\n",
    "    ret = np.cumsum(a, dtype=float)\n",
    "    ret[n:] = ret[n:] - ret[:-n]\n",
    "    return ret[n - 1:] / n\n",
    "\n",
    "plt.plot(moving_average(all_rewards,200))\n",
    "#plt.plot([0, 5000], [9.5, 9.5], 'k-')\n",
    "plt.show()"
   ]
  },
  {
   "cell_type": "code",
   "execution_count": 60,
   "metadata": {
    "collapsed": true
   },
   "outputs": [
    {
     "data": {
      "image/png": "[encoded data removed]",
      "text/plain": [
       "<Figure size 432x288 with 1 Axes>"
      ]
     },
     "metadata": {
      "needs_background": "light"
     },
     "output_type": "display_data"
    }
   ],
   "source": [
    "plt.plot(moving_average(pcnt_opt,600))\n",
    "#plt.plot([0, 5000], [twap_stat, twap_stat], 'k-')\n",
    "plt.show()"
   ]
  },
  {
   "cell_type": "code",
   "execution_count": null,
   "metadata": {},
   "outputs": [],
   "source": [
    "class DQNAgent:\n",
    "    def __init__(self, state_size, action_size, agent_name):\n",
    "        self.agent_name = agent_name\n",
    "        self.state_size = state_size\n",
    "        self.action_size = action_size\n",
    "        # double-ended queue; acts like list, but elements can be added/removed from either end:\n",
    "        self.memory = deque(maxlen=2000)\n",
    "        # decay or discount rate: enables agent to take into account future actions in addition\n",
    "        # to the immediate ones, but discounted at this rate:\n",
    "        self.gamma = 1 # Was 0.95\n",
    "        # exploration rate: how much to act randomly; more initially than later due to epsilon\n",
    "        # decay:\n",
    "        self.epsilon = 1.0\n",
    "        # decrease number of random explorations as the agent's performance (hopefully)\n",
    "        # improves over time:\n",
    "        self.epsilon_decay = 0.998 \n",
    "        # minimum amount of random exploration permitted:\n",
    "        self.epsilon_min = 0.01\n",
    "        # rate at which NN adjusts models parameters via SGD to reduce cost:\n",
    "        self.learning_rate = 0.001\n",
    "        self.model = self._build_model() # private method \n",
    "    \n",
    "    def _build_model(self):\n",
    "        # neural net to approximate Q-value function:\n",
    "        model = Sequential()\n",
    "        model.add(Dense(5, input_dim=self.state_size, activation='relu')) # 1st hidden layer; states as input\n",
    "        model.add(Dense(5, activation='relu')) # 2nd hidden layer\n",
    "        model.add(Dense(self.action_size, activation='linear')) # 2 actions, so 2 output neurons: 0 and 1 (L/R)\n",
    "        model.compile(loss='mse',\n",
    "                      optimizer=Adam(lr=self.learning_rate))\n",
    "        return model\n",
    "    \n",
    "    def remember(self, state, action, reward, next_state, done):\n",
    "        # list of previous experiences, enabling re-training later\n",
    "        #print(\"State \", state, \"Action \", action, \"Reward \", reward, \"next state \", next_state, \"done\", done)\n",
    "        self.memory.append((state, action, reward, next_state, done))\n",
    "\n",
    "    def act(self, state):\n",
    "        # if acting randomly, take random action:\n",
    "        if np.random.rand() <= self.epsilon:\n",
    "            return random.randrange(self.action_size)\n",
    "        # if not acting randomly, predict reward value based on current state:\n",
    "        act_values = self.model.predict(state)\n",
    "        # pick the action that will give the highest reward (i.e., go left or right?)\n",
    "        return np.argmax(act_values[0])\n",
    "\n",
    "    # method that trains NN with experiences sampled from memory:\n",
    "    def replay(self, batch_size):\n",
    "        # sample a minibatch from memory\n",
    "        minibatch = random.sample(self.memory, batch_size)\n",
    "        # extract data for each minibatch sample:\n",
    "        for state, action, reward, next_state, done in minibatch:\n",
    "            # if done (boolean whether game ended or not, i.e., whether final state or not), then target = reward:\n",
    "            target = reward\n",
    "\n",
    "            # if not done, then predict future discounted reward\n",
    "            if not done:\n",
    "                target = (reward + self.gamma * # (target) = reward + (discount rate gamma) * \n",
    "                          np.amax(self.model.predict(next_state)[0])) # (maximum target Q based on future action a')\n",
    "            target_f = self.model.predict(state) # approximately map current state to future discounted reward\n",
    "            #print(\"state\", state, \"reward: \", reward, \"done \", done, \"predict \", self.model.predict(next_state)[0])\n",
    "            target_f[0][action] = target\n",
    "            # Change the action taken to the reward + predicted max of next states\n",
    "            # single epoch of training with x=state, y=target_f; fit decreases loss btwn target_f and y_hat:\n",
    "            self.model.fit(state, target_f, epochs=1, verbose=0)\n",
    "        if self.epsilon > self.epsilon_min:\n",
    "            self.epsilon *= self.epsilon_decay\n",
    "\n",
    "    def load(self, file_name):\n",
    "        self.model.load_weights(file_name)\n",
    "\n",
    "    def save(self, file_name):\n",
    "        self.model.save_weights(file_name)"
   ]
  }
 ],
 "metadata": {
  "kernelspec": {
   "display_name": "Python 3",
   "language": "python",
   "name": "python3"
  },
  "language_info": {
   "codemirror_mode": {
    "name": "ipython",
    "version": 3
   },
   "file_extension": ".py",
   "mimetype": "text/x-python",
   "name": "python",
   "nbconvert_exporter": "python",
   "pygments_lexer": "ipython3",
   "version": "3.7.3"
  }
 },
 "nbformat": 4,
 "nbformat_minor": 2
}
